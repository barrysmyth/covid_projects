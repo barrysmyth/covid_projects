{
 "cells": [
  {
   "cell_type": "markdown",
   "metadata": {},
   "source": [
    "# Minimal Covid Tracking Project Dataset"
   ]
  },
  {
   "cell_type": "code",
   "execution_count": 1,
   "metadata": {},
   "outputs": [],
   "source": [
    "from datetime import date, datetime, timedelta\n",
    "\n",
    "\n",
    "import pandas as pd\n",
    "import numpy as np\n",
    "\n",
    "from loguru import logger\n",
    "import pycountry\n",
    "\n",
    "%matplotlib inline"
   ]
  },
  {
   "cell_type": "markdown",
   "metadata": {},
   "source": [
    "# Params "
   ]
  },
  {
   "cell_type": "code",
   "execution_count": 2,
   "metadata": {
    "tags": [
     "parameters"
    ]
   },
   "outputs": [],
   "source": [
    "ctp_dataset = 'https://covidtracking.com/api/v1/states/daily.csv'\n",
    "google_raw_dataset = 'https://www.gstatic.com/covid19/mobility/Global_Mobility_Report.csv'\n",
    "\n",
    "minimal_ctp_dataset = '../data/processed/minimal_ctp_covid.csv'"
   ]
  },
  {
   "cell_type": "markdown",
   "metadata": {},
   "source": [
    "# The Covid Tracking Project Dataset"
   ]
  },
  {
   "cell_type": "markdown",
   "metadata": {},
   "source": [
    "## Prepare the CTP Dataset "
   ]
  },
  {
   "cell_type": "code",
   "execution_count": 3,
   "metadata": {},
   "outputs": [
    {
     "data": {
      "text/plain": [
       "(8081, 41)"
      ]
     },
     "execution_count": 3,
     "metadata": {},
     "output_type": "execute_result"
    }
   ],
   "source": [
    "logger.info('Loading CTP dataset @ %s' % ctp_dataset)\n",
    "\n",
    "ctp = pd.read_csv(ctp_dataset, parse_dates=['date'], low_memory=False)\n",
    "ctp.shape"
   ]
  },
  {
   "cell_type": "code",
   "execution_count": 4,
   "metadata": {},
   "outputs": [
    {
     "data": {
      "text/plain": [
       "(                 date  total_cases  total_deaths\n",
       " state_code                                      \n",
       " AK         2020-07-27       3206.0          21.0\n",
       " AL         2020-07-27      81115.0        1491.0\n",
       " AR         2020-07-27      39447.0         408.0\n",
       " AS         2020-07-27          0.0           0.0\n",
       " AZ         2020-07-27     163827.0        3304.0,\n",
       " Timestamp('2020-07-27 00:00:00'))"
      ]
     },
     "execution_count": 4,
     "metadata": {},
     "output_type": "execute_result"
    }
   ],
   "source": [
    "ctp = ctp.rename(columns={\n",
    "    'positive': 'total_cases',\n",
    "    'death': 'total_deaths',\n",
    "    'state': 'state_code',\n",
    "})[['date', 'total_cases', 'total_deaths', 'state_code']].set_index('state_code')\n",
    "\n",
    "ctp.head(), ctp.date.max()"
   ]
  },
  {
   "cell_type": "markdown",
   "metadata": {},
   "source": [
    "## Get State Populations and Codes"
   ]
  },
  {
   "cell_type": "code",
   "execution_count": 5,
   "metadata": {},
   "outputs": [
    {
     "data": {
      "text/html": [
       "<div>\n",
       "<style scoped>\n",
       "    .dataframe tbody tr th:only-of-type {\n",
       "        vertical-align: middle;\n",
       "    }\n",
       "\n",
       "    .dataframe tbody tr th {\n",
       "        vertical-align: top;\n",
       "    }\n",
       "\n",
       "    .dataframe thead th {\n",
       "        text-align: right;\n",
       "    }\n",
       "</style>\n",
       "<table border=\"1\" class=\"dataframe\">\n",
       "  <thead>\n",
       "    <tr style=\"text-align: right;\">\n",
       "      <th></th>\n",
       "      <th>population</th>\n",
       "    </tr>\n",
       "    <tr>\n",
       "      <th>state</th>\n",
       "      <th></th>\n",
       "    </tr>\n",
       "  </thead>\n",
       "  <tbody>\n",
       "    <tr>\n",
       "      <th>United States</th>\n",
       "      <td>328239523</td>\n",
       "    </tr>\n",
       "    <tr>\n",
       "      <th>Alabama</th>\n",
       "      <td>4903185</td>\n",
       "    </tr>\n",
       "    <tr>\n",
       "      <th>Alaska</th>\n",
       "      <td>731545</td>\n",
       "    </tr>\n",
       "    <tr>\n",
       "      <th>Arizona</th>\n",
       "      <td>7278717</td>\n",
       "    </tr>\n",
       "    <tr>\n",
       "      <th>Arkansas</th>\n",
       "      <td>3017804</td>\n",
       "    </tr>\n",
       "  </tbody>\n",
       "</table>\n",
       "</div>"
      ],
      "text/plain": [
       "               population\n",
       "state                    \n",
       "United States   328239523\n",
       "Alabama           4903185\n",
       "Alaska             731545\n",
       "Arizona           7278717\n",
       "Arkansas          3017804"
      ]
     },
     "execution_count": 5,
     "metadata": {},
     "output_type": "execute_result"
    }
   ],
   "source": [
    "logger.info('Loading population data dataset @ %s' % 'https://www2.census.gov/programs-surveys/popest/datasets/2010-2019/state/detail/SCPRC-EST2019-18+POP-RES.csv')\n",
    "\n",
    "pops = pd.read_csv('https://www2.census.gov/programs-surveys/popest/datasets/2010-2019/state/detail/SCPRC-EST2019-18+POP-RES.csv', low_memory=False)\n",
    "\n",
    "pops = pops.rename(columns={\n",
    "    'NAME': 'state',\n",
    "    'POPESTIMATE2019': 'population'\n",
    "})[['state', 'population']].set_index('state')\n",
    "\n",
    "pops.head()"
   ]
  },
  {
   "cell_type": "code",
   "execution_count": 6,
   "metadata": {},
   "outputs": [
    {
     "data": {
      "text/html": [
       "<div>\n",
       "<style scoped>\n",
       "    .dataframe tbody tr th:only-of-type {\n",
       "        vertical-align: middle;\n",
       "    }\n",
       "\n",
       "    .dataframe tbody tr th {\n",
       "        vertical-align: top;\n",
       "    }\n",
       "\n",
       "    .dataframe thead th {\n",
       "        text-align: right;\n",
       "    }\n",
       "</style>\n",
       "<table border=\"1\" class=\"dataframe\">\n",
       "  <thead>\n",
       "    <tr style=\"text-align: right;\">\n",
       "      <th></th>\n",
       "      <th>state_code</th>\n",
       "    </tr>\n",
       "    <tr>\n",
       "      <th>state</th>\n",
       "      <th></th>\n",
       "    </tr>\n",
       "  </thead>\n",
       "  <tbody>\n",
       "    <tr>\n",
       "      <th>Alabama</th>\n",
       "      <td>AL</td>\n",
       "    </tr>\n",
       "    <tr>\n",
       "      <th>Alaska</th>\n",
       "      <td>AK</td>\n",
       "    </tr>\n",
       "    <tr>\n",
       "      <th>Arizona</th>\n",
       "      <td>AZ</td>\n",
       "    </tr>\n",
       "    <tr>\n",
       "      <th>Arkansas</th>\n",
       "      <td>AR</td>\n",
       "    </tr>\n",
       "    <tr>\n",
       "      <th>California</th>\n",
       "      <td>CA</td>\n",
       "    </tr>\n",
       "  </tbody>\n",
       "</table>\n",
       "</div>"
      ],
      "text/plain": [
       "           state_code\n",
       "state                \n",
       "Alabama            AL\n",
       "Alaska             AK\n",
       "Arizona            AZ\n",
       "Arkansas           AR\n",
       "California         CA"
      ]
     },
     "execution_count": 6,
     "metadata": {},
     "output_type": "execute_result"
    }
   ],
   "source": [
    "logger.info('Loading country codes data dataset @ %s' % 'https://worldpopulationreview.com/states/state-abbreviations')\n",
    "\n",
    "states = pd.read_html('https://worldpopulationreview.com/states/state-abbreviations')[0]\n",
    "\n",
    "states = states.rename(columns={\n",
    "    'State': 'state',\n",
    "    'Code': 'state_code'\n",
    "})[['state', 'state_code']].set_index('state')\n",
    "\n",
    "states.head()"
   ]
  },
  {
   "cell_type": "markdown",
   "metadata": {},
   "source": [
    "## Combine Datasets"
   ]
  },
  {
   "cell_type": "code",
   "execution_count": 7,
   "metadata": {},
   "outputs": [
    {
     "data": {
      "text/plain": [
       "51"
      ]
     },
     "execution_count": 7,
     "metadata": {},
     "output_type": "execute_result"
    }
   ],
   "source": [
    "ctp = ctp.join(states.join(pops).reset_index().set_index('state_code')).reset_index().dropna(subset=['state', 'state_code'])\n",
    "\n",
    "ctp['state_code'].nunique()"
   ]
  },
  {
   "cell_type": "code",
   "execution_count": 8,
   "metadata": {},
   "outputs": [],
   "source": [
    "ctp = ctp.sort_values(by='date')"
   ]
  },
  {
   "cell_type": "markdown",
   "metadata": {},
   "source": [
    "# Add Missing Cols"
   ]
  },
  {
   "cell_type": "markdown",
   "metadata": {},
   "source": [
    "## New Cases/Deaths"
   ]
  },
  {
   "cell_type": "code",
   "execution_count": 9,
   "metadata": {},
   "outputs": [
    {
     "data": {
      "text/html": [
       "<div>\n",
       "<style scoped>\n",
       "    .dataframe tbody tr th:only-of-type {\n",
       "        vertical-align: middle;\n",
       "    }\n",
       "\n",
       "    .dataframe tbody tr th {\n",
       "        vertical-align: top;\n",
       "    }\n",
       "\n",
       "    .dataframe thead th {\n",
       "        text-align: right;\n",
       "    }\n",
       "</style>\n",
       "<table border=\"1\" class=\"dataframe\">\n",
       "  <thead>\n",
       "    <tr style=\"text-align: right;\">\n",
       "      <th></th>\n",
       "      <th>state_code</th>\n",
       "      <th>date</th>\n",
       "      <th>total_cases</th>\n",
       "      <th>total_deaths</th>\n",
       "      <th>state</th>\n",
       "      <th>population</th>\n",
       "      <th>new_cases</th>\n",
       "      <th>new_deaths</th>\n",
       "    </tr>\n",
       "  </thead>\n",
       "  <tbody>\n",
       "    <tr>\n",
       "      <th>0</th>\n",
       "      <td>WA</td>\n",
       "      <td>2020-01-22</td>\n",
       "      <td>2.0</td>\n",
       "      <td>NaN</td>\n",
       "      <td>Washington</td>\n",
       "      <td>7614893.0</td>\n",
       "      <td>2.0</td>\n",
       "      <td>NaN</td>\n",
       "    </tr>\n",
       "    <tr>\n",
       "      <th>1</th>\n",
       "      <td>WA</td>\n",
       "      <td>2020-01-23</td>\n",
       "      <td>2.0</td>\n",
       "      <td>NaN</td>\n",
       "      <td>Washington</td>\n",
       "      <td>7614893.0</td>\n",
       "      <td>0.0</td>\n",
       "      <td>NaN</td>\n",
       "    </tr>\n",
       "    <tr>\n",
       "      <th>2</th>\n",
       "      <td>WA</td>\n",
       "      <td>2020-01-24</td>\n",
       "      <td>2.0</td>\n",
       "      <td>NaN</td>\n",
       "      <td>Washington</td>\n",
       "      <td>7614893.0</td>\n",
       "      <td>0.0</td>\n",
       "      <td>NaN</td>\n",
       "    </tr>\n",
       "    <tr>\n",
       "      <th>3</th>\n",
       "      <td>WA</td>\n",
       "      <td>2020-01-25</td>\n",
       "      <td>2.0</td>\n",
       "      <td>NaN</td>\n",
       "      <td>Washington</td>\n",
       "      <td>7614893.0</td>\n",
       "      <td>0.0</td>\n",
       "      <td>NaN</td>\n",
       "    </tr>\n",
       "    <tr>\n",
       "      <th>4</th>\n",
       "      <td>WA</td>\n",
       "      <td>2020-01-26</td>\n",
       "      <td>2.0</td>\n",
       "      <td>NaN</td>\n",
       "      <td>Washington</td>\n",
       "      <td>7614893.0</td>\n",
       "      <td>0.0</td>\n",
       "      <td>NaN</td>\n",
       "    </tr>\n",
       "  </tbody>\n",
       "</table>\n",
       "</div>"
      ],
      "text/plain": [
       "  state_code       date  total_cases  total_deaths       state  population  \\\n",
       "0         WA 2020-01-22          2.0           NaN  Washington   7614893.0   \n",
       "1         WA 2020-01-23          2.0           NaN  Washington   7614893.0   \n",
       "2         WA 2020-01-24          2.0           NaN  Washington   7614893.0   \n",
       "3         WA 2020-01-25          2.0           NaN  Washington   7614893.0   \n",
       "4         WA 2020-01-26          2.0           NaN  Washington   7614893.0   \n",
       "\n",
       "   new_cases  new_deaths  \n",
       "0        2.0         NaN  \n",
       "1        0.0         NaN  \n",
       "2        0.0         NaN  \n",
       "3        0.0         NaN  \n",
       "4        0.0         NaN  "
      ]
     },
     "execution_count": 9,
     "metadata": {},
     "output_type": "execute_result"
    }
   ],
   "source": [
    "new_cases_deaths = ctp.groupby('state_code').apply(\n",
    "    lambda g: g.set_index('date')[['total_cases', 'total_deaths']]\\\n",
    "        .diff()\\\n",
    "        .fillna(g.set_index('date')[['total_cases', 'total_deaths']])).rename(columns={\n",
    "    'total_cases': 'new_cases',\n",
    "    'total_deaths': 'new_deaths'\n",
    "})\n",
    "\n",
    "ctp = ctp.set_index(['state_code', 'date']).join(new_cases_deaths).reset_index()\n",
    "\n",
    "ctp.head()"
   ]
  },
  {
   "cell_type": "markdown",
   "metadata": {},
   "source": [
    "## Save Raw CTP Dataset as Backup"
   ]
  },
  {
   "cell_type": "code",
   "execution_count": 10,
   "metadata": {},
   "outputs": [
    {
     "data": {
      "text/plain": [
       "(7054, 8)"
      ]
     },
     "execution_count": 10,
     "metadata": {},
     "output_type": "execute_result"
    }
   ],
   "source": [
    "logger.info('Saving raw CTP dataset @ %s' % '../data/raw/raw_ctp_dataset.csv')\n",
    "\n",
    "ctp.to_csv('../data/raw/raw_ctp_dataset.csv', index=False)\n",
    "ctp.shape"
   ]
  },
  {
   "cell_type": "markdown",
   "metadata": {},
   "source": [
    "# The Rt Dataset"
   ]
  },
  {
   "cell_type": "markdown",
   "metadata": {},
   "source": [
    "## Load the rt.live dataset"
   ]
  },
  {
   "cell_type": "code",
   "execution_count": 11,
   "metadata": {},
   "outputs": [],
   "source": [
    "# rt = pd.read_csv('https://d14wlfuexuxgcm.cloudfront.net/covid/rt.csv', parse_dates=['date']).rename(columns={\n",
    "#     'region': 'state_code',\n",
    "#     'mean': 'rt',\n",
    "# })[['date', 'state_code', 'rt', 'lower_80', 'upper_80']]\n",
    "\n",
    "# rt.head()"
   ]
  },
  {
   "cell_type": "markdown",
   "metadata": {},
   "source": [
    "# The Google Mobility Dataset"
   ]
  },
  {
   "cell_type": "code",
   "execution_count": 12,
   "metadata": {},
   "outputs": [
    {
     "name": "stderr",
     "output_type": "stream",
     "text": [
      "/home/barry/anaconda3/envs/covid-19/lib/python3.7/site-packages/IPython/core/interactiveshell.py:3072: DtypeWarning: Columns (3) have mixed types.Specify dtype option on import or set low_memory=False.\n",
      "  interactivity=interactivity, compiler=compiler, result=result)\n"
     ]
    },
    {
     "data": {
      "text/plain": [
       "(696327, 13)"
      ]
     },
     "execution_count": 12,
     "metadata": {},
     "output_type": "execute_result"
    }
   ],
   "source": [
    "logger.info('Loading Google mobility dataset @ %s' % google_raw_dataset)\n",
    "\n",
    "google = pd.read_csv(google_raw_dataset, parse_dates=['date'], low_memory=False)\n",
    "\n",
    "google.shape"
   ]
  },
  {
   "cell_type": "markdown",
   "metadata": {},
   "source": [
    "## Save raw data as backup"
   ]
  },
  {
   "cell_type": "code",
   "execution_count": 13,
   "metadata": {},
   "outputs": [
    {
     "data": {
      "text/plain": [
       "(696327, 13)"
      ]
     },
     "execution_count": 13,
     "metadata": {},
     "output_type": "execute_result"
    }
   ],
   "source": [
    "logger.info('Saving raw Google mobility dataset @ %s' % '../data/raw/raw_google_dataset.csv')\n",
    "\n",
    "google.to_csv('../data/raw/raw_google_dataset.csv', index=False)\n",
    "google.shape"
   ]
  },
  {
   "cell_type": "markdown",
   "metadata": {},
   "source": [
    "## State Level Mobility"
   ]
  },
  {
   "cell_type": "code",
   "execution_count": 14,
   "metadata": {},
   "outputs": [
    {
     "data": {
      "text/plain": [
       "((7854, 6),\n",
       " 51,\n",
       " array(['Alabama', 'Alaska', 'Arizona', 'Arkansas', 'California',\n",
       "        'Colorado', 'Connecticut', 'Delaware', 'District of Columbia',\n",
       "        'Florida', 'Georgia', 'Hawaii', 'Idaho', 'Illinois', 'Indiana',\n",
       "        'Iowa', 'Kansas', 'Kentucky', 'Louisiana', 'Maine', 'Maryland',\n",
       "        'Massachusetts', 'Michigan', 'Minnesota', 'Mississippi',\n",
       "        'Missouri', 'Montana', 'Nebraska', 'Nevada', 'New Hampshire',\n",
       "        'New Jersey', 'New Mexico', 'New York', 'North Carolina',\n",
       "        'North Dakota', 'Ohio', 'Oklahoma', 'Oregon', 'Pennsylvania',\n",
       "        'Rhode Island', 'South Carolina', 'South Dakota', 'Tennessee',\n",
       "        'Texas', 'Utah', 'Vermont', 'Virginia', 'Washington',\n",
       "        'West Virginia', 'Wisconsin', 'Wyoming'], dtype=object))"
      ]
     },
     "execution_count": 14,
     "metadata": {},
     "output_type": "execute_result"
    }
   ],
   "source": [
    "# Extract the mobility levels for each top-level country\n",
    "def gen_for_us_states(df):\n",
    "    \n",
    "    w = 7\n",
    "    \n",
    "    # The columns to use for calculating the mobility drop\n",
    "    use_cols = ['mobility_retail', 'mobility_transit', 'mobility_work']\n",
    "    \n",
    "    # Focus on the US States\n",
    "    states = df[(df['country_region_code']=='US') & (df['sub_region_1'].notnull()) & (df['sub_region_2'].isnull())].copy()\n",
    "    \n",
    "    # Relabel the cols for convenience\n",
    "    states.columns = ['country_id', 'country', 'state', 'sub_region_2', 'iso_3166_2_code', 'census_fips_code', 'date', 'mobility_retail', 'mobility_grocery', 'mobility_parks', 'mobility_transit', 'mobility_work', 'mobility_home']\n",
    "    \n",
    "    # Add rolling cols\n",
    "    for mobility_col in states.filter(like='mobility_').columns:\n",
    "        states['rolling_'+mobility_col] = states.groupby(\n",
    "            'state')[mobility_col].apply(\n",
    "                lambda s: s.rolling(w).mean())\n",
    "        \n",
    "    # Calculate the mobility drop\n",
    "    states['google_mobility_drop'] = states[use_cols].mean(axis=1)\n",
    "\n",
    "    \n",
    "    return states[['country_id', 'country', 'state', 'date', 'google_mobility_drop']]\n",
    "\n",
    "google_states = gen_for_us_states(google).dropna(subset=['state'])\n",
    "\n",
    "# Convert mobility drop to mobility level\n",
    "google_states['google_mobility_level'] = 100+google_states['google_mobility_drop']\n",
    "\n",
    "\n",
    "google_states.shape, google_states.state.nunique(), google_states.state.unique()"
   ]
  },
  {
   "cell_type": "markdown",
   "metadata": {},
   "source": [
    "# Combine into Minimal Form"
   ]
  },
  {
   "cell_type": "code",
   "execution_count": 15,
   "metadata": {},
   "outputs": [
    {
     "data": {
      "text/html": [
       "<div>\n",
       "<style scoped>\n",
       "    .dataframe tbody tr th:only-of-type {\n",
       "        vertical-align: middle;\n",
       "    }\n",
       "\n",
       "    .dataframe tbody tr th {\n",
       "        vertical-align: top;\n",
       "    }\n",
       "\n",
       "    .dataframe thead th {\n",
       "        text-align: right;\n",
       "    }\n",
       "</style>\n",
       "<table border=\"1\" class=\"dataframe\">\n",
       "  <thead>\n",
       "    <tr style=\"text-align: right;\">\n",
       "      <th></th>\n",
       "      <th>state</th>\n",
       "      <th>date</th>\n",
       "      <th>new_cases</th>\n",
       "      <th>new_deaths</th>\n",
       "      <th>population</th>\n",
       "      <th>google_mobility_level</th>\n",
       "    </tr>\n",
       "  </thead>\n",
       "  <tbody>\n",
       "    <tr>\n",
       "      <th>0</th>\n",
       "      <td>Washington</td>\n",
       "      <td>2020-01-22</td>\n",
       "      <td>2.0</td>\n",
       "      <td>NaN</td>\n",
       "      <td>7614893.0</td>\n",
       "      <td>NaN</td>\n",
       "    </tr>\n",
       "    <tr>\n",
       "      <th>1</th>\n",
       "      <td>Washington</td>\n",
       "      <td>2020-01-23</td>\n",
       "      <td>0.0</td>\n",
       "      <td>NaN</td>\n",
       "      <td>7614893.0</td>\n",
       "      <td>NaN</td>\n",
       "    </tr>\n",
       "    <tr>\n",
       "      <th>2</th>\n",
       "      <td>Washington</td>\n",
       "      <td>2020-01-24</td>\n",
       "      <td>0.0</td>\n",
       "      <td>NaN</td>\n",
       "      <td>7614893.0</td>\n",
       "      <td>NaN</td>\n",
       "    </tr>\n",
       "    <tr>\n",
       "      <th>3</th>\n",
       "      <td>Washington</td>\n",
       "      <td>2020-01-25</td>\n",
       "      <td>0.0</td>\n",
       "      <td>NaN</td>\n",
       "      <td>7614893.0</td>\n",
       "      <td>NaN</td>\n",
       "    </tr>\n",
       "    <tr>\n",
       "      <th>4</th>\n",
       "      <td>Washington</td>\n",
       "      <td>2020-01-26</td>\n",
       "      <td>0.0</td>\n",
       "      <td>NaN</td>\n",
       "      <td>7614893.0</td>\n",
       "      <td>NaN</td>\n",
       "    </tr>\n",
       "  </tbody>\n",
       "</table>\n",
       "</div>"
      ],
      "text/plain": [
       "        state       date  new_cases  new_deaths  population  \\\n",
       "0  Washington 2020-01-22        2.0         NaN   7614893.0   \n",
       "1  Washington 2020-01-23        0.0         NaN   7614893.0   \n",
       "2  Washington 2020-01-24        0.0         NaN   7614893.0   \n",
       "3  Washington 2020-01-25        0.0         NaN   7614893.0   \n",
       "4  Washington 2020-01-26        0.0         NaN   7614893.0   \n",
       "\n",
       "   google_mobility_level  \n",
       "0                    NaN  \n",
       "1                    NaN  \n",
       "2                    NaN  \n",
       "3                    NaN  \n",
       "4                    NaN  "
      ]
     },
     "execution_count": 15,
     "metadata": {},
     "output_type": "execute_result"
    }
   ],
   "source": [
    "ctp_cols = ['new_cases', 'new_deaths', 'population']\n",
    "google_cols = ['google_mobility_level']\n",
    "\n",
    "df = ctp.set_index(['state', 'date'])[ctp_cols].join(\n",
    "    google_states.set_index(['state', 'date'])[google_cols]).reset_index()\n",
    "\n",
    "df.head()"
   ]
  },
  {
   "cell_type": "markdown",
   "metadata": {},
   "source": [
    "## Adjust mobility level so that it is safe to aggregate"
   ]
  },
  {
   "cell_type": "code",
   "execution_count": 16,
   "metadata": {},
   "outputs": [],
   "source": [
    "# Add a population adjusted mobility level\n",
    "df['google_mobility_level_by_pop'] = df['google_mobility_level']*df['population']"
   ]
  },
  {
   "cell_type": "markdown",
   "metadata": {},
   "source": [
    "# Aggregations\n",
    "We can aggregate across continents and regions but need to be careful about how we combine cols by focusing on this columns that can be added across groupings.\n",
    "\n",
    "## Aggregations by Continent and Region"
   ]
  },
  {
   "cell_type": "code",
   "execution_count": 17,
   "metadata": {},
   "outputs": [],
   "source": [
    "def agg_by(df, groupby_cols, aggregation):\n",
    "    \n",
    "    agg_cols = ['new_cases', 'new_deaths', 'population']\n",
    "\n",
    "    agg = df.groupby(groupby_cols)[agg_cols].sum().reset_index()\n",
    "\n",
    "    # Aggregate mobility separately to account for population and missing values\n",
    "    agg_mobility = df[df['google_mobility_level'].notnull()].groupby(\n",
    "        'date')[['google_mobility_level_by_pop', 'population']].sum().reset_index()\n",
    "\n",
    "    agg_mobility['google_mobility_level'] = agg_mobility['google_mobility_level_by_pop']/agg_mobility['population']\n",
    "\n",
    "    # Add to the us aggregation\n",
    "    agg = agg.set_index('date').join(\n",
    "        agg_mobility.set_index('date')['google_mobility_level']).reset_index()\n",
    "\n",
    "    return agg"
   ]
  },
  {
   "cell_type": "code",
   "execution_count": 18,
   "metadata": {},
   "outputs": [
    {
     "data": {
      "text/plain": [
       "(7235, 8)"
      ]
     },
     "execution_count": 18,
     "metadata": {},
     "output_type": "execute_result"
    }
   ],
   "source": [
    "# Safe to add the following cols\n",
    "\n",
    "by_us = agg_by(df, 'date', 'us')\n",
    "by_us['aggregation'] = 'us'\n",
    "\n",
    "df['aggregation'] = df['state']\n",
    "\n",
    "df_with_aggs = pd.concat([df, by_us], sort=False, ignore_index=True)\n",
    "df_with_aggs.shape"
   ]
  },
  {
   "cell_type": "markdown",
   "metadata": {},
   "source": [
    "## Rolling Means "
   ]
  },
  {
   "cell_type": "code",
   "execution_count": 19,
   "metadata": {},
   "outputs": [
    {
     "data": {
      "text/html": [
       "<div>\n",
       "<style scoped>\n",
       "    .dataframe tbody tr th:only-of-type {\n",
       "        vertical-align: middle;\n",
       "    }\n",
       "\n",
       "    .dataframe tbody tr th {\n",
       "        vertical-align: top;\n",
       "    }\n",
       "\n",
       "    .dataframe thead th {\n",
       "        text-align: right;\n",
       "    }\n",
       "</style>\n",
       "<table border=\"1\" class=\"dataframe\">\n",
       "  <thead>\n",
       "    <tr style=\"text-align: right;\">\n",
       "      <th></th>\n",
       "      <th>state</th>\n",
       "      <th>date</th>\n",
       "      <th>new_cases</th>\n",
       "      <th>new_deaths</th>\n",
       "      <th>population</th>\n",
       "      <th>google_mobility_level</th>\n",
       "      <th>google_mobility_level_by_pop</th>\n",
       "      <th>aggregation</th>\n",
       "    </tr>\n",
       "  </thead>\n",
       "  <tbody>\n",
       "    <tr>\n",
       "      <th>0</th>\n",
       "      <td>Washington</td>\n",
       "      <td>2020-01-22</td>\n",
       "      <td>2.0</td>\n",
       "      <td>NaN</td>\n",
       "      <td>7614893.0</td>\n",
       "      <td>NaN</td>\n",
       "      <td>NaN</td>\n",
       "      <td>Washington</td>\n",
       "    </tr>\n",
       "    <tr>\n",
       "      <th>7054</th>\n",
       "      <td>NaN</td>\n",
       "      <td>2020-01-22</td>\n",
       "      <td>2.0</td>\n",
       "      <td>0.0</td>\n",
       "      <td>7614893.0</td>\n",
       "      <td>NaN</td>\n",
       "      <td>NaN</td>\n",
       "      <td>us</td>\n",
       "    </tr>\n",
       "    <tr>\n",
       "      <th>7055</th>\n",
       "      <td>NaN</td>\n",
       "      <td>2020-01-23</td>\n",
       "      <td>0.0</td>\n",
       "      <td>0.0</td>\n",
       "      <td>7614893.0</td>\n",
       "      <td>NaN</td>\n",
       "      <td>NaN</td>\n",
       "      <td>us</td>\n",
       "    </tr>\n",
       "    <tr>\n",
       "      <th>1</th>\n",
       "      <td>Washington</td>\n",
       "      <td>2020-01-23</td>\n",
       "      <td>0.0</td>\n",
       "      <td>NaN</td>\n",
       "      <td>7614893.0</td>\n",
       "      <td>NaN</td>\n",
       "      <td>NaN</td>\n",
       "      <td>Washington</td>\n",
       "    </tr>\n",
       "    <tr>\n",
       "      <th>2</th>\n",
       "      <td>Washington</td>\n",
       "      <td>2020-01-24</td>\n",
       "      <td>0.0</td>\n",
       "      <td>NaN</td>\n",
       "      <td>7614893.0</td>\n",
       "      <td>NaN</td>\n",
       "      <td>NaN</td>\n",
       "      <td>Washington</td>\n",
       "    </tr>\n",
       "  </tbody>\n",
       "</table>\n",
       "</div>"
      ],
      "text/plain": [
       "           state       date  new_cases  new_deaths  population  \\\n",
       "0     Washington 2020-01-22        2.0         NaN   7614893.0   \n",
       "7054         NaN 2020-01-22        2.0         0.0   7614893.0   \n",
       "7055         NaN 2020-01-23        0.0         0.0   7614893.0   \n",
       "1     Washington 2020-01-23        0.0         NaN   7614893.0   \n",
       "2     Washington 2020-01-24        0.0         NaN   7614893.0   \n",
       "\n",
       "      google_mobility_level  google_mobility_level_by_pop aggregation  \n",
       "0                       NaN                           NaN  Washington  \n",
       "7054                    NaN                           NaN          us  \n",
       "7055                    NaN                           NaN          us  \n",
       "1                       NaN                           NaN  Washington  \n",
       "2                       NaN                           NaN  Washington  "
      ]
     },
     "execution_count": 19,
     "metadata": {},
     "output_type": "execute_result"
    }
   ],
   "source": [
    "df_with_aggs = df_with_aggs.sort_values(by='date')\n",
    "df_with_aggs.head()"
   ]
  },
  {
   "cell_type": "code",
   "execution_count": 20,
   "metadata": {},
   "outputs": [
    {
     "data": {
      "text/plain": [
       "(7235, 11)"
      ]
     },
     "execution_count": 20,
     "metadata": {},
     "output_type": "execute_result"
    }
   ],
   "source": [
    "rolling_cols = ['new_cases', 'new_deaths', 'google_mobility_level']\n",
    "\n",
    "rolling_means = df_with_aggs.groupby('aggregation').apply(\n",
    "    lambda g: g[rolling_cols].rolling(7).mean()\n",
    ").add_suffix('_rolling_mean')\n",
    "\n",
    "df_with_aggs = pd.concat([df_with_aggs, rolling_means], axis=1)\n",
    "\n",
    "df_with_aggs.shape"
   ]
  },
  {
   "cell_type": "markdown",
   "metadata": {},
   "source": [
    "## Relative Values"
   ]
  },
  {
   "cell_type": "code",
   "execution_count": 21,
   "metadata": {},
   "outputs": [
    {
     "data": {
      "text/plain": [
       "(7235, 14)"
      ]
     },
     "execution_count": 21,
     "metadata": {},
     "output_type": "execute_result"
    }
   ],
   "source": [
    "rel_cols = ['new_cases_rolling_mean', 'new_deaths_rolling_mean', 'google_mobility_level_rolling_mean']\n",
    "\n",
    "relative_values = df_with_aggs.groupby('aggregation').apply(\n",
    "    lambda g: g[rel_cols]/g[rel_cols].max()\n",
    ").add_suffix('_rel')\n",
    "    \n",
    "df_with_aggs = pd.concat([df_with_aggs, relative_values], axis=1)\n",
    "\n",
    "df_with_aggs.shape"
   ]
  },
  {
   "cell_type": "markdown",
   "metadata": {},
   "source": [
    "# Save Dataset"
   ]
  },
  {
   "cell_type": "code",
   "execution_count": 22,
   "metadata": {},
   "outputs": [
    {
     "data": {
      "text/plain": [
       "((7235, 14),\n",
       " '../data/processed/minimal_ctp_covid.csv',\n",
       " Timestamp('2020-07-20 00:00:00'))"
      ]
     },
     "execution_count": 22,
     "metadata": {},
     "output_type": "execute_result"
    }
   ],
   "source": [
    "logger.info('Saving minimal CTP dataset with mobility data @ %s' % minimal_ctp_dataset)\n",
    "\n",
    "df_with_aggs.to_csv(minimal_ctp_dataset, index=False)\n",
    "df_with_aggs.shape, minimal_ctp_dataset, df_with_aggs.date.max()"
   ]
  },
  {
   "cell_type": "code",
   "execution_count": null,
   "metadata": {},
   "outputs": [],
   "source": []
  },
  {
   "cell_type": "code",
   "execution_count": null,
   "metadata": {},
   "outputs": [],
   "source": []
  }
 ],
 "metadata": {
  "kernelspec": {
   "display_name": "COVID-19",
   "language": "python",
   "name": "covid-19"
  },
  "language_info": {
   "codemirror_mode": {
    "name": "ipython",
    "version": 3
   },
   "file_extension": ".py",
   "mimetype": "text/x-python",
   "name": "python",
   "nbconvert_exporter": "python",
   "pygments_lexer": "ipython3",
   "version": "3.7.7"
  }
 },
 "nbformat": 4,
 "nbformat_minor": 4
}
