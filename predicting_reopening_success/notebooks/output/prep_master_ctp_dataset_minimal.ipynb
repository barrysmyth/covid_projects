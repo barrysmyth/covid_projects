{
 "cells": [
  {
   "cell_type": "markdown",
   "metadata": {
    "papermill": {
     "duration": 0.027243,
     "end_time": "2020-07-28T13:25:41.684136",
     "exception": false,
     "start_time": "2020-07-28T13:25:41.656893",
     "status": "completed"
    },
    "tags": []
   },
   "source": [
    "# Minimal Covid Tracking Project Dataset"
   ]
  },
  {
   "cell_type": "code",
   "execution_count": 1,
   "metadata": {
    "execution": {
     "iopub.execute_input": "2020-07-28T13:25:41.774640Z",
     "iopub.status.busy": "2020-07-28T13:25:41.774024Z",
     "iopub.status.idle": "2020-07-28T13:25:42.268684Z",
     "shell.execute_reply": "2020-07-28T13:25:42.267685Z"
    },
    "papermill": {
     "duration": 0.526295,
     "end_time": "2020-07-28T13:25:42.268956",
     "exception": false,
     "start_time": "2020-07-28T13:25:41.742661",
     "status": "completed"
    },
    "tags": []
   },
   "outputs": [],
   "source": [
    "from datetime import date, datetime, timedelta\n",
    "\n",
    "\n",
    "import pandas as pd\n",
    "import numpy as np\n",
    "\n",
    "from loguru import logger\n",
    "import pycountry\n",
    "\n",
    "%matplotlib inline"
   ]
  },
  {
   "cell_type": "markdown",
   "metadata": {
    "papermill": {
     "duration": 0.021715,
     "end_time": "2020-07-28T13:25:42.319419",
     "exception": false,
     "start_time": "2020-07-28T13:25:42.297704",
     "status": "completed"
    },
    "tags": []
   },
   "source": [
    "# Params "
   ]
  },
  {
   "cell_type": "code",
   "execution_count": 2,
   "metadata": {
    "execution": {
     "iopub.execute_input": "2020-07-28T13:25:42.367293Z",
     "iopub.status.busy": "2020-07-28T13:25:42.366647Z",
     "iopub.status.idle": "2020-07-28T13:25:42.369370Z",
     "shell.execute_reply": "2020-07-28T13:25:42.369973Z"
    },
    "papermill": {
     "duration": 0.028872,
     "end_time": "2020-07-28T13:25:42.370125",
     "exception": false,
     "start_time": "2020-07-28T13:25:42.341253",
     "status": "completed"
    },
    "tags": [
     "parameters"
    ]
   },
   "outputs": [],
   "source": [
    "ctp_dataset = 'https://covidtracking.com/api/v1/states/daily.csv'\n",
    "google_raw_dataset = 'https://www.gstatic.com/covid19/mobility/Global_Mobility_Report.csv'\n",
    "\n",
    "minimal_ctp_dataset = '../data/processed/minimal_ctp_covid.csv'"
   ]
  },
  {
   "cell_type": "markdown",
   "metadata": {
    "papermill": {
     "duration": 0.019919,
     "end_time": "2020-07-28T13:25:42.411938",
     "exception": false,
     "start_time": "2020-07-28T13:25:42.392019",
     "status": "completed"
    },
    "tags": []
   },
   "source": [
    "# The Covid Tracking Project Dataset"
   ]
  },
  {
   "cell_type": "markdown",
   "metadata": {
    "papermill": {
     "duration": 0.017707,
     "end_time": "2020-07-28T13:25:42.448133",
     "exception": false,
     "start_time": "2020-07-28T13:25:42.430426",
     "status": "completed"
    },
    "tags": []
   },
   "source": [
    "## Prepare the CTP Dataset "
   ]
  },
  {
   "cell_type": "code",
   "execution_count": 3,
   "metadata": {
    "execution": {
     "iopub.execute_input": "2020-07-28T13:25:42.524849Z",
     "iopub.status.busy": "2020-07-28T13:25:42.524321Z",
     "iopub.status.idle": "2020-07-28T13:25:43.592441Z",
     "shell.execute_reply": "2020-07-28T13:25:43.593538Z"
    },
    "papermill": {
     "duration": 1.092702,
     "end_time": "2020-07-28T13:25:43.593839",
     "exception": false,
     "start_time": "2020-07-28T13:25:42.501137",
     "status": "completed"
    },
    "tags": []
   },
   "outputs": [
    {
     "name": "stderr",
     "output_type": "stream",
     "text": [
      "2020-07-28 14:25:42.522 | INFO     | __main__:<module>:1 - Loading CTP dataset @ https://covidtracking.com/api/v1/states/daily.csv\n"
     ]
    },
    {
     "data": {
      "text/plain": [
       "(8081, 41)"
      ]
     },
     "execution_count": 3,
     "metadata": {},
     "output_type": "execute_result"
    }
   ],
   "source": [
    "logger.info('Loading CTP dataset @ %s' % ctp_dataset)\n",
    "\n",
    "ctp = pd.read_csv(ctp_dataset, parse_dates=['date'], low_memory=False)\n",
    "ctp.shape"
   ]
  },
  {
   "cell_type": "code",
   "execution_count": 4,
   "metadata": {
    "execution": {
     "iopub.execute_input": "2020-07-28T13:25:43.653783Z",
     "iopub.status.busy": "2020-07-28T13:25:43.653136Z",
     "iopub.status.idle": "2020-07-28T13:25:43.669546Z",
     "shell.execute_reply": "2020-07-28T13:25:43.668854Z"
    },
    "papermill": {
     "duration": 0.04692,
     "end_time": "2020-07-28T13:25:43.669720",
     "exception": false,
     "start_time": "2020-07-28T13:25:43.622800",
     "status": "completed"
    },
    "tags": []
   },
   "outputs": [
    {
     "data": {
      "text/plain": [
       "(                 date  total_cases  total_deaths\n",
       " state_code                                      \n",
       " AK         2020-07-27       3206.0          21.0\n",
       " AL         2020-07-27      81115.0        1491.0\n",
       " AR         2020-07-27      39447.0         408.0\n",
       " AS         2020-07-27          0.0           0.0\n",
       " AZ         2020-07-27     163827.0        3304.0,\n",
       " Timestamp('2020-07-27 00:00:00'))"
      ]
     },
     "execution_count": 4,
     "metadata": {},
     "output_type": "execute_result"
    }
   ],
   "source": [
    "ctp = ctp.rename(columns={\n",
    "    'positive': 'total_cases',\n",
    "    'death': 'total_deaths',\n",
    "    'state': 'state_code',\n",
    "})[['date', 'total_cases', 'total_deaths', 'state_code']].set_index('state_code')\n",
    "\n",
    "ctp.head(), ctp.date.max()"
   ]
  },
  {
   "cell_type": "markdown",
   "metadata": {
    "papermill": {
     "duration": 0.030284,
     "end_time": "2020-07-28T13:25:43.725677",
     "exception": false,
     "start_time": "2020-07-28T13:25:43.695393",
     "status": "completed"
    },
    "tags": []
   },
   "source": [
    "## Get State Populations and Codes"
   ]
  },
  {
   "cell_type": "code",
   "execution_count": 5,
   "metadata": {
    "execution": {
     "iopub.execute_input": "2020-07-28T13:25:44.312485Z",
     "iopub.status.busy": "2020-07-28T13:25:44.311823Z",
     "iopub.status.idle": "2020-07-28T13:25:44.571814Z",
     "shell.execute_reply": "2020-07-28T13:25:44.572904Z"
    },
    "papermill": {
     "duration": 0.790825,
     "end_time": "2020-07-28T13:25:44.573207",
     "exception": false,
     "start_time": "2020-07-28T13:25:43.782382",
     "status": "completed"
    },
    "tags": []
   },
   "outputs": [
    {
     "name": "stderr",
     "output_type": "stream",
     "text": [
      "2020-07-28 14:25:44.309 | INFO     | __main__:<module>:1 - Loading population data dataset @ https://www2.census.gov/programs-surveys/popest/datasets/2010-2019/state/detail/SCPRC-EST2019-18+POP-RES.csv\n"
     ]
    },
    {
     "data": {
      "text/html": [
       "<div>\n",
       "<style scoped>\n",
       "    .dataframe tbody tr th:only-of-type {\n",
       "        vertical-align: middle;\n",
       "    }\n",
       "\n",
       "    .dataframe tbody tr th {\n",
       "        vertical-align: top;\n",
       "    }\n",
       "\n",
       "    .dataframe thead th {\n",
       "        text-align: right;\n",
       "    }\n",
       "</style>\n",
       "<table border=\"1\" class=\"dataframe\">\n",
       "  <thead>\n",
       "    <tr style=\"text-align: right;\">\n",
       "      <th></th>\n",
       "      <th>population</th>\n",
       "    </tr>\n",
       "    <tr>\n",
       "      <th>state</th>\n",
       "      <th></th>\n",
       "    </tr>\n",
       "  </thead>\n",
       "  <tbody>\n",
       "    <tr>\n",
       "      <th>United States</th>\n",
       "      <td>328239523</td>\n",
       "    </tr>\n",
       "    <tr>\n",
       "      <th>Alabama</th>\n",
       "      <td>4903185</td>\n",
       "    </tr>\n",
       "    <tr>\n",
       "      <th>Alaska</th>\n",
       "      <td>731545</td>\n",
       "    </tr>\n",
       "    <tr>\n",
       "      <th>Arizona</th>\n",
       "      <td>7278717</td>\n",
       "    </tr>\n",
       "    <tr>\n",
       "      <th>Arkansas</th>\n",
       "      <td>3017804</td>\n",
       "    </tr>\n",
       "  </tbody>\n",
       "</table>\n",
       "</div>"
      ],
      "text/plain": [
       "               population\n",
       "state                    \n",
       "United States   328239523\n",
       "Alabama           4903185\n",
       "Alaska             731545\n",
       "Arizona           7278717\n",
       "Arkansas          3017804"
      ]
     },
     "execution_count": 5,
     "metadata": {},
     "output_type": "execute_result"
    }
   ],
   "source": [
    "logger.info('Loading population data dataset @ %s' % 'https://www2.census.gov/programs-surveys/popest/datasets/2010-2019/state/detail/SCPRC-EST2019-18+POP-RES.csv')\n",
    "\n",
    "pops = pd.read_csv('https://www2.census.gov/programs-surveys/popest/datasets/2010-2019/state/detail/SCPRC-EST2019-18+POP-RES.csv', low_memory=False)\n",
    "\n",
    "pops = pops.rename(columns={\n",
    "    'NAME': 'state',\n",
    "    'POPESTIMATE2019': 'population'\n",
    "})[['state', 'population']].set_index('state')\n",
    "\n",
    "pops.head()"
   ]
  },
  {
   "cell_type": "code",
   "execution_count": 6,
   "metadata": {
    "execution": {
     "iopub.execute_input": "2020-07-28T13:25:44.648790Z",
     "iopub.status.busy": "2020-07-28T13:25:44.648182Z",
     "iopub.status.idle": "2020-07-28T13:25:45.194047Z",
     "shell.execute_reply": "2020-07-28T13:25:45.195174Z"
    },
    "papermill": {
     "duration": 0.591622,
     "end_time": "2020-07-28T13:25:45.195534",
     "exception": false,
     "start_time": "2020-07-28T13:25:44.603912",
     "status": "completed"
    },
    "tags": []
   },
   "outputs": [
    {
     "name": "stderr",
     "output_type": "stream",
     "text": [
      "2020-07-28 14:25:44.659 | INFO     | __main__:<module>:1 - Loading country codes data dataset @ https://worldpopulationreview.com/states/state-abbreviations\n"
     ]
    },
    {
     "data": {
      "text/html": [
       "<div>\n",
       "<style scoped>\n",
       "    .dataframe tbody tr th:only-of-type {\n",
       "        vertical-align: middle;\n",
       "    }\n",
       "\n",
       "    .dataframe tbody tr th {\n",
       "        vertical-align: top;\n",
       "    }\n",
       "\n",
       "    .dataframe thead th {\n",
       "        text-align: right;\n",
       "    }\n",
       "</style>\n",
       "<table border=\"1\" class=\"dataframe\">\n",
       "  <thead>\n",
       "    <tr style=\"text-align: right;\">\n",
       "      <th></th>\n",
       "      <th>state_code</th>\n",
       "    </tr>\n",
       "    <tr>\n",
       "      <th>state</th>\n",
       "      <th></th>\n",
       "    </tr>\n",
       "  </thead>\n",
       "  <tbody>\n",
       "    <tr>\n",
       "      <th>Alabama</th>\n",
       "      <td>AL</td>\n",
       "    </tr>\n",
       "    <tr>\n",
       "      <th>Alaska</th>\n",
       "      <td>AK</td>\n",
       "    </tr>\n",
       "    <tr>\n",
       "      <th>Arizona</th>\n",
       "      <td>AZ</td>\n",
       "    </tr>\n",
       "    <tr>\n",
       "      <th>Arkansas</th>\n",
       "      <td>AR</td>\n",
       "    </tr>\n",
       "    <tr>\n",
       "      <th>California</th>\n",
       "      <td>CA</td>\n",
       "    </tr>\n",
       "  </tbody>\n",
       "</table>\n",
       "</div>"
      ],
      "text/plain": [
       "           state_code\n",
       "state                \n",
       "Alabama            AL\n",
       "Alaska             AK\n",
       "Arizona            AZ\n",
       "Arkansas           AR\n",
       "California         CA"
      ]
     },
     "execution_count": 6,
     "metadata": {},
     "output_type": "execute_result"
    }
   ],
   "source": [
    "logger.info('Loading country codes data dataset @ %s' % 'https://worldpopulationreview.com/states/state-abbreviations')\n",
    "\n",
    "states = pd.read_html('https://worldpopulationreview.com/states/state-abbreviations')[0]\n",
    "\n",
    "states = states.rename(columns={\n",
    "    'State': 'state',\n",
    "    'Code': 'state_code'\n",
    "})[['state', 'state_code']].set_index('state')\n",
    "\n",
    "states.head()"
   ]
  },
  {
   "cell_type": "markdown",
   "metadata": {
    "papermill": {
     "duration": 0.024887,
     "end_time": "2020-07-28T13:25:45.253293",
     "exception": false,
     "start_time": "2020-07-28T13:25:45.228406",
     "status": "completed"
    },
    "tags": []
   },
   "source": [
    "## Combine Datasets"
   ]
  },
  {
   "cell_type": "code",
   "execution_count": 7,
   "metadata": {
    "execution": {
     "iopub.execute_input": "2020-07-28T13:25:45.312642Z",
     "iopub.status.busy": "2020-07-28T13:25:45.309777Z",
     "iopub.status.idle": "2020-07-28T13:25:45.327979Z",
     "shell.execute_reply": "2020-07-28T13:25:45.328927Z"
    },
    "papermill": {
     "duration": 0.050822,
     "end_time": "2020-07-28T13:25:45.329174",
     "exception": false,
     "start_time": "2020-07-28T13:25:45.278352",
     "status": "completed"
    },
    "tags": []
   },
   "outputs": [
    {
     "data": {
      "text/plain": [
       "51"
      ]
     },
     "execution_count": 7,
     "metadata": {},
     "output_type": "execute_result"
    }
   ],
   "source": [
    "ctp = ctp.join(states.join(pops).reset_index().set_index('state_code')).reset_index().dropna(subset=['state', 'state_code'])\n",
    "\n",
    "ctp['state_code'].nunique()"
   ]
  },
  {
   "cell_type": "code",
   "execution_count": 8,
   "metadata": {
    "execution": {
     "iopub.execute_input": "2020-07-28T13:25:45.423843Z",
     "iopub.status.busy": "2020-07-28T13:25:45.423210Z",
     "iopub.status.idle": "2020-07-28T13:25:45.716684Z",
     "shell.execute_reply": "2020-07-28T13:25:45.717581Z"
    },
    "papermill": {
     "duration": 0.357401,
     "end_time": "2020-07-28T13:25:45.717907",
     "exception": false,
     "start_time": "2020-07-28T13:25:45.360506",
     "status": "completed"
    },
    "tags": []
   },
   "outputs": [],
   "source": [
    "ctp = ctp.sort_values(by='date')"
   ]
  },
  {
   "cell_type": "markdown",
   "metadata": {
    "papermill": {
     "duration": 0.036305,
     "end_time": "2020-07-28T13:25:45.788688",
     "exception": false,
     "start_time": "2020-07-28T13:25:45.752383",
     "status": "completed"
    },
    "tags": []
   },
   "source": [
    "# Add Missing Cols"
   ]
  },
  {
   "cell_type": "markdown",
   "metadata": {
    "papermill": {
     "duration": 0.025588,
     "end_time": "2020-07-28T13:25:45.895513",
     "exception": false,
     "start_time": "2020-07-28T13:25:45.869925",
     "status": "completed"
    },
    "tags": []
   },
   "source": [
    "## New Cases/Deaths"
   ]
  },
  {
   "cell_type": "code",
   "execution_count": 9,
   "metadata": {
    "execution": {
     "iopub.execute_input": "2020-07-28T13:25:45.985117Z",
     "iopub.status.busy": "2020-07-28T13:25:45.984249Z",
     "iopub.status.idle": "2020-07-28T13:25:46.304688Z",
     "shell.execute_reply": "2020-07-28T13:25:46.305772Z"
    },
    "papermill": {
     "duration": 0.384896,
     "end_time": "2020-07-28T13:25:46.306087",
     "exception": false,
     "start_time": "2020-07-28T13:25:45.921191",
     "status": "completed"
    },
    "tags": []
   },
   "outputs": [
    {
     "data": {
      "text/html": [
       "<div>\n",
       "<style scoped>\n",
       "    .dataframe tbody tr th:only-of-type {\n",
       "        vertical-align: middle;\n",
       "    }\n",
       "\n",
       "    .dataframe tbody tr th {\n",
       "        vertical-align: top;\n",
       "    }\n",
       "\n",
       "    .dataframe thead th {\n",
       "        text-align: right;\n",
       "    }\n",
       "</style>\n",
       "<table border=\"1\" class=\"dataframe\">\n",
       "  <thead>\n",
       "    <tr style=\"text-align: right;\">\n",
       "      <th></th>\n",
       "      <th>state_code</th>\n",
       "      <th>date</th>\n",
       "      <th>total_cases</th>\n",
       "      <th>total_deaths</th>\n",
       "      <th>state</th>\n",
       "      <th>population</th>\n",
       "      <th>new_cases</th>\n",
       "      <th>new_deaths</th>\n",
       "    </tr>\n",
       "  </thead>\n",
       "  <tbody>\n",
       "    <tr>\n",
       "      <th>0</th>\n",
       "      <td>WA</td>\n",
       "      <td>2020-01-22</td>\n",
       "      <td>2.0</td>\n",
       "      <td>NaN</td>\n",
       "      <td>Washington</td>\n",
       "      <td>7614893.0</td>\n",
       "      <td>2.0</td>\n",
       "      <td>NaN</td>\n",
       "    </tr>\n",
       "    <tr>\n",
       "      <th>1</th>\n",
       "      <td>WA</td>\n",
       "      <td>2020-01-23</td>\n",
       "      <td>2.0</td>\n",
       "      <td>NaN</td>\n",
       "      <td>Washington</td>\n",
       "      <td>7614893.0</td>\n",
       "      <td>0.0</td>\n",
       "      <td>NaN</td>\n",
       "    </tr>\n",
       "    <tr>\n",
       "      <th>2</th>\n",
       "      <td>WA</td>\n",
       "      <td>2020-01-24</td>\n",
       "      <td>2.0</td>\n",
       "      <td>NaN</td>\n",
       "      <td>Washington</td>\n",
       "      <td>7614893.0</td>\n",
       "      <td>0.0</td>\n",
       "      <td>NaN</td>\n",
       "    </tr>\n",
       "    <tr>\n",
       "      <th>3</th>\n",
       "      <td>WA</td>\n",
       "      <td>2020-01-25</td>\n",
       "      <td>2.0</td>\n",
       "      <td>NaN</td>\n",
       "      <td>Washington</td>\n",
       "      <td>7614893.0</td>\n",
       "      <td>0.0</td>\n",
       "      <td>NaN</td>\n",
       "    </tr>\n",
       "    <tr>\n",
       "      <th>4</th>\n",
       "      <td>WA</td>\n",
       "      <td>2020-01-26</td>\n",
       "      <td>2.0</td>\n",
       "      <td>NaN</td>\n",
       "      <td>Washington</td>\n",
       "      <td>7614893.0</td>\n",
       "      <td>0.0</td>\n",
       "      <td>NaN</td>\n",
       "    </tr>\n",
       "  </tbody>\n",
       "</table>\n",
       "</div>"
      ],
      "text/plain": [
       "  state_code       date  total_cases  total_deaths       state  population  \\\n",
       "0         WA 2020-01-22          2.0           NaN  Washington   7614893.0   \n",
       "1         WA 2020-01-23          2.0           NaN  Washington   7614893.0   \n",
       "2         WA 2020-01-24          2.0           NaN  Washington   7614893.0   \n",
       "3         WA 2020-01-25          2.0           NaN  Washington   7614893.0   \n",
       "4         WA 2020-01-26          2.0           NaN  Washington   7614893.0   \n",
       "\n",
       "   new_cases  new_deaths  \n",
       "0        2.0         NaN  \n",
       "1        0.0         NaN  \n",
       "2        0.0         NaN  \n",
       "3        0.0         NaN  \n",
       "4        0.0         NaN  "
      ]
     },
     "execution_count": 9,
     "metadata": {},
     "output_type": "execute_result"
    }
   ],
   "source": [
    "new_cases_deaths = ctp.groupby('state_code').apply(\n",
    "    lambda g: g.set_index('date')[['total_cases', 'total_deaths']]\\\n",
    "        .diff()\\\n",
    "        .fillna(g.set_index('date')[['total_cases', 'total_deaths']])).rename(columns={\n",
    "    'total_cases': 'new_cases',\n",
    "    'total_deaths': 'new_deaths'\n",
    "})\n",
    "\n",
    "ctp = ctp.set_index(['state_code', 'date']).join(new_cases_deaths).reset_index()\n",
    "\n",
    "ctp.head()"
   ]
  },
  {
   "cell_type": "markdown",
   "metadata": {
    "papermill": {
     "duration": 0.073353,
     "end_time": "2020-07-28T13:25:46.411851",
     "exception": false,
     "start_time": "2020-07-28T13:25:46.338498",
     "status": "completed"
    },
    "tags": []
   },
   "source": [
    "## Save Raw CTP Dataset as Backup"
   ]
  },
  {
   "cell_type": "code",
   "execution_count": 10,
   "metadata": {
    "execution": {
     "iopub.execute_input": "2020-07-28T13:25:46.470626Z",
     "iopub.status.busy": "2020-07-28T13:25:46.470008Z",
     "iopub.status.idle": "2020-07-28T13:25:46.588354Z",
     "shell.execute_reply": "2020-07-28T13:25:46.589349Z"
    },
    "papermill": {
     "duration": 0.150467,
     "end_time": "2020-07-28T13:25:46.589635",
     "exception": false,
     "start_time": "2020-07-28T13:25:46.439168",
     "status": "completed"
    },
    "tags": []
   },
   "outputs": [
    {
     "name": "stderr",
     "output_type": "stream",
     "text": [
      "2020-07-28 14:25:46.468 | INFO     | __main__:<module>:1 - Saving raw CTP dataset @ ../data/raw/raw_ctp_dataset.csv\n"
     ]
    },
    {
     "data": {
      "text/plain": [
       "(7411, 8)"
      ]
     },
     "execution_count": 10,
     "metadata": {},
     "output_type": "execute_result"
    }
   ],
   "source": [
    "logger.info('Saving raw CTP dataset @ %s' % '../data/raw/raw_ctp_dataset.csv')\n",
    "\n",
    "ctp.to_csv('../data/raw/raw_ctp_dataset.csv', index=False)\n",
    "ctp.shape"
   ]
  },
  {
   "cell_type": "markdown",
   "metadata": {
    "papermill": {
     "duration": 0.026915,
     "end_time": "2020-07-28T13:25:46.649162",
     "exception": false,
     "start_time": "2020-07-28T13:25:46.622247",
     "status": "completed"
    },
    "tags": []
   },
   "source": [
    "# The Rt Dataset"
   ]
  },
  {
   "cell_type": "markdown",
   "metadata": {
    "papermill": {
     "duration": 0.02627,
     "end_time": "2020-07-28T13:25:46.712549",
     "exception": false,
     "start_time": "2020-07-28T13:25:46.686279",
     "status": "completed"
    },
    "tags": []
   },
   "source": [
    "## Load the rt.live dataset"
   ]
  },
  {
   "cell_type": "code",
   "execution_count": 11,
   "metadata": {
    "execution": {
     "iopub.execute_input": "2020-07-28T13:25:46.775208Z",
     "iopub.status.busy": "2020-07-28T13:25:46.774704Z",
     "iopub.status.idle": "2020-07-28T13:25:46.777392Z",
     "shell.execute_reply": "2020-07-28T13:25:46.777808Z"
    },
    "papermill": {
     "duration": 0.039117,
     "end_time": "2020-07-28T13:25:46.777950",
     "exception": false,
     "start_time": "2020-07-28T13:25:46.738833",
     "status": "completed"
    },
    "tags": []
   },
   "outputs": [],
   "source": [
    "# rt = pd.read_csv('https://d14wlfuexuxgcm.cloudfront.net/covid/rt.csv', parse_dates=['date']).rename(columns={\n",
    "#     'region': 'state_code',\n",
    "#     'mean': 'rt',\n",
    "# })[['date', 'state_code', 'rt', 'lower_80', 'upper_80']]\n",
    "\n",
    "# rt.head()"
   ]
  },
  {
   "cell_type": "markdown",
   "metadata": {
    "papermill": {
     "duration": 0.03005,
     "end_time": "2020-07-28T13:25:46.834229",
     "exception": false,
     "start_time": "2020-07-28T13:25:46.804179",
     "status": "completed"
    },
    "tags": []
   },
   "source": [
    "# The Google Mobility Dataset"
   ]
  },
  {
   "cell_type": "code",
   "execution_count": 12,
   "metadata": {
    "execution": {
     "iopub.execute_input": "2020-07-28T13:25:46.882956Z",
     "iopub.status.busy": "2020-07-28T13:25:46.882500Z",
     "iopub.status.idle": "2020-07-28T13:25:50.812732Z",
     "shell.execute_reply": "2020-07-28T13:25:50.813826Z"
    },
    "papermill": {
     "duration": 3.957626,
     "end_time": "2020-07-28T13:25:50.814149",
     "exception": false,
     "start_time": "2020-07-28T13:25:46.856523",
     "status": "completed"
    },
    "tags": []
   },
   "outputs": [
    {
     "name": "stderr",
     "output_type": "stream",
     "text": [
      "2020-07-28 14:25:46.969 | INFO     | __main__:<module>:1 - Loading Google mobility dataset @ https://www.gstatic.com/covid19/mobility/Global_Mobility_Report.csv\n"
     ]
    },
    {
     "data": {
      "text/plain": [
       "(713528, 13)"
      ]
     },
     "execution_count": 12,
     "metadata": {},
     "output_type": "execute_result"
    }
   ],
   "source": [
    "logger.info('Loading Google mobility dataset @ %s' % google_raw_dataset)\n",
    "\n",
    "google = pd.read_csv(google_raw_dataset, parse_dates=['date'], low_memory=False)\n",
    "\n",
    "google.shape"
   ]
  },
  {
   "cell_type": "markdown",
   "metadata": {
    "papermill": {
     "duration": 0.027589,
     "end_time": "2020-07-28T13:25:50.878637",
     "exception": false,
     "start_time": "2020-07-28T13:25:50.851048",
     "status": "completed"
    },
    "tags": []
   },
   "source": [
    "## Save raw data as backup"
   ]
  },
  {
   "cell_type": "code",
   "execution_count": 13,
   "metadata": {
    "execution": {
     "iopub.execute_input": "2020-07-28T13:25:50.943340Z",
     "iopub.status.busy": "2020-07-28T13:25:50.942685Z",
     "iopub.status.idle": "2020-07-28T13:25:58.539816Z",
     "shell.execute_reply": "2020-07-28T13:25:58.540939Z"
    },
    "papermill": {
     "duration": 7.632001,
     "end_time": "2020-07-28T13:25:58.541275",
     "exception": false,
     "start_time": "2020-07-28T13:25:50.909274",
     "status": "completed"
    },
    "tags": []
   },
   "outputs": [
    {
     "name": "stderr",
     "output_type": "stream",
     "text": [
      "2020-07-28 14:25:50.941 | INFO     | __main__:<module>:1 - Saving raw Google mobility dataset @ ../data/raw/raw_google_dataset.csv\n"
     ]
    },
    {
     "data": {
      "text/plain": [
       "(713528, 13)"
      ]
     },
     "execution_count": 13,
     "metadata": {},
     "output_type": "execute_result"
    }
   ],
   "source": [
    "logger.info('Saving raw Google mobility dataset @ %s' % '../data/raw/raw_google_dataset.csv')\n",
    "\n",
    "google.to_csv('../data/raw/raw_google_dataset.csv', index=False)\n",
    "google.shape"
   ]
  },
  {
   "cell_type": "markdown",
   "metadata": {
    "papermill": {
     "duration": 0.053038,
     "end_time": "2020-07-28T13:25:58.629610",
     "exception": false,
     "start_time": "2020-07-28T13:25:58.576572",
     "status": "completed"
    },
    "tags": []
   },
   "source": [
    "## State Level Mobility"
   ]
  },
  {
   "cell_type": "code",
   "execution_count": 14,
   "metadata": {
    "execution": {
     "iopub.execute_input": "2020-07-28T13:25:58.761112Z",
     "iopub.status.busy": "2020-07-28T13:25:58.760019Z",
     "iopub.status.idle": "2020-07-28T13:25:58.962593Z",
     "shell.execute_reply": "2020-07-28T13:25:58.963760Z"
    },
    "papermill": {
     "duration": 0.305417,
     "end_time": "2020-07-28T13:25:58.964066",
     "exception": false,
     "start_time": "2020-07-28T13:25:58.658649",
     "status": "completed"
    },
    "tags": []
   },
   "outputs": [
    {
     "data": {
      "text/plain": [
       "((8058, 6),\n",
       " 51,\n",
       " array(['Alabama', 'Alaska', 'Arizona', 'Arkansas', 'California',\n",
       "        'Colorado', 'Connecticut', 'Delaware', 'District of Columbia',\n",
       "        'Florida', 'Georgia', 'Hawaii', 'Idaho', 'Illinois', 'Indiana',\n",
       "        'Iowa', 'Kansas', 'Kentucky', 'Louisiana', 'Maine', 'Maryland',\n",
       "        'Massachusetts', 'Michigan', 'Minnesota', 'Mississippi',\n",
       "        'Missouri', 'Montana', 'Nebraska', 'Nevada', 'New Hampshire',\n",
       "        'New Jersey', 'New Mexico', 'New York', 'North Carolina',\n",
       "        'North Dakota', 'Ohio', 'Oklahoma', 'Oregon', 'Pennsylvania',\n",
       "        'Rhode Island', 'South Carolina', 'South Dakota', 'Tennessee',\n",
       "        'Texas', 'Utah', 'Vermont', 'Virginia', 'Washington',\n",
       "        'West Virginia', 'Wisconsin', 'Wyoming'], dtype=object))"
      ]
     },
     "execution_count": 14,
     "metadata": {},
     "output_type": "execute_result"
    }
   ],
   "source": [
    "# Extract the mobility levels for each top-level country\n",
    "def gen_for_us_states(df):\n",
    "    \n",
    "    w = 7\n",
    "    \n",
    "    # The columns to use for calculating the mobility drop\n",
    "    use_cols = ['mobility_retail', 'mobility_transit', 'mobility_work']\n",
    "    \n",
    "    # Focus on the US States\n",
    "    states = df[(df['country_region_code']=='US') & (df['sub_region_1'].notnull()) & (df['sub_region_2'].isnull())].copy()\n",
    "    \n",
    "    # Relabel the cols for convenience\n",
    "    states.columns = ['country_id', 'country', 'state', 'sub_region_2', 'iso_3166_2_code', 'census_fips_code', 'date', 'mobility_retail', 'mobility_grocery', 'mobility_parks', 'mobility_transit', 'mobility_work', 'mobility_home']\n",
    "    \n",
    "    # Add rolling cols\n",
    "    for mobility_col in states.filter(like='mobility_').columns:\n",
    "        states['rolling_'+mobility_col] = states.groupby(\n",
    "            'state')[mobility_col].apply(\n",
    "                lambda s: s.rolling(w).mean())\n",
    "        \n",
    "    # Calculate the mobility drop\n",
    "    states['google_mobility_drop'] = states[use_cols].mean(axis=1)\n",
    "\n",
    "    \n",
    "    return states[['country_id', 'country', 'state', 'date', 'google_mobility_drop']]\n",
    "\n",
    "google_states = gen_for_us_states(google).dropna(subset=['state'])\n",
    "\n",
    "# Convert mobility drop to mobility level\n",
    "google_states['google_mobility_level'] = 100+google_states['google_mobility_drop']\n",
    "\n",
    "\n",
    "google_states.shape, google_states.state.nunique(), google_states.state.unique()"
   ]
  },
  {
   "cell_type": "markdown",
   "metadata": {
    "papermill": {
     "duration": 0.109564,
     "end_time": "2020-07-28T13:25:59.110176",
     "exception": false,
     "start_time": "2020-07-28T13:25:59.000612",
     "status": "completed"
    },
    "tags": []
   },
   "source": [
    "# Combine into Minimal Form"
   ]
  },
  {
   "cell_type": "code",
   "execution_count": 15,
   "metadata": {
    "execution": {
     "iopub.execute_input": "2020-07-28T13:25:59.279002Z",
     "iopub.status.busy": "2020-07-28T13:25:59.278395Z",
     "iopub.status.idle": "2020-07-28T13:25:59.396003Z",
     "shell.execute_reply": "2020-07-28T13:25:59.397092Z"
    },
    "papermill": {
     "duration": 0.187154,
     "end_time": "2020-07-28T13:25:59.397390",
     "exception": false,
     "start_time": "2020-07-28T13:25:59.210236",
     "status": "completed"
    },
    "tags": []
   },
   "outputs": [
    {
     "data": {
      "text/html": [
       "<div>\n",
       "<style scoped>\n",
       "    .dataframe tbody tr th:only-of-type {\n",
       "        vertical-align: middle;\n",
       "    }\n",
       "\n",
       "    .dataframe tbody tr th {\n",
       "        vertical-align: top;\n",
       "    }\n",
       "\n",
       "    .dataframe thead th {\n",
       "        text-align: right;\n",
       "    }\n",
       "</style>\n",
       "<table border=\"1\" class=\"dataframe\">\n",
       "  <thead>\n",
       "    <tr style=\"text-align: right;\">\n",
       "      <th></th>\n",
       "      <th>state</th>\n",
       "      <th>date</th>\n",
       "      <th>new_cases</th>\n",
       "      <th>new_deaths</th>\n",
       "      <th>population</th>\n",
       "      <th>google_mobility_level</th>\n",
       "    </tr>\n",
       "  </thead>\n",
       "  <tbody>\n",
       "    <tr>\n",
       "      <th>0</th>\n",
       "      <td>Washington</td>\n",
       "      <td>2020-01-22</td>\n",
       "      <td>2.0</td>\n",
       "      <td>NaN</td>\n",
       "      <td>7614893.0</td>\n",
       "      <td>NaN</td>\n",
       "    </tr>\n",
       "    <tr>\n",
       "      <th>1</th>\n",
       "      <td>Washington</td>\n",
       "      <td>2020-01-23</td>\n",
       "      <td>0.0</td>\n",
       "      <td>NaN</td>\n",
       "      <td>7614893.0</td>\n",
       "      <td>NaN</td>\n",
       "    </tr>\n",
       "    <tr>\n",
       "      <th>2</th>\n",
       "      <td>Washington</td>\n",
       "      <td>2020-01-24</td>\n",
       "      <td>0.0</td>\n",
       "      <td>NaN</td>\n",
       "      <td>7614893.0</td>\n",
       "      <td>NaN</td>\n",
       "    </tr>\n",
       "    <tr>\n",
       "      <th>3</th>\n",
       "      <td>Washington</td>\n",
       "      <td>2020-01-25</td>\n",
       "      <td>0.0</td>\n",
       "      <td>NaN</td>\n",
       "      <td>7614893.0</td>\n",
       "      <td>NaN</td>\n",
       "    </tr>\n",
       "    <tr>\n",
       "      <th>4</th>\n",
       "      <td>Washington</td>\n",
       "      <td>2020-01-26</td>\n",
       "      <td>0.0</td>\n",
       "      <td>NaN</td>\n",
       "      <td>7614893.0</td>\n",
       "      <td>NaN</td>\n",
       "    </tr>\n",
       "  </tbody>\n",
       "</table>\n",
       "</div>"
      ],
      "text/plain": [
       "        state       date  new_cases  new_deaths  population  \\\n",
       "0  Washington 2020-01-22        2.0         NaN   7614893.0   \n",
       "1  Washington 2020-01-23        0.0         NaN   7614893.0   \n",
       "2  Washington 2020-01-24        0.0         NaN   7614893.0   \n",
       "3  Washington 2020-01-25        0.0         NaN   7614893.0   \n",
       "4  Washington 2020-01-26        0.0         NaN   7614893.0   \n",
       "\n",
       "   google_mobility_level  \n",
       "0                    NaN  \n",
       "1                    NaN  \n",
       "2                    NaN  \n",
       "3                    NaN  \n",
       "4                    NaN  "
      ]
     },
     "execution_count": 15,
     "metadata": {},
     "output_type": "execute_result"
    }
   ],
   "source": [
    "ctp_cols = ['new_cases', 'new_deaths', 'population']\n",
    "google_cols = ['google_mobility_level']\n",
    "\n",
    "df = ctp.set_index(['state', 'date'])[ctp_cols].join(\n",
    "    google_states.set_index(['state', 'date'])[google_cols]).reset_index()\n",
    "\n",
    "df.head()"
   ]
  },
  {
   "cell_type": "markdown",
   "metadata": {
    "papermill": {
     "duration": 0.029682,
     "end_time": "2020-07-28T13:25:59.463582",
     "exception": false,
     "start_time": "2020-07-28T13:25:59.433900",
     "status": "completed"
    },
    "tags": []
   },
   "source": [
    "## Adjust mobility level so that it is safe to aggregate"
   ]
  },
  {
   "cell_type": "code",
   "execution_count": 16,
   "metadata": {
    "execution": {
     "iopub.execute_input": "2020-07-28T13:25:59.530265Z",
     "iopub.status.busy": "2020-07-28T13:25:59.529663Z",
     "iopub.status.idle": "2020-07-28T13:25:59.713593Z",
     "shell.execute_reply": "2020-07-28T13:25:59.714367Z"
    },
    "papermill": {
     "duration": 0.221328,
     "end_time": "2020-07-28T13:25:59.714641",
     "exception": false,
     "start_time": "2020-07-28T13:25:59.493313",
     "status": "completed"
    },
    "tags": []
   },
   "outputs": [],
   "source": [
    "# Add a population adjusted mobility level\n",
    "df['google_mobility_level_by_pop'] = df['google_mobility_level']*df['population']"
   ]
  },
  {
   "cell_type": "markdown",
   "metadata": {
    "papermill": {
     "duration": 0.079437,
     "end_time": "2020-07-28T13:25:59.831336",
     "exception": false,
     "start_time": "2020-07-28T13:25:59.751899",
     "status": "completed"
    },
    "tags": []
   },
   "source": [
    "# Aggregations\n",
    "We can aggregate across continents and regions but need to be careful about how we combine cols by focusing on this columns that can be added across groupings.\n",
    "\n",
    "## Aggregations by Continent and Region"
   ]
  },
  {
   "cell_type": "code",
   "execution_count": 17,
   "metadata": {
    "execution": {
     "iopub.execute_input": "2020-07-28T13:25:59.927287Z",
     "iopub.status.busy": "2020-07-28T13:25:59.926650Z",
     "iopub.status.idle": "2020-07-28T13:25:59.929723Z",
     "shell.execute_reply": "2020-07-28T13:25:59.930357Z"
    },
    "papermill": {
     "duration": 0.04513,
     "end_time": "2020-07-28T13:25:59.930563",
     "exception": false,
     "start_time": "2020-07-28T13:25:59.885433",
     "status": "completed"
    },
    "tags": []
   },
   "outputs": [],
   "source": [
    "def agg_by(df, groupby_cols, aggregation):\n",
    "    \n",
    "    agg_cols = ['new_cases', 'new_deaths', 'population']\n",
    "\n",
    "    agg = df.groupby(groupby_cols)[agg_cols].sum().reset_index()\n",
    "\n",
    "    # Aggregate mobility separately to account for population and missing values\n",
    "    agg_mobility = df[df['google_mobility_level'].notnull()].groupby(\n",
    "        'date')[['google_mobility_level_by_pop', 'population']].sum().reset_index()\n",
    "\n",
    "    agg_mobility['google_mobility_level'] = agg_mobility['google_mobility_level_by_pop']/agg_mobility['population']\n",
    "\n",
    "    # Add to the us aggregation\n",
    "    agg = agg.set_index('date').join(\n",
    "        agg_mobility.set_index('date')['google_mobility_level']).reset_index()\n",
    "\n",
    "    return agg"
   ]
  },
  {
   "cell_type": "code",
   "execution_count": 18,
   "metadata": {
    "execution": {
     "iopub.execute_input": "2020-07-28T13:25:59.996552Z",
     "iopub.status.busy": "2020-07-28T13:25:59.995947Z",
     "iopub.status.idle": "2020-07-28T13:26:00.163324Z",
     "shell.execute_reply": "2020-07-28T13:26:00.164430Z"
    },
    "papermill": {
     "duration": 0.202475,
     "end_time": "2020-07-28T13:26:00.164728",
     "exception": false,
     "start_time": "2020-07-28T13:25:59.962253",
     "status": "completed"
    },
    "tags": []
   },
   "outputs": [
    {
     "data": {
      "text/plain": [
       "(7599, 8)"
      ]
     },
     "execution_count": 18,
     "metadata": {},
     "output_type": "execute_result"
    }
   ],
   "source": [
    "# Safe to add the following cols\n",
    "\n",
    "by_us = agg_by(df, 'date', 'us')\n",
    "by_us['aggregation'] = 'us'\n",
    "\n",
    "df['aggregation'] = df['state']\n",
    "\n",
    "df_with_aggs = pd.concat([df, by_us], sort=False, ignore_index=True)\n",
    "df_with_aggs.shape"
   ]
  },
  {
   "cell_type": "markdown",
   "metadata": {
    "papermill": {
     "duration": 0.070204,
     "end_time": "2020-07-28T13:26:00.272541",
     "exception": false,
     "start_time": "2020-07-28T13:26:00.202337",
     "status": "completed"
    },
    "tags": []
   },
   "source": [
    "## Rolling Means "
   ]
  },
  {
   "cell_type": "code",
   "execution_count": 19,
   "metadata": {
    "execution": {
     "iopub.execute_input": "2020-07-28T13:26:00.341836Z",
     "iopub.status.busy": "2020-07-28T13:26:00.341211Z",
     "iopub.status.idle": "2020-07-28T13:26:00.360159Z",
     "shell.execute_reply": "2020-07-28T13:26:00.360946Z"
    },
    "papermill": {
     "duration": 0.05616,
     "end_time": "2020-07-28T13:26:00.361157",
     "exception": false,
     "start_time": "2020-07-28T13:26:00.304997",
     "status": "completed"
    },
    "tags": []
   },
   "outputs": [
    {
     "data": {
      "text/html": [
       "<div>\n",
       "<style scoped>\n",
       "    .dataframe tbody tr th:only-of-type {\n",
       "        vertical-align: middle;\n",
       "    }\n",
       "\n",
       "    .dataframe tbody tr th {\n",
       "        vertical-align: top;\n",
       "    }\n",
       "\n",
       "    .dataframe thead th {\n",
       "        text-align: right;\n",
       "    }\n",
       "</style>\n",
       "<table border=\"1\" class=\"dataframe\">\n",
       "  <thead>\n",
       "    <tr style=\"text-align: right;\">\n",
       "      <th></th>\n",
       "      <th>state</th>\n",
       "      <th>date</th>\n",
       "      <th>new_cases</th>\n",
       "      <th>new_deaths</th>\n",
       "      <th>population</th>\n",
       "      <th>google_mobility_level</th>\n",
       "      <th>google_mobility_level_by_pop</th>\n",
       "      <th>aggregation</th>\n",
       "    </tr>\n",
       "  </thead>\n",
       "  <tbody>\n",
       "    <tr>\n",
       "      <th>0</th>\n",
       "      <td>Washington</td>\n",
       "      <td>2020-01-22</td>\n",
       "      <td>2.0</td>\n",
       "      <td>NaN</td>\n",
       "      <td>7614893.0</td>\n",
       "      <td>NaN</td>\n",
       "      <td>NaN</td>\n",
       "      <td>Washington</td>\n",
       "    </tr>\n",
       "    <tr>\n",
       "      <th>7411</th>\n",
       "      <td>NaN</td>\n",
       "      <td>2020-01-22</td>\n",
       "      <td>2.0</td>\n",
       "      <td>0.0</td>\n",
       "      <td>7614893.0</td>\n",
       "      <td>NaN</td>\n",
       "      <td>NaN</td>\n",
       "      <td>us</td>\n",
       "    </tr>\n",
       "    <tr>\n",
       "      <th>7412</th>\n",
       "      <td>NaN</td>\n",
       "      <td>2020-01-23</td>\n",
       "      <td>0.0</td>\n",
       "      <td>0.0</td>\n",
       "      <td>7614893.0</td>\n",
       "      <td>NaN</td>\n",
       "      <td>NaN</td>\n",
       "      <td>us</td>\n",
       "    </tr>\n",
       "    <tr>\n",
       "      <th>1</th>\n",
       "      <td>Washington</td>\n",
       "      <td>2020-01-23</td>\n",
       "      <td>0.0</td>\n",
       "      <td>NaN</td>\n",
       "      <td>7614893.0</td>\n",
       "      <td>NaN</td>\n",
       "      <td>NaN</td>\n",
       "      <td>Washington</td>\n",
       "    </tr>\n",
       "    <tr>\n",
       "      <th>2</th>\n",
       "      <td>Washington</td>\n",
       "      <td>2020-01-24</td>\n",
       "      <td>0.0</td>\n",
       "      <td>NaN</td>\n",
       "      <td>7614893.0</td>\n",
       "      <td>NaN</td>\n",
       "      <td>NaN</td>\n",
       "      <td>Washington</td>\n",
       "    </tr>\n",
       "  </tbody>\n",
       "</table>\n",
       "</div>"
      ],
      "text/plain": [
       "           state       date  new_cases  new_deaths  population  \\\n",
       "0     Washington 2020-01-22        2.0         NaN   7614893.0   \n",
       "7411         NaN 2020-01-22        2.0         0.0   7614893.0   \n",
       "7412         NaN 2020-01-23        0.0         0.0   7614893.0   \n",
       "1     Washington 2020-01-23        0.0         NaN   7614893.0   \n",
       "2     Washington 2020-01-24        0.0         NaN   7614893.0   \n",
       "\n",
       "      google_mobility_level  google_mobility_level_by_pop aggregation  \n",
       "0                       NaN                           NaN  Washington  \n",
       "7411                    NaN                           NaN          us  \n",
       "7412                    NaN                           NaN          us  \n",
       "1                       NaN                           NaN  Washington  \n",
       "2                       NaN                           NaN  Washington  "
      ]
     },
     "execution_count": 19,
     "metadata": {},
     "output_type": "execute_result"
    }
   ],
   "source": [
    "df_with_aggs = df_with_aggs.sort_values(by='date')\n",
    "df_with_aggs.head()"
   ]
  },
  {
   "cell_type": "code",
   "execution_count": 20,
   "metadata": {
    "execution": {
     "iopub.execute_input": "2020-07-28T13:26:00.430506Z",
     "iopub.status.busy": "2020-07-28T13:26:00.429897Z",
     "iopub.status.idle": "2020-07-28T13:26:00.664502Z",
     "shell.execute_reply": "2020-07-28T13:26:00.665533Z"
    },
    "papermill": {
     "duration": 0.272172,
     "end_time": "2020-07-28T13:26:00.665823",
     "exception": false,
     "start_time": "2020-07-28T13:26:00.393651",
     "status": "completed"
    },
    "tags": []
   },
   "outputs": [
    {
     "data": {
      "text/plain": [
       "(7599, 11)"
      ]
     },
     "execution_count": 20,
     "metadata": {},
     "output_type": "execute_result"
    }
   ],
   "source": [
    "rolling_cols = ['new_cases', 'new_deaths', 'google_mobility_level']\n",
    "\n",
    "rolling_means = df_with_aggs.groupby('aggregation').apply(\n",
    "    lambda g: g[rolling_cols].rolling(7).mean()\n",
    ").add_suffix('_rolling_mean')\n",
    "\n",
    "df_with_aggs = pd.concat([df_with_aggs, rolling_means], axis=1)\n",
    "\n",
    "df_with_aggs.shape"
   ]
  },
  {
   "cell_type": "markdown",
   "metadata": {
    "papermill": {
     "duration": 0.03185,
     "end_time": "2020-07-28T13:26:00.735340",
     "exception": false,
     "start_time": "2020-07-28T13:26:00.703490",
     "status": "completed"
    },
    "tags": []
   },
   "source": [
    "## Relative Values"
   ]
  },
  {
   "cell_type": "code",
   "execution_count": 21,
   "metadata": {
    "execution": {
     "iopub.execute_input": "2020-07-28T13:26:00.805030Z",
     "iopub.status.busy": "2020-07-28T13:26:00.804417Z",
     "iopub.status.idle": "2020-07-28T13:26:01.021503Z",
     "shell.execute_reply": "2020-07-28T13:26:01.022623Z"
    },
    "papermill": {
     "duration": 0.256052,
     "end_time": "2020-07-28T13:26:01.022931",
     "exception": false,
     "start_time": "2020-07-28T13:26:00.766879",
     "status": "completed"
    },
    "tags": []
   },
   "outputs": [
    {
     "data": {
      "text/plain": [
       "(7599, 14)"
      ]
     },
     "execution_count": 21,
     "metadata": {},
     "output_type": "execute_result"
    }
   ],
   "source": [
    "rel_cols = ['new_cases_rolling_mean', 'new_deaths_rolling_mean', 'google_mobility_level_rolling_mean']\n",
    "\n",
    "relative_values = df_with_aggs.groupby('aggregation').apply(\n",
    "    lambda g: g[rel_cols]/g[rel_cols].max()\n",
    ").add_suffix('_rel')\n",
    "    \n",
    "df_with_aggs = pd.concat([df_with_aggs, relative_values], axis=1)\n",
    "\n",
    "df_with_aggs.shape"
   ]
  },
  {
   "cell_type": "markdown",
   "metadata": {
    "papermill": {
     "duration": 0.032802,
     "end_time": "2020-07-28T13:26:01.093896",
     "exception": false,
     "start_time": "2020-07-28T13:26:01.061094",
     "status": "completed"
    },
    "tags": []
   },
   "source": [
    "# Save Dataset"
   ]
  },
  {
   "cell_type": "code",
   "execution_count": 22,
   "metadata": {
    "execution": {
     "iopub.execute_input": "2020-07-28T13:26:01.162757Z",
     "iopub.status.busy": "2020-07-28T13:26:01.162217Z",
     "iopub.status.idle": "2020-07-28T13:26:01.313990Z",
     "shell.execute_reply": "2020-07-28T13:26:01.314828Z"
    },
    "papermill": {
     "duration": 0.188533,
     "end_time": "2020-07-28T13:26:01.315093",
     "exception": false,
     "start_time": "2020-07-28T13:26:01.126560",
     "status": "completed"
    },
    "tags": []
   },
   "outputs": [
    {
     "name": "stderr",
     "output_type": "stream",
     "text": [
      "2020-07-28 14:26:01.160 | INFO     | __main__:<module>:1 - Saving minimal CTP dataset with mobility data @ ../data/processed/minimal_ctp_covid.csv\n"
     ]
    },
    {
     "data": {
      "text/plain": [
       "((7599, 14),\n",
       " '../data/processed/minimal_ctp_covid.csv',\n",
       " Timestamp('2020-07-27 00:00:00'))"
      ]
     },
     "execution_count": 22,
     "metadata": {},
     "output_type": "execute_result"
    }
   ],
   "source": [
    "logger.info('Saving minimal CTP dataset with mobility data @ %s' % minimal_ctp_dataset)\n",
    "\n",
    "df_with_aggs.to_csv(minimal_ctp_dataset, index=False)\n",
    "df_with_aggs.shape, minimal_ctp_dataset, df_with_aggs.date.max()"
   ]
  },
  {
   "cell_type": "code",
   "execution_count": null,
   "metadata": {
    "papermill": {
     "duration": 0.085939,
     "end_time": "2020-07-28T13:26:01.434377",
     "exception": false,
     "start_time": "2020-07-28T13:26:01.348438",
     "status": "completed"
    },
    "tags": []
   },
   "outputs": [],
   "source": []
  },
  {
   "cell_type": "code",
   "execution_count": null,
   "metadata": {
    "papermill": {
     "duration": 0.025251,
     "end_time": "2020-07-28T13:26:01.512027",
     "exception": false,
     "start_time": "2020-07-28T13:26:01.486776",
     "status": "completed"
    },
    "tags": []
   },
   "outputs": [],
   "source": []
  }
 ],
 "metadata": {
  "kernelspec": {
   "display_name": "COVID-19",
   "language": "python",
   "name": "covid-19"
  },
  "language_info": {
   "codemirror_mode": {
    "name": "ipython",
    "version": 3
   },
   "file_extension": ".py",
   "mimetype": "text/x-python",
   "name": "python",
   "nbconvert_exporter": "python",
   "pygments_lexer": "ipython3",
   "version": "3.7.7"
  },
  "papermill": {
   "duration": 21.598597,
   "end_time": "2020-07-28T13:26:02.052124",
   "environment_variables": {},
   "exception": null,
   "input_path": "prep_master_ctp_dataset_minimal.ipynb",
   "output_path": "output/prep_master_ctp_dataset_minimal.ipynb",
   "parameters": {},
   "start_time": "2020-07-28T13:25:40.453527",
   "version": "2.1.2"
  }
 },
 "nbformat": 4,
 "nbformat_minor": 4
}