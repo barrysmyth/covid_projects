{
 "cells": [
  {
   "cell_type": "markdown",
   "metadata": {
    "papermill": {
     "duration": 0.019421,
     "end_time": "2020-07-28T13:26:19.923044",
     "exception": false,
     "start_time": "2020-07-28T13:26:19.903623",
     "status": "completed"
    },
    "tags": []
   },
   "source": [
    "# The Peak Model\n",
    "A standardised model for identifying single peaks in cases/deaths/mobility drops etc. The 4 stage model assumes a period of expansion, a peak stage, a period of contraction, and a stablisation stage."
   ]
  },
  {
   "cell_type": "code",
   "execution_count": 1,
   "metadata": {
    "execution": {
     "iopub.execute_input": "2020-07-28T13:26:19.957223Z",
     "iopub.status.busy": "2020-07-28T13:26:19.956707Z",
     "iopub.status.idle": "2020-07-28T13:26:20.702263Z",
     "shell.execute_reply": "2020-07-28T13:26:20.702990Z"
    },
    "papermill": {
     "duration": 0.76767,
     "end_time": "2020-07-28T13:26:20.703364",
     "exception": false,
     "start_time": "2020-07-28T13:26:19.935694",
     "status": "completed"
    },
    "tags": []
   },
   "outputs": [],
   "source": [
    "import datetime \n",
    "\n",
    "from matplotlib.pylab import plt\n",
    "from matplotlib.ticker import FuncFormatter\n",
    "import matplotlib.colors as mcolors\n",
    "import matplotlib.dates as mdates\n",
    "\n",
    "import pandas as pd\n",
    "import numpy as np\n",
    "\n",
    "import seaborn as sns\n",
    "\n",
    "from loguru import logger\n",
    "\n",
    "\n",
    "\n",
    "%matplotlib inline"
   ]
  },
  {
   "cell_type": "markdown",
   "metadata": {
    "papermill": {
     "duration": 0.06495,
     "end_time": "2020-07-28T13:26:20.787201",
     "exception": false,
     "start_time": "2020-07-28T13:26:20.722251",
     "status": "completed"
    },
    "tags": []
   },
   "source": [
    "# Parameters"
   ]
  },
  {
   "cell_type": "code",
   "execution_count": 2,
   "metadata": {
    "execution": {
     "iopub.execute_input": "2020-07-28T13:26:20.812349Z",
     "iopub.status.busy": "2020-07-28T13:26:20.811564Z",
     "iopub.status.idle": "2020-07-28T13:26:20.814778Z",
     "shell.execute_reply": "2020-07-28T13:26:20.814177Z"
    },
    "papermill": {
     "duration": 0.017479,
     "end_time": "2020-07-28T13:26:20.814907",
     "exception": false,
     "start_time": "2020-07-28T13:26:20.797428",
     "status": "completed"
    },
    "tags": [
     "parameters"
    ]
   },
   "outputs": [],
   "source": [
    "# minimal_dataset = '../data/processed/minimal_ctp_covid.csv'\n",
    "\n",
    "minimal_dataset = '../data/processed/minimal_owid_covid.csv'\n"
   ]
  },
  {
   "cell_type": "code",
   "execution_count": 3,
   "metadata": {
    "execution": {
     "iopub.execute_input": "2020-07-28T13:26:20.847646Z",
     "iopub.status.busy": "2020-07-28T13:26:20.846959Z",
     "iopub.status.idle": "2020-07-28T13:26:20.897321Z",
     "shell.execute_reply": "2020-07-28T13:26:20.898066Z"
    },
    "papermill": {
     "duration": 0.06817,
     "end_time": "2020-07-28T13:26:20.898303",
     "exception": false,
     "start_time": "2020-07-28T13:26:20.830133",
     "status": "completed"
    },
    "tags": [
     "injected-parameters"
    ]
   },
   "outputs": [],
   "source": [
    "# Parameters\n",
    "minimal_dataset = \"../data/processed/minimal_ctp_covid.csv\"\n"
   ]
  },
  {
   "cell_type": "code",
   "execution_count": 4,
   "metadata": {
    "execution": {
     "iopub.execute_input": "2020-07-28T13:26:20.984050Z",
     "iopub.status.busy": "2020-07-28T13:26:20.983435Z",
     "iopub.status.idle": "2020-07-28T13:26:21.103661Z",
     "shell.execute_reply": "2020-07-28T13:26:21.102804Z"
    },
    "papermill": {
     "duration": 0.186408,
     "end_time": "2020-07-28T13:26:21.103880",
     "exception": false,
     "start_time": "2020-07-28T13:26:20.917472",
     "status": "completed"
    },
    "tags": []
   },
   "outputs": [
    {
     "data": {
      "text/plain": [
       "'../data/processed/peak_model_ctp_covid.csv'"
      ]
     },
     "execution_count": 4,
     "metadata": {},
     "output_type": "execute_result"
    }
   ],
   "source": [
    "peak_model_dataset = minimal_dataset.replace('minimal', 'peak_model')\n",
    "\n",
    "peak_model_dataset"
   ]
  },
  {
   "cell_type": "markdown",
   "metadata": {
    "papermill": {
     "duration": 0.064738,
     "end_time": "2020-07-28T13:26:21.187839",
     "exception": false,
     "start_time": "2020-07-28T13:26:21.123101",
     "status": "completed"
    },
    "tags": []
   },
   "source": [
    "# The Peak Model"
   ]
  },
  {
   "cell_type": "code",
   "execution_count": 5,
   "metadata": {
    "execution": {
     "iopub.execute_input": "2020-07-28T13:26:21.279868Z",
     "iopub.status.busy": "2020-07-28T13:26:21.279021Z",
     "iopub.status.idle": "2020-07-28T13:26:21.397811Z",
     "shell.execute_reply": "2020-07-28T13:26:21.398625Z"
    },
    "papermill": {
     "duration": 0.196583,
     "end_time": "2020-07-28T13:26:21.398907",
     "exception": false,
     "start_time": "2020-07-28T13:26:21.202324",
     "status": "completed"
    },
    "tags": []
   },
   "outputs": [],
   "source": [
    "lower_threshold, upper_threshold = .15, .85\n",
    "\n",
    "def get_peak_model_dates(s, upper=upper_threshold, lower=lower_threshold):\n",
    "\n",
    "\n",
    "    # The model parameters\n",
    "    params = ['expansion_start_date', 'peak_start_date', 'contraction_start_date', 'stable_start_date']\n",
    "    peak_model = pd.Series(index=params)\n",
    "\n",
    "\n",
    "    if len(s):\n",
    "    \n",
    "        # The peak and peak date\n",
    "        peak_value, peak_date = s.max(), s.idxmax()\n",
    "\n",
    "        # pre and post peak\n",
    "        pre, post = s.loc[:peak_date], s.loc[peak_date:]\n",
    "\n",
    "        # The start of the expansion is the first date that pre>lower_threshold\n",
    "        # If it never exceeds the lower thershold then there is no expansion start.\n",
    "        expansion = pre[pre>lower_threshold*peak_value]\n",
    "        if len(expansion): \n",
    "\n",
    "            expansion_start_date = expansion.index[0]\n",
    "            peak_model.loc['expansion_start_date'] = expansion_start_date\n",
    "\n",
    "            # peak start\n",
    "            peak_start_date = expansion[expansion>upper_threshold*peak_value].index[0]\n",
    "            peak_model.loc['peak_start_date'] = peak_start_date\n",
    "\n",
    "            # peak end\n",
    "            rev_post = post[::-1]\n",
    "            peak = rev_post[rev_post>upper_threshold*peak_value]\n",
    "\n",
    "            if len(peak):\n",
    "\n",
    "                peak_end_date = peak.index[0]\n",
    "                contraction = post[peak_end_date:]\n",
    "                if len(contraction)>1:\n",
    "                    contraction_start_date = contraction.index[1]\n",
    "\n",
    "                    peak_model.loc['contraction_start_date'] = contraction_start_date\n",
    "\n",
    "                    # The stable start\n",
    "                    contraction_end = rev_post[rev_post>lower_threshold*peak_value]\n",
    "                    if len(contraction_end):\n",
    "                        contraction_end_date = contraction_end.index[0]\n",
    "                        \n",
    "                        stable = post[contraction_end_date:]\n",
    "                        if len(stable)>1:\n",
    "                            stable_start_date = stable.index[1]\n",
    "\n",
    "                            peak_model.loc['stable_start_date'] = stable_start_date\n",
    "\n",
    "    return peak_model\n",
    "    \n",
    "\n",
    "    \n",
    "def get_growth_model_stages(s, labels=['E', 'P', 'C', 'S']):\n",
    "        \n",
    "    if len(s)>0:\n",
    "                \n",
    "        stages = pd.Series([np.nan]*len(s), index=s.index)\n",
    "        \n",
    "        stage_start_dates = get_peak_model_dates(s).dropna()\n",
    "                        \n",
    "        stages.loc[stage_start_dates] = labels[:len(stage_start_dates)]\n",
    "\n",
    "        return stages.ffill()"
   ]
  },
  {
   "cell_type": "markdown",
   "metadata": {
    "papermill": {
     "duration": 0.037037,
     "end_time": "2020-07-28T13:26:21.457884",
     "exception": false,
     "start_time": "2020-07-28T13:26:21.420847",
     "status": "completed"
    },
    "tags": []
   },
   "source": [
    "# Load the Dataset"
   ]
  },
  {
   "cell_type": "code",
   "execution_count": 6,
   "metadata": {
    "execution": {
     "iopub.execute_input": "2020-07-28T13:26:21.493239Z",
     "iopub.status.busy": "2020-07-28T13:26:21.492650Z",
     "iopub.status.idle": "2020-07-28T13:26:21.650124Z",
     "shell.execute_reply": "2020-07-28T13:26:21.651191Z"
    },
    "papermill": {
     "duration": 0.179427,
     "end_time": "2020-07-28T13:26:21.651531",
     "exception": false,
     "start_time": "2020-07-28T13:26:21.472104",
     "status": "completed"
    },
    "tags": []
   },
   "outputs": [
    {
     "name": "stderr",
     "output_type": "stream",
     "text": [
      "2020-07-28 14:26:21.616 | INFO     | __main__:<module>:1 - Loading ../data/processed/minimal_ctp_covid.csv\n"
     ]
    },
    {
     "data": {
      "text/plain": [
       "((7599, 14), Timestamp('2020-07-27 00:00:00'))"
      ]
     },
     "execution_count": 6,
     "metadata": {},
     "output_type": "execute_result"
    }
   ],
   "source": [
    "logger.info('Loading %s' % minimal_dataset)\n",
    "\n",
    "df = pd.read_csv(minimal_dataset, parse_dates=['date'], low_memory=False)\n",
    "df.shape, df.date.max()"
   ]
  },
  {
   "cell_type": "code",
   "execution_count": 7,
   "metadata": {
    "execution": {
     "iopub.execute_input": "2020-07-28T13:26:21.692197Z",
     "iopub.status.busy": "2020-07-28T13:26:21.691576Z",
     "iopub.status.idle": "2020-07-28T13:26:21.959844Z",
     "shell.execute_reply": "2020-07-28T13:26:21.960864Z"
    },
    "papermill": {
     "duration": 0.289196,
     "end_time": "2020-07-28T13:26:21.961143",
     "exception": false,
     "start_time": "2020-07-28T13:26:21.671947",
     "status": "completed"
    },
    "tags": []
   },
   "outputs": [
    {
     "data": {
      "text/plain": [
       "(new_cases                      0.0\n",
       " new_deaths                     0.0\n",
       " new_cases_rolling_mean         0.0\n",
       " new_deaths_rolling_mean        0.0\n",
       " new_cases_rolling_mean_rel     0.0\n",
       " new_deaths_rolling_mean_rel    0.0\n",
       " dtype: float64,\n",
       " (7599, 14),\n",
       " 52)"
      ]
     },
     "execution_count": 7,
     "metadata": {},
     "output_type": "execute_result"
    }
   ],
   "source": [
    "# Exclude <0 cases/deaths in case of bad reporting\n",
    "check_cols = df.filter(regex='_cases|_deaths').columns\n",
    "\n",
    "df[check_cols] = df[check_cols].clip(lower=0)\n",
    "\n",
    "df[check_cols].min(), df.shape, df['aggregation'].nunique()"
   ]
  },
  {
   "cell_type": "markdown",
   "metadata": {
    "papermill": {
     "duration": 0.022093,
     "end_time": "2020-07-28T13:26:22.005015",
     "exception": false,
     "start_time": "2020-07-28T13:26:21.982922",
     "status": "completed"
    },
    "tags": []
   },
   "source": [
    "# Build the Models\n",
    "Next we apply the model to a number of difference columns including case/death counts and mobility/stringency cols. We use difference labels for each to distinguish the virus models from the mobility/lockdown models, but the transitions/stages are all calculated in the same way using the same upper and lower thersholds."
   ]
  },
  {
   "cell_type": "code",
   "execution_count": 8,
   "metadata": {
    "execution": {
     "iopub.execute_input": "2020-07-28T13:26:22.040648Z",
     "iopub.status.busy": "2020-07-28T13:26:22.040059Z",
     "iopub.status.idle": "2020-07-28T13:26:22.144237Z",
     "shell.execute_reply": "2020-07-28T13:26:22.145034Z"
    },
    "papermill": {
     "duration": 0.124577,
     "end_time": "2020-07-28T13:26:22.145248",
     "exception": false,
     "start_time": "2020-07-28T13:26:22.020671",
     "status": "completed"
    },
    "tags": []
   },
   "outputs": [
    {
     "name": "stderr",
     "output_type": "stream",
     "text": [
      "2020-07-28 14:26:22.137 | INFO     | __main__:<module>:1 - Building peak models.\n"
     ]
    }
   ],
   "source": [
    "logger.info('Building peak models.')"
   ]
  },
  {
   "cell_type": "markdown",
   "metadata": {
    "papermill": {
     "duration": 0.048441,
     "end_time": "2020-07-28T13:26:22.214129",
     "exception": false,
     "start_time": "2020-07-28T13:26:22.165688",
     "status": "completed"
    },
    "tags": []
   },
   "source": [
    "## The Cases/Deaths Models"
   ]
  },
  {
   "cell_type": "code",
   "execution_count": 9,
   "metadata": {
    "execution": {
     "iopub.execute_input": "2020-07-28T13:26:22.256847Z",
     "iopub.status.busy": "2020-07-28T13:26:22.256133Z",
     "iopub.status.idle": "2020-07-28T13:26:23.240945Z",
     "shell.execute_reply": "2020-07-28T13:26:23.242057Z"
    },
    "papermill": {
     "duration": 1.010321,
     "end_time": "2020-07-28T13:26:23.242359",
     "exception": false,
     "start_time": "2020-07-28T13:26:22.232038",
     "status": "completed"
    },
    "tags": []
   },
   "outputs": [
    {
     "name": "stderr",
     "output_type": "stream",
     "text": [
      "/home/barry/anaconda3/envs/covid-19/lib/python3.7/site-packages/ipykernel_launcher.py:8: DeprecationWarning: The default dtype for empty Series will be 'object' instead of 'float64' in a future version. Specify a dtype explicitly to silence this warning.\n",
      "  \n"
     ]
    },
    {
     "data": {
      "text/plain": [
       "(7599, 16)"
      ]
     },
     "execution_count": 9,
     "metadata": {},
     "output_type": "execute_result"
    }
   ],
   "source": [
    "peak_cols = [\n",
    "    'new_cases_rolling_mean',\n",
    "    'new_deaths_rolling_mean' \n",
    "]\n",
    "\n",
    "labels = ['E', 'P', 'C', 'S']\n",
    "\n",
    "for peak_col in peak_cols:\n",
    "    \n",
    "    # Calculate the stages.\n",
    "    stages = pd.DataFrame(\n",
    "        df.groupby('aggregation').apply(\n",
    "            lambda g: get_growth_model_stages(g.set_index('date')[peak_col].dropna(), labels=labels)\n",
    "        ), columns=[peak_col+'_stage']\n",
    "    )\n",
    "    \n",
    "    df = df.set_index(['aggregation', 'date']).join(stages).reset_index().sort_values(by='date')\n",
    "    \n",
    "df.shape"
   ]
  },
  {
   "cell_type": "markdown",
   "metadata": {
    "papermill": {
     "duration": 0.020597,
     "end_time": "2020-07-28T13:26:23.285822",
     "exception": false,
     "start_time": "2020-07-28T13:26:23.265225",
     "status": "completed"
    },
    "tags": []
   },
   "source": [
    "## Mobility/Stringency Models"
   ]
  },
  {
   "cell_type": "code",
   "execution_count": 10,
   "metadata": {
    "execution": {
     "iopub.execute_input": "2020-07-28T13:26:23.329216Z",
     "iopub.status.busy": "2020-07-28T13:26:23.328563Z",
     "iopub.status.idle": "2020-07-28T13:26:23.776670Z",
     "shell.execute_reply": "2020-07-28T13:26:23.777709Z"
    },
    "papermill": {
     "duration": 0.474405,
     "end_time": "2020-07-28T13:26:23.778048",
     "exception": false,
     "start_time": "2020-07-28T13:26:23.303643",
     "status": "completed"
    },
    "tags": []
   },
   "outputs": [
    {
     "name": "stderr",
     "output_type": "stream",
     "text": [
      "/home/barry/anaconda3/envs/covid-19/lib/python3.7/site-packages/ipykernel_launcher.py:8: DeprecationWarning: The default dtype for empty Series will be 'object' instead of 'float64' in a future version. Specify a dtype explicitly to silence this warning.\n",
      "  \n"
     ]
    },
    {
     "data": {
      "text/plain": [
       "(7599, 17)"
      ]
     },
     "execution_count": 10,
     "metadata": {},
     "output_type": "execute_result"
    }
   ],
   "source": [
    "peak_cols = ['google_mobility_level_rolling_mean']\n",
    "\n",
    "labels = ['D', 'H', 'B', 'N']\n",
    "\n",
    "def lockdown_period(mobility):\n",
    "    \n",
    "    if len(mobility):\n",
    "    \n",
    "        mobility = (100-mobility)\n",
    "\n",
    "        # Last zero before peak\n",
    "        peak_date = mobility.idxmax()\n",
    "        pre_peak_min = mobility.loc[:peak_date].idxmin()\n",
    "\n",
    "        return mobility.loc[pre_peak_min:]\n",
    "    \n",
    "    return mobility\n",
    "\n",
    "for peak_col in peak_cols:\n",
    "    \n",
    "    # Calculate the stages.\n",
    "    stages = pd.DataFrame(\n",
    "        df.groupby('aggregation').apply(\n",
    "            lambda g: get_growth_model_stages(lockdown_period(g.set_index('date')[peak_col].dropna()), labels=labels)\n",
    "        ), columns=[peak_col+'_stage']\n",
    "    )\n",
    "    \n",
    "    df = df.set_index(['aggregation', 'date']).join(stages).reset_index().sort_values(by='date')\n",
    "    \n",
    "df.shape"
   ]
  },
  {
   "cell_type": "markdown",
   "metadata": {
    "papermill": {
     "duration": 0.019488,
     "end_time": "2020-07-28T13:26:23.819985",
     "exception": false,
     "start_time": "2020-07-28T13:26:23.800497",
     "status": "completed"
    },
    "tags": []
   },
   "source": [
    "## Add Stage Days"
   ]
  },
  {
   "cell_type": "code",
   "execution_count": 11,
   "metadata": {
    "execution": {
     "iopub.execute_input": "2020-07-28T13:26:23.879731Z",
     "iopub.status.busy": "2020-07-28T13:26:23.879002Z",
     "iopub.status.idle": "2020-07-28T13:26:25.188194Z",
     "shell.execute_reply": "2020-07-28T13:26:25.189281Z"
    },
    "papermill": {
     "duration": 1.342511,
     "end_time": "2020-07-28T13:26:25.189592",
     "exception": false,
     "start_time": "2020-07-28T13:26:23.847081",
     "status": "completed"
    },
    "tags": []
   },
   "outputs": [
    {
     "data": {
      "text/plain": [
       "(7599, 20)"
      ]
     },
     "execution_count": 11,
     "metadata": {},
     "output_type": "execute_result"
    }
   ],
   "source": [
    "# Add the stage days for the cases growth model\n",
    "cases_growth_stage_days = pd.DataFrame(df.groupby(['aggregation', 'new_cases_rolling_mean_stage']).apply(\n",
    "    lambda g: g.reset_index().reset_index().set_index('date')['level_0'])).rename(columns={'level_0': 'new_cases_rolling_mean_stage_day'})\n",
    "\n",
    "df = df.set_index(['aggregation', 'new_cases_rolling_mean_stage', 'date']).join(cases_growth_stage_days).reset_index()\n",
    "\n",
    "\n",
    "\n",
    "# Add the stage days for the deaths growth model\n",
    "deaths_growth_stage_days = pd.DataFrame(df.groupby(['aggregation', 'new_deaths_rolling_mean_stage']).apply(\n",
    "    lambda g: g.reset_index().reset_index().set_index('date')['level_0'])).rename(columns={'level_0': 'new_deaths_rolling_mean_stage_day'})\n",
    "\n",
    "df = df.set_index(['aggregation', 'new_deaths_rolling_mean_stage', 'date']).join(deaths_growth_stage_days).reset_index()\n",
    "\n",
    "\n",
    "# Add the stage days for the mobility model\n",
    "mobility_stage_days = pd.DataFrame(df.groupby(['aggregation', 'google_mobility_level_rolling_mean_stage']).apply(\n",
    "    lambda g: g.reset_index().reset_index().set_index('date')['level_0'])).rename(columns={'level_0': 'google_mobility_level_rolling_mean_stage_day'})\n",
    "\n",
    "\n",
    "\n",
    "df = df.set_index(['aggregation', 'google_mobility_level_rolling_mean_stage', 'date']).join(mobility_stage_days).reset_index()\n",
    "\n",
    "df.shape"
   ]
  },
  {
   "cell_type": "markdown",
   "metadata": {
    "papermill": {
     "duration": 0.017796,
     "end_time": "2020-07-28T13:26:25.232391",
     "exception": false,
     "start_time": "2020-07-28T13:26:25.214595",
     "status": "completed"
    },
    "tags": []
   },
   "source": [
    "## Add Cumulative Max Values"
   ]
  },
  {
   "cell_type": "code",
   "execution_count": 12,
   "metadata": {
    "execution": {
     "iopub.execute_input": "2020-07-28T13:26:25.457418Z",
     "iopub.status.busy": "2020-07-28T13:26:25.456797Z",
     "iopub.status.idle": "2020-07-28T13:26:25.571009Z",
     "shell.execute_reply": "2020-07-28T13:26:25.572044Z"
    },
    "papermill": {
     "duration": 0.173306,
     "end_time": "2020-07-28T13:26:25.572328",
     "exception": false,
     "start_time": "2020-07-28T13:26:25.399022",
     "status": "completed"
    },
    "tags": []
   },
   "outputs": [
    {
     "data": {
      "text/html": [
       "<div>\n",
       "<style scoped>\n",
       "    .dataframe tbody tr th:only-of-type {\n",
       "        vertical-align: middle;\n",
       "    }\n",
       "\n",
       "    .dataframe tbody tr th {\n",
       "        vertical-align: top;\n",
       "    }\n",
       "\n",
       "    .dataframe thead th {\n",
       "        text-align: right;\n",
       "    }\n",
       "</style>\n",
       "<table border=\"1\" class=\"dataframe\">\n",
       "  <thead>\n",
       "    <tr style=\"text-align: right;\">\n",
       "      <th></th>\n",
       "      <th>aggregation</th>\n",
       "      <th>date</th>\n",
       "      <th>google_mobility_level_rolling_mean_stage</th>\n",
       "      <th>new_deaths_rolling_mean_stage</th>\n",
       "      <th>new_cases_rolling_mean_stage</th>\n",
       "      <th>state</th>\n",
       "      <th>new_cases</th>\n",
       "      <th>new_deaths</th>\n",
       "      <th>population</th>\n",
       "      <th>google_mobility_level</th>\n",
       "      <th>...</th>\n",
       "      <th>new_cases_rolling_mean</th>\n",
       "      <th>new_deaths_rolling_mean</th>\n",
       "      <th>google_mobility_level_rolling_mean</th>\n",
       "      <th>new_cases_rolling_mean_rel</th>\n",
       "      <th>new_deaths_rolling_mean_rel</th>\n",
       "      <th>google_mobility_level_rolling_mean_rel</th>\n",
       "      <th>new_cases_rolling_mean_stage_day</th>\n",
       "      <th>new_deaths_rolling_mean_stage_day</th>\n",
       "      <th>google_mobility_level_rolling_mean_stage_day</th>\n",
       "      <th>new_cases_rolling_mean_cummax</th>\n",
       "    </tr>\n",
       "  </thead>\n",
       "  <tbody>\n",
       "    <tr>\n",
       "      <th>0</th>\n",
       "      <td>Washington</td>\n",
       "      <td>2020-01-22</td>\n",
       "      <td>NaN</td>\n",
       "      <td>NaN</td>\n",
       "      <td>NaN</td>\n",
       "      <td>Washington</td>\n",
       "      <td>2.0</td>\n",
       "      <td>NaN</td>\n",
       "      <td>7614893.0</td>\n",
       "      <td>NaN</td>\n",
       "      <td>...</td>\n",
       "      <td>NaN</td>\n",
       "      <td>NaN</td>\n",
       "      <td>NaN</td>\n",
       "      <td>NaN</td>\n",
       "      <td>NaN</td>\n",
       "      <td>NaN</td>\n",
       "      <td>NaN</td>\n",
       "      <td>NaN</td>\n",
       "      <td>NaN</td>\n",
       "      <td>NaN</td>\n",
       "    </tr>\n",
       "    <tr>\n",
       "      <th>1</th>\n",
       "      <td>us</td>\n",
       "      <td>2020-01-22</td>\n",
       "      <td>NaN</td>\n",
       "      <td>NaN</td>\n",
       "      <td>NaN</td>\n",
       "      <td>NaN</td>\n",
       "      <td>2.0</td>\n",
       "      <td>0.0</td>\n",
       "      <td>7614893.0</td>\n",
       "      <td>NaN</td>\n",
       "      <td>...</td>\n",
       "      <td>NaN</td>\n",
       "      <td>NaN</td>\n",
       "      <td>NaN</td>\n",
       "      <td>NaN</td>\n",
       "      <td>NaN</td>\n",
       "      <td>NaN</td>\n",
       "      <td>NaN</td>\n",
       "      <td>NaN</td>\n",
       "      <td>NaN</td>\n",
       "      <td>NaN</td>\n",
       "    </tr>\n",
       "    <tr>\n",
       "      <th>2</th>\n",
       "      <td>us</td>\n",
       "      <td>2020-01-23</td>\n",
       "      <td>NaN</td>\n",
       "      <td>NaN</td>\n",
       "      <td>NaN</td>\n",
       "      <td>NaN</td>\n",
       "      <td>0.0</td>\n",
       "      <td>0.0</td>\n",
       "      <td>7614893.0</td>\n",
       "      <td>NaN</td>\n",
       "      <td>...</td>\n",
       "      <td>NaN</td>\n",
       "      <td>NaN</td>\n",
       "      <td>NaN</td>\n",
       "      <td>NaN</td>\n",
       "      <td>NaN</td>\n",
       "      <td>NaN</td>\n",
       "      <td>NaN</td>\n",
       "      <td>NaN</td>\n",
       "      <td>NaN</td>\n",
       "      <td>NaN</td>\n",
       "    </tr>\n",
       "    <tr>\n",
       "      <th>3</th>\n",
       "      <td>Washington</td>\n",
       "      <td>2020-01-23</td>\n",
       "      <td>NaN</td>\n",
       "      <td>NaN</td>\n",
       "      <td>NaN</td>\n",
       "      <td>Washington</td>\n",
       "      <td>0.0</td>\n",
       "      <td>NaN</td>\n",
       "      <td>7614893.0</td>\n",
       "      <td>NaN</td>\n",
       "      <td>...</td>\n",
       "      <td>NaN</td>\n",
       "      <td>NaN</td>\n",
       "      <td>NaN</td>\n",
       "      <td>NaN</td>\n",
       "      <td>NaN</td>\n",
       "      <td>NaN</td>\n",
       "      <td>NaN</td>\n",
       "      <td>NaN</td>\n",
       "      <td>NaN</td>\n",
       "      <td>NaN</td>\n",
       "    </tr>\n",
       "    <tr>\n",
       "      <th>4</th>\n",
       "      <td>Washington</td>\n",
       "      <td>2020-01-24</td>\n",
       "      <td>NaN</td>\n",
       "      <td>NaN</td>\n",
       "      <td>NaN</td>\n",
       "      <td>Washington</td>\n",
       "      <td>0.0</td>\n",
       "      <td>NaN</td>\n",
       "      <td>7614893.0</td>\n",
       "      <td>NaN</td>\n",
       "      <td>...</td>\n",
       "      <td>NaN</td>\n",
       "      <td>NaN</td>\n",
       "      <td>NaN</td>\n",
       "      <td>NaN</td>\n",
       "      <td>NaN</td>\n",
       "      <td>NaN</td>\n",
       "      <td>NaN</td>\n",
       "      <td>NaN</td>\n",
       "      <td>NaN</td>\n",
       "      <td>NaN</td>\n",
       "    </tr>\n",
       "  </tbody>\n",
       "</table>\n",
       "<p>5 rows × 21 columns</p>\n",
       "</div>"
      ],
      "text/plain": [
       "  aggregation       date google_mobility_level_rolling_mean_stage  \\\n",
       "0  Washington 2020-01-22                                      NaN   \n",
       "1          us 2020-01-22                                      NaN   \n",
       "2          us 2020-01-23                                      NaN   \n",
       "3  Washington 2020-01-23                                      NaN   \n",
       "4  Washington 2020-01-24                                      NaN   \n",
       "\n",
       "  new_deaths_rolling_mean_stage new_cases_rolling_mean_stage       state  \\\n",
       "0                           NaN                          NaN  Washington   \n",
       "1                           NaN                          NaN         NaN   \n",
       "2                           NaN                          NaN         NaN   \n",
       "3                           NaN                          NaN  Washington   \n",
       "4                           NaN                          NaN  Washington   \n",
       "\n",
       "   new_cases  new_deaths  population  google_mobility_level  ...  \\\n",
       "0        2.0         NaN   7614893.0                    NaN  ...   \n",
       "1        2.0         0.0   7614893.0                    NaN  ...   \n",
       "2        0.0         0.0   7614893.0                    NaN  ...   \n",
       "3        0.0         NaN   7614893.0                    NaN  ...   \n",
       "4        0.0         NaN   7614893.0                    NaN  ...   \n",
       "\n",
       "   new_cases_rolling_mean  new_deaths_rolling_mean  \\\n",
       "0                     NaN                      NaN   \n",
       "1                     NaN                      NaN   \n",
       "2                     NaN                      NaN   \n",
       "3                     NaN                      NaN   \n",
       "4                     NaN                      NaN   \n",
       "\n",
       "   google_mobility_level_rolling_mean  new_cases_rolling_mean_rel  \\\n",
       "0                                 NaN                         NaN   \n",
       "1                                 NaN                         NaN   \n",
       "2                                 NaN                         NaN   \n",
       "3                                 NaN                         NaN   \n",
       "4                                 NaN                         NaN   \n",
       "\n",
       "   new_deaths_rolling_mean_rel  google_mobility_level_rolling_mean_rel  \\\n",
       "0                          NaN                                     NaN   \n",
       "1                          NaN                                     NaN   \n",
       "2                          NaN                                     NaN   \n",
       "3                          NaN                                     NaN   \n",
       "4                          NaN                                     NaN   \n",
       "\n",
       "   new_cases_rolling_mean_stage_day  new_deaths_rolling_mean_stage_day  \\\n",
       "0                               NaN                                NaN   \n",
       "1                               NaN                                NaN   \n",
       "2                               NaN                                NaN   \n",
       "3                               NaN                                NaN   \n",
       "4                               NaN                                NaN   \n",
       "\n",
       "   google_mobility_level_rolling_mean_stage_day  new_cases_rolling_mean_cummax  \n",
       "0                                           NaN                            NaN  \n",
       "1                                           NaN                            NaN  \n",
       "2                                           NaN                            NaN  \n",
       "3                                           NaN                            NaN  \n",
       "4                                           NaN                            NaN  \n",
       "\n",
       "[5 rows x 21 columns]"
      ]
     },
     "execution_count": 12,
     "metadata": {},
     "output_type": "execute_result"
    }
   ],
   "source": [
    "# Add cumulative max new case to DF\n",
    "df = df.set_index(['aggregation', 'date']).join(\n",
    "    pd.DataFrame(df.groupby(['aggregation']).apply(\n",
    "        lambda g: g.set_index('date')['new_cases_rolling_mean'].cummax())).add_suffix('_cummax')).reset_index()\n",
    "df.head()"
   ]
  },
  {
   "cell_type": "markdown",
   "metadata": {
    "papermill": {
     "duration": 0.044602,
     "end_time": "2020-07-28T13:26:25.642531",
     "exception": false,
     "start_time": "2020-07-28T13:26:25.597929",
     "status": "completed"
    },
    "tags": []
   },
   "source": [
    "# Save Countries Dataset"
   ]
  },
  {
   "cell_type": "code",
   "execution_count": 13,
   "metadata": {
    "execution": {
     "iopub.execute_input": "2020-07-28T13:26:25.792331Z",
     "iopub.status.busy": "2020-07-28T13:26:25.791723Z",
     "iopub.status.idle": "2020-07-28T13:26:26.029643Z",
     "shell.execute_reply": "2020-07-28T13:26:26.030740Z"
    },
    "papermill": {
     "duration": 0.325258,
     "end_time": "2020-07-28T13:26:26.031049",
     "exception": false,
     "start_time": "2020-07-28T13:26:25.705791",
     "status": "completed"
    },
    "tags": []
   },
   "outputs": [
    {
     "name": "stderr",
     "output_type": "stream",
     "text": [
      "2020-07-28 14:26:25.812 | INFO     | __main__:<module>:1 - Saving peak model dataset -> ../data/processed/peak_model_ctp_covid.csv\n"
     ]
    },
    {
     "data": {
      "text/plain": [
       "((7599, 21),\n",
       " '../data/processed/peak_model_ctp_covid.csv',\n",
       " Timestamp('2020-07-27 00:00:00'))"
      ]
     },
     "execution_count": 13,
     "metadata": {},
     "output_type": "execute_result"
    }
   ],
   "source": [
    "logger.info('Saving peak model dataset -> %s' % peak_model_dataset)\n",
    "\n",
    "df.to_csv(peak_model_dataset, index=False)\n",
    "\n",
    "df.shape, peak_model_dataset, df.date.max()"
   ]
  },
  {
   "cell_type": "code",
   "execution_count": null,
   "metadata": {
    "papermill": {
     "duration": 0.019499,
     "end_time": "2020-07-28T13:26:26.076156",
     "exception": false,
     "start_time": "2020-07-28T13:26:26.056657",
     "status": "completed"
    },
    "tags": []
   },
   "outputs": [],
   "source": []
  },
  {
   "cell_type": "code",
   "execution_count": null,
   "metadata": {
    "papermill": {
     "duration": 0.018859,
     "end_time": "2020-07-28T13:26:26.114895",
     "exception": false,
     "start_time": "2020-07-28T13:26:26.096036",
     "status": "completed"
    },
    "tags": []
   },
   "outputs": [],
   "source": []
  }
 ],
 "metadata": {
  "kernelspec": {
   "display_name": "COVID-19",
   "language": "python",
   "name": "covid-19"
  },
  "language_info": {
   "codemirror_mode": {
    "name": "ipython",
    "version": 3
   },
   "file_extension": ".py",
   "mimetype": "text/x-python",
   "name": "python",
   "nbconvert_exporter": "python",
   "pygments_lexer": "ipython3",
   "version": "3.7.7"
  },
  "papermill": {
   "duration": 7.481618,
   "end_time": "2020-07-28T13:26:26.648466",
   "environment_variables": {},
   "exception": null,
   "input_path": "gen_peak_model_minimal.ipynb",
   "output_path": "output/gen_peak_model_minimal.ipynb",
   "parameters": {
    "minimal_dataset": "../data/processed/minimal_ctp_covid.csv"
   },
   "start_time": "2020-07-28T13:26:19.166848",
   "version": "2.1.2"
  }
 },
 "nbformat": 4,
 "nbformat_minor": 4
}