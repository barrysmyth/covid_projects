{
 "cells": [
  {
   "cell_type": "markdown",
   "metadata": {
    "tags": [
     "papermill-error-cell-tag"
    ]
   },
   "source": [
    "<span style=\"color:red; font-family:Helvetica Neue, Helvetica, Arial, sans-serif; font-size:2em;\">An Exception was encountered at '<a href=\"#papermill-error-cell\">In [12]</a>'.</span>"
   ]
  },
  {
   "cell_type": "markdown",
   "metadata": {
    "papermill": {
     "duration": 0.017544,
     "end_time": "2020-07-28T13:28:24.846970",
     "exception": false,
     "start_time": "2020-07-28T13:28:24.829426",
     "status": "completed"
    },
    "tags": []
   },
   "source": [
    "# Predicting Re-Opening Success"
   ]
  },
  {
   "cell_type": "code",
   "execution_count": 1,
   "metadata": {
    "execution": {
     "iopub.execute_input": "2020-07-28T13:28:24.933489Z",
     "iopub.status.busy": "2020-07-28T13:28:24.932769Z",
     "iopub.status.idle": "2020-07-28T13:28:25.708389Z",
     "shell.execute_reply": "2020-07-28T13:28:25.709275Z"
    },
    "papermill": {
     "duration": 0.836235,
     "end_time": "2020-07-28T13:28:25.709611",
     "exception": false,
     "start_time": "2020-07-28T13:28:24.873376",
     "status": "completed"
    },
    "tags": []
   },
   "outputs": [],
   "source": [
    "import itertools\n",
    "\n",
    "from matplotlib.pylab import plt\n",
    "from matplotlib.ticker import FuncFormatter\n",
    "import matplotlib.colors as mcolors\n",
    "import matplotlib.dates as mdates\n",
    "from matplotlib import pyplot, lines\n",
    "from matplotlib.patches import Patch\n",
    "import matplotlib\n",
    "\n",
    "from sklearn.ensemble import GradientBoostingClassifier\n",
    "from sklearn.model_selection import cross_validate, cross_val_score, cross_val_predict\n",
    "from sklearn.linear_model import LinearRegression\n",
    "from sklearn.neighbors import KNeighborsClassifier\n",
    "from sklearn import preprocessing\n",
    "from sklearn.tree import DecisionTreeClassifier\n",
    "from sklearn.model_selection import LeaveOneOut\n",
    "from sklearn.feature_selection import RFECV\n",
    "\n",
    "from sklearn.metrics import confusion_matrix\n",
    "\n",
    "from mlxtend.feature_selection import ExhaustiveFeatureSelector as EFS\n",
    "\n",
    "\n",
    "\n",
    "from scipy.stats import ttest_ind\n",
    "\n",
    "import researchpy as rpy\n",
    "\n",
    "from loguru import logger\n",
    "\n",
    "\n",
    "\n",
    "import pandas as pd\n",
    "import numpy as np\n",
    "\n",
    "import seaborn as sns\n",
    "\n",
    "import datetime \n",
    "\n",
    "\n",
    "%matplotlib inline"
   ]
  },
  {
   "cell_type": "markdown",
   "metadata": {
    "papermill": {
     "duration": 0.011008,
     "end_time": "2020-07-28T13:28:25.738982",
     "exception": false,
     "start_time": "2020-07-28T13:28:25.727974",
     "status": "completed"
    },
    "tags": []
   },
   "source": [
    "# Parameters"
   ]
  },
  {
   "cell_type": "code",
   "execution_count": 2,
   "metadata": {
    "execution": {
     "iopub.execute_input": "2020-07-28T13:28:25.766810Z",
     "iopub.status.busy": "2020-07-28T13:28:25.766321Z",
     "iopub.status.idle": "2020-07-28T13:28:25.769205Z",
     "shell.execute_reply": "2020-07-28T13:28:25.769621Z"
    },
    "papermill": {
     "duration": 0.019276,
     "end_time": "2020-07-28T13:28:25.769748",
     "exception": false,
     "start_time": "2020-07-28T13:28:25.750472",
     "status": "completed"
    },
    "tags": [
     "parameters"
    ]
   },
   "outputs": [],
   "source": [
    "dataset = 'eu_us'  # Will be used to tag the saved files\n",
    "\n",
    "lockdown_dataset = '../data/expanded_lockdowns.pkl'\n",
    "\n",
    "from_rebound_days, to_rebound_days = 28, 85"
   ]
  },
  {
   "cell_type": "code",
   "execution_count": 3,
   "metadata": {
    "execution": {
     "iopub.execute_input": "2020-07-28T13:28:25.874636Z",
     "iopub.status.busy": "2020-07-28T13:28:25.874183Z",
     "iopub.status.idle": "2020-07-28T13:28:26.156379Z",
     "shell.execute_reply": "2020-07-28T13:28:26.157208Z"
    },
    "papermill": {
     "duration": 0.375963,
     "end_time": "2020-07-28T13:28:26.157528",
     "exception": false,
     "start_time": "2020-07-28T13:28:25.781565",
     "status": "completed"
    },
    "tags": [
     "injected-parameters"
    ]
   },
   "outputs": [],
   "source": [
    "# Parameters\n",
    "dataset = \"eu_us\"\n",
    "from_rebound_days = 28\n",
    "to_rebound_days = 85\n"
   ]
  },
  {
   "cell_type": "code",
   "execution_count": 4,
   "metadata": {
    "execution": {
     "iopub.execute_input": "2020-07-28T13:28:26.229434Z",
     "iopub.status.busy": "2020-07-28T13:28:26.228975Z",
     "iopub.status.idle": "2020-07-28T13:28:26.341179Z",
     "shell.execute_reply": "2020-07-28T13:28:26.340267Z"
    },
    "papermill": {
     "duration": 0.162625,
     "end_time": "2020-07-28T13:28:26.341409",
     "exception": false,
     "start_time": "2020-07-28T13:28:26.178784",
     "status": "completed"
    },
    "tags": []
   },
   "outputs": [],
   "source": [
    "efs_dataset = '../data/efs_{}.pkl'.format(dataset)"
   ]
  },
  {
   "cell_type": "markdown",
   "metadata": {
    "papermill": {
     "duration": 0.011199,
     "end_time": "2020-07-28T13:28:26.373587",
     "exception": false,
     "start_time": "2020-07-28T13:28:26.362388",
     "status": "completed"
    },
    "tags": []
   },
   "source": [
    "# Load Lockdown Data"
   ]
  },
  {
   "cell_type": "code",
   "execution_count": 5,
   "metadata": {
    "execution": {
     "iopub.execute_input": "2020-07-28T13:28:26.400444Z",
     "iopub.status.busy": "2020-07-28T13:28:26.400001Z",
     "iopub.status.idle": "2020-07-28T13:28:26.460131Z",
     "shell.execute_reply": "2020-07-28T13:28:26.461221Z"
    },
    "papermill": {
     "duration": 0.076405,
     "end_time": "2020-07-28T13:28:26.461521",
     "exception": false,
     "start_time": "2020-07-28T13:28:26.385116",
     "status": "completed"
    },
    "tags": []
   },
   "outputs": [
    {
     "name": "stderr",
     "output_type": "stream",
     "text": [
      "2020-07-28 14:28:26.439 | INFO     | __main__:<module>:1 - Loading lockdown data @ ../data/expanded_lockdowns.pkl\n"
     ]
    },
    {
     "data": {
      "text/plain": [
       "(15534, 68)"
      ]
     },
     "execution_count": 5,
     "metadata": {},
     "output_type": "execute_result"
    }
   ],
   "source": [
    "logger.info('Loading lockdown data @ %s' % lockdown_dataset)\n",
    "\n",
    "expanded_lockdowns = pd.read_pickle(lockdown_dataset)\n",
    "expanded_lockdowns.shape"
   ]
  },
  {
   "cell_type": "code",
   "execution_count": 6,
   "metadata": {
    "execution": {
     "iopub.execute_input": "2020-07-28T13:28:26.529325Z",
     "iopub.status.busy": "2020-07-28T13:28:26.528849Z",
     "iopub.status.idle": "2020-07-28T13:28:26.687323Z",
     "shell.execute_reply": "2020-07-28T13:28:26.688442Z"
    },
    "papermill": {
     "duration": 0.208061,
     "end_time": "2020-07-28T13:28:26.688753",
     "exception": false,
     "start_time": "2020-07-28T13:28:26.480692",
     "status": "completed"
    },
    "tags": []
   },
   "outputs": [
    {
     "data": {
      "text/plain": [
       "(13850, 67)"
      ]
     },
     "execution_count": 6,
     "metadata": {},
     "output_type": "execute_result"
    }
   ],
   "source": [
    "# Focus on individual countries rather than regional aggregations.\n",
    "ignore_regional_aggregations = expanded_lockdowns['aggregation']!=expanded_lockdowns['region']\n",
    "expanded_lockdowns = expanded_lockdowns[ignore_regional_aggregations].set_index('aggregation')\n",
    "expanded_lockdowns.shape"
   ]
  },
  {
   "cell_type": "markdown",
   "metadata": {
    "papermill": {
     "duration": 0.016172,
     "end_time": "2020-07-28T13:28:26.725084",
     "exception": false,
     "start_time": "2020-07-28T13:28:26.708912",
     "status": "completed"
    },
    "tags": []
   },
   "source": [
    "# Select the Lockdowns to Use"
   ]
  },
  {
   "cell_type": "code",
   "execution_count": 7,
   "metadata": {
    "execution": {
     "iopub.execute_input": "2020-07-28T13:28:26.799655Z",
     "iopub.status.busy": "2020-07-28T13:28:26.799082Z",
     "iopub.status.idle": "2020-07-28T13:28:26.886128Z",
     "shell.execute_reply": "2020-07-28T13:28:26.884942Z"
    },
    "papermill": {
     "duration": 0.114043,
     "end_time": "2020-07-28T13:28:26.886375",
     "exception": false,
     "start_time": "2020-07-28T13:28:26.772332",
     "status": "completed"
    },
    "tags": []
   },
   "outputs": [
    {
     "data": {
      "text/plain": [
       "(6405, 67)"
      ]
     },
     "execution_count": 7,
     "metadata": {},
     "output_type": "execute_result"
    }
   ],
   "source": [
    "if dataset == 'eu_us':\n",
    "    use_expanded_lockdowns = expanded_lockdowns[(expanded_lockdowns['region'].isin(['eu', 'us']))]\n",
    "    \n",
    "else:\n",
    "    use_expanded_lockdowns = expanded_lockdowns\n",
    "    \n",
    "    \n",
    "use_expanded_lockdowns.shape"
   ]
  },
  {
   "cell_type": "code",
   "execution_count": 8,
   "metadata": {
    "execution": {
     "iopub.execute_input": "2020-07-28T13:28:26.958062Z",
     "iopub.status.busy": "2020-07-28T13:28:26.957620Z",
     "iopub.status.idle": "2020-07-28T13:28:27.166449Z",
     "shell.execute_reply": "2020-07-28T13:28:27.167365Z"
    },
    "papermill": {
     "duration": 0.261756,
     "end_time": "2020-07-28T13:28:27.167644",
     "exception": false,
     "start_time": "2020-07-28T13:28:26.905888",
     "status": "completed"
    },
    "tags": []
   },
   "outputs": [
    {
     "data": {
      "text/plain": [
       "((6405, 67), 0)"
      ]
     },
     "execution_count": 8,
     "metadata": {},
     "output_type": "execute_result"
    }
   ],
   "source": [
    "# TODO: The last two lockdowns for each country are duplicates. Drop one. Need to check why this is the case.\n",
    "use_expanded_lockdowns = use_expanded_lockdowns.drop_duplicates()\n",
    "use_expanded_lockdowns.shape, use_expanded_lockdowns.duplicated().sum()"
   ]
  },
  {
   "cell_type": "markdown",
   "metadata": {
    "papermill": {
     "duration": 0.012897,
     "end_time": "2020-07-28T13:28:27.201526",
     "exception": false,
     "start_time": "2020-07-28T13:28:27.188629",
     "status": "completed"
    },
    "tags": []
   },
   "source": [
    "# Predicting Re-Opening Success"
   ]
  },
  {
   "cell_type": "markdown",
   "metadata": {
    "papermill": {
     "duration": 0.012239,
     "end_time": "2020-07-28T13:28:27.227178",
     "exception": false,
     "start_time": "2020-07-28T13:28:27.214939",
     "status": "completed"
    },
    "tags": []
   },
   "source": [
    "## CV Evaluation"
   ]
  },
  {
   "cell_type": "code",
   "execution_count": 9,
   "metadata": {
    "execution": {
     "iopub.execute_input": "2020-07-28T13:28:27.260155Z",
     "iopub.status.busy": "2020-07-28T13:28:27.259710Z",
     "iopub.status.idle": "2020-07-28T13:28:27.280723Z",
     "shell.execute_reply": "2020-07-28T13:28:27.279974Z"
    },
    "papermill": {
     "duration": 0.039123,
     "end_time": "2020-07-28T13:28:27.280916",
     "exception": false,
     "start_time": "2020-07-28T13:28:27.241793",
     "status": "completed"
    },
    "tags": []
   },
   "outputs": [
    {
     "data": {
      "text/plain": [
       "15"
      ]
     },
     "execution_count": 9,
     "metadata": {},
     "output_type": "execute_result"
    }
   ],
   "source": [
    "use_features = [\n",
    "    'lockdown_min_mobility_level', 'lockdown_mean_mobility_level', \n",
    "\n",
    "    'lockdown_duration_days', \n",
    "    \n",
    "    'lockdown_days_to_peak_cases', 'lockdown_days_from_peak_cases', \n",
    "    'lockdown_entry_level_cases', 'lockdown_exit_level_cases', \n",
    "    'lockdown_peak_value_cases_per_million', 'lockdown_mean_value_cases_per_million',   \n",
    "    \n",
    "    'lockdown_days_to_peak_deaths', 'lockdown_days_from_peak_deaths', \n",
    "    'lockdown_entry_level_deaths', 'lockdown_exit_level_deaths', \n",
    "    'lockdown_peak_value_deaths_per_100k', 'lockdown_mean_value_deaths_per_100k', \n",
    "    \n",
    "]\n",
    "\n",
    "len(use_features)"
   ]
  },
  {
   "cell_type": "markdown",
   "metadata": {
    "papermill": {
     "duration": 0.056826,
     "end_time": "2020-07-28T13:28:27.357559",
     "exception": false,
     "start_time": "2020-07-28T13:28:27.300733",
     "status": "completed"
    },
    "tags": []
   },
   "source": [
    "### Test EU/US Lockdowns\n",
    "We need to pick a fixed number of days after reopening and then we will evaluate classifcation operformance wrt this number of days."
   ]
  },
  {
   "cell_type": "code",
   "execution_count": 10,
   "metadata": {
    "execution": {
     "iopub.execute_input": "2020-07-28T13:28:27.469963Z",
     "iopub.status.busy": "2020-07-28T13:28:27.469040Z",
     "iopub.status.idle": "2020-07-28T13:28:28.987024Z",
     "shell.execute_reply": "2020-07-28T13:28:28.986464Z"
    },
    "papermill": {
     "duration": 1.587414,
     "end_time": "2020-07-28T13:28:28.987156",
     "exception": false,
     "start_time": "2020-07-28T13:28:27.399742",
     "status": "completed"
    },
    "tags": []
   },
   "outputs": [
    {
     "data": {
      "text/plain": [
       "0.7696428571428571"
      ]
     },
     "execution_count": 10,
     "metadata": {},
     "output_type": "execute_result"
    }
   ],
   "source": [
    "rebound_days = 42\n",
    "use_lockdowns_for_days = use_expanded_lockdowns[use_expanded_lockdowns['rebound_duration_days']==rebound_days]\n",
    "\n",
    "X = use_lockdowns_for_days[use_features]\n",
    "\n",
    "y = use_lockdowns_for_days['is_increasing_rebound']\n",
    "\n",
    "scaled_X = pd.DataFrame(preprocessing.scale(X), columns=X.columns, index=X.index)\n",
    "\n",
    "clf = GradientBoostingClassifier()\n",
    "\n",
    "scores = cross_validate(clf, scaled_X, y, scoring='accuracy', cv=10, n_jobs=-1)\n",
    "scores['test_score'].mean()"
   ]
  },
  {
   "cell_type": "markdown",
   "metadata": {
    "papermill": {
     "duration": 0.035129,
     "end_time": "2020-07-28T13:28:29.038114",
     "exception": false,
     "start_time": "2020-07-28T13:28:29.002985",
     "status": "completed"
    },
    "tags": []
   },
   "source": [
    "## Brute-Force Feature Selection Analysis\n",
    "We using the `mlxtend` library to do an exhaustive feature selection alaysis. This takes the form of a simple wrapper that can be used to wrap a CV evaluation for a given classifier."
   ]
  },
  {
   "cell_type": "markdown",
   "metadata": {
    "papermill": {
     "duration": 0.012795,
     "end_time": "2020-07-28T13:28:29.064367",
     "exception": false,
     "start_time": "2020-07-28T13:28:29.051572",
     "status": "completed"
    },
    "tags": []
   },
   "source": [
    "### The Exhaustive Feature Search\n",
    "We use the EFS wrapper to perform a 10-fold CV for all possible combinations of features in `use_features` and we perform this for a range of different rebound days."
   ]
  },
  {
   "cell_type": "code",
   "execution_count": 11,
   "metadata": {
    "execution": {
     "iopub.execute_input": "2020-07-28T13:28:29.120842Z",
     "iopub.status.busy": "2020-07-28T13:28:29.119946Z",
     "iopub.status.idle": "2020-07-28T23:13:10.661387Z",
     "shell.execute_reply": "2020-07-28T23:13:10.655301Z"
    },
    "papermill": {
     "duration": 35081.583993,
     "end_time": "2020-07-28T23:13:10.661791",
     "exception": false,
     "start_time": "2020-07-28T13:28:29.077798",
     "status": "completed"
    },
    "tags": []
   },
   "outputs": [
    {
     "name": "stderr",
     "output_type": "stream",
     "text": [
      "2020-07-28 14:28:29.118 | INFO     | __main__:<module>:1 - Running exhaustive feature search (28 - 85 days. This will take a while ... (~12 hours)\n"
     ]
    }
   ],
   "source": [
    "logger.info('Running exhaustive feature search (%s - %s days. This will take a while ... (~12 hours)' % (from_rebound_days, to_rebound_days))\n",
    "\n",
    "efs_results = []\n",
    "\n",
    "check_rebound_days = range(from_rebound_days, to_rebound_days, 1)\n",
    "\n",
    "for rebound_days in check_rebound_days:\n",
    "    \n",
    "    if rebound_days//10==0:\n",
    "        logger.info('EFS for %s rebound days for %s lockdowns' % (rebound_days, len(use_lockdowns_for_days)))\n",
    "\n",
    "\n",
    "    \n",
    "    # The lockdowns for the number of rebound days.\n",
    "    use_lockdowns_for_days = use_expanded_lockdowns[use_expanded_lockdowns['rebound_duration_days']==rebound_days]\n",
    "\n",
    "    # The feature and target class data\n",
    "    X = use_lockdowns_for_days[use_features]\n",
    "    y = use_lockdowns_for_days['is_increasing_rebound']\n",
    "\n",
    "    scaled_X = pd.DataFrame(preprocessing.scale(X), columns=X.columns, index=X.index)\n",
    "\n",
    "    clf = GradientBoostingClassifier()\n",
    "\n",
    "    efs = EFS(clf, \n",
    "               min_features=1,\n",
    "               max_features=len(use_features),\n",
    "               scoring='accuracy',\n",
    "               print_progress=False,\n",
    "               cv=10, \n",
    "               n_jobs=-1)\n",
    "    \n",
    "    efs = efs.fit(scaled_X, y)\n",
    "    \n",
    "    max_class_prob = max(use_lockdowns_for_days['is_successful_rebound'].mean(), 1-use_lockdowns_for_days['is_successful_rebound'].mean())\n",
    "    \n",
    "    efs_results.append((rebound_days, len(use_lockdowns_for_days), max_class_prob, efs))\n"
   ]
  },
  {
   "cell_type": "markdown",
   "metadata": {
    "papermill": {
     "duration": 0.018702,
     "end_time": "2020-07-28T23:13:10.757675",
     "exception": false,
     "start_time": "2020-07-28T23:13:10.738973",
     "status": "completed"
    },
    "tags": []
   },
   "source": [
    "### The EFS results"
   ]
  },
  {
   "cell_type": "markdown",
   "metadata": {
    "tags": [
     "papermill-error-cell-tag"
    ]
   },
   "source": [
    "<span id=\"papermill-error-cell\" style=\"color:red; font-family:Helvetica Neue, Helvetica, Arial, sans-serif; font-size:2em;\">Execution using papermill encountered an exception here and stopped:</span>"
   ]
  },
  {
   "cell_type": "code",
   "execution_count": 12,
   "metadata": {
    "execution": {
     "iopub.execute_input": "2020-07-28T23:13:10.859146Z",
     "iopub.status.busy": "2020-07-28T23:13:10.858062Z",
     "iopub.status.idle": "2020-07-28T23:13:13.085109Z",
     "shell.execute_reply": "2020-07-28T23:13:13.084002Z"
    },
    "papermill": {
     "duration": 2.308753,
     "end_time": "2020-07-28T23:13:13.085353",
     "exception": true,
     "start_time": "2020-07-28T23:13:10.776600",
     "status": "failed"
    },
    "tags": []
   },
   "outputs": [
    {
     "ename": "NameError",
     "evalue": "name 'efs_df' is not defined",
     "output_type": "error",
     "traceback": [
      "\u001b[0;31m---------------------------------------------------------------------------\u001b[0m",
      "\u001b[0;31mNameError\u001b[0m                                 Traceback (most recent call last)",
      "\u001b[0;32m<ipython-input-12-beb5ecba9c44>\u001b[0m in \u001b[0;36m<module>\u001b[0;34m\u001b[0m\n\u001b[1;32m     28\u001b[0m     \u001b[0;32mreturn\u001b[0m \u001b[0mefs_df\u001b[0m\u001b[0;34m.\u001b[0m\u001b[0msort_values\u001b[0m\u001b[0;34m(\u001b[0m\u001b[0mby\u001b[0m\u001b[0;34m=\u001b[0m\u001b[0;34m[\u001b[0m\u001b[0;34m'rebound_days'\u001b[0m\u001b[0;34m,\u001b[0m \u001b[0;34m'avg_score'\u001b[0m\u001b[0;34m]\u001b[0m\u001b[0;34m,\u001b[0m \u001b[0mascending\u001b[0m\u001b[0;34m=\u001b[0m\u001b[0;32mFalse\u001b[0m\u001b[0;34m)\u001b[0m\u001b[0;34m.\u001b[0m\u001b[0mreset_index\u001b[0m\u001b[0;34m(\u001b[0m\u001b[0;34m)\u001b[0m\u001b[0;34m.\u001b[0m\u001b[0mdrop\u001b[0m\u001b[0;34m(\u001b[0m\u001b[0;34m'index'\u001b[0m\u001b[0;34m,\u001b[0m \u001b[0maxis\u001b[0m\u001b[0;34m=\u001b[0m\u001b[0;34m'columns'\u001b[0m\u001b[0;34m)\u001b[0m\u001b[0;34m\u001b[0m\u001b[0;34m\u001b[0m\u001b[0m\n\u001b[1;32m     29\u001b[0m \u001b[0;34m\u001b[0m\u001b[0m\n\u001b[0;32m---> 30\u001b[0;31m \u001b[0mlogger\u001b[0m\u001b[0;34m.\u001b[0m\u001b[0minfo\u001b[0m\u001b[0;34m(\u001b[0m\u001b[0;34m'Finished with %s results'\u001b[0m \u001b[0;34m%\u001b[0m \u001b[0mlen\u001b[0m\u001b[0;34m(\u001b[0m\u001b[0mefs_df\u001b[0m\u001b[0;34m)\u001b[0m\u001b[0;34m)\u001b[0m\u001b[0;34m\u001b[0m\u001b[0;34m\u001b[0m\u001b[0m\n\u001b[0m",
      "\u001b[0;31mNameError\u001b[0m: name 'efs_df' is not defined"
     ]
    }
   ],
   "source": [
    "def get_efs_results(efs_results):\n",
    "    \n",
    "    # Collect the DFs from the EFS results, adding the rebound days.\n",
    "    efs_dfs = []\n",
    "    for (rebound_days, size, max_class_prob, efs_result) in efs_results:\n",
    "        efs_result_df = pd.DataFrame.from_dict(efs_result.get_metric_dict()).T\n",
    "        efs_result_df['rebound_days'] = rebound_days\n",
    "        efs_result_df['dataset_size'] = size\n",
    "        efs_result_df['max_class_prob'] = max_class_prob\n",
    "        efs_dfs.append(efs_result_df)\n",
    "\n",
    "    # Combine into a single df\n",
    "    efs_df = pd.concat(efs_dfs, ignore_index=True)\n",
    "    \n",
    "    # Add/fix various features\n",
    "    efs_df['n'] = efs_df['feature_names'].map(len)\n",
    "    \n",
    "    efs_df['rank'] = efs_df['avg_score'].rank(ascending=False, pct=True)\n",
    "\n",
    "    # For some reason these cols are of type object which messes with aggregation so change them to floats\n",
    "    # as they should have been in the fitsy place.\n",
    "\n",
    "    efs_df ['avg_score'] = efs_df ['avg_score'].astype(float)\n",
    "    efs_df ['ci_bound'] = efs_df ['ci_bound'].astype(float)\n",
    "    efs_df ['std_dev'] = efs_df ['std_dev'].astype(float)\n",
    "    efs_df ['std_err'] = efs_df ['std_err'].astype(float)\n",
    "\n",
    "    return efs_df.sort_values(by=['rebound_days', 'avg_score'], ascending=False).reset_index().drop('index', axis='columns')\n",
    "\n",
    "logger.info('Finished with %s results' % len(efs_df))"
   ]
  },
  {
   "cell_type": "code",
   "execution_count": null,
   "metadata": {
    "papermill": {
     "duration": null,
     "end_time": null,
     "exception": null,
     "start_time": null,
     "status": "pending"
    },
    "tags": []
   },
   "outputs": [],
   "source": [
    "efs_df = get_efs_results(efs_results)\n",
    "efs_df.head()"
   ]
  },
  {
   "cell_type": "markdown",
   "metadata": {
    "papermill": {
     "duration": null,
     "end_time": null,
     "exception": null,
     "start_time": null,
     "status": "pending"
    },
    "tags": []
   },
   "source": [
    "# Save EFS Data"
   ]
  },
  {
   "cell_type": "code",
   "execution_count": null,
   "metadata": {
    "papermill": {
     "duration": null,
     "end_time": null,
     "exception": null,
     "start_time": null,
     "status": "pending"
    },
    "tags": []
   },
   "outputs": [],
   "source": [
    "logger.info('Saving EFS dataset -> %s' % efs_dataset)\n",
    "\n",
    "efs_df.to_pickle(efs_dataset)\n",
    "efs_df.shape"
   ]
  },
  {
   "cell_type": "code",
   "execution_count": null,
   "metadata": {
    "papermill": {
     "duration": null,
     "end_time": null,
     "exception": null,
     "start_time": null,
     "status": "pending"
    },
    "tags": []
   },
   "outputs": [],
   "source": []
  },
  {
   "cell_type": "code",
   "execution_count": null,
   "metadata": {
    "papermill": {
     "duration": null,
     "end_time": null,
     "exception": null,
     "start_time": null,
     "status": "pending"
    },
    "tags": []
   },
   "outputs": [],
   "source": []
  }
 ],
 "metadata": {
  "kernelspec": {
   "display_name": "COVID-19",
   "language": "python",
   "name": "covid-19"
  },
  "language_info": {
   "codemirror_mode": {
    "name": "ipython",
    "version": 3
   },
   "file_extension": ".py",
   "mimetype": "text/x-python",
   "name": "python",
   "nbconvert_exporter": "python",
   "pygments_lexer": "ipython3",
   "version": "3.7.7"
  },
  "papermill": {
   "duration": 35094.477792,
   "end_time": "2020-07-28T23:13:18.413503",
   "environment_variables": {},
   "exception": true,
   "input_path": "predicting_reopening_success.ipynb",
   "output_path": "output/predicting_reopening_success.ipynb",
   "parameters": {
    "dataset": "eu_us",
    "from_rebound_days": 28,
    "to_rebound_days": 85
   },
   "start_time": "2020-07-28T13:28:23.935711",
   "version": "2.1.2"
  }
 },
 "nbformat": 4,
 "nbformat_minor": 4
}