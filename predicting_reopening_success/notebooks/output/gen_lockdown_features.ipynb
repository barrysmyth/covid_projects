{
 "cells": [
  {
   "cell_type": "markdown",
   "metadata": {
    "papermill": {
     "duration": 0.020844,
     "end_time": "2020-07-28T13:26:27.525035",
     "exception": false,
     "start_time": "2020-07-28T13:26:27.504191",
     "status": "completed"
    },
    "tags": []
   },
   "source": [
    "# Predicting Re-Opening Success"
   ]
  },
  {
   "cell_type": "code",
   "execution_count": 1,
   "metadata": {
    "execution": {
     "iopub.execute_input": "2020-07-28T13:26:27.567023Z",
     "iopub.status.busy": "2020-07-28T13:26:27.565920Z",
     "iopub.status.idle": "2020-07-28T13:26:28.710423Z",
     "shell.execute_reply": "2020-07-28T13:26:28.711150Z"
    },
    "papermill": {
     "duration": 1.172339,
     "end_time": "2020-07-28T13:26:28.711460",
     "exception": false,
     "start_time": "2020-07-28T13:26:27.539121",
     "status": "completed"
    },
    "tags": []
   },
   "outputs": [],
   "source": [
    "import itertools\n",
    "\n",
    "from matplotlib.pylab import plt\n",
    "from matplotlib.ticker import FuncFormatter\n",
    "import matplotlib.colors as mcolors\n",
    "import matplotlib.dates as mdates\n",
    "from matplotlib import pyplot, lines\n",
    "from matplotlib.patches import Patch\n",
    "import matplotlib\n",
    "\n",
    "from sklearn.ensemble import GradientBoostingClassifier\n",
    "from sklearn.model_selection import cross_validate, cross_val_score, cross_val_predict\n",
    "from sklearn.linear_model import LinearRegression\n",
    "from sklearn.neighbors import KNeighborsClassifier\n",
    "from sklearn import preprocessing\n",
    "from sklearn.tree import DecisionTreeClassifier\n",
    "from sklearn.model_selection import LeaveOneOut\n",
    "from sklearn.feature_selection import RFECV\n",
    "\n",
    "from sklearn.metrics import confusion_matrix\n",
    "\n",
    "from mlxtend.feature_selection import ExhaustiveFeatureSelector as EFS\n",
    "\n",
    "\n",
    "\n",
    "from scipy.stats import ttest_ind\n",
    "\n",
    "import researchpy as rpy\n",
    "\n",
    "from loguru import logger\n",
    "\n",
    "\n",
    "\n",
    "import pandas as pd\n",
    "import numpy as np\n",
    "\n",
    "import seaborn as sns\n",
    "\n",
    "import datetime \n",
    "\n",
    "\n",
    "%matplotlib inline"
   ]
  },
  {
   "cell_type": "markdown",
   "metadata": {
    "papermill": {
     "duration": 0.030336,
     "end_time": "2020-07-28T13:26:28.758973",
     "exception": false,
     "start_time": "2020-07-28T13:26:28.728637",
     "status": "completed"
    },
    "tags": []
   },
   "source": [
    "# Parameters"
   ]
  },
  {
   "cell_type": "code",
   "execution_count": 2,
   "metadata": {
    "execution": {
     "iopub.execute_input": "2020-07-28T13:26:28.785963Z",
     "iopub.status.busy": "2020-07-28T13:26:28.785445Z",
     "iopub.status.idle": "2020-07-28T13:26:28.787672Z",
     "shell.execute_reply": "2020-07-28T13:26:28.788120Z"
    },
    "papermill": {
     "duration": 0.017831,
     "end_time": "2020-07-28T13:26:28.788241",
     "exception": false,
     "start_time": "2020-07-28T13:26:28.770410",
     "status": "completed"
    },
    "tags": [
     "parameters"
    ]
   },
   "outputs": [],
   "source": [
    "ctp_peak_model_dataset = '../data/processed/peak_model_ctp_covid.csv'\n",
    "owid_peak_model_dataset = '../data/processed/peak_model_owid_covid.csv'\n",
    "\n",
    "lockdown_dataset = '../data/expanded_lockdowns.pkl'"
   ]
  },
  {
   "cell_type": "markdown",
   "metadata": {
    "papermill": {
     "duration": 0.045656,
     "end_time": "2020-07-28T13:26:28.851376",
     "exception": false,
     "start_time": "2020-07-28T13:26:28.805720",
     "status": "completed"
    },
    "tags": []
   },
   "source": [
    "# Load and Filter the Datasets"
   ]
  },
  {
   "cell_type": "code",
   "execution_count": 3,
   "metadata": {
    "execution": {
     "iopub.execute_input": "2020-07-28T13:26:28.953500Z",
     "iopub.status.busy": "2020-07-28T13:26:28.953071Z",
     "iopub.status.idle": "2020-07-28T13:26:29.049044Z",
     "shell.execute_reply": "2020-07-28T13:26:29.048010Z"
    },
    "papermill": {
     "duration": 0.137946,
     "end_time": "2020-07-28T13:26:29.049269",
     "exception": false,
     "start_time": "2020-07-28T13:26:28.911323",
     "status": "completed"
    },
    "tags": []
   },
   "outputs": [
    {
     "name": "stderr",
     "output_type": "stream",
     "text": [
      "2020-07-28 14:26:29.011 | INFO     | __main__:<module>:1 - Loading CTP peak models @ ../data/processed/peak_model_ctp_covid.csv\n"
     ]
    },
    {
     "data": {
      "text/plain": [
       "((7599, 22),\n",
       " 51,\n",
       " Timestamp('2020-07-27 00:00:00'),\n",
       " Index(['aggregation', 'date', 'google_mobility_level_rolling_mean_stage',\n",
       "        'new_deaths_rolling_mean_stage', 'new_cases_rolling_mean_stage',\n",
       "        'state', 'new_cases', 'new_deaths', 'population',\n",
       "        'google_mobility_level', 'google_mobility_level_by_pop',\n",
       "        'new_cases_rolling_mean', 'new_deaths_rolling_mean',\n",
       "        'google_mobility_level_rolling_mean', 'new_cases_rolling_mean_rel',\n",
       "        'new_deaths_rolling_mean_rel', 'google_mobility_level_rolling_mean_rel',\n",
       "        'new_cases_rolling_mean_stage_day', 'new_deaths_rolling_mean_stage_day',\n",
       "        'google_mobility_level_rolling_mean_stage_day',\n",
       "        'new_cases_rolling_mean_cummax', 'region'],\n",
       "       dtype='object'))"
      ]
     },
     "execution_count": 3,
     "metadata": {},
     "output_type": "execute_result"
    }
   ],
   "source": [
    "logger.info('Loading CTP peak models @ %s' % ctp_peak_model_dataset)\n",
    "\n",
    "ctp = pd.read_csv(ctp_peak_model_dataset, parse_dates=['date'], low_memory=False)\n",
    "\n",
    "ctp['region'] = 'us'\n",
    "\n",
    "ctp.shape, ctp.state.nunique(), ctp['date'].max(), ctp.columns"
   ]
  },
  {
   "cell_type": "code",
   "execution_count": 4,
   "metadata": {
    "execution": {
     "iopub.execute_input": "2020-07-28T13:26:29.118346Z",
     "iopub.status.busy": "2020-07-28T13:26:29.117822Z",
     "iopub.status.idle": "2020-07-28T13:26:29.377107Z",
     "shell.execute_reply": "2020-07-28T13:26:29.378047Z"
    },
    "papermill": {
     "duration": 0.309139,
     "end_time": "2020-07-28T13:26:29.378316",
     "exception": false,
     "start_time": "2020-07-28T13:26:29.069177",
     "status": "completed"
    },
    "tags": []
   },
   "outputs": [
    {
     "name": "stderr",
     "output_type": "stream",
     "text": [
      "2020-07-28 14:26:29.190 | INFO     | __main__:<module>:1 - Loading OWID peak models @ ../data/processed/peak_model_ctp_covid.csv\n"
     ]
    },
    {
     "data": {
      "text/plain": [
       "((38133, 25),\n",
       " 207,\n",
       " Timestamp('2020-07-28 00:00:00'),\n",
       " Index(['aggregation', 'date', 'google_mobility_level_rolling_mean_stage',\n",
       "        'new_deaths_rolling_mean_stage', 'new_cases_rolling_mean_stage',\n",
       "        'country_id', 'state', 'country_code', 'continent', 'region',\n",
       "        'new_cases', 'new_deaths', 'population', 'google_mobility_level',\n",
       "        'google_mobility_level_by_pop', 'new_cases_rolling_mean',\n",
       "        'new_deaths_rolling_mean', 'google_mobility_level_rolling_mean',\n",
       "        'new_cases_rolling_mean_rel', 'new_deaths_rolling_mean_rel',\n",
       "        'google_mobility_level_rolling_mean_rel',\n",
       "        'new_cases_rolling_mean_stage_day', 'new_deaths_rolling_mean_stage_day',\n",
       "        'google_mobility_level_rolling_mean_stage_day',\n",
       "        'new_cases_rolling_mean_cummax'],\n",
       "       dtype='object'))"
      ]
     },
     "execution_count": 4,
     "metadata": {},
     "output_type": "execute_result"
    }
   ],
   "source": [
    "logger.info('Loading OWID peak models @ %s' % ctp_peak_model_dataset)\n",
    "\n",
    "owid = pd.read_csv(owid_peak_model_dataset, parse_dates=['date']).rename(columns={'country':'state'})\n",
    "\n",
    "owid.shape, owid.state.nunique(), owid.date.max(), owid.columns"
   ]
  },
  {
   "cell_type": "code",
   "execution_count": 5,
   "metadata": {
    "execution": {
     "iopub.execute_input": "2020-07-28T13:26:29.439402Z",
     "iopub.status.busy": "2020-07-28T13:26:29.438945Z",
     "iopub.status.idle": "2020-07-28T13:26:29.589696Z",
     "shell.execute_reply": "2020-07-28T13:26:29.590506Z"
    },
    "papermill": {
     "duration": 0.194598,
     "end_time": "2020-07-28T13:26:29.590795",
     "exception": false,
     "start_time": "2020-07-28T13:26:29.396197",
     "status": "completed"
    },
    "tags": []
   },
   "outputs": [],
   "source": [
    "# with_country_codes = owid['country_code'].notnull()\n",
    "# owid_with_country_codes = owid[with_country_codes]\n",
    "\n",
    "# owid_with_country_codes.shape, owid_with_country_codes['state'].nunique()"
   ]
  },
  {
   "cell_type": "markdown",
   "metadata": {
    "papermill": {
     "duration": 0.012985,
     "end_time": "2020-07-28T13:26:29.622991",
     "exception": false,
     "start_time": "2020-07-28T13:26:29.610006",
     "status": "completed"
    },
    "tags": []
   },
   "source": [
    "## Combine Countries and US Datasets"
   ]
  },
  {
   "cell_type": "code",
   "execution_count": 6,
   "metadata": {
    "execution": {
     "iopub.execute_input": "2020-07-28T13:26:29.683870Z",
     "iopub.status.busy": "2020-07-28T13:26:29.683401Z",
     "iopub.status.idle": "2020-07-28T13:26:30.522676Z",
     "shell.execute_reply": "2020-07-28T13:26:30.523854Z"
    },
    "papermill": {
     "duration": 0.866493,
     "end_time": "2020-07-28T13:26:30.524183",
     "exception": false,
     "start_time": "2020-07-28T13:26:29.657690",
     "status": "completed"
    },
    "tags": []
   },
   "outputs": [
    {
     "data": {
      "text/plain": [
       "((45732, 25), 258, 287)"
      ]
     },
     "execution_count": 6,
     "metadata": {},
     "output_type": "execute_result"
    }
   ],
   "source": [
    "# Rename country as state and combine.\n",
    "df = pd.concat([owid.rename(columns={'country': 'state'}), ctp], ignore_index=True, sort=False).sort_values(by=['state', 'date'])\n",
    "df.shape, df.state.nunique(), df.aggregation.nunique()"
   ]
  },
  {
   "cell_type": "markdown",
   "metadata": {
    "papermill": {
     "duration": 0.013323,
     "end_time": "2020-07-28T13:26:30.557096",
     "exception": false,
     "start_time": "2020-07-28T13:26:30.543773",
     "status": "completed"
    },
    "tags": []
   },
   "source": [
    "## Eliminate aggregations without mobility data"
   ]
  },
  {
   "cell_type": "code",
   "execution_count": 7,
   "metadata": {
    "execution": {
     "iopub.execute_input": "2020-07-28T13:26:30.606176Z",
     "iopub.status.busy": "2020-07-28T13:26:30.605371Z",
     "iopub.status.idle": "2020-07-28T13:26:30.680713Z",
     "shell.execute_reply": "2020-07-28T13:26:30.681668Z"
    },
    "papermill": {
     "duration": 0.097542,
     "end_time": "2020-07-28T13:26:30.681933",
     "exception": false,
     "start_time": "2020-07-28T13:26:30.584391",
     "status": "completed"
    },
    "tags": []
   },
   "outputs": [
    {
     "data": {
      "text/plain": [
       "((35418, 25), 183)"
      ]
     },
     "execution_count": 7,
     "metadata": {},
     "output_type": "execute_result"
    }
   ],
   "source": [
    "with_mobility_data = df.groupby('aggregation').apply(lambda g: g['google_mobility_level_rolling_mean'].any())\n",
    "\n",
    "df = df[df['aggregation'].isin(with_mobility_data[with_mobility_data].index)]\n",
    "\n",
    "df.shape, df['state'].nunique()"
   ]
  },
  {
   "cell_type": "markdown",
   "metadata": {
    "papermill": {
     "duration": 0.054797,
     "end_time": "2020-07-28T13:26:30.757138",
     "exception": false,
     "start_time": "2020-07-28T13:26:30.702341",
     "status": "completed"
    },
    "tags": []
   },
   "source": [
    "## Focus on country/state level"
   ]
  },
  {
   "cell_type": "code",
   "execution_count": 8,
   "metadata": {
    "execution": {
     "iopub.execute_input": "2020-07-28T13:26:30.794931Z",
     "iopub.status.busy": "2020-07-28T13:26:30.794445Z",
     "iopub.status.idle": "2020-07-28T13:26:30.797374Z",
     "shell.execute_reply": "2020-07-28T13:26:30.797742Z"
    },
    "papermill": {
     "duration": 0.021072,
     "end_time": "2020-07-28T13:26:30.797870",
     "exception": false,
     "start_time": "2020-07-28T13:26:30.776798",
     "status": "completed"
    },
    "tags": []
   },
   "outputs": [],
   "source": [
    "# df = df[df['aggregation']!=df['region']]\n",
    "# df.shape, df['state'].nunique()"
   ]
  },
  {
   "cell_type": "markdown",
   "metadata": {
    "papermill": {
     "duration": 0.030778,
     "end_time": "2020-07-28T13:26:30.844098",
     "exception": false,
     "start_time": "2020-07-28T13:26:30.813320",
     "status": "completed"
    },
    "tags": []
   },
   "source": [
    "# Lockdown Features\n",
    "The key lockdown features include the following mobility and case/death related features.\n",
    "\n",
    "\n",
    "Mobility related features:\n",
    "* lockdown_start_date\n",
    "* rebound_start_date\n",
    "\n",
    "* lockdown_min_mobility_date\n",
    "* lockdown_min_mobility_level\n",
    "\n",
    "* lockdown_mean_mobility_level\n",
    "* rebound_mean_mobility_level\n",
    "\n",
    "Cases/Deaths related features:\n",
    "* lockdown_entry_level_cases\n",
    "* lockdown_exit_level_cases\n",
    "\n",
    "* lockdown_peak_date_cases\n",
    "* lockdown_peak_value_cases\n",
    "* lockdown_peak_level_cases\n",
    "\n",
    "* overall_peak_date_cases\n",
    "* overall_peak_value_cases\n",
    "\n",
    "\n"
   ]
  },
  {
   "cell_type": "code",
   "execution_count": 9,
   "metadata": {
    "execution": {
     "iopub.execute_input": "2020-07-28T13:26:30.883832Z",
     "iopub.status.busy": "2020-07-28T13:26:30.883363Z",
     "iopub.status.idle": "2020-07-28T13:26:30.981994Z",
     "shell.execute_reply": "2020-07-28T13:26:30.982719Z"
    },
    "papermill": {
     "duration": 0.11698,
     "end_time": "2020-07-28T13:26:30.982982",
     "exception": false,
     "start_time": "2020-07-28T13:26:30.866002",
     "status": "completed"
    },
    "tags": []
   },
   "outputs": [],
   "source": [
    "df = df.sort_values(by='date')"
   ]
  },
  {
   "cell_type": "markdown",
   "metadata": {
    "papermill": {
     "duration": 0.040086,
     "end_time": "2020-07-28T13:26:31.042947",
     "exception": false,
     "start_time": "2020-07-28T13:26:31.002861",
     "status": "completed"
    },
    "tags": []
   },
   "source": [
    "## Extracting the basic features "
   ]
  },
  {
   "cell_type": "code",
   "execution_count": 10,
   "metadata": {
    "execution": {
     "iopub.execute_input": "2020-07-28T13:26:31.181923Z",
     "iopub.status.busy": "2020-07-28T13:26:31.181052Z",
     "iopub.status.idle": "2020-07-28T13:26:31.183426Z",
     "shell.execute_reply": "2020-07-28T13:26:31.184045Z"
    },
    "papermill": {
     "duration": 0.039057,
     "end_time": "2020-07-28T13:26:31.184277",
     "exception": false,
     "start_time": "2020-07-28T13:26:31.145220",
     "status": "completed"
    },
    "tags": []
   },
   "outputs": [],
   "source": [
    "def extract_lockdown_features(location, region, population, cases_data, deaths_data, mobility_data, mobility_stages):\n",
    "    \"\"\"Extract a full set of lockdown and rebound features for a given state/country/aggregation\n",
    "    and return as a series.\"\"\"\n",
    "    \n",
    "    # Total cases and deaths\n",
    "    total_cases = cases_data.sum()\n",
    "    total_deaths = deaths_data.sum()\n",
    "    cfr = total_deaths/total_cases\n",
    "    \n",
    "    # The overall start/end dates for which we have case data\n",
    "    overall_start_date = cases_data[cases_data>0].index[0]\n",
    "    overall_end_date = cases_data.index[-1]\n",
    "    \n",
    "    # Current mobility/growth levels\n",
    "    current_mobility_level = mobility_data.dropna().iloc[-1]\n",
    "    current_value_cases = cases_data.dropna().iloc[-1]\n",
    "    current_value_deaths = deaths_data.dropna().iloc[-1]\n",
    "\n",
    "    # Mobility features\n",
    "    lockdown_start_date = mobility_stages[mobility_stages=='D'].index[0]  # First day of the Drop\n",
    "    rebound_start_date = mobility_stages[mobility_stages=='B'].index[0]   # First day of the Bounce\n",
    "        \n",
    "    \n",
    "    lockdown_duration_days = (rebound_start_date-lockdown_start_date).days\n",
    "    rebound_duration_days = (overall_end_date-rebound_start_date).days\n",
    "\n",
    "    # Mobility during lockdown\n",
    "    lockdown_mobility = mobility_data.loc[lockdown_start_date:rebound_start_date]\n",
    "    lockdown_min_mobility_date = lockdown_mobility.idxmin()\n",
    "    lockdown_min_mobility_level = lockdown_mobility.min()\n",
    "    lockdown_mean_mobility_level = lockdown_mobility.mean()\n",
    "\n",
    "    # Mobility during rebound\n",
    "    rebound_mobility = mobility_data.loc[rebound_start_date:]\n",
    "    rebound_min_mobility_date = rebound_mobility.idxmin()\n",
    "    rebound_min_mobility_level = rebound_mobility.min()\n",
    "    rebound_mean_mobility_level = rebound_mobility.mean()\n",
    "\n",
    "    \n",
    "    # Cases/Deaths\n",
    "\n",
    "    # Overall features\n",
    "    overall_peak_date_cases = cases_data.idxmax()\n",
    "    overall_peak_value_cases = cases_data.max()\n",
    "\n",
    "    overall_peak_date_deaths = deaths_data.idxmax()\n",
    "    overall_peak_value_deaths = deaths_data.max()\n",
    "\n",
    "    # Lockown features - cases; note levels measure wrt overall peak\n",
    "    lockdown_cases = cases_data.loc[lockdown_start_date:rebound_start_date]\n",
    "    \n",
    "    lockdown_peak_date_cases = lockdown_cases.idxmax()\n",
    "    lockdown_peak_value_cases = lockdown_cases.max()\n",
    "    lockdown_peak_level_cases = lockdown_peak_value_cases/overall_peak_value_cases\n",
    "    \n",
    "    lockdown_mean_value_cases = lockdown_cases.mean()\n",
    "    lockdown_mean_level_cases = lockdown_mean_value_cases/overall_peak_value_cases\n",
    "\n",
    "    # Lockdown features - deaths; note levels measure wrt overall peak\n",
    "    lockdown_deaths = deaths_data.loc[lockdown_start_date:rebound_start_date]\n",
    "    \n",
    "    lockdown_peak_date_deaths = lockdown_deaths.idxmax()\n",
    "    lockdown_peak_value_deaths = lockdown_deaths.max()\n",
    "    lockdown_peak_level_deaths = lockdown_peak_value_deaths/overall_peak_value_deaths\n",
    "    \n",
    "    lockdown_mean_value_deaths = lockdown_deaths.mean()\n",
    "    lockdown_mean_level_deaths = lockdown_mean_value_deaths/overall_peak_value_deaths\n",
    "    \n",
    "    # Days to/from lockdown peak\n",
    "    lockdown_days_to_peak_cases = (lockdown_peak_date_cases-lockdown_start_date).days\n",
    "    lockdown_days_to_peak_deaths = (lockdown_peak_date_deaths-lockdown_start_date).days\n",
    "\n",
    "    lockdown_days_from_peak_cases = (rebound_start_date-lockdown_peak_date_cases).days\n",
    "    lockdown_days_from_peak_deaths = (rebound_start_date-lockdown_peak_date_deaths).days\n",
    "\n",
    "    \n",
    "    # Entry/Exit Features\n",
    "    # Note the entry/exit levels are wrt the lockdown peak values\n",
    "    lockdown_entry_value_cases = cases_data.loc[lockdown_start_date]\n",
    "    lockdown_entry_level_cases = lockdown_entry_value_cases/lockdown_peak_value_cases\n",
    "    \n",
    "    lockdown_entry_value_deaths = cases_data.loc[lockdown_start_date]\n",
    "    lockdown_entry_level_deaths = lockdown_entry_value_deaths/lockdown_peak_value_deaths\n",
    "\n",
    "    lockdown_exit_value_cases = cases_data.loc[rebound_start_date]\n",
    "    lockdown_exit_level_cases = lockdown_exit_value_cases/lockdown_peak_value_cases\n",
    "    \n",
    "    lockdown_exit_value_deaths = deaths_data.loc[rebound_start_date]\n",
    "    lockdown_exit_level_deaths = lockdown_exit_value_deaths/lockdown_peak_value_deaths\n",
    "    \n",
    "    lockdown_entry_exit_ratio_cases = lockdown_exit_value_cases/lockdown_entry_value_cases\n",
    "    lockdown_entry_exit_ratio_deaths = lockdown_exit_value_deaths/lockdown_entry_value_deaths\n",
    "\n",
    "    \n",
    "    \n",
    "    # Cases/deaths during rebound\n",
    "    rebound_cases = cases_data[rebound_start_date:]\n",
    "    rebound_deaths = deaths_data[rebound_start_date:]\n",
    "    \n",
    "    rebound_mean_value_cases = rebound_cases.mean()\n",
    "    rebound_mean_level_cases = rebound_mean_value_cases/overall_peak_value_cases\n",
    "    \n",
    "    rebound_mean_value_deaths = rebound_deaths.mean()\n",
    "    rebound_mean_level_deaths = rebound_mean_value_deaths/overall_peak_value_deaths\n",
    "    \n",
    "    return pd.Series(dict(\n",
    "        \n",
    "        location=location,\n",
    "        region=region,\n",
    "        population=population, \n",
    "        \n",
    "        total_cases=total_cases,\n",
    "        total_deaths=total_deaths,\n",
    "        cfr=cfr,\n",
    "\n",
    "        \n",
    "        overall_start_date=overall_start_date,\n",
    "        overall_end_date=overall_end_date,\n",
    "        \n",
    "        current_mobility_level=current_mobility_level,\n",
    "        current_value_cases=current_value_cases,\n",
    "        current_value_deaths=current_value_deaths,\n",
    "        \n",
    "        lockdown_start_date=lockdown_start_date,\n",
    "        rebound_start_date=rebound_start_date,\n",
    "        \n",
    "        lockdown_duration_days=lockdown_duration_days,\n",
    "        rebound_duration_days=rebound_duration_days,\n",
    "        \n",
    "        lockdown_min_mobility_date=lockdown_min_mobility_date,\n",
    "        lockdown_min_mobility_level=lockdown_min_mobility_level,\n",
    "        lockdown_mean_mobility_level=lockdown_mean_mobility_level,\n",
    "\n",
    "        rebound_min_mobility_date=rebound_min_mobility_date,\n",
    "        rebound_min_mobility_level=rebound_min_mobility_level,\n",
    "        rebound_mean_mobility_level=rebound_mean_mobility_level,\n",
    "        \n",
    "        overall_peak_date_cases=overall_peak_date_cases,\n",
    "        overall_peak_value_cases=overall_peak_value_cases,\n",
    "        overall_peak_date_deaths=overall_peak_date_deaths,\n",
    "        overall_peak_value_deaths=overall_peak_value_deaths,\n",
    "        \n",
    "        lockdown_days_to_peak_cases=lockdown_days_to_peak_cases,\n",
    "        lockdown_days_to_peak_deaths=lockdown_days_to_peak_deaths,\n",
    "        lockdown_days_from_peak_cases=lockdown_days_from_peak_cases,\n",
    "        lockdown_days_from_peak_deaths=lockdown_days_from_peak_deaths,\n",
    "        \n",
    "        lockdown_entry_value_cases=lockdown_entry_value_cases,\n",
    "        lockdown_exit_value_cases=lockdown_exit_value_cases,\n",
    "        lockdown_entry_value_deaths=lockdown_entry_value_deaths,\n",
    "        lockdown_exit_value_deaths=lockdown_exit_value_deaths,\n",
    "        \n",
    "        lockdown_entry_level_cases=lockdown_entry_level_cases,\n",
    "        lockdown_entry_level_deaths=lockdown_entry_level_deaths,\n",
    "        lockdown_exit_level_cases=lockdown_exit_level_cases,\n",
    "        lockdown_exit_level_deaths=lockdown_exit_level_deaths,\n",
    "        \n",
    "        lockdown_entry_exit_ratio_cases=lockdown_entry_exit_ratio_cases,\n",
    "        lockdown_entry_exit_ratio_deaths=lockdown_entry_exit_ratio_deaths,\n",
    "\n",
    "        lockdown_peak_date_cases=lockdown_peak_date_cases,\n",
    "        lockdown_peak_value_cases=lockdown_peak_value_cases,\n",
    "        lockdown_peak_level_cases=lockdown_peak_level_cases,\n",
    "\n",
    "        lockdown_peak_date_deaths=lockdown_peak_date_deaths,\n",
    "        lockdown_peak_value_deaths=lockdown_peak_value_deaths,\n",
    "        lockdown_peak_level_deaths=lockdown_peak_level_deaths,\n",
    "        \n",
    "        lockdown_mean_value_cases=lockdown_mean_value_cases,\n",
    "        lockdown_mean_level_cases=lockdown_mean_level_cases,\n",
    "        \n",
    "        lockdown_mean_value_deaths=lockdown_mean_value_deaths,\n",
    "        lockdown_mean_level_deaths=lockdown_mean_level_deaths,\n",
    "        \n",
    "        rebound_mean_value_cases=rebound_mean_value_cases,\n",
    "        rebound_mean_level_cases=rebound_mean_level_cases,\n",
    "        rebound_mean_value_deaths=rebound_mean_value_deaths,\n",
    "        rebound_mean_level_deaths=rebound_mean_level_deaths,\n",
    "    )).fillna(0)\n",
    "\n"
   ]
  },
  {
   "cell_type": "markdown",
   "metadata": {
    "papermill": {
     "duration": 0.032419,
     "end_time": "2020-07-28T13:26:31.234849",
     "exception": false,
     "start_time": "2020-07-28T13:26:31.202430",
     "status": "completed"
    },
    "tags": []
   },
   "source": [
    "## Additional Derived Features"
   ]
  },
  {
   "cell_type": "code",
   "execution_count": 11,
   "metadata": {
    "execution": {
     "iopub.execute_input": "2020-07-28T13:26:31.294709Z",
     "iopub.status.busy": "2020-07-28T13:26:31.294273Z",
     "iopub.status.idle": "2020-07-28T13:26:31.516867Z",
     "shell.execute_reply": "2020-07-28T13:26:31.517639Z"
    },
    "papermill": {
     "duration": 0.258829,
     "end_time": "2020-07-28T13:26:31.517925",
     "exception": false,
     "start_time": "2020-07-28T13:26:31.259096",
     "status": "completed"
    },
    "tags": []
   },
   "outputs": [],
   "source": [
    "def gen_derived_features(lockdowns):\n",
    "\n",
    "    lockdowns['lockdown_mean_value_cases_per_million'] = 1000000*lockdowns['lockdown_mean_value_cases']/lockdowns['population']\n",
    "    lockdowns['lockdown_peak_value_cases_per_million'] = 1000000*lockdowns['lockdown_peak_value_cases']/lockdowns['population']\n",
    "\n",
    "    lockdowns['lockdown_mean_value_deaths_per_100k'] = 10000000*lockdowns['lockdown_mean_value_deaths']/lockdowns['population']\n",
    "    lockdowns['lockdown_peak_value_deaths_per_100k'] = 10000000*lockdowns['lockdown_peak_value_deaths']/lockdowns['population']\n",
    "\n",
    "    lockdowns['rebound_mean_value_cases_per_million'] = 1000000*lockdowns['rebound_mean_value_cases']/lockdowns['population']\n",
    "    lockdowns['rebound_mean_value_deaths_per_100k'] = 10000000*lockdowns['rebound_mean_value_deaths']/lockdowns['population']\n",
    "\n",
    "    lockdowns['rebound_ratio_cases'] = lockdowns['rebound_mean_value_cases']/lockdowns['lockdown_mean_value_cases']\n",
    "    lockdowns['rebound_ratio_deaths'] = lockdowns['rebound_mean_value_deaths']/lockdowns['lockdown_mean_value_deaths']\n",
    "    lockdowns['rebound_ratio_mobility_level'] = lockdowns['rebound_mean_mobility_level']/lockdowns['lockdown_mean_mobility_level']\n",
    "\n",
    "    lockdowns['is_increasing_rebound'] = lockdowns['rebound_ratio_cases']>1\n",
    "\n",
    "    strong_threshold, conservative_threshold = lockdowns['lockdown_mean_mobility_level'].median(), lockdowns['rebound_mean_mobility_level'].median()\n",
    "    lockdowns['is_strong_lockdown'] = lockdowns['lockdown_mean_mobility_level'] < strong_threshold\n",
    "    lockdowns['is_conservative_rebound'] = lockdowns['rebound_mean_mobility_level'] < conservative_threshold\n",
    "\n",
    "    lockdowns['is_successful_rebound'] = lockdowns['rebound_ratio_cases']<1\n",
    "\n",
    "    lockdowns['is_successful_rebound_deaths'] = lockdowns['rebound_ratio_deaths']<1\n",
    "\n",
    "    lockdowns = lockdowns.replace(np.inf, np.nan)\n",
    "    lockdowns = lockdowns.dropna()\n",
    "    \n",
    "    return lockdowns"
   ]
  },
  {
   "cell_type": "markdown",
   "metadata": {
    "papermill": {
     "duration": 0.030775,
     "end_time": "2020-07-28T13:26:31.575250",
     "exception": false,
     "start_time": "2020-07-28T13:26:31.544475",
     "status": "completed"
    },
    "tags": []
   },
   "source": [
    "## Gen the lockdown df"
   ]
  },
  {
   "cell_type": "code",
   "execution_count": 12,
   "metadata": {
    "execution": {
     "iopub.execute_input": "2020-07-28T13:26:31.751949Z",
     "iopub.status.busy": "2020-07-28T13:26:31.751098Z",
     "iopub.status.idle": "2020-07-28T13:26:31.878611Z",
     "shell.execute_reply": "2020-07-28T13:26:31.879399Z"
    },
    "papermill": {
     "duration": 0.18356,
     "end_time": "2020-07-28T13:26:31.879692",
     "exception": false,
     "start_time": "2020-07-28T13:26:31.696132",
     "status": "completed"
    },
    "tags": []
   },
   "outputs": [],
   "source": [
    "def gen_lockdowns(df, to_date=datetime.datetime.today()):\n",
    "    \n",
    "    # Focus on data only up to the to_date\n",
    "    up_to_date = df['date']<=to_date\n",
    "    df = df[up_to_date]\n",
    "    \n",
    "    # Focus on states that have D, H, B stages\n",
    "    valid_lockdowns = df.groupby('aggregation').apply(\n",
    "        lambda g: set(['D', 'H', 'B']).difference(set(g['google_mobility_level_rolling_mean_stage'].unique())) == set())\n",
    "    valid_lockdowns = valid_lockdowns[valid_lockdowns].index\n",
    "\n",
    "    rebounding = df['aggregation'].isin(valid_lockdowns)\n",
    "\n",
    "    # The basic features\n",
    "    lockdowns = df[rebounding].set_index('date').groupby('aggregation').apply(\n",
    "        lambda g: extract_lockdown_features(\n",
    "            g.name, g['region'].unique()[0], g['population'].max(),\n",
    "            g['new_cases_rolling_mean'], g['new_deaths_rolling_mean'],\n",
    "            g['google_mobility_level_rolling_mean_rel'], g['google_mobility_level_rolling_mean_stage'],\n",
    "        )\n",
    "    )\n",
    "    \n",
    "    # The additional features\n",
    "    lockdowns = gen_derived_features(lockdowns)\n",
    "        \n",
    "    return lockdowns\n",
    "    "
   ]
  },
  {
   "cell_type": "code",
   "execution_count": 13,
   "metadata": {
    "execution": {
     "iopub.execute_input": "2020-07-28T13:26:31.962548Z",
     "iopub.status.busy": "2020-07-28T13:26:31.961952Z",
     "iopub.status.idle": "2020-07-28T13:26:32.147216Z",
     "shell.execute_reply": "2020-07-28T13:26:32.148083Z"
    },
    "papermill": {
     "duration": 0.242869,
     "end_time": "2020-07-28T13:26:32.148379",
     "exception": false,
     "start_time": "2020-07-28T13:26:31.905510",
     "status": "completed"
    },
    "tags": []
   },
   "outputs": [],
   "source": [
    "# Generate a new lockdown dataframe for each date and combine to produce a single large extanded lockdown dataframe\n",
    "def expand_lockdowns(df, from_date, to_date):\n",
    "    num_days = (to_date-from_date).days\n",
    "    return pd.concat([gen_lockdowns(df, to_date=from_date+datetime.timedelta(days=days)) for days in range(num_days)])\n"
   ]
  },
  {
   "cell_type": "code",
   "execution_count": 14,
   "metadata": {
    "execution": {
     "iopub.execute_input": "2020-07-28T13:26:32.213111Z",
     "iopub.status.busy": "2020-07-28T13:26:32.212517Z",
     "iopub.status.idle": "2020-07-28T13:28:21.879029Z",
     "shell.execute_reply": "2020-07-28T13:28:21.879589Z"
    },
    "papermill": {
     "duration": 109.704744,
     "end_time": "2020-07-28T13:28:21.879745",
     "exception": false,
     "start_time": "2020-07-28T13:26:32.175001",
     "status": "completed"
    },
    "tags": []
   },
   "outputs": [
    {
     "name": "stderr",
     "output_type": "stream",
     "text": [
      "/home/barry/anaconda3/envs/covid-19/lib/python3.7/site-packages/ipykernel_launcher.py:64: RuntimeWarning: invalid value encountered in double_scalars\n",
      "/home/barry/anaconda3/envs/covid-19/lib/python3.7/site-packages/ipykernel_launcher.py:67: RuntimeWarning: invalid value encountered in double_scalars\n",
      "/home/barry/anaconda3/envs/covid-19/lib/python3.7/site-packages/ipykernel_launcher.py:83: RuntimeWarning: divide by zero encountered in double_scalars\n",
      "/home/barry/anaconda3/envs/covid-19/lib/python3.7/site-packages/ipykernel_launcher.py:89: RuntimeWarning: invalid value encountered in double_scalars\n",
      "/home/barry/anaconda3/envs/covid-19/lib/python3.7/site-packages/ipykernel_launcher.py:104: RuntimeWarning: invalid value encountered in double_scalars\n"
     ]
    },
    {
     "name": "stderr",
     "output_type": "stream",
     "text": [
      "/home/barry/anaconda3/envs/covid-19/lib/python3.7/site-packages/ipykernel_launcher.py:91: RuntimeWarning: divide by zero encountered in double_scalars\n",
      "/home/barry/anaconda3/envs/covid-19/lib/python3.7/site-packages/ipykernel_launcher.py:92: RuntimeWarning: divide by zero encountered in double_scalars\n"
     ]
    },
    {
     "name": "stderr",
     "output_type": "stream",
     "text": [
      "/home/barry/anaconda3/envs/covid-19/lib/python3.7/site-packages/ipykernel_launcher.py:92: RuntimeWarning: invalid value encountered in double_scalars\n"
     ]
    },
    {
     "data": {
      "text/plain": [
       "(15534, 67)"
      ]
     },
     "execution_count": 14,
     "metadata": {},
     "output_type": "execute_result"
    }
   ],
   "source": [
    "today = datetime.datetime.today()\n",
    "from_date = today - datetime.timedelta(weeks=12)\n",
    " \n",
    "expanded_lockdowns = expand_lockdowns(df, from_date, today)\n",
    "expanded_lockdowns.shape"
   ]
  },
  {
   "cell_type": "markdown",
   "metadata": {
    "papermill": {
     "duration": 0.016216,
     "end_time": "2020-07-28T13:28:21.932295",
     "exception": false,
     "start_time": "2020-07-28T13:28:21.916079",
     "status": "completed"
    },
    "tags": []
   },
   "source": [
    "# Save Lockdown Data"
   ]
  },
  {
   "cell_type": "code",
   "execution_count": 15,
   "metadata": {
    "execution": {
     "iopub.execute_input": "2020-07-28T13:28:22.042840Z",
     "iopub.status.busy": "2020-07-28T13:28:22.042314Z",
     "iopub.status.idle": "2020-07-28T13:28:22.046770Z",
     "shell.execute_reply": "2020-07-28T13:28:22.046264Z"
    },
    "papermill": {
     "duration": 0.067362,
     "end_time": "2020-07-28T13:28:22.046881",
     "exception": false,
     "start_time": "2020-07-28T13:28:21.979519",
     "status": "completed"
    },
    "tags": []
   },
   "outputs": [
    {
     "name": "stderr",
     "output_type": "stream",
     "text": [
      "2020-07-28 14:28:22.040 | INFO     | __main__:<module>:1 - Saving expanded lockdown data -> ../data/expanded_lockdowns.pkl\n"
     ]
    }
   ],
   "source": [
    "logger.info('Saving expanded lockdown data -> %s' % lockdown_dataset)"
   ]
  },
  {
   "cell_type": "code",
   "execution_count": 16,
   "metadata": {
    "execution": {
     "iopub.execute_input": "2020-07-28T13:28:22.119372Z",
     "iopub.status.busy": "2020-07-28T13:28:22.118904Z",
     "iopub.status.idle": "2020-07-28T13:28:22.422374Z",
     "shell.execute_reply": "2020-07-28T13:28:22.423413Z"
    },
    "papermill": {
     "duration": 0.358951,
     "end_time": "2020-07-28T13:28:22.423694",
     "exception": false,
     "start_time": "2020-07-28T13:28:22.064743",
     "status": "completed"
    },
    "tags": []
   },
   "outputs": [
    {
     "data": {
      "text/plain": [
       "(15534, 68)"
      ]
     },
     "execution_count": 16,
     "metadata": {},
     "output_type": "execute_result"
    }
   ],
   "source": [
    "expanded_lockdowns.reset_index().to_pickle(lockdown_dataset)\n",
    "expanded_lockdowns.reset_index().shape"
   ]
  },
  {
   "cell_type": "code",
   "execution_count": 17,
   "metadata": {
    "execution": {
     "iopub.execute_input": "2020-07-28T13:28:22.502809Z",
     "iopub.status.busy": "2020-07-28T13:28:22.502370Z",
     "iopub.status.idle": "2020-07-28T13:28:22.763345Z",
     "shell.execute_reply": "2020-07-28T13:28:22.764540Z"
    },
    "papermill": {
     "duration": 0.316564,
     "end_time": "2020-07-28T13:28:22.764870",
     "exception": false,
     "start_time": "2020-07-28T13:28:22.448306",
     "status": "completed"
    },
    "tags": []
   },
   "outputs": [
    {
     "data": {
      "text/html": [
       "<div>\n",
       "<style scoped>\n",
       "    .dataframe tbody tr th:only-of-type {\n",
       "        vertical-align: middle;\n",
       "    }\n",
       "\n",
       "    .dataframe tbody tr th {\n",
       "        vertical-align: top;\n",
       "    }\n",
       "\n",
       "    .dataframe thead th {\n",
       "        text-align: right;\n",
       "    }\n",
       "</style>\n",
       "<table border=\"1\" class=\"dataframe\">\n",
       "  <thead>\n",
       "    <tr style=\"text-align: right;\">\n",
       "      <th></th>\n",
       "      <th>location</th>\n",
       "      <th>region</th>\n",
       "      <th>population</th>\n",
       "      <th>total_cases</th>\n",
       "      <th>total_deaths</th>\n",
       "      <th>cfr</th>\n",
       "      <th>overall_start_date</th>\n",
       "      <th>overall_end_date</th>\n",
       "      <th>current_mobility_level</th>\n",
       "      <th>current_value_cases</th>\n",
       "      <th>...</th>\n",
       "      <th>rebound_mean_value_cases_per_million</th>\n",
       "      <th>rebound_mean_value_deaths_per_100k</th>\n",
       "      <th>rebound_ratio_cases</th>\n",
       "      <th>rebound_ratio_deaths</th>\n",
       "      <th>rebound_ratio_mobility_level</th>\n",
       "      <th>is_increasing_rebound</th>\n",
       "      <th>is_strong_lockdown</th>\n",
       "      <th>is_conservative_rebound</th>\n",
       "      <th>is_successful_rebound</th>\n",
       "      <th>is_successful_rebound_deaths</th>\n",
       "    </tr>\n",
       "    <tr>\n",
       "      <th>aggregation</th>\n",
       "      <th></th>\n",
       "      <th></th>\n",
       "      <th></th>\n",
       "      <th></th>\n",
       "      <th></th>\n",
       "      <th></th>\n",
       "      <th></th>\n",
       "      <th></th>\n",
       "      <th></th>\n",
       "      <th></th>\n",
       "      <th></th>\n",
       "      <th></th>\n",
       "      <th></th>\n",
       "      <th></th>\n",
       "      <th></th>\n",
       "      <th></th>\n",
       "      <th></th>\n",
       "      <th></th>\n",
       "      <th></th>\n",
       "      <th></th>\n",
       "      <th></th>\n",
       "    </tr>\n",
       "  </thead>\n",
       "  <tbody>\n",
       "    <tr>\n",
       "      <th>eu</th>\n",
       "      <td>eu</td>\n",
       "      <td>eu</td>\n",
       "      <td>444919060.0</td>\n",
       "      <td>9.873561e+05</td>\n",
       "      <td>110809.714286</td>\n",
       "      <td>0.112229</td>\n",
       "      <td>2020-01-25</td>\n",
       "      <td>2020-05-09</td>\n",
       "      <td>0.504781</td>\n",
       "      <td>7366.714286</td>\n",
       "      <td>...</td>\n",
       "      <td>16.557426</td>\n",
       "      <td>26.235912</td>\n",
       "      <td>0.411778</td>\n",
       "      <td>0.566368</td>\n",
       "      <td>1.024791</td>\n",
       "      <td>False</td>\n",
       "      <td>True</td>\n",
       "      <td>True</td>\n",
       "      <td>True</td>\n",
       "      <td>True</td>\n",
       "    </tr>\n",
       "    <tr>\n",
       "      <th>eu</th>\n",
       "      <td>eu</td>\n",
       "      <td>eu</td>\n",
       "      <td>444919060.0</td>\n",
       "      <td>9.949356e+05</td>\n",
       "      <td>111913.857143</td>\n",
       "      <td>0.112484</td>\n",
       "      <td>2020-01-25</td>\n",
       "      <td>2020-05-10</td>\n",
       "      <td>0.512438</td>\n",
       "      <td>7579.428571</td>\n",
       "      <td>...</td>\n",
       "      <td>16.796474</td>\n",
       "      <td>25.526312</td>\n",
       "      <td>0.417723</td>\n",
       "      <td>0.551049</td>\n",
       "      <td>1.032563</td>\n",
       "      <td>False</td>\n",
       "      <td>True</td>\n",
       "      <td>True</td>\n",
       "      <td>True</td>\n",
       "      <td>True</td>\n",
       "    </tr>\n",
       "    <tr>\n",
       "      <th>eu</th>\n",
       "      <td>eu</td>\n",
       "      <td>eu</td>\n",
       "      <td>444919060.0</td>\n",
       "      <td>1.002300e+06</td>\n",
       "      <td>112978.857143</td>\n",
       "      <td>0.112720</td>\n",
       "      <td>2020-01-25</td>\n",
       "      <td>2020-05-11</td>\n",
       "      <td>0.518803</td>\n",
       "      <td>7364.571429</td>\n",
       "      <td>...</td>\n",
       "      <td>16.715186</td>\n",
       "      <td>24.996521</td>\n",
       "      <td>0.415701</td>\n",
       "      <td>0.539613</td>\n",
       "      <td>1.039461</td>\n",
       "      <td>False</td>\n",
       "      <td>True</td>\n",
       "      <td>True</td>\n",
       "      <td>True</td>\n",
       "      <td>True</td>\n",
       "    </tr>\n",
       "    <tr>\n",
       "      <th>eu</th>\n",
       "      <td>eu</td>\n",
       "      <td>eu</td>\n",
       "      <td>444919060.0</td>\n",
       "      <td>1.009471e+06</td>\n",
       "      <td>114010.714286</td>\n",
       "      <td>0.112941</td>\n",
       "      <td>2020-01-25</td>\n",
       "      <td>2020-05-12</td>\n",
       "      <td>0.525912</td>\n",
       "      <td>7170.714286</td>\n",
       "      <td>...</td>\n",
       "      <td>16.565613</td>\n",
       "      <td>24.545395</td>\n",
       "      <td>0.411982</td>\n",
       "      <td>0.529874</td>\n",
       "      <td>1.046519</td>\n",
       "      <td>False</td>\n",
       "      <td>True</td>\n",
       "      <td>True</td>\n",
       "      <td>True</td>\n",
       "      <td>True</td>\n",
       "    </tr>\n",
       "    <tr>\n",
       "      <th>eu</th>\n",
       "      <td>eu</td>\n",
       "      <td>eu</td>\n",
       "      <td>444919060.0</td>\n",
       "      <td>1.016479e+06</td>\n",
       "      <td>115006.000000</td>\n",
       "      <td>0.113142</td>\n",
       "      <td>2020-01-25</td>\n",
       "      <td>2020-05-13</td>\n",
       "      <td>0.531831</td>\n",
       "      <td>7007.714286</td>\n",
       "      <td>...</td>\n",
       "      <td>16.402598</td>\n",
       "      <td>24.110324</td>\n",
       "      <td>0.407928</td>\n",
       "      <td>0.520482</td>\n",
       "      <td>1.053156</td>\n",
       "      <td>False</td>\n",
       "      <td>True</td>\n",
       "      <td>True</td>\n",
       "      <td>True</td>\n",
       "      <td>True</td>\n",
       "    </tr>\n",
       "    <tr>\n",
       "      <th>...</th>\n",
       "      <td>...</td>\n",
       "      <td>...</td>\n",
       "      <td>...</td>\n",
       "      <td>...</td>\n",
       "      <td>...</td>\n",
       "      <td>...</td>\n",
       "      <td>...</td>\n",
       "      <td>...</td>\n",
       "      <td>...</td>\n",
       "      <td>...</td>\n",
       "      <td>...</td>\n",
       "      <td>...</td>\n",
       "      <td>...</td>\n",
       "      <td>...</td>\n",
       "      <td>...</td>\n",
       "      <td>...</td>\n",
       "      <td>...</td>\n",
       "      <td>...</td>\n",
       "      <td>...</td>\n",
       "      <td>...</td>\n",
       "      <td>...</td>\n",
       "    </tr>\n",
       "    <tr>\n",
       "      <th>eu</th>\n",
       "      <td>eu</td>\n",
       "      <td>eu</td>\n",
       "      <td>444919060.0</td>\n",
       "      <td>1.323903e+06</td>\n",
       "      <td>135067.571429</td>\n",
       "      <td>0.102022</td>\n",
       "      <td>2020-01-25</td>\n",
       "      <td>2020-07-23</td>\n",
       "      <td>0.713296</td>\n",
       "      <td>6009.428571</td>\n",
       "      <td>...</td>\n",
       "      <td>10.170782</td>\n",
       "      <td>7.519151</td>\n",
       "      <td>0.252944</td>\n",
       "      <td>0.162320</td>\n",
       "      <td>1.312393</td>\n",
       "      <td>False</td>\n",
       "      <td>True</td>\n",
       "      <td>True</td>\n",
       "      <td>True</td>\n",
       "      <td>True</td>\n",
       "    </tr>\n",
       "    <tr>\n",
       "      <th>eu</th>\n",
       "      <td>eu</td>\n",
       "      <td>eu</td>\n",
       "      <td>444919060.0</td>\n",
       "      <td>1.330241e+06</td>\n",
       "      <td>135149.428571</td>\n",
       "      <td>0.101598</td>\n",
       "      <td>2020-01-25</td>\n",
       "      <td>2020-07-24</td>\n",
       "      <td>0.713296</td>\n",
       "      <td>6338.428571</td>\n",
       "      <td>...</td>\n",
       "      <td>10.223710</td>\n",
       "      <td>7.445393</td>\n",
       "      <td>0.254260</td>\n",
       "      <td>0.160727</td>\n",
       "      <td>1.312393</td>\n",
       "      <td>False</td>\n",
       "      <td>True</td>\n",
       "      <td>True</td>\n",
       "      <td>True</td>\n",
       "      <td>True</td>\n",
       "    </tr>\n",
       "    <tr>\n",
       "      <th>eu</th>\n",
       "      <td>eu</td>\n",
       "      <td>eu</td>\n",
       "      <td>444919060.0</td>\n",
       "      <td>1.336739e+06</td>\n",
       "      <td>135231.571429</td>\n",
       "      <td>0.101165</td>\n",
       "      <td>2020-01-25</td>\n",
       "      <td>2020-07-25</td>\n",
       "      <td>0.713296</td>\n",
       "      <td>6498.000000</td>\n",
       "      <td>...</td>\n",
       "      <td>10.279879</td>\n",
       "      <td>7.373609</td>\n",
       "      <td>0.255657</td>\n",
       "      <td>0.159178</td>\n",
       "      <td>1.312393</td>\n",
       "      <td>False</td>\n",
       "      <td>True</td>\n",
       "      <td>True</td>\n",
       "      <td>True</td>\n",
       "      <td>True</td>\n",
       "    </tr>\n",
       "    <tr>\n",
       "      <th>eu</th>\n",
       "      <td>eu</td>\n",
       "      <td>eu</td>\n",
       "      <td>444919060.0</td>\n",
       "      <td>1.343348e+06</td>\n",
       "      <td>135312.571429</td>\n",
       "      <td>0.100728</td>\n",
       "      <td>2020-01-25</td>\n",
       "      <td>2020-07-26</td>\n",
       "      <td>0.713296</td>\n",
       "      <td>6609.285714</td>\n",
       "      <td>...</td>\n",
       "      <td>10.337793</td>\n",
       "      <td>7.303318</td>\n",
       "      <td>0.257098</td>\n",
       "      <td>0.157660</td>\n",
       "      <td>1.312393</td>\n",
       "      <td>False</td>\n",
       "      <td>True</td>\n",
       "      <td>True</td>\n",
       "      <td>True</td>\n",
       "      <td>True</td>\n",
       "    </tr>\n",
       "    <tr>\n",
       "      <th>eu</th>\n",
       "      <td>eu</td>\n",
       "      <td>eu</td>\n",
       "      <td>444919060.0</td>\n",
       "      <td>1.350310e+06</td>\n",
       "      <td>135394.857143</td>\n",
       "      <td>0.100269</td>\n",
       "      <td>2020-01-25</td>\n",
       "      <td>2020-07-27</td>\n",
       "      <td>0.713296</td>\n",
       "      <td>6961.714286</td>\n",
       "      <td>...</td>\n",
       "      <td>10.404160</td>\n",
       "      <td>7.235144</td>\n",
       "      <td>0.258748</td>\n",
       "      <td>0.156189</td>\n",
       "      <td>1.312393</td>\n",
       "      <td>False</td>\n",
       "      <td>True</td>\n",
       "      <td>True</td>\n",
       "      <td>True</td>\n",
       "      <td>True</td>\n",
       "    </tr>\n",
       "  </tbody>\n",
       "</table>\n",
       "<p>80 rows × 67 columns</p>\n",
       "</div>"
      ],
      "text/plain": [
       "            location region   population   total_cases   total_deaths  \\\n",
       "aggregation                                                             \n",
       "eu                eu     eu  444919060.0  9.873561e+05  110809.714286   \n",
       "eu                eu     eu  444919060.0  9.949356e+05  111913.857143   \n",
       "eu                eu     eu  444919060.0  1.002300e+06  112978.857143   \n",
       "eu                eu     eu  444919060.0  1.009471e+06  114010.714286   \n",
       "eu                eu     eu  444919060.0  1.016479e+06  115006.000000   \n",
       "...              ...    ...          ...           ...            ...   \n",
       "eu                eu     eu  444919060.0  1.323903e+06  135067.571429   \n",
       "eu                eu     eu  444919060.0  1.330241e+06  135149.428571   \n",
       "eu                eu     eu  444919060.0  1.336739e+06  135231.571429   \n",
       "eu                eu     eu  444919060.0  1.343348e+06  135312.571429   \n",
       "eu                eu     eu  444919060.0  1.350310e+06  135394.857143   \n",
       "\n",
       "                  cfr overall_start_date overall_end_date  \\\n",
       "aggregation                                                 \n",
       "eu           0.112229         2020-01-25       2020-05-09   \n",
       "eu           0.112484         2020-01-25       2020-05-10   \n",
       "eu           0.112720         2020-01-25       2020-05-11   \n",
       "eu           0.112941         2020-01-25       2020-05-12   \n",
       "eu           0.113142         2020-01-25       2020-05-13   \n",
       "...               ...                ...              ...   \n",
       "eu           0.102022         2020-01-25       2020-07-23   \n",
       "eu           0.101598         2020-01-25       2020-07-24   \n",
       "eu           0.101165         2020-01-25       2020-07-25   \n",
       "eu           0.100728         2020-01-25       2020-07-26   \n",
       "eu           0.100269         2020-01-25       2020-07-27   \n",
       "\n",
       "             current_mobility_level  current_value_cases  ...  \\\n",
       "aggregation                                               ...   \n",
       "eu                         0.504781          7366.714286  ...   \n",
       "eu                         0.512438          7579.428571  ...   \n",
       "eu                         0.518803          7364.571429  ...   \n",
       "eu                         0.525912          7170.714286  ...   \n",
       "eu                         0.531831          7007.714286  ...   \n",
       "...                             ...                  ...  ...   \n",
       "eu                         0.713296          6009.428571  ...   \n",
       "eu                         0.713296          6338.428571  ...   \n",
       "eu                         0.713296          6498.000000  ...   \n",
       "eu                         0.713296          6609.285714  ...   \n",
       "eu                         0.713296          6961.714286  ...   \n",
       "\n",
       "             rebound_mean_value_cases_per_million  \\\n",
       "aggregation                                         \n",
       "eu                                      16.557426   \n",
       "eu                                      16.796474   \n",
       "eu                                      16.715186   \n",
       "eu                                      16.565613   \n",
       "eu                                      16.402598   \n",
       "...                                           ...   \n",
       "eu                                      10.170782   \n",
       "eu                                      10.223710   \n",
       "eu                                      10.279879   \n",
       "eu                                      10.337793   \n",
       "eu                                      10.404160   \n",
       "\n",
       "            rebound_mean_value_deaths_per_100k rebound_ratio_cases  \\\n",
       "aggregation                                                          \n",
       "eu                                   26.235912            0.411778   \n",
       "eu                                   25.526312            0.417723   \n",
       "eu                                   24.996521            0.415701   \n",
       "eu                                   24.545395            0.411982   \n",
       "eu                                   24.110324            0.407928   \n",
       "...                                        ...                 ...   \n",
       "eu                                    7.519151            0.252944   \n",
       "eu                                    7.445393            0.254260   \n",
       "eu                                    7.373609            0.255657   \n",
       "eu                                    7.303318            0.257098   \n",
       "eu                                    7.235144            0.258748   \n",
       "\n",
       "             rebound_ratio_deaths  rebound_ratio_mobility_level  \\\n",
       "aggregation                                                       \n",
       "eu                       0.566368                      1.024791   \n",
       "eu                       0.551049                      1.032563   \n",
       "eu                       0.539613                      1.039461   \n",
       "eu                       0.529874                      1.046519   \n",
       "eu                       0.520482                      1.053156   \n",
       "...                           ...                           ...   \n",
       "eu                       0.162320                      1.312393   \n",
       "eu                       0.160727                      1.312393   \n",
       "eu                       0.159178                      1.312393   \n",
       "eu                       0.157660                      1.312393   \n",
       "eu                       0.156189                      1.312393   \n",
       "\n",
       "            is_increasing_rebound  is_strong_lockdown  \\\n",
       "aggregation                                             \n",
       "eu                          False                True   \n",
       "eu                          False                True   \n",
       "eu                          False                True   \n",
       "eu                          False                True   \n",
       "eu                          False                True   \n",
       "...                           ...                 ...   \n",
       "eu                          False                True   \n",
       "eu                          False                True   \n",
       "eu                          False                True   \n",
       "eu                          False                True   \n",
       "eu                          False                True   \n",
       "\n",
       "             is_conservative_rebound is_successful_rebound  \\\n",
       "aggregation                                                  \n",
       "eu                              True                  True   \n",
       "eu                              True                  True   \n",
       "eu                              True                  True   \n",
       "eu                              True                  True   \n",
       "eu                              True                  True   \n",
       "...                              ...                   ...   \n",
       "eu                              True                  True   \n",
       "eu                              True                  True   \n",
       "eu                              True                  True   \n",
       "eu                              True                  True   \n",
       "eu                              True                  True   \n",
       "\n",
       "             is_successful_rebound_deaths  \n",
       "aggregation                                \n",
       "eu                                   True  \n",
       "eu                                   True  \n",
       "eu                                   True  \n",
       "eu                                   True  \n",
       "eu                                   True  \n",
       "...                                   ...  \n",
       "eu                                   True  \n",
       "eu                                   True  \n",
       "eu                                   True  \n",
       "eu                                   True  \n",
       "eu                                   True  \n",
       "\n",
       "[80 rows x 67 columns]"
      ]
     },
     "execution_count": 17,
     "metadata": {},
     "output_type": "execute_result"
    }
   ],
   "source": [
    "expanded_lockdowns.loc['eu']"
   ]
  },
  {
   "cell_type": "code",
   "execution_count": null,
   "metadata": {
    "papermill": {
     "duration": 0.169792,
     "end_time": "2020-07-28T13:28:22.964721",
     "exception": false,
     "start_time": "2020-07-28T13:28:22.794929",
     "status": "completed"
    },
    "tags": []
   },
   "outputs": [],
   "source": []
  },
  {
   "cell_type": "code",
   "execution_count": null,
   "metadata": {
    "papermill": {
     "duration": 0.023872,
     "end_time": "2020-07-28T13:28:23.112301",
     "exception": false,
     "start_time": "2020-07-28T13:28:23.088429",
     "status": "completed"
    },
    "tags": []
   },
   "outputs": [],
   "source": []
  }
 ],
 "metadata": {
  "kernelspec": {
   "display_name": "COVID-19",
   "language": "python",
   "name": "covid-19"
  },
  "language_info": {
   "codemirror_mode": {
    "name": "ipython",
    "version": 3
   },
   "file_extension": ".py",
   "mimetype": "text/x-python",
   "name": "python",
   "nbconvert_exporter": "python",
   "pygments_lexer": "ipython3",
   "version": "3.7.7"
  },
  "papermill": {
   "duration": 117.049385,
   "end_time": "2020-07-28T13:28:23.803812",
   "environment_variables": {},
   "exception": null,
   "input_path": "gen_lockdown_features.ipynb",
   "output_path": "output/gen_lockdown_features.ipynb",
   "parameters": {},
   "start_time": "2020-07-28T13:26:26.754427",
   "version": "2.1.2"
  }
 },
 "nbformat": 4,
 "nbformat_minor": 4
}