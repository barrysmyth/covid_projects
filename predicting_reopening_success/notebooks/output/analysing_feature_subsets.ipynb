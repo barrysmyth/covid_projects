{
 "cells": [
  {
   "cell_type": "markdown",
   "metadata": {
    "papermill": {
     "duration": 0.029628,
     "end_time": "2020-07-28T11:20:52.518614",
     "exception": false,
     "start_time": "2020-07-28T11:20:52.488986",
     "status": "completed"
    },
    "tags": []
   },
   "source": [
    "# Analysing Feature Subsets & Classification Performance"
   ]
  },
  {
   "cell_type": "code",
   "execution_count": 1,
   "metadata": {
    "execution": {
     "iopub.execute_input": "2020-07-28T11:20:52.596059Z",
     "iopub.status.busy": "2020-07-28T11:20:52.595171Z",
     "iopub.status.idle": "2020-07-28T11:20:53.541742Z",
     "shell.execute_reply": "2020-07-28T11:20:53.542720Z"
    },
    "papermill": {
     "duration": 0.993667,
     "end_time": "2020-07-28T11:20:53.543082",
     "exception": false,
     "start_time": "2020-07-28T11:20:52.549415",
     "status": "completed"
    },
    "tags": []
   },
   "outputs": [],
   "source": [
    "import itertools\n",
    "\n",
    "from matplotlib.pylab import plt\n",
    "from matplotlib.ticker import FuncFormatter\n",
    "import matplotlib.colors as mcolors\n",
    "import matplotlib.dates as mdates\n",
    "from matplotlib import pyplot, lines\n",
    "from matplotlib.patches import Patch\n",
    "import matplotlib\n",
    "\n",
    "from sklearn.ensemble import GradientBoostingClassifier\n",
    "from sklearn.model_selection import cross_validate, cross_val_score, cross_val_predict\n",
    "from sklearn.linear_model import LinearRegression\n",
    "from sklearn.neighbors import KNeighborsClassifier\n",
    "from sklearn import preprocessing\n",
    "from sklearn.tree import DecisionTreeClassifier\n",
    "from sklearn.model_selection import LeaveOneOut\n",
    "from sklearn.feature_selection import RFECV\n",
    "\n",
    "from sklearn.metrics import confusion_matrix\n",
    "\n",
    "from mlxtend.feature_selection import ExhaustiveFeatureSelector as EFS\n",
    "from statsmodels.stats.multicomp import (pairwise_tukeyhsd, MultiComparison)\n",
    "\n",
    "\n",
    "\n",
    "\n",
    "from scipy.stats import ttest_ind, f_oneway\n",
    "\n",
    "import researchpy as rpy\n",
    "\n",
    "from loguru import logger\n",
    "\n",
    "\n",
    "\n",
    "import pandas as pd\n",
    "import numpy as np\n",
    "\n",
    "import seaborn as sns\n",
    "\n",
    "import datetime \n",
    "\n",
    "\n",
    "%matplotlib inline"
   ]
  },
  {
   "cell_type": "markdown",
   "metadata": {
    "papermill": {
     "duration": 0.026447,
     "end_time": "2020-07-28T11:20:53.601221",
     "exception": false,
     "start_time": "2020-07-28T11:20:53.574774",
     "status": "completed"
    },
    "tags": []
   },
   "source": [
    "# Parameters"
   ]
  },
  {
   "cell_type": "code",
   "execution_count": 2,
   "metadata": {
    "execution": {
     "iopub.execute_input": "2020-07-28T11:20:53.661984Z",
     "iopub.status.busy": "2020-07-28T11:20:53.661371Z",
     "iopub.status.idle": "2020-07-28T11:20:53.664625Z",
     "shell.execute_reply": "2020-07-28T11:20:53.665112Z"
    },
    "papermill": {
     "duration": 0.037267,
     "end_time": "2020-07-28T11:20:53.665274",
     "exception": false,
     "start_time": "2020-07-28T11:20:53.628007",
     "status": "completed"
    },
    "tags": [
     "parameters"
    ]
   },
   "outputs": [],
   "source": [
    "dataset = 'eu_us'\n",
    "\n",
    "efs_dataset = '../data/efs_{}.pkl'.format(dataset)\n",
    "expanded_lockdowns_dataset = '../data/expanded_lockdowns.pkl'\n",
    "\n",
    "from_rebound_days, to_rebound_days = 28, 71"
   ]
  },
  {
   "cell_type": "code",
   "execution_count": 3,
   "metadata": {
    "execution": {
     "iopub.execute_input": "2020-07-28T11:20:53.792568Z",
     "iopub.status.busy": "2020-07-28T11:20:53.791427Z",
     "iopub.status.idle": "2020-07-28T11:20:53.864930Z",
     "shell.execute_reply": "2020-07-28T11:20:53.865823Z"
    },
    "papermill": {
     "duration": 0.159717,
     "end_time": "2020-07-28T11:20:53.866127",
     "exception": false,
     "start_time": "2020-07-28T11:20:53.706410",
     "status": "completed"
    },
    "tags": [
     "injected-parameters"
    ]
   },
   "outputs": [],
   "source": [
    "# Parameters\n",
    "dataset = \"eu_us\"\n",
    "from_rebound_days = 28\n",
    "to_rebound_days = 71\n"
   ]
  },
  {
   "cell_type": "markdown",
   "metadata": {
    "papermill": {
     "duration": 0.030754,
     "end_time": "2020-07-28T11:20:53.944137",
     "exception": false,
     "start_time": "2020-07-28T11:20:53.913383",
     "status": "completed"
    },
    "tags": []
   },
   "source": [
    "# Classification Analysis"
   ]
  },
  {
   "cell_type": "markdown",
   "metadata": {
    "papermill": {
     "duration": 0.026413,
     "end_time": "2020-07-28T11:20:53.997463",
     "exception": false,
     "start_time": "2020-07-28T11:20:53.971050",
     "status": "completed"
    },
    "tags": []
   },
   "source": [
    "## Load the EFS Dataset\n",
    "The EFS dataset contains the results of the exhaustive feature search. Each row relates to a single feature subset and a given prediction horizon."
   ]
  },
  {
   "cell_type": "code",
   "execution_count": 4,
   "metadata": {
    "execution": {
     "iopub.execute_input": "2020-07-28T11:20:54.121046Z",
     "iopub.status.busy": "2020-07-28T11:20:54.120071Z",
     "iopub.status.idle": "2020-07-28T11:20:54.450974Z",
     "shell.execute_reply": "2020-07-28T11:20:54.452839Z"
    },
    "papermill": {
     "duration": 0.414774,
     "end_time": "2020-07-28T11:20:54.453330",
     "exception": false,
     "start_time": "2020-07-28T11:20:54.038556",
     "status": "completed"
    },
    "tags": []
   },
   "outputs": [
    {
     "name": "stderr",
     "output_type": "stream",
     "text": [
      "2020-07-28 12:20:54.118 | INFO     | __main__:<module>:1 - Loading EFS data @ ../data/efs_eu_us.pkl\n"
     ]
    },
    {
     "data": {
      "text/plain": [
       "(65534, 12)"
      ]
     },
     "execution_count": 4,
     "metadata": {},
     "output_type": "execute_result"
    }
   ],
   "source": [
    "logger.info('Loading EFS data @ %s' % efs_dataset)\n",
    "\n",
    "efs_df = pd.read_pickle(efs_dataset)\n",
    "efs_df.shape"
   ]
  },
  {
   "cell_type": "markdown",
   "metadata": {
    "papermill": {
     "duration": 0.036168,
     "end_time": "2020-07-28T11:20:54.524519",
     "exception": false,
     "start_time": "2020-07-28T11:20:54.488351",
     "status": "completed"
    },
    "tags": []
   },
   "source": [
    "## Load the Expanded Lockdown Dataset\n",
    "This dataset contains the lockdown features and each $RR$ for a given prediction horizon."
   ]
  },
  {
   "cell_type": "code",
   "execution_count": 5,
   "metadata": {
    "execution": {
     "iopub.execute_input": "2020-07-28T11:20:54.585703Z",
     "iopub.status.busy": "2020-07-28T11:20:54.585097Z",
     "iopub.status.idle": "2020-07-28T11:20:54.660778Z",
     "shell.execute_reply": "2020-07-28T11:20:54.662117Z"
    },
    "papermill": {
     "duration": 0.110087,
     "end_time": "2020-07-28T11:20:54.662352",
     "exception": false,
     "start_time": "2020-07-28T11:20:54.552265",
     "status": "completed"
    },
    "tags": []
   },
   "outputs": [
    {
     "name": "stderr",
     "output_type": "stream",
     "text": [
      "2020-07-28 12:20:54.583 | INFO     | __main__:<module>:1 - Loading lockdown data @ ../data/expanded_lockdowns.pkl\n"
     ]
    },
    {
     "data": {
      "text/plain": [
       "(13289, 68)"
      ]
     },
     "execution_count": 5,
     "metadata": {},
     "output_type": "execute_result"
    }
   ],
   "source": [
    "logger.info('Loading lockdown data @ %s' % expanded_lockdowns_dataset)\n",
    "\n",
    "use_expanded_lockdowns = pd.read_pickle(expanded_lockdowns_dataset).drop_duplicates()\n",
    "use_expanded_lockdowns.shape"
   ]
  },
  {
   "cell_type": "code",
   "execution_count": 6,
   "metadata": {
    "execution": {
     "iopub.execute_input": "2020-07-28T11:20:54.729859Z",
     "iopub.status.busy": "2020-07-28T11:20:54.729237Z",
     "iopub.status.idle": "2020-07-28T11:20:54.789201Z",
     "shell.execute_reply": "2020-07-28T11:20:54.790015Z"
    },
    "papermill": {
     "duration": 0.093572,
     "end_time": "2020-07-28T11:20:54.790282",
     "exception": false,
     "start_time": "2020-07-28T11:20:54.696710",
     "status": "completed"
    },
    "tags": []
   },
   "outputs": [
    {
     "data": {
      "text/plain": [
       "(Timestamp('2020-01-13 00:00:00'), Timestamp('2020-07-27 00:00:00'))"
      ]
     },
     "execution_count": 6,
     "metadata": {},
     "output_type": "execute_result"
    }
   ],
   "source": [
    "use_expanded_lockdowns['overall_start_date'].min(), use_expanded_lockdowns['overall_end_date'].max(), "
   ]
  },
  {
   "cell_type": "markdown",
   "metadata": {
    "papermill": {
     "duration": 0.028502,
     "end_time": "2020-07-28T11:20:54.853324",
     "exception": false,
     "start_time": "2020-07-28T11:20:54.824822",
     "status": "completed"
    },
    "tags": []
   },
   "source": [
    "## Focus on a particular set of prediction horizons\n",
    "We consider prediction horizons between 4 and 10 weeks after re-opening. Earlier that 4 weeks means that there has not been enough time for case levels to stablise during re-opening. After 10 weeks we start to have fewer examples of lockdowns that have opened for this period."
   ]
  },
  {
   "cell_type": "code",
   "execution_count": 7,
   "metadata": {
    "execution": {
     "iopub.execute_input": "2020-07-28T11:20:54.973778Z",
     "iopub.status.busy": "2020-07-28T11:20:54.972833Z",
     "iopub.status.idle": "2020-07-28T11:20:54.976141Z",
     "shell.execute_reply": "2020-07-28T11:20:54.977088Z"
    },
    "papermill": {
     "duration": 0.076473,
     "end_time": "2020-07-28T11:20:54.977336",
     "exception": false,
     "start_time": "2020-07-28T11:20:54.900863",
     "status": "completed"
    },
    "tags": []
   },
   "outputs": [
    {
     "data": {
      "text/plain": [
       "(array([28, 29, 30, 31, 32, 33, 34, 35, 36, 37, 38, 39, 40, 41, 42, 43, 44,\n",
       "        45, 46, 47, 48, 49, 50, 51, 52, 53, 54, 55, 56, 57, 58, 59, 60, 61,\n",
       "        62, 63, 64, 65, 66, 67, 68, 69, 70]),\n",
       " 43)"
      ]
     },
     "execution_count": 7,
     "metadata": {},
     "output_type": "execute_result"
    }
   ],
   "source": [
    "check_rebound_days = np.arange(from_rebound_days, to_rebound_days, 1)  # sorted(efs_df['rebound_days'].unique())\n",
    "check_rebound_days, len(check_rebound_days)"
   ]
  },
  {
   "cell_type": "code",
   "execution_count": 8,
   "metadata": {
    "execution": {
     "iopub.execute_input": "2020-07-28T11:20:55.084842Z",
     "iopub.status.busy": "2020-07-28T11:20:55.083863Z",
     "iopub.status.idle": "2020-07-28T11:20:55.244696Z",
     "shell.execute_reply": "2020-07-28T11:20:55.245825Z"
    },
    "papermill": {
     "duration": 0.22732,
     "end_time": "2020-07-28T11:20:55.246143",
     "exception": false,
     "start_time": "2020-07-28T11:20:55.018823",
     "status": "completed"
    },
    "tags": []
   },
   "outputs": [
    {
     "data": {
      "text/plain": [
       "(65534, 12)"
      ]
     },
     "execution_count": 8,
     "metadata": {},
     "output_type": "execute_result"
    }
   ],
   "source": [
    "efs_for_rebound_days = efs_df[efs_df['rebound_days'].isin(check_rebound_days)]\n",
    "efs_for_rebound_days.shape"
   ]
  },
  {
   "cell_type": "code",
   "execution_count": 9,
   "metadata": {
    "execution": {
     "iopub.execute_input": "2020-07-28T11:20:55.329350Z",
     "iopub.status.busy": "2020-07-28T11:20:55.328543Z",
     "iopub.status.idle": "2020-07-28T11:20:55.486904Z",
     "shell.execute_reply": "2020-07-28T11:20:55.487851Z"
    },
    "papermill": {
     "duration": 0.204453,
     "end_time": "2020-07-28T11:20:55.488098",
     "exception": false,
     "start_time": "2020-07-28T11:20:55.283645",
     "status": "completed"
    },
    "tags": []
   },
   "outputs": [
    {
     "data": {
      "text/plain": [
       "15"
      ]
     },
     "execution_count": 9,
     "metadata": {},
     "output_type": "execute_result"
    }
   ],
   "source": [
    "use_features = list(set(itertools.chain.from_iterable(efs_df['feature_names'].values)))\n",
    "len(use_features)"
   ]
  },
  {
   "cell_type": "markdown",
   "metadata": {
    "papermill": {
     "duration": 0.037604,
     "end_time": "2020-07-28T11:20:55.561490",
     "exception": false,
     "start_time": "2020-07-28T11:20:55.523886",
     "status": "completed"
    },
    "tags": []
   },
   "source": [
    "# Classification Error Rates"
   ]
  },
  {
   "cell_type": "code",
   "execution_count": 10,
   "metadata": {
    "execution": {
     "iopub.execute_input": "2020-07-28T11:20:55.644674Z",
     "iopub.status.busy": "2020-07-28T11:20:55.643856Z",
     "iopub.status.idle": "2020-07-28T11:20:55.740355Z",
     "shell.execute_reply": "2020-07-28T11:20:55.741690Z"
    },
    "papermill": {
     "duration": 0.149744,
     "end_time": "2020-07-28T11:20:55.741982",
     "exception": false,
     "start_time": "2020-07-28T11:20:55.592238",
     "status": "completed"
    },
    "tags": []
   },
   "outputs": [
    {
     "name": "stderr",
     "output_type": "stream",
     "text": [
      "2020-07-28 12:20:55.734 | INFO     | __main__:<module>:1 - Analysing EFS data from 28 - 71 rebound days.\n"
     ]
    }
   ],
   "source": [
    "logger.info('Analysing EFS data from %s - %s rebound days.' % (from_rebound_days, to_rebound_days))"
   ]
  },
  {
   "cell_type": "code",
   "execution_count": 11,
   "metadata": {
    "execution": {
     "iopub.execute_input": "2020-07-28T11:20:55.880102Z",
     "iopub.status.busy": "2020-07-28T11:20:55.878912Z",
     "iopub.status.idle": "2020-07-28T11:20:56.051817Z",
     "shell.execute_reply": "2020-07-28T11:20:56.052717Z"
    },
    "papermill": {
     "duration": 0.27345,
     "end_time": "2020-07-28T11:20:56.053023",
     "exception": false,
     "start_time": "2020-07-28T11:20:55.779573",
     "status": "completed"
    },
    "tags": []
   },
   "outputs": [],
   "source": [
    "efs_for_rebound_days['avg_err'] = 1-efs_for_rebound_days['avg_score']"
   ]
  },
  {
   "cell_type": "code",
   "execution_count": 12,
   "metadata": {
    "execution": {
     "iopub.execute_input": "2020-07-28T11:20:56.182376Z",
     "iopub.status.busy": "2020-07-28T11:20:56.181298Z",
     "iopub.status.idle": "2020-07-28T11:20:58.508226Z",
     "shell.execute_reply": "2020-07-28T11:20:58.509244Z"
    },
    "papermill": {
     "duration": 2.417998,
     "end_time": "2020-07-28T11:20:58.509521",
     "exception": false,
     "start_time": "2020-07-28T11:20:56.091523",
     "status": "completed"
    },
    "tags": []
   },
   "outputs": [
    {
     "data": {
      "image/png": "[encoded data removed]",
      "text/plain": [
       "<Figure size 720x360 with 1 Axes>"
      ]
     },
     "metadata": {
      "needs_background": "light"
     },
     "output_type": "display_data"
    }
   ],
   "source": [
    "sns.set_context('talk')\n",
    "\n",
    "fig,ax = plt.subplots(figsize=(10, 5))\n",
    "\n",
    "mean_error_by_subset_4w = efs_for_rebound_days[efs_for_rebound_days['rebound_days']==28].groupby('feature_names')['avg_err'].mean().sort_values()\n",
    "\n",
    "mean_error_by_subset_8w = efs_for_rebound_days[efs_for_rebound_days['rebound_days']==56].groupby('feature_names')['avg_err'].mean().sort_values()\n",
    "\n",
    "mean_error_by_subset_10w = efs_for_rebound_days[efs_for_rebound_days['rebound_days']==70].groupby('feature_names')['avg_err'].mean().sort_values()\n",
    "\n",
    "\n",
    "\n",
    "# std_error_by_subset_1m = efs_for_rebound_days[efs_for_rebound_days['rebound_days']==28].groupby('feature_names')['avg_err'].std().loc[mean_error_by_subset.index]\n",
    "# upper, lower = mean_error_by_subset_1m+mean_error_by_subset_1m, mean_error_by_subset_1m-std_error_by_subset_1m\n",
    "# ax.fill_between(mean_error_by_subset_1m.reset_index().index, lower, upper, alpha=.33)\n",
    "\n",
    "ax.plot(mean_error_by_subset_4w.reset_index().index, mean_error_by_subset_4w)\n",
    "ax.plot(mean_error_by_subset_8w.reset_index().index, mean_error_by_subset_8w)\n",
    "ax.plot(mean_error_by_subset_10w.reset_index().index, mean_error_by_subset_10w)\n",
    "\n",
    "\n",
    "ax.set_xlabel('Unique Feature Subsets')\n",
    "ax.set_ylabel('Mean Classification Error')\n",
    "ax.set_title('Days after re-opening (4 $\\leq d <$ 10)')\n",
    "fig.tight_layout()\n",
    "\n",
    "fig.savefig('../graphs/mean_error_{}.png'.format(dataset), dpi=300, format='png', tight_layout=True)\n"
   ]
  },
  {
   "cell_type": "markdown",
   "metadata": {
    "papermill": {
     "duration": 0.22319,
     "end_time": "2020-07-28T11:20:58.771306",
     "exception": false,
     "start_time": "2020-07-28T11:20:58.548116",
     "status": "completed"
    },
    "tags": []
   },
   "source": [
    "# Choosing Feature Subsets\n",
    "What are the important features when it comes to predicting success? Which feature subsets should be chosen? Is there a single feature subset that performs well across all rebound horizons?"
   ]
  },
  {
   "cell_type": "markdown",
   "metadata": {
    "papermill": {
     "duration": 0.036355,
     "end_time": "2020-07-28T11:20:58.882460",
     "exception": false,
     "start_time": "2020-07-28T11:20:58.846105",
     "status": "completed"
    },
    "tags": []
   },
   "source": [
    "## Feature Importance"
   ]
  },
  {
   "cell_type": "code",
   "execution_count": 13,
   "metadata": {
    "execution": {
     "iopub.execute_input": "2020-07-28T11:20:58.964006Z",
     "iopub.status.busy": "2020-07-28T11:20:58.963172Z",
     "iopub.status.idle": "2020-07-28T11:20:58.966161Z",
     "shell.execute_reply": "2020-07-28T11:20:58.965338Z"
    },
    "papermill": {
     "duration": 0.052036,
     "end_time": "2020-07-28T11:20:58.966340",
     "exception": false,
     "start_time": "2020-07-28T11:20:58.914304",
     "status": "completed"
    },
    "tags": []
   },
   "outputs": [],
   "source": [
    "def get_feature_imp(efs, top_frac=0.1):\n",
    "    \n",
    "    top_efs = efs.sort_values(by='avg_score', ascending=False).head(int(top_frac*len(efs)))\n",
    "    bottom_efs = efs.sort_values(by='avg_score', ascending=False).tail(int(top_frac*len(efs)))\n",
    "\n",
    "    top_efs['rank'] = top_efs['avg_score'].rank(pct=True)\n",
    "    \n",
    "    results = {}\n",
    "\n",
    "    for f in use_features:\n",
    "\n",
    "        avg_score_with_f = top_efs[top_efs['feature_names'].map(lambda fs: f in fs)]['avg_score'].mean()\n",
    "        avg_score_without_f = top_efs[top_efs['feature_names'].map(lambda fs: f not in fs)]['avg_score'].mean()\n",
    "        \n",
    "        top_frac_with_f = len(top_efs[top_efs['feature_names'].map(lambda fs: f in fs)])/len(top_efs)\n",
    "        bottom_frac_with_f = len(bottom_efs[bottom_efs['feature_names'].map(lambda fs: f in fs)])/len(bottom_efs)\n",
    "\n",
    "        \n",
    "        rank_with_f = top_efs[top_efs['feature_names'].map(lambda fs: f in fs)]['rank'].mean()\n",
    "\n",
    "        results[f] = [avg_score_with_f, avg_score_without_f, avg_score_with_f/avg_score_without_f, top_frac_with_f, bottom_frac_with_f, top_frac_with_f-bottom_frac_with_f, rank_with_f]\n",
    "\n",
    "    return pd.DataFrame\\\n",
    "        .from_dict(results, orient='index', columns=['avg_score_with', 'avg_score_without', 'avg_score_ratio', 'top_frac_with_f', 'bottom_frac_with_f', 'diff_frac_with_f', 'rank_with_f'])\\\n",
    "        .sort_values(by='diff_frac_with_f', ascending=False)"
   ]
  },
  {
   "cell_type": "code",
   "execution_count": 14,
   "metadata": {
    "execution": {
     "iopub.execute_input": "2020-07-28T11:20:59.113457Z",
     "iopub.status.busy": "2020-07-28T11:20:59.112326Z",
     "iopub.status.idle": "2020-07-28T11:20:59.658640Z",
     "shell.execute_reply": "2020-07-28T11:20:59.659461Z"
    },
    "papermill": {
     "duration": 0.648417,
     "end_time": "2020-07-28T11:20:59.659658",
     "exception": false,
     "start_time": "2020-07-28T11:20:59.011241",
     "status": "completed"
    },
    "tags": []
   },
   "outputs": [
    {
     "data": {
      "text/html": [
       "<div>\n",
       "<style scoped>\n",
       "    .dataframe tbody tr th:only-of-type {\n",
       "        vertical-align: middle;\n",
       "    }\n",
       "\n",
       "    .dataframe tbody tr th {\n",
       "        vertical-align: top;\n",
       "    }\n",
       "\n",
       "    .dataframe thead th {\n",
       "        text-align: right;\n",
       "    }\n",
       "</style>\n",
       "<table border=\"1\" class=\"dataframe\">\n",
       "  <thead>\n",
       "    <tr style=\"text-align: right;\">\n",
       "      <th></th>\n",
       "      <th>lockdown_days_from_peak_cases</th>\n",
       "      <th>lockdown_days_from_peak_deaths</th>\n",
       "      <th>lockdown_days_to_peak_cases</th>\n",
       "      <th>lockdown_days_to_peak_deaths</th>\n",
       "      <th>lockdown_duration_days</th>\n",
       "      <th>lockdown_entry_level_cases</th>\n",
       "      <th>lockdown_entry_level_deaths</th>\n",
       "      <th>lockdown_exit_level_cases</th>\n",
       "      <th>lockdown_exit_level_deaths</th>\n",
       "      <th>lockdown_mean_mobility_level</th>\n",
       "      <th>lockdown_mean_value_cases_per_million</th>\n",
       "      <th>lockdown_mean_value_deaths_per_100k</th>\n",
       "      <th>lockdown_min_mobility_level</th>\n",
       "      <th>lockdown_peak_value_cases_per_million</th>\n",
       "      <th>lockdown_peak_value_deaths_per_100k</th>\n",
       "    </tr>\n",
       "    <tr>\n",
       "      <th>rebound_days</th>\n",
       "      <th></th>\n",
       "      <th></th>\n",
       "      <th></th>\n",
       "      <th></th>\n",
       "      <th></th>\n",
       "      <th></th>\n",
       "      <th></th>\n",
       "      <th></th>\n",
       "      <th></th>\n",
       "      <th></th>\n",
       "      <th></th>\n",
       "      <th></th>\n",
       "      <th></th>\n",
       "      <th></th>\n",
       "      <th></th>\n",
       "    </tr>\n",
       "  </thead>\n",
       "  <tbody>\n",
       "    <tr>\n",
       "      <th>28</th>\n",
       "      <td>0.508852</td>\n",
       "      <td>0.216422</td>\n",
       "      <td>0.499084</td>\n",
       "      <td>0.559219</td>\n",
       "      <td>0.386447</td>\n",
       "      <td>0.544872</td>\n",
       "      <td>0.320818</td>\n",
       "      <td>0.891026</td>\n",
       "      <td>0.278694</td>\n",
       "      <td>0.421856</td>\n",
       "      <td>0.514957</td>\n",
       "      <td>0.557082</td>\n",
       "      <td>0.276252</td>\n",
       "      <td>0.469780</td>\n",
       "      <td>0.389194</td>\n",
       "    </tr>\n",
       "    <tr>\n",
       "      <th>29</th>\n",
       "      <td>0.516789</td>\n",
       "      <td>0.227411</td>\n",
       "      <td>0.507631</td>\n",
       "      <td>0.568681</td>\n",
       "      <td>0.372100</td>\n",
       "      <td>0.542125</td>\n",
       "      <td>0.326923</td>\n",
       "      <td>0.879731</td>\n",
       "      <td>0.286020</td>\n",
       "      <td>0.422161</td>\n",
       "      <td>0.506716</td>\n",
       "      <td>0.566850</td>\n",
       "      <td>0.280830</td>\n",
       "      <td>0.470085</td>\n",
       "      <td>0.391026</td>\n",
       "    </tr>\n",
       "  </tbody>\n",
       "</table>\n",
       "</div>"
      ],
      "text/plain": [
       "              lockdown_days_from_peak_cases  lockdown_days_from_peak_deaths  \\\n",
       "rebound_days                                                                  \n",
       "28                                 0.508852                        0.216422   \n",
       "29                                 0.516789                        0.227411   \n",
       "\n",
       "              lockdown_days_to_peak_cases  lockdown_days_to_peak_deaths  \\\n",
       "rebound_days                                                              \n",
       "28                               0.499084                      0.559219   \n",
       "29                               0.507631                      0.568681   \n",
       "\n",
       "              lockdown_duration_days  lockdown_entry_level_cases  \\\n",
       "rebound_days                                                       \n",
       "28                          0.386447                    0.544872   \n",
       "29                          0.372100                    0.542125   \n",
       "\n",
       "              lockdown_entry_level_deaths  lockdown_exit_level_cases  \\\n",
       "rebound_days                                                           \n",
       "28                               0.320818                   0.891026   \n",
       "29                               0.326923                   0.879731   \n",
       "\n",
       "              lockdown_exit_level_deaths  lockdown_mean_mobility_level  \\\n",
       "rebound_days                                                             \n",
       "28                              0.278694                      0.421856   \n",
       "29                              0.286020                      0.422161   \n",
       "\n",
       "              lockdown_mean_value_cases_per_million  \\\n",
       "rebound_days                                          \n",
       "28                                         0.514957   \n",
       "29                                         0.506716   \n",
       "\n",
       "              lockdown_mean_value_deaths_per_100k  \\\n",
       "rebound_days                                        \n",
       "28                                       0.557082   \n",
       "29                                       0.566850   \n",
       "\n",
       "              lockdown_min_mobility_level  \\\n",
       "rebound_days                                \n",
       "28                               0.276252   \n",
       "29                               0.280830   \n",
       "\n",
       "              lockdown_peak_value_cases_per_million  \\\n",
       "rebound_days                                          \n",
       "28                                         0.469780   \n",
       "29                                         0.470085   \n",
       "\n",
       "              lockdown_peak_value_deaths_per_100k  \n",
       "rebound_days                                       \n",
       "28                                       0.389194  \n",
       "29                                       0.391026  "
      ]
     },
     "execution_count": 14,
     "metadata": {},
     "output_type": "execute_result"
    }
   ],
   "source": [
    "efs_for_rebound_days.groupby(efs_for_rebound_days['rebound_days']//1*1).apply(\n",
    "        lambda g: get_feature_imp(g, top_frac=.1)['top_frac_with_f']).unstack()"
   ]
  },
  {
   "cell_type": "code",
   "execution_count": 15,
   "metadata": {
    "execution": {
     "iopub.execute_input": "2020-07-28T11:20:59.765629Z",
     "iopub.status.busy": "2020-07-28T11:20:59.761069Z",
     "iopub.status.idle": "2020-07-28T11:21:01.441703Z",
     "shell.execute_reply": "2020-07-28T11:21:01.442842Z"
    },
    "papermill": {
     "duration": 1.748755,
     "end_time": "2020-07-28T11:21:01.443134",
     "exception": false,
     "start_time": "2020-07-28T11:20:59.694379",
     "status": "completed"
    },
    "tags": []
   },
   "outputs": [
    {
     "data": {
      "text/plain": [
       "lockdown_days_from_peak_deaths           0.221917\n",
       "lockdown_min_mobility_level              0.278541\n",
       "lockdown_exit_level_deaths               0.282357\n",
       "lockdown_entry_level_deaths              0.323871\n",
       "lockdown_duration_days                   0.379274\n",
       "lockdown_peak_value_deaths_per_100k      0.390110\n",
       "lockdown_mean_mobility_level             0.422009\n",
       "lockdown_peak_value_cases_per_million    0.469933\n",
       "lockdown_days_to_peak_cases              0.503358\n",
       "lockdown_mean_value_cases_per_million    0.510836\n",
       "lockdown_days_from_peak_cases            0.512821\n",
       "lockdown_entry_level_cases               0.543498\n",
       "lockdown_mean_value_deaths_per_100k      0.561966\n",
       "lockdown_days_to_peak_deaths             0.563950\n",
       "lockdown_exit_level_cases                0.885379\n",
       "dtype: float64"
      ]
     },
     "execution_count": 15,
     "metadata": {},
     "output_type": "execute_result"
    },
    {
     "data": {
      "image/png": "[encoded data removed]",
      "text/plain": [
       "<Figure size 1080x720 with 3 Axes>"
      ]
     },
     "metadata": {
      "needs_background": "light"
     },
     "output_type": "display_data"
    }
   ],
   "source": [
    "sns.set_context('talk')\n",
    "\n",
    "def adjust_feature_label(label):\n",
    "\n",
    "        return label.replace('lockdown_', '')\\\n",
    "            .replace('level', '')\\\n",
    "            .replace('value_','')\\\n",
    "            .replace('_per_100k','')\\\n",
    "            .replace('_per_million', '')\\\n",
    "            .replace('days', '')\\\n",
    "            .replace('_', ' ')\\\n",
    "            .replace('  ', ' ')\\\n",
    "            .strip().title()\n",
    "\n",
    "def plot_feature_importances(efs_for_rebound_days, p=0.1):\n",
    "\n",
    "    fig, (ax, bx) = plt.subplots(figsize=(15, 10), ncols=2)\n",
    "\n",
    "    # THE HEATMAP - shows the frequency of features in the top 100*p% of feature subsets by classification accuracy\n",
    "    avg_score_for_best_features_by_rebound_days = efs_for_rebound_days.groupby(efs_for_rebound_days['rebound_days']//1*1).apply(\n",
    "        lambda g: get_feature_imp(g, top_frac=p)['top_frac_with_f']).unstack()\n",
    "\n",
    "    sorted_index = avg_score_for_best_features_by_rebound_days.mean().sort_values(ascending=False).index\n",
    "\n",
    "    use_cmap = 'coolwarm'\n",
    "    sns.heatmap(avg_score_for_best_features_by_rebound_days.T.loc[sorted_index],\n",
    "                ax=ax, \n",
    "                vmin=0, vmax=1,\n",
    "                lw=1, linecolor='w', \n",
    "                annot = False, fmt='.2g', cmap=use_cmap, cbar=True, square=False, annot_kws=dict(fontsize=14),\n",
    "               )\n",
    "\n",
    "\n",
    "#     ax.set_xticklabels([int(label.get_text())//7 for label in ax.get_xticklabels()])\n",
    "#     ax.set_xticks(np.arange(0, 85, 2))\n",
    "    num_cols = len(avg_score_for_best_features_by_rebound_days.T.loc[sorted_index].columns)\n",
    "    ax.set_xlim(0, num_cols)\n",
    "    ax.set_xticks(np.arange(0, num_cols+1, 7))\n",
    "    ax.set_xticklabels(np.arange(28, 71, 7))\n",
    "    \n",
    "    ax.set_xlabel('(a) Days Since Re-Opening')\n",
    "\n",
    "    ylabels = [adjust_feature_label(label.get_text()) for label in ax.get_yticklabels()]\n",
    "    ax.set_yticklabels(ylabels)\n",
    "\n",
    "    ax.tick_params(axis=u'both', which=u'both',length=0)\n",
    "\n",
    "    ax.set_ylabel('Lockdown Features')\n",
    "\n",
    "\n",
    "    # THE BAR CHART - shows the average ferquency acropss the rebound days.\n",
    "    mean_freqs = avg_score_for_best_features_by_rebound_days.mean().T\n",
    "\n",
    "    std_freqs = avg_score_for_best_features_by_rebound_days.std().T\n",
    "\n",
    "    bar_colours = [plt.get_cmap(use_cmap)(v) for v in mean_freqs.loc[sorted_index[::-1]]]\n",
    "\n",
    "    mean_freqs.loc[sorted_index[::-1]].plot(ax=bx, kind='barh', edgecolor='k', lw=1, xerr=std_freqs.loc[sorted_index[::-1]], color=bar_colours, error_kw=dict(lw=1, capsize=5))\n",
    "\n",
    "    bx.set_xlabel('(b) Feature Frequency')\n",
    "    bx.set_yticklabels([])\n",
    "\n",
    "    bx.tick_params(axis=u'both', which=u'both',length=0)\n",
    "    \n",
    "    \n",
    "    def highlight_group(bx, label, y1, y2):\n",
    "        \n",
    "        bx.plot([0.85, 0.85], [y1, y2], c='k')\n",
    "        bx.text(.88, (y1+y2)/2, label, rotation=270, va='center')\n",
    "\n",
    "    highlight_group(bx, 'Group 1', 8.75, 13.25)\n",
    "    highlight_group(bx, 'Group 2', 3.75, 8.25)\n",
    "    highlight_group(bx, 'Group 3', -.25, 3.25)\n",
    "    \n",
    "    bx.axhline(13.5, c='k', ls=':')\n",
    "\n",
    "    bx.axhline(8.5, c='k', ls=':')\n",
    "\n",
    "    bx.axhline(3.5, c='k', ls=':')\n",
    "\n",
    "\n",
    "\n",
    "\n",
    "    \n",
    "    return fig, mean_freqs\n",
    "\n",
    "\n",
    "fig, mean_freqs = plot_feature_importances(efs_for_rebound_days, p=0.1)\n",
    "\n",
    "fig.tight_layout()\n",
    "\n",
    "fig.savefig('../graphs/feature_importance_{}.png'.format(dataset), dpi=300, format='png', tight_layout=True)\n",
    "\n",
    "mean_freqs.sort_values()"
   ]
  },
  {
   "cell_type": "markdown",
   "metadata": {
    "papermill": {
     "duration": 0.061786,
     "end_time": "2020-07-28T11:21:01.593571",
     "exception": false,
     "start_time": "2020-07-28T11:21:01.531785",
     "status": "completed"
    },
    "tags": []
   },
   "source": [
    "We can see here how the `exit cases` feature is by far the most frequent among the top 10% of feature subsets regardless of the prediction horizon (rebound weeks). The other featuresa appear significantly less frequently on on a steadily decreasing mean frequency scale with varying standard deviations"
   ]
  },
  {
   "cell_type": "markdown",
   "metadata": {
    "papermill": {
     "duration": 0.159727,
     "end_time": "2020-07-28T11:21:02.029935",
     "exception": false,
     "start_time": "2020-07-28T11:21:01.870208",
     "status": "completed"
    },
    "tags": []
   },
   "source": [
    "## Comparing Individual Feature Subsets\n",
    "The feature importance values tell us about the frequencies with which individual features occur in the top performing feature subsets but they dont tell us about which features tend to co-occur with which other features. In make predictions in practice we need to decide on a subset of features to use and for simplicity it would be nice to use the same feature subset regardless of the prediction horizon. So, which feature subset should we use and how effective will it be?"
   ]
  },
  {
   "cell_type": "code",
   "execution_count": 16,
   "metadata": {
    "execution": {
     "iopub.execute_input": "2020-07-28T11:21:02.333431Z",
     "iopub.status.busy": "2020-07-28T11:21:02.332387Z",
     "iopub.status.idle": "2020-07-28T11:21:02.344617Z",
     "shell.execute_reply": "2020-07-28T11:21:02.345498Z"
    },
    "papermill": {
     "duration": 0.220328,
     "end_time": "2020-07-28T11:21:02.345799",
     "exception": false,
     "start_time": "2020-07-28T11:21:02.125471",
     "status": "completed"
    },
    "tags": []
   },
   "outputs": [
    {
     "data": {
      "text/plain": [
       "('lockdown_exit_level_cases', 'lockdown_peak_value_cases_per_million')"
      ]
     },
     "execution_count": 16,
     "metadata": {},
     "output_type": "execute_result"
    }
   ],
   "source": [
    "min_mean_features = efs_for_rebound_days.groupby('feature_names')['avg_err'].mean().sort_values(ascending=True).index[0]\n",
    "min_mean_features"
   ]
  },
  {
   "cell_type": "code",
   "execution_count": 17,
   "metadata": {
    "execution": {
     "iopub.execute_input": "2020-07-28T11:21:02.500435Z",
     "iopub.status.busy": "2020-07-28T11:21:02.499323Z",
     "iopub.status.idle": "2020-07-28T11:21:03.545761Z",
     "shell.execute_reply": "2020-07-28T11:21:03.546878Z"
    },
    "papermill": {
     "duration": 1.12782,
     "end_time": "2020-07-28T11:21:03.547170",
     "exception": false,
     "start_time": "2020-07-28T11:21:02.419350",
     "status": "completed"
    },
    "tags": []
   },
   "outputs": [
    {
     "data": {
      "text/plain": [
       "('lockdown_exit_level_cases', 'lockdown_peak_value_cases_per_million')"
      ]
     },
     "execution_count": 17,
     "metadata": {},
     "output_type": "execute_result"
    }
   ],
   "source": [
    "min_max_features = efs_for_rebound_days.groupby('feature_names')['avg_err'].max().sort_values(ascending=True).index[0]\n",
    "min_max_features"
   ]
  },
  {
   "cell_type": "code",
   "execution_count": 18,
   "metadata": {
    "execution": {
     "iopub.execute_input": "2020-07-28T11:21:04.106735Z",
     "iopub.status.busy": "2020-07-28T11:21:04.105688Z",
     "iopub.status.idle": "2020-07-28T11:21:04.782468Z",
     "shell.execute_reply": "2020-07-28T11:21:04.783358Z"
    },
    "papermill": {
     "duration": 0.865616,
     "end_time": "2020-07-28T11:21:04.783663",
     "exception": false,
     "start_time": "2020-07-28T11:21:03.918047",
     "status": "completed"
    },
    "tags": []
   },
   "outputs": [
    {
     "data": {
      "text/plain": [
       "('lockdown_mean_mobility_level',\n",
       " 'lockdown_entry_level_cases',\n",
       " 'lockdown_exit_level_cases',\n",
       " 'lockdown_mean_value_deaths_per_100k')"
      ]
     },
     "execution_count": 18,
     "metadata": {},
     "output_type": "execute_result"
    }
   ],
   "source": [
    "min_min_features = efs_for_rebound_days.groupby('feature_names')['avg_err'].min().sort_values(ascending=True).index[0]\n",
    "min_min_features"
   ]
  },
  {
   "cell_type": "code",
   "execution_count": 19,
   "metadata": {
    "execution": {
     "iopub.execute_input": "2020-07-28T11:21:05.331833Z",
     "iopub.status.busy": "2020-07-28T11:21:05.330531Z",
     "iopub.status.idle": "2020-07-28T11:21:05.933915Z",
     "shell.execute_reply": "2020-07-28T11:21:05.934814Z"
    },
    "papermill": {
     "duration": 1.021127,
     "end_time": "2020-07-28T11:21:05.935120",
     "exception": false,
     "start_time": "2020-07-28T11:21:04.913993",
     "status": "completed"
    },
    "tags": []
   },
   "outputs": [
    {
     "data": {
      "text/plain": [
       "('lockdown_exit_level_cases',)"
      ]
     },
     "execution_count": 19,
     "metadata": {},
     "output_type": "execute_result"
    }
   ],
   "source": [
    "best_single_feature = efs_for_rebound_days[efs_for_rebound_days['n']==1].groupby('feature_names')['avg_err'].mean().sort_values(ascending=True).index[0]\n",
    "best_single_feature"
   ]
  },
  {
   "cell_type": "code",
   "execution_count": 20,
   "metadata": {
    "execution": {
     "iopub.execute_input": "2020-07-28T11:21:06.074314Z",
     "iopub.status.busy": "2020-07-28T11:21:06.073064Z",
     "iopub.status.idle": "2020-07-28T11:21:06.560341Z",
     "shell.execute_reply": "2020-07-28T11:21:06.561504Z"
    },
    "papermill": {
     "duration": 0.575946,
     "end_time": "2020-07-28T11:21:06.561818",
     "exception": false,
     "start_time": "2020-07-28T11:21:05.985872",
     "status": "completed"
    },
    "tags": []
   },
   "outputs": [
    {
     "data": {
      "text/plain": [
       "('lockdown_min_mobility_level',\n",
       " 'lockdown_mean_mobility_level',\n",
       " 'lockdown_duration_days',\n",
       " 'lockdown_days_to_peak_cases',\n",
       " 'lockdown_days_from_peak_cases',\n",
       " 'lockdown_entry_level_cases',\n",
       " 'lockdown_exit_level_cases',\n",
       " 'lockdown_peak_value_cases_per_million',\n",
       " 'lockdown_mean_value_cases_per_million',\n",
       " 'lockdown_days_to_peak_deaths',\n",
       " 'lockdown_days_from_peak_deaths',\n",
       " 'lockdown_entry_level_deaths',\n",
       " 'lockdown_exit_level_deaths',\n",
       " 'lockdown_peak_value_deaths_per_100k',\n",
       " 'lockdown_mean_value_deaths_per_100k')"
      ]
     },
     "execution_count": 20,
     "metadata": {},
     "output_type": "execute_result"
    }
   ],
   "source": [
    "all_features = efs_for_rebound_days[efs_for_rebound_days['n']==15].groupby('feature_names')['avg_err'].mean().sort_values(ascending=True).index[0]\n",
    "all_features"
   ]
  },
  {
   "cell_type": "code",
   "execution_count": 21,
   "metadata": {
    "execution": {
     "iopub.execute_input": "2020-07-28T11:21:06.831658Z",
     "iopub.status.busy": "2020-07-28T11:21:06.830506Z",
     "iopub.status.idle": "2020-07-28T11:21:07.333768Z",
     "shell.execute_reply": "2020-07-28T11:21:07.334980Z"
    },
    "papermill": {
     "duration": 0.64784,
     "end_time": "2020-07-28T11:21:07.335329",
     "exception": false,
     "start_time": "2020-07-28T11:21:06.687489",
     "status": "completed"
    },
    "tags": []
   },
   "outputs": [],
   "source": [
    "# The optimal feature subets for each individual prediction horizon, so that we can judge how close a particulare feature subset is to optimal.\n",
    "optimal_avg_error = efs_for_rebound_days.groupby('rebound_days').apply(lambda g: g.sort_values(by='avg_err', ascending=True).iloc[0]['avg_err'])"
   ]
  },
  {
   "cell_type": "code",
   "execution_count": 22,
   "metadata": {
    "execution": {
     "iopub.execute_input": "2020-07-28T11:21:07.711727Z",
     "iopub.status.busy": "2020-07-28T11:21:07.710516Z",
     "iopub.status.idle": "2020-07-28T11:21:09.260302Z",
     "shell.execute_reply": "2020-07-28T11:21:09.261159Z"
    },
    "papermill": {
     "duration": 1.853235,
     "end_time": "2020-07-28T11:21:09.261461",
     "exception": false,
     "start_time": "2020-07-28T11:21:07.408226",
     "status": "completed"
    },
    "tags": []
   },
   "outputs": [
    {
     "data": {
      "image/png": "[encoded data removed]",
      "text/plain": [
       "<Figure size 864x432 with 2 Axes>"
      ]
     },
     "metadata": {
      "needs_background": "light"
     },
     "output_type": "display_data"
    }
   ],
   "source": [
    "sns.set_context('talk')\n",
    "\n",
    "fig, ax = plt.subplots(figsize=(12, 6))\n",
    "\n",
    "min_mean_error = efs_for_rebound_days[efs_for_rebound_days['feature_names']==min_mean_features].set_index('rebound_days')['avg_err']\n",
    "min_max_error = efs_for_rebound_days[efs_for_rebound_days['feature_names']==min_max_features].set_index('rebound_days')['avg_err']\n",
    "min_min_error = efs_for_rebound_days[efs_for_rebound_days['feature_names']==min_min_features].set_index('rebound_days')['avg_err']\n",
    "\n",
    "# The lockdown_exit_level_cases feature on its own.\n",
    "best_single_error = efs_for_rebound_days[efs_for_rebound_days['feature_names']==best_single_feature].set_index('rebound_days')['avg_err']\n",
    "\n",
    "# All of the features\n",
    "all_error = efs_for_rebound_days[efs_for_rebound_days['feature_names']==all_features].set_index('rebound_days')['avg_err']\n",
    "\n",
    "min_mean_error.plot(ax=ax, label='Min-Mean', lw=1.5, marker='o', markersize=7, markerfacecolor='none', color='tab:blue')\n",
    "min_max_error.plot(ax=ax, label='Min-Max', lw=1.5, marker='o', markersize=7, markerfacecolor='none', color='tab:orange')\n",
    "min_min_error.plot(ax=ax, label='Min-Min', lw=1.5, marker='o', markersize=7, markerfacecolor='none', color='tab:green')\n",
    "\n",
    "best_single_error.plot(ax=ax, label='Best Single', lw=1.5, marker='o', markersize=7, markerfacecolor='none', color='tab:red')\n",
    "all_error.plot(ax=ax, label='All', lw=1.5, marker='o', markersize=7, markerfacecolor='none', color='tab:purple')\n",
    "\n",
    "\n",
    "ax2=ax.twinx()\n",
    "\n",
    "optimal_avg_error.plot(ax=ax2, c='grey', ls='--', label='Optimal')\n",
    "\n",
    "mean_error = efs_for_rebound_days.groupby('rebound_days')['avg_err'].mean()\n",
    "mean_error.plot(ax=ax2, label='Overall Mean', c='grey', ls=':')\n",
    "\n",
    "\n",
    "ax.set_ylim(0, .29)\n",
    "ax2.set_ylim(0, .29)\n",
    "ax2.set_yticklabels([])\n",
    "\n",
    "ax.legend(ncol=5, loc='upper center', fontsize=14)\n",
    "ax2.legend(ncol=2, loc='lower center', fontsize=14)\n",
    "\n",
    "\n",
    "ax.set_xlabel('Days Since Re-Opening')\n",
    "ax.set_ylabel('Classification Error')\n",
    "\n",
    "\n",
    "\n",
    "\n",
    "fig.tight_layout()\n",
    "\n",
    "fig.savefig('../graphs/err_by_weeks_{}.png'.format(dataset), dpi=300, format='png', tight_layout=True)"
   ]
  },
  {
   "cell_type": "code",
   "execution_count": 23,
   "metadata": {
    "execution": {
     "iopub.execute_input": "2020-07-28T11:21:09.494035Z",
     "iopub.status.busy": "2020-07-28T11:21:09.492847Z",
     "iopub.status.idle": "2020-07-28T11:21:10.266139Z",
     "shell.execute_reply": "2020-07-28T11:21:10.267251Z"
    },
    "papermill": {
     "duration": 0.884626,
     "end_time": "2020-07-28T11:21:10.267588",
     "exception": false,
     "start_time": "2020-07-28T11:21:09.382962",
     "status": "completed"
    },
    "tags": []
   },
   "outputs": [
    {
     "data": {
      "text/plain": [
       "[0.10178571428571426,\n",
       " 0.10178571428571426,\n",
       " 0.10178571428571426,\n",
       " 0.12232142857142858,\n",
       " 0.11250000000000004,\n",
       " 0.19285714285714284,\n",
       " 0.20500130248642423]"
      ]
     },
     "execution_count": 23,
     "metadata": {},
     "output_type": "execute_result"
    },
    {
     "data": {
      "image/png": "[encoded data removed]",
      "text/plain": [
       "<Figure size 864x432 with 1 Axes>"
      ]
     },
     "metadata": {
      "needs_background": "light"
     },
     "output_type": "display_data"
    }
   ],
   "source": [
    "fig, bx = plt.subplots(figsize=(12, 6))\n",
    "\n",
    "\n",
    "bx.bar(\n",
    "    ['Optimal', 'Min-Mean', 'Min-Max', 'Min-Min', 'Best\\nSingle', 'All', 'Overall\\nMean'], \n",
    "    [optimal_avg_error.mean(), min_mean_error.mean(), min_max_error.mean(), min_min_error.mean(), best_single_error.mean(), all_error.mean(), mean_error.mean()],\n",
    "    yerr=[optimal_avg_error.std(), min_mean_error.std(), min_max_error.std(), min_min_error.std(), best_single_error.std(), all_error.std(), mean_error.std()], \n",
    "    width=.75, color=['grey', 'tab:blue', 'tab:orange', 'tab:green', 'tab:red', 'tab:purple', 'grey'], edgecolor='k', lw=1.5, capsize=5\n",
    ")\n",
    "\n",
    "min_mean_labels = [adjust_feature_label(f) for f in min_mean_features]\n",
    "bx.annotate(\n",
    "    ',\\n'.join(min_mean_labels), \n",
    "    xy=(1, min_mean_error.mean()+.025), rotation=0, fontsize=11, style='italic', ha='center'\n",
    ")\n",
    "\n",
    "min_max_labels = [adjust_feature_label(f) for f in min_max_features]\n",
    "bx.annotate(\n",
    "    ',\\n'.join(min_max_labels), \n",
    "    xy=(2, min_max_error.mean()+.022), rotation=0, fontsize=11, style='italic', ha='center'\n",
    ")\n",
    "\n",
    "min_min_labels = [adjust_feature_label(f) for f in min_min_features]\n",
    "bx.annotate(\n",
    "    ',\\n'.join(min_min_labels), \n",
    "    xy=(3, min_min_error.mean()+.04), rotation=0, fontsize=11, style='italic', ha='center'\n",
    ")\n",
    "\n",
    "\n",
    "best_single_label = adjust_feature_label(best_single_feature[0])\n",
    "bx.annotate(\n",
    "    best_single_label,\n",
    "    xy=(4, best_single_error.mean()+.021), rotation=0, fontsize=11, style='italic', ha='center'\n",
    ")\n",
    "bx.set_ylim(0, .29)\n",
    "\n",
    "bx.set_xlabel('Feature Subset')\n",
    "bx.set_ylabel('Classification Error')\n",
    "\n",
    "bx.plot([.7, 5.3], [.265, .265], lw=2, c='k')\n",
    "bx.plot([.7, .7], [.26, .27], lw=2, c='k')\n",
    "bx.plot([5.3, 5.3], [.26, .27], lw=2, c='k')\n",
    "bx.text(3, .275, 'Same Individual Feature Subset (for all $d$)', ha='center', style='oblique')\n",
    "\n",
    "\n",
    "\n",
    "fig.savefig('../graphs/mean_err_{}.png'.format(dataset), dpi=300, format='png', tight_layout=True)\n",
    "[optimal_avg_error.mean(), min_mean_error.mean(), min_max_error.mean(), min_min_error.mean(), best_single_error.mean(), all_error.mean(), mean_error.mean()]"
   ]
  },
  {
   "cell_type": "markdown",
   "metadata": {
    "papermill": {
     "duration": 0.077898,
     "end_time": "2020-07-28T11:21:10.494888",
     "exception": false,
     "start_time": "2020-07-28T11:21:10.416990",
     "status": "completed"
    },
    "tags": []
   },
   "source": [
    "### Statistical Comparison"
   ]
  },
  {
   "cell_type": "code",
   "execution_count": 24,
   "metadata": {
    "execution": {
     "iopub.execute_input": "2020-07-28T11:21:11.047104Z",
     "iopub.status.busy": "2020-07-28T11:21:11.045814Z",
     "iopub.status.idle": "2020-07-28T11:21:11.050249Z",
     "shell.execute_reply": "2020-07-28T11:21:11.051365Z"
    },
    "papermill": {
     "duration": 0.095511,
     "end_time": "2020-07-28T11:21:11.051625",
     "exception": false,
     "start_time": "2020-07-28T11:21:10.956114",
     "status": "completed"
    },
    "tags": []
   },
   "outputs": [
    {
     "data": {
      "text/plain": [
       "F_onewayResult(statistic=17.304347826086868, pvalue=0.003924736508609667)"
      ]
     },
     "execution_count": 24,
     "metadata": {},
     "output_type": "execute_result"
    }
   ],
   "source": [
    "f_oneway(min_mean_error, min_max_error, min_min_error, best_single_error, all_error)"
   ]
  },
  {
   "cell_type": "code",
   "execution_count": 25,
   "metadata": {
    "execution": {
     "iopub.execute_input": "2020-07-28T11:21:11.309894Z",
     "iopub.status.busy": "2020-07-28T11:21:11.308840Z",
     "iopub.status.idle": "2020-07-28T11:21:11.665857Z",
     "shell.execute_reply": "2020-07-28T11:21:11.667048Z"
    },
    "papermill": {
     "duration": 0.571414,
     "end_time": "2020-07-28T11:21:11.667380",
     "exception": false,
     "start_time": "2020-07-28T11:21:11.095966",
     "status": "completed"
    },
    "tags": []
   },
   "outputs": [
    {
     "name": "stdout",
     "output_type": "stream",
     "text": [
      "    Multiple Comparison of Means - Tukey HSD, FWER=0.01    \n",
      "===========================================================\n",
      " group1     group2   meandiff p-adj   lower   upper  reject\n",
      "-----------------------------------------------------------\n",
      "     all     min_max  -0.0911  0.002 -0.1579 -0.0242   True\n",
      "     all    min_mean  -0.0911  0.002 -0.1579 -0.0242   True\n",
      "     all     min_min  -0.0705 0.0076 -0.1374 -0.0037   True\n",
      "     all     optimal  -0.0911  0.002 -0.1579 -0.0242   True\n",
      "     all single_best  -0.0804 0.0039 -0.1472 -0.0135   True\n",
      " min_max    min_mean      0.0    0.9 -0.0669  0.0669  False\n",
      " min_max     min_min   0.0205 0.5577 -0.0463  0.0874  False\n",
      " min_max     optimal      0.0    0.9 -0.0669  0.0669  False\n",
      " min_max single_best   0.0107    0.9 -0.0561  0.0776  False\n",
      "min_mean     min_min   0.0205 0.5577 -0.0463  0.0874  False\n",
      "min_mean     optimal      0.0    0.9 -0.0669  0.0669  False\n",
      "min_mean single_best   0.0107    0.9 -0.0561  0.0776  False\n",
      " min_min     optimal  -0.0205 0.5577 -0.0874  0.0463  False\n",
      " min_min single_best  -0.0098    0.9 -0.0767   0.057  False\n",
      " optimal single_best   0.0107    0.9 -0.0561  0.0776  False\n",
      "-----------------------------------------------------------\n"
     ]
    },
    {
     "data": {
      "text/plain": [
       "optimal        0.101786\n",
       "min_mean       0.101786\n",
       "min_max        0.101786\n",
       "min_min        0.122321\n",
       "single_best    0.112500\n",
       "all            0.192857\n",
       "dtype: float64"
      ]
     },
     "execution_count": 25,
     "metadata": {},
     "output_type": "execute_result"
    }
   ],
   "source": [
    "# from https://pythonhealthcare.org/2018/04/13/55-statistics-multi-comparison-with-tukeys-test-and-the-holm-bonferroni-method/\n",
    "\n",
    "df = pd.DataFrame()\n",
    "df['optimal'] = optimal_avg_error\n",
    "df['min_mean'] = min_mean_error\n",
    "df['min_max'] = min_max_error\n",
    "df['min_min'] = min_min_error\n",
    "df['single_best'] = best_single_error\n",
    "df['all'] = all_error\n",
    "\n",
    "\n",
    "stacked_data = df.stack().reset_index()\n",
    "stacked_data = stacked_data.rename(columns={'level_0': 'id',\n",
    "                                            'level_1': 'treatment',\n",
    "                                            0:'result'})\n",
    "\n",
    "MultiComp = MultiComparison(stacked_data['result'],\n",
    "                            stacked_data['treatment'])\n",
    "\n",
    "# Show all pair-wise comparisons:\n",
    "\n",
    "# Print the comparisons\n",
    "\n",
    "print(MultiComp.tukeyhsd(alpha=.01).summary())\n",
    "\n",
    "df.mean()"
   ]
  },
  {
   "cell_type": "markdown",
   "metadata": {
    "papermill": {
     "duration": 0.043736,
     "end_time": "2020-07-28T11:21:11.759629",
     "exception": false,
     "start_time": "2020-07-28T11:21:11.715893",
     "status": "completed"
    },
    "tags": []
   },
   "source": [
    "## The Best Performing Subsets"
   ]
  },
  {
   "cell_type": "code",
   "execution_count": 26,
   "metadata": {
    "execution": {
     "iopub.execute_input": "2020-07-28T11:21:11.918701Z",
     "iopub.status.busy": "2020-07-28T11:21:11.917627Z",
     "iopub.status.idle": "2020-07-28T11:21:11.919764Z",
     "shell.execute_reply": "2020-07-28T11:21:11.920956Z"
    },
    "papermill": {
     "duration": 0.067337,
     "end_time": "2020-07-28T11:21:11.921389",
     "exception": false,
     "start_time": "2020-07-28T11:21:11.854052",
     "status": "completed"
    },
    "tags": []
   },
   "outputs": [],
   "source": [
    "def eval_subset(feature_subset, expanded_lockdowns, check_rebound_days):\n",
    "    \n",
    "    all_actuals, all_preds = [], []\n",
    "    \n",
    "    for rebound_days in check_rebound_days:\n",
    "                        \n",
    "        lockdowns_for_days = expanded_lockdowns[expanded_lockdowns['rebound_duration_days']==rebound_days]\n",
    "\n",
    "        X = lockdowns_for_days[feature_subset]\n",
    "        \n",
    "        y = lockdowns_for_days['is_increasing_rebound']\n",
    "\n",
    "        scaled_X = pd.DataFrame(preprocessing.scale(X), columns=X.columns, index=X.index)\n",
    "\n",
    "        loo = LeaveOneOut()\n",
    "        clf = GradientBoostingClassifier()\n",
    "\n",
    "        preds = cross_val_predict(clf, scaled_X[feature_subset], y, cv=10, n_jobs=-1)\n",
    "    \n",
    "        all_actuals.extend(y)\n",
    "        all_preds.extend(preds)\n",
    "    \n",
    "    cm = confusion_matrix(all_actuals, all_preds)\n",
    "    \n",
    "    tn, fp, fn, tp = cm.ravel()\n",
    "\n",
    "    tpr = tp/(tp+fn)\n",
    "    tnr = tn/(tn+fp)\n",
    "    ppv = tp/(tp+fp)\n",
    "    npv = tn/(tn+fn)\n",
    "    fnr = 1-tpr\n",
    "    fpr = 1-tnr\n",
    "    acc = (tp+tn)/(tp+tn+fp+fn)\n",
    "    \n",
    "    return acc, tpr, fpr, tnr, fnr, cm"
   ]
  },
  {
   "cell_type": "code",
   "execution_count": 27,
   "metadata": {
    "execution": {
     "iopub.execute_input": "2020-07-28T11:21:12.076702Z",
     "iopub.status.busy": "2020-07-28T11:21:12.069976Z",
     "iopub.status.idle": "2020-07-28T11:21:12.220254Z",
     "shell.execute_reply": "2020-07-28T11:21:12.219317Z"
    },
    "papermill": {
     "duration": 0.240624,
     "end_time": "2020-07-28T11:21:12.220496",
     "exception": false,
     "start_time": "2020-07-28T11:21:11.979872",
     "status": "completed"
    },
    "tags": []
   },
   "outputs": [],
   "source": [
    "# Adapted from: https://github.com/DTrimarchi10/confusion_matrix\n",
    "\n",
    "def make_confusion_matrix(cf,\n",
    "                          group_names=None,\n",
    "                          categories='auto',\n",
    "                          count=True,\n",
    "                          percent=True,\n",
    "                          cbar=True,\n",
    "                          xyticks=True,\n",
    "                          xyplotlabels=True,\n",
    "                          sum_stats=True,\n",
    "                          figsize=None,\n",
    "                          cmap='Blues',\n",
    "                          title=None, \n",
    "                          show_rates=True):\n",
    "    '''\n",
    "    This function will make a pretty plot of an sklearn Confusion Matrix cm using a Seaborn heatmap visualization.\n",
    "    Arguments\n",
    "    ---------\n",
    "    cf:            confusion matrix to be passed in\n",
    "    group_names:   List of strings that represent the labels row by row to be shown in each square.\n",
    "    categories:    List of strings containing the categories to be displayed on the x,y axis. Default is 'auto'\n",
    "    count:         If True, show the raw number in the confusion matrix. Default is True.\n",
    "    normalize:     If True, show the proportions for each category. Default is True.\n",
    "    cbar:          If True, show the color bar. The cbar values are based off the values in the confusion matrix.\n",
    "                   Default is True.\n",
    "    xyticks:       If True, show x and y ticks. Default is True.\n",
    "    xyplotlabels:  If True, show 'True Label' and 'Predicted Label' on the figure. Default is True.\n",
    "    sum_stats:     If True, display summary statistics below the figure. Default is True.\n",
    "    figsize:       Tuple representing the figure size. Default will be the matplotlib rcParams value.\n",
    "    cmap:          Colormap of the values displayed from matplotlib.pyplot.cm. Default is 'Blues'\n",
    "                   See http://matplotlib.org/examples/color/colormaps_reference.html\n",
    "                   \n",
    "    title:         Title for the heatmap. Default is None.\n",
    "    '''\n",
    "\n",
    "\n",
    "    # CODE TO GENERATE TEXT INSIDE EACH SQUARE\n",
    "    blanks = ['' for i in range(cf.size)]\n",
    "\n",
    "    if group_names and len(group_names)==cf.size:\n",
    "        group_labels = [\"{}\\n\".format(value) for value in group_names]\n",
    "    else:\n",
    "        group_labels = blanks\n",
    "\n",
    "    if count:\n",
    "        group_counts = [\"{0:0.0f}\\n\".format(value) for value in cf.flatten()]\n",
    "    else:\n",
    "        group_counts = blanks\n",
    "\n",
    "    if percent:\n",
    "        group_percentages = [\"{0:.2%}\".format(value) for value in cf.flatten()/np.sum(cf)]\n",
    "    if show_rates:\n",
    "        group_percentages = [\n",
    "            \"{0:.2%}\".format(cf[0][0]/(cf[0][0]+cf[0][1])),\n",
    "            \"{0:.2%}\".format(cf[0][1]/(cf[0][0]+cf[0][1])),\n",
    "            \"{0:.2%}\".format(cf[1][0]/(cf[1][0]+cf[1][1])),\n",
    "            \"{0:.2%}\".format(cf[1][1]/(cf[1][0]+cf[1][1])),\n",
    "        ]\n",
    "    \n",
    "    else:\n",
    "        group_percentages = blanks\n",
    "\n",
    "    box_labels = [f\"{v1}{v2}{v3}\".strip() for v1, v2, v3 in zip(group_labels,group_counts,group_percentages)]\n",
    "    box_labels = np.asarray(box_labels).reshape(cf.shape[0],cf.shape[1])\n",
    "\n",
    "\n",
    "    # CODE TO GENERATE SUMMARY STATISTICS & TEXT FOR SUMMARY STATS\n",
    "    if sum_stats:\n",
    "        #Accuracy is sum of diagonal divided by total observations\n",
    "        accuracy  = np.trace(cf) / float(np.sum(cf))\n",
    "\n",
    "        #if it is a binary confusion matrix, show some more stats\n",
    "        if len(cf)==2:\n",
    "            #Metrics for Binary Confusion Matrices\n",
    "            precision = cf[1,1] / sum(cf[:,1])\n",
    "            recall    = cf[1,1] / sum(cf[1,:])\n",
    "            f1_score  = 2*precision*recall / (precision + recall)\n",
    "            stats_text = \"\\n\\nAccuracy={:0.3f}\\nPrecision={:0.3f}\\nRecall={:0.3f}\\nF1 Score={:0.3f}\".format(\n",
    "                accuracy,precision,recall,f1_score)\n",
    "        else:\n",
    "            stats_text = \"\\n\\nAccuracy={:0.3f}\".format(accuracy)\n",
    "    else:\n",
    "        stats_text = \"\"\n",
    "\n",
    "\n",
    "    # SET FIGURE PARAMETERS ACCORDING TO OTHER ARGUMENTS\n",
    "    if figsize==None:\n",
    "        #Get default figure size if not set\n",
    "        figsize = plt.rcParams.get('figure.figsize')\n",
    "\n",
    "    if xyticks==False:\n",
    "        #Do not show categories if xyticks is False\n",
    "        categories=False\n",
    "\n",
    "\n",
    "    # MAKE THE HEATMAP VISUALIZATION\n",
    "    plt.figure(figsize=figsize)\n",
    "    sns.heatmap(cf,annot=box_labels,fmt=\"\",cmap=cmap,cbar=cbar,xticklabels=categories,yticklabels=categories)\n",
    "    plt.yticks(plt.yticks()[0], categories, rotation=90, va=\"center\")\n",
    "    if xyplotlabels:\n",
    "        plt.ylabel('Actual', style='italic')\n",
    "        plt.xlabel('Predicted' + stats_text, style='italic')\n",
    "    else:\n",
    "        plt.xlabel(stats_text)\n",
    "    \n",
    "    if title:\n",
    "        plt.title(title)\n",
    "        \n",
    "    plt.tick_params(axis=u'both', which=u'both',length=0)\n",
    "\n",
    "    plt.tight_layout()\n",
    "    \n",
    "    return plt"
   ]
  },
  {
   "cell_type": "markdown",
   "metadata": {
    "papermill": {
     "duration": 0.05353,
     "end_time": "2020-07-28T11:21:12.333329",
     "exception": false,
     "start_time": "2020-07-28T11:21:12.279799",
     "status": "completed"
    },
    "tags": []
   },
   "source": [
    "## Min-Mean"
   ]
  },
  {
   "cell_type": "code",
   "execution_count": 28,
   "metadata": {
    "execution": {
     "iopub.execute_input": "2020-07-28T11:21:12.538214Z",
     "iopub.status.busy": "2020-07-28T11:21:12.537472Z",
     "iopub.status.idle": "2020-07-28T11:21:23.661740Z",
     "shell.execute_reply": "2020-07-28T11:21:23.662428Z"
    },
    "papermill": {
     "duration": 11.192719,
     "end_time": "2020-07-28T11:21:23.662624",
     "exception": false,
     "start_time": "2020-07-28T11:21:12.469905",
     "status": "completed"
    },
    "tags": []
   },
   "outputs": [
    {
     "data": {
      "text/plain": [
       "(0.1856767794632439,\n",
       " 0.8143232205367561,\n",
       " 0.8305983337541025,\n",
       " 0.2079447322970639,\n",
       " 0.7920552677029361,\n",
       " 0.16940166624589748,\n",
       " array([[2293,  602],\n",
       "        [ 671, 3290]]))"
      ]
     },
     "execution_count": 28,
     "metadata": {},
     "output_type": "execute_result"
    },
    {
     "data": {
      "image/png": "[encoded data removed]",
      "text/plain": [
       "<Figure size 432x288 with 1 Axes>"
      ]
     },
     "metadata": {
      "needs_background": "light"
     },
     "output_type": "display_data"
    }
   ],
   "source": [
    "acc, tpr, fpr, tnr, fnr, cm = eval_subset(list(min_mean_features), use_expanded_lockdowns, check_rebound_days)\n",
    "\n",
    "fig = make_confusion_matrix(\n",
    "    cm, cbar=False, percent=False, sum_stats=False,\n",
    "    group_names=['True Neg','False Pos','False Neg','True Pos'],\n",
    "    categories=['Unsuccessful', 'Successful'],\n",
    ")\n",
    "\n",
    "fig.title('Min-Mean (mean error = {:.2f})'.format(1-acc))\n",
    "fig.savefig('../graphs/min_mean_cm_{}.png'.format(dataset), dpi=300, format='png', tight_layout=True)\n",
    "\n",
    "(1-acc), acc, tpr, fpr, tnr, fnr, cm"
   ]
  },
  {
   "cell_type": "markdown",
   "metadata": {
    "papermill": {
     "duration": 0.135282,
     "end_time": "2020-07-28T11:21:23.861525",
     "exception": false,
     "start_time": "2020-07-28T11:21:23.726243",
     "status": "completed"
    },
    "tags": []
   },
   "source": [
    "## Min-Max"
   ]
  },
  {
   "cell_type": "code",
   "execution_count": 29,
   "metadata": {
    "execution": {
     "iopub.execute_input": "2020-07-28T11:21:23.970604Z",
     "iopub.status.busy": "2020-07-28T11:21:23.969837Z",
     "iopub.status.idle": "2020-07-28T11:21:30.273410Z",
     "shell.execute_reply": "2020-07-28T11:21:30.274453Z"
    },
    "papermill": {
     "duration": 6.363409,
     "end_time": "2020-07-28T11:21:30.274748",
     "exception": false,
     "start_time": "2020-07-28T11:21:23.911339",
     "status": "completed"
    },
    "tags": []
   },
   "outputs": [
    {
     "data": {
      "text/plain": [
       "(0.1855309218203034,\n",
       " 0.8144690781796966,\n",
       " 0.8303458722544812,\n",
       " 0.20725388601036265,\n",
       " 0.7927461139896373,\n",
       " 0.1696541277455188,\n",
       " array([[2295,  600],\n",
       "        [ 672, 3289]]))"
      ]
     },
     "execution_count": 29,
     "metadata": {},
     "output_type": "execute_result"
    },
    {
     "data": {
      "image/png": "[encoded data removed]",
      "text/plain": [
       "<Figure size 432x288 with 1 Axes>"
      ]
     },
     "metadata": {
      "needs_background": "light"
     },
     "output_type": "display_data"
    }
   ],
   "source": [
    "acc, tpr, fpr, tnr, fnr, cm = eval_subset(list(min_max_features), use_expanded_lockdowns, check_rebound_days)\n",
    "\n",
    "fig = make_confusion_matrix(\n",
    "    cm, cbar=False, percent=False, sum_stats=False,\n",
    "    group_names=['True Neg','False Pos','False Neg','True Pos'],\n",
    "    categories=['Unsuccessful', 'Successful'],\n",
    ")\n",
    "\n",
    "fig.title('Min-Max (mean error = {:.2f})'.format(1-acc))\n",
    "\n",
    "\n",
    "fig.savefig('../graphs/min_max_cm_{}.png'.format(dataset), dpi=300, format='png', tight_layout=True)\n",
    "\n",
    "\n",
    "\n",
    "(1-acc), acc, tpr, fpr, tnr, fnr, cm"
   ]
  },
  {
   "cell_type": "markdown",
   "metadata": {
    "papermill": {
     "duration": 0.038217,
     "end_time": "2020-07-28T11:21:30.358396",
     "exception": false,
     "start_time": "2020-07-28T11:21:30.320179",
     "status": "completed"
    },
    "tags": []
   },
   "source": [
    "## Min-Min"
   ]
  },
  {
   "cell_type": "code",
   "execution_count": 30,
   "metadata": {
    "execution": {
     "iopub.execute_input": "2020-07-28T11:21:30.455203Z",
     "iopub.status.busy": "2020-07-28T11:21:30.448741Z",
     "iopub.status.idle": "2020-07-28T11:21:36.829021Z",
     "shell.execute_reply": "2020-07-28T11:21:36.829735Z"
    },
    "papermill": {
     "duration": 6.430677,
     "end_time": "2020-07-28T11:21:36.829908",
     "exception": false,
     "start_time": "2020-07-28T11:21:30.399231",
     "status": "completed"
    },
    "tags": []
   },
   "outputs": [
    {
     "data": {
      "text/plain": [
       "(0.17357059509918316,\n",
       " 0.8264294049008168,\n",
       " 0.8530674072203989,\n",
       " 0.2100172711571675,\n",
       " 0.7899827288428325,\n",
       " 0.14693259277960113,\n",
       " array([[2287,  608],\n",
       "        [ 582, 3379]]))"
      ]
     },
     "execution_count": 30,
     "metadata": {},
     "output_type": "execute_result"
    },
    {
     "data": {
      "image/png": "[encoded data removed]",
      "text/plain": [
       "<Figure size 432x288 with 1 Axes>"
      ]
     },
     "metadata": {
      "needs_background": "light"
     },
     "output_type": "display_data"
    }
   ],
   "source": [
    "acc, tpr, fpr, tnr, fnr, cm = eval_subset(list(min_min_features), use_expanded_lockdowns, check_rebound_days)\n",
    "\n",
    "fig = make_confusion_matrix(\n",
    "    cm, cbar=False, percent=False, sum_stats=False,\n",
    "    group_names=['True Neg','False Pos','False Neg','True Pos'],\n",
    "    categories=['Unsuccessful', 'Successful'],\n",
    ")\n",
    "\n",
    "fig.title('Min-Min (mean error = {:.2f})'.format(1-acc))\n",
    "\n",
    "fig.savefig('../graphs/min_min_cm_{}.png'.format(dataset), dpi=300, format='png', tight_layout=True)\n",
    "\n",
    "(1-acc), acc, tpr, fpr, tnr, fnr, cm"
   ]
  },
  {
   "cell_type": "markdown",
   "metadata": {
    "papermill": {
     "duration": 0.273284,
     "end_time": "2020-07-28T11:21:37.239405",
     "exception": false,
     "start_time": "2020-07-28T11:21:36.966121",
     "status": "completed"
    },
    "tags": []
   },
   "source": [
    "## Best Single"
   ]
  },
  {
   "cell_type": "code",
   "execution_count": 31,
   "metadata": {
    "execution": {
     "iopub.execute_input": "2020-07-28T11:21:37.430291Z",
     "iopub.status.busy": "2020-07-28T11:21:37.429540Z",
     "iopub.status.idle": "2020-07-28T11:21:43.279119Z",
     "shell.execute_reply": "2020-07-28T11:21:43.280114Z"
    },
    "papermill": {
     "duration": 5.998759,
     "end_time": "2020-07-28T11:21:43.280424",
     "exception": false,
     "start_time": "2020-07-28T11:21:37.281665",
     "status": "completed"
    },
    "tags": []
   },
   "outputs": [
    {
     "data": {
      "text/plain": [
       "(0.17459159859976658,\n",
       " 0.8254084014002334,\n",
       " 0.8545821762181267,\n",
       " 0.21450777202072535,\n",
       " 0.7854922279792746,\n",
       " 0.1454178237818733,\n",
       " array([[2274,  621],\n",
       "        [ 576, 3385]]))"
      ]
     },
     "execution_count": 31,
     "metadata": {},
     "output_type": "execute_result"
    },
    {
     "data": {
      "image/png": "[encoded data removed]",
      "text/plain": [
       "<Figure size 432x288 with 1 Axes>"
      ]
     },
     "metadata": {
      "needs_background": "light"
     },
     "output_type": "display_data"
    }
   ],
   "source": [
    "acc, tpr, fpr, tnr, fnr, cm = eval_subset([best_single_feature[0]], use_expanded_lockdowns, check_rebound_days)\n",
    "\n",
    "fig = make_confusion_matrix(\n",
    "    cm, cbar=False, percent=False, sum_stats=False,\n",
    "    group_names=['True Neg','False Pos','False Neg','True Pos'],\n",
    "    categories=['Unsuccessful', 'Successful'],\n",
    ")\n",
    "\n",
    "fig.title('Best Single (mean error = {:.2f})'.format(1-acc))\n",
    "\n",
    "fig.savefig('../graphs/best_single_cm_{}.png'.format(dataset), dpi=300, format='png', tight_layout=True)\n",
    "\n",
    "\n",
    "\n",
    "(1-acc), acc, tpr, fpr, tnr, fnr, cm"
   ]
  },
  {
   "cell_type": "markdown",
   "metadata": {
    "papermill": {
     "duration": 0.050175,
     "end_time": "2020-07-28T11:21:43.384712",
     "exception": false,
     "start_time": "2020-07-28T11:21:43.334537",
     "status": "completed"
    },
    "tags": []
   },
   "source": [
    "## All"
   ]
  },
  {
   "cell_type": "code",
   "execution_count": 32,
   "metadata": {
    "execution": {
     "iopub.execute_input": "2020-07-28T11:21:43.494944Z",
     "iopub.status.busy": "2020-07-28T11:21:43.487337Z",
     "iopub.status.idle": "2020-07-28T11:21:51.089872Z",
     "shell.execute_reply": "2020-07-28T11:21:51.090736Z"
    },
    "papermill": {
     "duration": 7.656354,
     "end_time": "2020-07-28T11:21:51.090969",
     "exception": false,
     "start_time": "2020-07-28T11:21:43.434615",
     "status": "completed"
    },
    "tags": []
   },
   "outputs": [
    {
     "data": {
      "text/plain": [
       "(0.17955075845974333,\n",
       " 0.8204492415402567,\n",
       " 0.8437263317344105,\n",
       " 0.21139896373057,\n",
       " 0.78860103626943,\n",
       " 0.15627366826558953,\n",
       " array([[2283,  612],\n",
       "        [ 619, 3342]]))"
      ]
     },
     "execution_count": 32,
     "metadata": {},
     "output_type": "execute_result"
    },
    {
     "data": {
      "image/png": "[encoded data removed]",
      "text/plain": [
       "<Figure size 432x288 with 1 Axes>"
      ]
     },
     "metadata": {
      "needs_background": "light"
     },
     "output_type": "display_data"
    }
   ],
   "source": [
    "acc, tpr, fpr, tnr, fnr, cm = eval_subset(list(all_features), use_expanded_lockdowns, check_rebound_days)\n",
    "\n",
    "fig = make_confusion_matrix(\n",
    "    cm, cbar=False, percent=False, sum_stats=False,\n",
    "    group_names=['True Neg','False Pos','False Neg','True Pos'],\n",
    "    categories=['Unsuccessful', 'Successful'],\n",
    ")\n",
    "\n",
    "fig.title('All Features (mean error = {:.2f})'.format(1-acc))\n",
    "\n",
    "fig.savefig('../graphs/all_cm_{}.png'.format(dataset), dpi=300, format='png', tight_layout=True)\n",
    "\n",
    "\n",
    "\n",
    "(1-acc), acc, tpr, fpr, tnr, fnr, cm"
   ]
  },
  {
   "cell_type": "code",
   "execution_count": null,
   "metadata": {
    "papermill": {
     "duration": 0.042401,
     "end_time": "2020-07-28T11:21:51.179966",
     "exception": false,
     "start_time": "2020-07-28T11:21:51.137565",
     "status": "completed"
    },
    "tags": []
   },
   "outputs": [],
   "source": []
  }
 ],
 "metadata": {
  "kernelspec": {
   "display_name": "COVID-19",
   "language": "python",
   "name": "covid-19"
  },
  "language_info": {
   "codemirror_mode": {
    "name": "ipython",
    "version": 3
   },
   "file_extension": ".py",
   "mimetype": "text/x-python",
   "name": "python",
   "nbconvert_exporter": "python",
   "pygments_lexer": "ipython3",
   "version": "3.7.7"
  },
  "papermill": {
   "duration": 61.001682,
   "end_time": "2020-07-28T11:21:52.641393",
   "environment_variables": {},
   "exception": null,
   "input_path": "analysing_feature_subsets.ipynb",
   "output_path": "output/analysing_feature_subsets.ipynb",
   "parameters": {
    "dataset": "eu_us",
    "from_rebound_days": 28,
    "to_rebound_days": 71
   },
   "start_time": "2020-07-28T11:20:51.639711",
   "version": "2.1.2"
  }
 },
 "nbformat": 4,
 "nbformat_minor": 4
}