{
 "cells": [
  {
   "cell_type": "markdown",
   "metadata": {},
   "source": [
    "# Master OWID Dataset (Minimal Version)\n",
    "In this version we focus on cases/deaths and gogole mobility only and in a way that allows for aggergations across different groupings. To do this we need to limit the raw data to new cases/deaths and we need to convert google mobility data to a per capital measure."
   ]
  },
  {
   "cell_type": "code",
   "execution_count": 1,
   "metadata": {},
   "outputs": [],
   "source": [
    "from datetime import date, datetime, timedelta\n",
    "\n",
    "\n",
    "import pandas as pd\n",
    "import numpy as np\n",
    "\n",
    "from loguru import logger\n",
    "import pycountry\n",
    "\n",
    "%matplotlib inline"
   ]
  },
  {
   "cell_type": "markdown",
   "metadata": {},
   "source": [
    "# Params"
   ]
  },
  {
   "cell_type": "code",
   "execution_count": 2,
   "metadata": {},
   "outputs": [],
   "source": [
    "owid_dataset = 'https://covid.ourworldindata.org/data/owid-covid-data.csv'\n",
    "google_raw_dataset = 'https://www.gstatic.com/covid19/mobility/Global_Mobility_Report.csv'\n",
    "\n",
    "minimal_owid_covid_dataset = '../data/processed/minimal_owid_covid.csv'\n",
    "\n",
    "\n"
   ]
  },
  {
   "cell_type": "markdown",
   "metadata": {},
   "source": [
    "# The Our World in Data Dataset"
   ]
  },
  {
   "cell_type": "markdown",
   "metadata": {},
   "source": [
    "## Load the OWID Dataset "
   ]
  },
  {
   "cell_type": "code",
   "execution_count": 3,
   "metadata": {},
   "outputs": [
    {
     "name": "stderr",
     "output_type": "stream",
     "text": [
      "2020-07-28 15:49:14.098 | INFO     | __main__:<module>:1 - Loading OWID dataset @ https://covid.ourworldindata.org/data/owid-covid-data.csv\n"
     ]
    },
    {
     "data": {
      "text/plain": [
       "((33207, 34), 212)"
      ]
     },
     "execution_count": 3,
     "metadata": {},
     "output_type": "execute_result"
    }
   ],
   "source": [
    "logger.info('Loading OWID dataset @ %s' % owid_dataset)\n",
    "\n",
    "owid = pd.read_csv(owid_dataset, parse_dates=['date'], low_memory=False)\n",
    "owid.shape, owid.location.nunique()"
   ]
  },
  {
   "cell_type": "code",
   "execution_count": 4,
   "metadata": {},
   "outputs": [
    {
     "data": {
      "text/plain": [
       "Timestamp('2020-07-28 00:00:00')"
      ]
     },
     "execution_count": 4,
     "metadata": {},
     "output_type": "execute_result"
    }
   ],
   "source": [
    "owid = owid.rename(columns={\n",
    "    'iso_code': 'country_code',\n",
    "    'location': 'country'\n",
    "})\n",
    "\n",
    "owid.date.max()"
   ]
  },
  {
   "cell_type": "code",
   "execution_count": 5,
   "metadata": {},
   "outputs": [
    {
     "data": {
      "text/plain": [
       "((32890, 34), 209)"
      ]
     },
     "execution_count": 5,
     "metadata": {},
     "output_type": "execute_result"
    }
   ],
   "source": [
    "# Drop disputed Kosovo because it causes problems with country codes later\n",
    "owid = owid[owid['country']!='Kosovo']\n",
    "\n",
    "# Drop Falklands because they are without a region\n",
    "owid = owid[owid['country']!='Falkland Islands']\n",
    "\n",
    "# Drop missing country codes\n",
    "owid = owid.dropna(subset=['country_code'])\n",
    "\n",
    "owid.shape, owid.country.nunique()"
   ]
  },
  {
   "cell_type": "code",
   "execution_count": 6,
   "metadata": {},
   "outputs": [
    {
     "data": {
      "text/plain": [
       "208"
      ]
     },
     "execution_count": 6,
     "metadata": {},
     "output_type": "execute_result"
    }
   ],
   "source": [
    "countries_with_some_cases = owid.groupby('country')['total_cases'].max()\n",
    "countries_with_some_cases = countries_with_some_cases[countries_with_some_cases>0].index\n",
    "\n",
    "len(countries_with_some_cases)"
   ]
  },
  {
   "cell_type": "code",
   "execution_count": 7,
   "metadata": {},
   "outputs": [
    {
     "data": {
      "text/plain": [
       "((32863, 34), 208)"
      ]
     },
     "execution_count": 7,
     "metadata": {},
     "output_type": "execute_result"
    }
   ],
   "source": [
    "owid = owid[owid['country'].isin(countries_with_some_cases)]\n",
    "\n",
    "owid.shape, owid['country'].nunique()"
   ]
  },
  {
   "cell_type": "markdown",
   "metadata": {},
   "source": [
    "## Add the 2 letter codes"
   ]
  },
  {
   "cell_type": "code",
   "execution_count": 8,
   "metadata": {},
   "outputs": [
    {
     "data": {
      "text/plain": [
       "((32652, 35), 207)"
      ]
     },
     "execution_count": 8,
     "metadata": {},
     "output_type": "execute_result"
    }
   ],
   "source": [
    "def lookup_country_code(code, **kwargs):\n",
    "    country = pycountry.countries.get(**kwargs)\n",
    "    \n",
    "    if country: return getattr(country, code)\n",
    "\n",
    "\n",
    "owid['country_id'] = owid['country_code'].apply(\n",
    "    lambda country_code: lookup_country_code('alpha_2', alpha_3=country_code)\n",
    ")\n",
    "\n",
    "owid = owid[owid['country_id'].notnull()]\n",
    "\n",
    "owid.shape, owid.country.nunique()"
   ]
  },
  {
   "cell_type": "markdown",
   "metadata": {},
   "source": [
    "## Add Regions"
   ]
  },
  {
   "cell_type": "code",
   "execution_count": 9,
   "metadata": {},
   "outputs": [],
   "source": [
    "owid['region'] = None"
   ]
  },
  {
   "cell_type": "markdown",
   "metadata": {},
   "source": [
    "### The Americas"
   ]
  },
  {
   "cell_type": "code",
   "execution_count": 10,
   "metadata": {},
   "outputs": [
    {
     "data": {
      "text/plain": [
       "(region\n",
       " carribean           25\n",
       " central_america      7\n",
       " northern_america     4\n",
       " Name: country, dtype: int64,\n",
       " 171)"
      ]
     },
     "execution_count": 10,
     "metadata": {},
     "output_type": "execute_result"
    }
   ],
   "source": [
    "north_america = {\n",
    "    'northern_america': ['United States', 'Canada', 'Mexico', 'Greenland'],\n",
    "    \n",
    "    'central_america': ['Belize', 'Costa Rica', 'El Salvador', 'Guatemala', 'Honduras', 'Nicaragua', 'Panama'],\n",
    "    \n",
    "    'carribean': [\n",
    "         'Anguilla', 'Antigua and Barbuda', 'Aruba', 'Bahamas', 'Barbados', 'Bermuda', 'British Virgin Islands', \n",
    "        'Cayman Islands', 'Cuba', 'Curacao', 'Dominica', 'Dominican Republic', 'Grenada', 'Guadeloupe', 'Haiti', \n",
    "        'Jamaica', 'Martinique', 'Montserrat', 'Puerto Rico', 'Saint Kitts and Nevis', 'Saint Lucia', 'Sint Maarten (Dutch part)',\n",
    "        'Saint Vincent and the Grenadines', 'Trinidad and Tobago', 'United States Virgin Islands', \n",
    "        'Bonaire Sint Eustatius and Saba', 'Turks and Caicos Islands']\n",
    "    \n",
    "}\n",
    "\n",
    "\n",
    "\n",
    "for label,countries in north_america.items():\n",
    "    for country in countries:\n",
    "        owid['region'] = np.where(owid['country']==country, label, owid['region'])\n",
    "\n",
    "owid.groupby('region')['country'].nunique(),  owid[owid['region'].isnull()].country.nunique()"
   ]
  },
  {
   "cell_type": "code",
   "execution_count": 11,
   "metadata": {},
   "outputs": [
    {
     "data": {
      "text/plain": [
       "(region\n",
       " andean_republics          5\n",
       " caribbean_republics       3\n",
       " carribean                25\n",
       " central_america           7\n",
       " northern_america          4\n",
       " river_plate_republics     4\n",
       " Name: country, dtype: int64,\n",
       " 159)"
      ]
     },
     "execution_count": 11,
     "metadata": {},
     "output_type": "execute_result"
    }
   ],
   "source": [
    "south_america = {\n",
    "    \n",
    "    'caribbean_republics ': ['Colombia', 'Venezuela', 'Guyana', 'Suriname', 'French Guiana'],\n",
    "    \n",
    "    'andean_republics': ['Bolivia', 'Ecuador', 'Chile', 'Colombia', 'Peru'],\n",
    "    \n",
    "    'river_plate_republics': ['Uruguay', 'Paraguay', 'Argentina', 'Brazil'],\n",
    "}\n",
    "\n",
    "\n",
    "for label,countries in south_america.items():\n",
    "    for country in countries:\n",
    "        owid['region'] = np.where(owid['country']==country, label, owid['region'])\n",
    "\n",
    "owid.groupby('region')['country'].nunique(),  owid[owid['region'].isnull()].country.nunique()\n",
    "    "
   ]
  },
  {
   "cell_type": "markdown",
   "metadata": {},
   "source": [
    "### Europe"
   ]
  },
  {
   "cell_type": "code",
   "execution_count": 12,
   "metadata": {},
   "outputs": [
    {
     "data": {
      "text/plain": [
       "(region\n",
       " andean_republics          5\n",
       " caribbean_republics       3\n",
       " carribean                25\n",
       " central_america           7\n",
       " eu                       27\n",
       " non-eu                   22\n",
       " northern_america          4\n",
       " river_plate_republics     4\n",
       " Name: country, dtype: int64,\n",
       " 110)"
      ]
     },
     "execution_count": 12,
     "metadata": {},
     "output_type": "execute_result"
    }
   ],
   "source": [
    "europe = {\n",
    "#     'northern_europe': [\n",
    "#         'Denmark', 'Estonia', 'Faeroe Islands', 'Finland',\n",
    "#        'Guernsey', 'Iceland', 'Ireland', 'Isle of Man', 'Jersey',\n",
    "#        'Latvia', 'Lithuania', 'Norway', 'Sweden', 'United Kingdom'\n",
    "#     ],\n",
    "    \n",
    "#     'southern_europe': [\n",
    "#         'Albania', 'Andorra', 'Bosnia and Herzegovina', 'Croatia',\n",
    "#        'Gibraltar', 'Greece', 'Italy', 'Macedonia', 'Malta', 'Montenegro',\n",
    "#        'Portugal', 'San Marino', 'Serbia', 'Slovenia', 'Spain', 'Vatican'\n",
    "#     ],\n",
    "    \n",
    "#     'eastern_europe': [\n",
    "#         'Belarus', 'Bulgaria', 'Czech Republic', 'Hungary', 'Moldova',\n",
    "#        'Poland', 'Romania', 'Russia', 'Slovakia', 'Ukraine'\n",
    "#     ],\n",
    "    \n",
    "#     'western_europe': [\n",
    "#         'Austria', 'Belgium', 'France', 'Germany', 'Liechtenstein',\n",
    "#        'Luxembourg', 'Monaco', 'Netherlands', 'Switzerland'\n",
    "#     ],\n",
    "    \n",
    "    'non-eu': {\n",
    "        'Faeroe Islands', 'Guernsey', 'Iceland', 'Isle of Man', 'Jersey', 'Norway', 'United Kingdom',\n",
    "        'Albania', 'Andorra', 'Bosnia and Herzegovina', 'Gibraltar', 'Macedonia', 'Montenegro',\n",
    "        'San Marino', 'Serbia', 'Vatican', 'Belarus', 'Moldova',\n",
    "        'Russia', 'Ukraine', 'Switzerland', 'Liechtenstein',\n",
    "    },\n",
    "    \n",
    "    'eu': {\n",
    "        'Austria', 'Belgium', 'Bulgaria', 'Croatia','Cyprus', 'Czech Republic', 'Denmark', \n",
    "        'Estonia', 'Finland', 'France', 'Germany', 'Greece', 'Hungary', 'Ireland', 'Italy', 'Latvia', 'Lithuania', \n",
    "        'Luxembourg', 'Malta', 'Netherlands', 'Poland', 'Portugal', 'Romania', 'Slovakia', 'Slovenia', 'Spain', 'Sweden',\n",
    "        \n",
    "    }\n",
    "    \n",
    "    \n",
    "}\n",
    "\n",
    "\n",
    "for label,countries in europe.items():\n",
    "    for country in countries:\n",
    "        owid['region'] = np.where(owid['country']==country, label, owid['region'])\n",
    "        \n",
    "\n",
    "owid.groupby('region')['country'].nunique(),  owid[owid['region'].isnull()].country.nunique()"
   ]
  },
  {
   "cell_type": "markdown",
   "metadata": {},
   "source": [
    "### Africa's Regions"
   ]
  },
  {
   "cell_type": "code",
   "execution_count": 13,
   "metadata": {},
   "outputs": [],
   "source": [
    "owid['continent'] = np.where(owid['country']=='Egypt', 'Asia', owid['continent'])"
   ]
  },
  {
   "cell_type": "code",
   "execution_count": 14,
   "metadata": {},
   "outputs": [
    {
     "data": {
      "text/plain": [
       "(region\n",
       " andean_republics          5\n",
       " caribbean_republics       3\n",
       " carribean                25\n",
       " central_africa            9\n",
       " central_america           7\n",
       " east_africa              18\n",
       " eu                       27\n",
       " non-eu                   22\n",
       " north_africa              6\n",
       " northern_america          4\n",
       " river_plate_republics     4\n",
       " southern_africa           5\n",
       " west_africa              17\n",
       " Name: country, dtype: int64,\n",
       " 55)"
      ]
     },
     "execution_count": 14,
     "metadata": {},
     "output_type": "execute_result"
    }
   ],
   "source": [
    "africa = {\n",
    "    'north_africa': [\n",
    "        'Algeria' ,'Canary Islands' ,'Ceuta' ,'Egypt' ,'Libya' ,\n",
    "        'Madeira' ,'Melilla' ,'Morocco' ,'Sahrawi Arab Democratic Republic' ,\n",
    "        'Sudan' ,'Tunisia'\n",
    "    ],\n",
    "\n",
    "    'east_africa': [\n",
    "        'Burundi', 'Comoros', 'Djibouti', 'Eritrea', 'Ethiopia', 'French Southern Territories', \n",
    "        'Kenya', 'Madagascar', 'Malawi', 'Mauritius', 'Mayotte', 'Mozambique', 'Reunion', \n",
    "        'Rwanda', 'Seychelles', 'Somalia', 'Somaliland', 'South Sudan', 'Tanzania', 'Uganda', \n",
    "        'Zambia', 'Zimbabwe', \n",
    "    ],\n",
    "\n",
    "    'central_africa': [\n",
    "        'Angola', 'Cameroon', 'Central African Republic', 'Chad', \n",
    "        'Democratic Republic of Congo', 'Congo', \n",
    "        'Equatorial Guinea', 'Gabon', 'Sao Tome and Principe'\n",
    "    ],\n",
    "\n",
    "    'west_africa': [\n",
    "        'Benin', 'Burkina Faso', 'Cape Verde', \"Cote d'Ivoire\", 'Gambia', 'Ghana', \n",
    "        'Guinea', 'Guinea-Bissau', 'Liberia', 'Mali', 'Mauritania', 'Niger', 'Nigeria', \n",
    "        'Saint Helena, Ascension and Tristan da Cunha', 'Senegal', 'Sierra Leone', 'Togo',\n",
    "        'Western Sahara'\n",
    "    ],\n",
    "\n",
    "    'southern_africa': [\n",
    "        'Botswana', 'Swaziland', 'Lesotho', 'Namibia', 'South Africa'\n",
    "    ],\n",
    "}\n",
    "\n",
    "for label,countries in africa.items():\n",
    "    for country in countries:\n",
    "        owid['region'] = np.where(owid['country']==country, label, owid['region'])\n",
    "        \n",
    "owid.groupby('region')['country'].nunique(),  owid[owid['region'].isnull()].country.nunique()"
   ]
  },
  {
   "cell_type": "markdown",
   "metadata": {},
   "source": [
    "### Asia's Regions"
   ]
  },
  {
   "cell_type": "code",
   "execution_count": 15,
   "metadata": {},
   "outputs": [],
   "source": [
    "# Adjust Cyprus\n",
    "owid['continent'] = np.where(owid['country']=='Cyprus', 'Asia', owid['continent'])"
   ]
  },
  {
   "cell_type": "code",
   "execution_count": 16,
   "metadata": {},
   "outputs": [
    {
     "data": {
      "text/plain": [
       "(region\n",
       " andean_republics          5\n",
       " caribbean_republics       3\n",
       " carribean                25\n",
       " central_africa            9\n",
       " central_america           7\n",
       " central_asia              4\n",
       " east_africa              18\n",
       " east_asia                 5\n",
       " eu                       27\n",
       " middle_east              15\n",
       " non-eu                   22\n",
       " north_africa              5\n",
       " northern_america          4\n",
       " river_plate_republics     4\n",
       " south_asia                8\n",
       " south_east_asia          11\n",
       " southern_africa           5\n",
       " west_africa              17\n",
       " western_asia              4\n",
       " Name: country, dtype: int64,\n",
       " 9)"
      ]
     },
     "execution_count": 16,
     "metadata": {},
     "output_type": "execute_result"
    }
   ],
   "source": [
    "asia = {\n",
    "    'central_asia': ['Tajikistan', 'Uzbekistan', 'Kazakhstan', 'Turkmenistan', 'Kyrgyzstan'],\n",
    "    \n",
    "    'east_asia': ['China', 'Mongolia', 'North Korea', 'South Korea', 'Japan', 'Hong Kong', 'Taiwan', 'Macau'],\n",
    "    \n",
    "    'south_asia': ['Sri Lanka', 'Bangladesh', 'India', 'Afghanistan', 'Pakistan', 'Bhutan', 'Nepal', 'Maldives'],\n",
    "    \n",
    "    'south_east_asia': ['Brunei', 'Cambodia', 'Indonesia', 'Laos', 'Malaysia', 'Myanmar', 'Philippines','Singapore', 'Thailand', 'Timor', 'Vietnam', 'Christmas Island', 'Cocos Islands'],\n",
    "    \n",
    "    'western_asia': ['Georgia', 'Armenia', 'Azerbaijan', 'Turkey'],\n",
    "    \n",
    "    'middle_east': ['Bahrain', 'Egypt', 'Iran', 'Iraq', 'Israel', 'Jordan', 'Kuwait', 'Lebanon', 'Oman', 'Palestine', 'Qatar', 'Saudi Arabia', 'Syria', 'United Arab Emirates', 'Yemen'],\n",
    "\n",
    "    \n",
    "}\n",
    "\n",
    "\n",
    "for label,countries in asia.items():\n",
    "    for country in countries:\n",
    "        owid['region'] = np.where(owid['country']==country, label, owid['region'])\n",
    "        \n",
    "\n",
    "owid.groupby('region')['country'].nunique(),  owid[owid['region'].isnull()].country.nunique()"
   ]
  },
  {
   "cell_type": "code",
   "execution_count": 17,
   "metadata": {},
   "outputs": [],
   "source": [
    "# Adjust Georgia to avoid name clash with US state else where.\n",
    "owid['country'] = np.where(owid['country']=='Georgia', 'Georgia (W. Asia)', owid['country'])"
   ]
  },
  {
   "cell_type": "markdown",
   "metadata": {},
   "source": [
    "### Oceania's Regions"
   ]
  },
  {
   "cell_type": "code",
   "execution_count": 18,
   "metadata": {},
   "outputs": [
    {
     "data": {
      "text/plain": [
       "(continent      region                        \n",
       " Africa         central_africa                     9\n",
       "                east_africa                       18\n",
       "                north_africa                       5\n",
       "                southern_africa                    5\n",
       "                west_africa                       17\n",
       " Asia           central_asia                       4\n",
       "                east_asia                          5\n",
       "                eu                                 1\n",
       "                middle_east                       15\n",
       "                south_asia                         8\n",
       "                south_east_asia                   11\n",
       "                western_asia                       4\n",
       " Europe         eu                                26\n",
       "                non-eu                            22\n",
       " North America  carribean                         25\n",
       "                central_america                    7\n",
       "                northern_america                   4\n",
       " Oceania        australasia                        2\n",
       "                melanesia_micronesia_polynesia     6\n",
       " South America  andean_republics                   5\n",
       "                caribbean_republics                3\n",
       "                river_plate_republics              4\n",
       " Name: country, dtype: int64,\n",
       " continent\n",
       " Africa           54\n",
       " Asia             48\n",
       " Europe           49\n",
       " North America    36\n",
       " Oceania           8\n",
       " South America    12\n",
       " Name: country, dtype: int64,\n",
       " 1)"
      ]
     },
     "execution_count": 18,
     "metadata": {},
     "output_type": "execute_result"
    }
   ],
   "source": [
    "oceania = {\n",
    "    'australasia': ['Australia', 'New Zealand'],\n",
    "    \n",
    "    'melanesia_micronesia_polynesia': [\n",
    "        \n",
    "        # melanesia\n",
    "        'Fiji', 'New Caledonia', 'Papua New Guinea', 'Solomon Islands', 'Vanuatu',\n",
    "    \n",
    "        # micronesia\n",
    "        'Guam', 'Kiribati', 'Marshall Islands', 'Micronesia (Federated States of)', \n",
    "        'Nauru', 'Northern Mariana Islands', 'Palau', 'United States Minor Outlying Islands',\n",
    "        \n",
    "        # polynesia\n",
    "        'American Samoa', 'Cook Islands', 'Easter Island', 'French Polynesia', \n",
    "        'Niue', 'Norfolk Island', 'Pitcairn Islands', 'Samoa', \n",
    "        'Tokelau', 'Tonga', 'Tuvalu', 'Wallis and Futuna','Rotuma Rotuma'\n",
    "    ],\n",
    "    \n",
    "}\n",
    "\n",
    "\n",
    "for label,countries in oceania.items():\n",
    "    for country in countries:\n",
    "        owid['region'] = np.where(owid['country']==country, label, owid['region'])\n",
    "        \n",
    "\n",
    "owid.groupby(['continent', 'region'])['country'].nunique(),  owid.groupby(['continent'])['country'].nunique(), owid[owid['region'].isnull()].country.nunique()"
   ]
  },
  {
   "cell_type": "code",
   "execution_count": 19,
   "metadata": {},
   "outputs": [
    {
     "data": {
      "text/plain": [
       "(array(['Monaco'], dtype=object), 207)"
      ]
     },
     "execution_count": 19,
     "metadata": {},
     "output_type": "execute_result"
    }
   ],
   "source": [
    "owid[owid['region'].isnull()].country.unique(), owid.country.nunique()"
   ]
  },
  {
   "cell_type": "code",
   "execution_count": 20,
   "metadata": {},
   "outputs": [
    {
     "data": {
      "text/plain": [
       "((32652, 36), 207)"
      ]
     },
     "execution_count": 20,
     "metadata": {},
     "output_type": "execute_result"
    }
   ],
   "source": [
    "owid = owid.dropna(subset=['country_code', 'country_id'])\n",
    "owid.shape, owid['country_code'].nunique()"
   ]
  },
  {
   "cell_type": "markdown",
   "metadata": {},
   "source": [
    "## Save as backup "
   ]
  },
  {
   "cell_type": "code",
   "execution_count": 21,
   "metadata": {},
   "outputs": [
    {
     "name": "stderr",
     "output_type": "stream",
     "text": [
      "2020-07-28 15:49:20.348 | INFO     | __main__:<module>:1 - Saving raw OWID dataset @ ../data/raw/raw_owid_dataset.csv\n"
     ]
    }
   ],
   "source": [
    "logger.info('Saving raw OWID dataset @ %s' % '../data/raw/raw_owid_dataset.csv')\n",
    "\n",
    "owid.to_csv('../data/raw/raw_owid_dataset.csv', index=False)"
   ]
  },
  {
   "cell_type": "markdown",
   "metadata": {},
   "source": [
    "# The Google Mobility Dataset"
   ]
  },
  {
   "cell_type": "code",
   "execution_count": 22,
   "metadata": {},
   "outputs": [
    {
     "name": "stderr",
     "output_type": "stream",
     "text": [
      "2020-07-28 15:49:22.432 | INFO     | __main__:<module>:1 - Loading Google Mobility dataset @ https://www.gstatic.com/covid19/mobility/Global_Mobility_Report.csv\n"
     ]
    },
    {
     "data": {
      "text/plain": [
       "((713528, 13), Timestamp('2020-07-21 00:00:00'))"
      ]
     },
     "execution_count": 22,
     "metadata": {},
     "output_type": "execute_result"
    }
   ],
   "source": [
    "logger.info('Loading Google Mobility dataset @ %s' % google_raw_dataset)\n",
    "\n",
    "google = pd.read_csv(google_raw_dataset, parse_dates=['date'], low_memory=False)\n",
    "\n",
    "google.shape, google.date.max()"
   ]
  },
  {
   "cell_type": "markdown",
   "metadata": {},
   "source": [
    "## Save raw data as backup"
   ]
  },
  {
   "cell_type": "code",
   "execution_count": 23,
   "metadata": {},
   "outputs": [
    {
     "name": "stderr",
     "output_type": "stream",
     "text": [
      "2020-07-28 15:49:27.555 | INFO     | __main__:<module>:1 - Saving Google Mobility dataset @ ../data/raw/raw_google_dataset.csv\n"
     ]
    },
    {
     "data": {
      "text/plain": [
       "(713528, 13)"
      ]
     },
     "execution_count": 23,
     "metadata": {},
     "output_type": "execute_result"
    }
   ],
   "source": [
    "logger.info('Saving Google Mobility dataset @ %s' % '../data/raw/raw_google_dataset.csv')\n",
    "\n",
    "google.to_csv('../data/raw/raw_google_dataset.csv', index=False)\n",
    "google.shape"
   ]
  },
  {
   "cell_type": "code",
   "execution_count": 24,
   "metadata": {},
   "outputs": [
    {
     "data": {
      "text/plain": [
       "<matplotlib.axes._subplots.AxesSubplot at 0x7f744a6274d0>"
      ]
     },
     "execution_count": 24,
     "metadata": {},
     "output_type": "execute_result"
    },
    {
     "data": {
      "image/png": "[encoded data removed]",
      "text/plain": [
       "<Figure size 432x288 with 1 Axes>"
      ]
     },
     "metadata": {
      "needs_background": "light"
     },
     "output_type": "display_data"
    }
   ],
   "source": [
    "google[(google['country_region_code']=='IE') & (google['sub_region_1'].isnull())].filter(like='from_baseline').rolling(7).mean().plot()"
   ]
  },
  {
   "cell_type": "markdown",
   "metadata": {},
   "source": [
    "## Country level mobility"
   ]
  },
  {
   "cell_type": "code",
   "execution_count": 25,
   "metadata": {},
   "outputs": [
    {
     "data": {
      "text/plain": [
       "((21037, 5),\n",
       " 134,\n",
       " array(['United Arab Emirates', 'Afghanistan', 'Antigua and Barbuda',\n",
       "        'Angola', 'Argentina', 'Austria', 'Australia', 'Aruba',\n",
       "        'Bosnia and Herzegovina', 'Barbados', 'Bangladesh', 'Belgium',\n",
       "        'Burkina Faso', 'Bulgaria', 'Bahrain', 'Benin', 'Bolivia',\n",
       "        'Brazil', 'The Bahamas', 'Botswana', 'Belarus', 'Belize', 'Canada',\n",
       "        'Switzerland', \"Côte d'Ivoire\", 'Chile', 'Cameroon', 'Colombia',\n",
       "        'Costa Rica', 'Cape Verde', 'Czechia', 'Germany', 'Denmark',\n",
       "        'Dominican Republic', 'Ecuador', 'Estonia', 'Egypt', 'Spain',\n",
       "        'Finland', 'Fiji', 'France', 'Gabon', 'United Kingdom', 'Georgia',\n",
       "        'Ghana', 'Greece', 'Guatemala', 'Guinea-Bissau', 'Hong Kong',\n",
       "        'Honduras', 'Croatia', 'Haiti', 'Hungary', 'Indonesia', 'Ireland',\n",
       "        'Israel', 'India', 'Iraq', 'Italy', 'Jamaica', 'Jordan', 'Japan',\n",
       "        'Kenya', 'Kyrgyzstan', 'Cambodia', 'South Korea', 'Kuwait',\n",
       "        'Kazakhstan', 'Laos', 'Lebanon', 'Liechtenstein', 'Sri Lanka',\n",
       "        'Lithuania', 'Luxembourg', 'Latvia', 'Libya', 'Morocco', 'Moldova',\n",
       "        'North Macedonia', 'Mali', 'Myanmar (Burma)', 'Mongolia', 'Malta',\n",
       "        'Mauritius', 'Mexico', 'Malaysia', 'Mozambique', 'Niger',\n",
       "        'Nigeria', 'Nicaragua', 'Netherlands', 'Norway', 'Nepal',\n",
       "        'New Zealand', 'Oman', 'Panama', 'Peru', 'Papua New Guinea',\n",
       "        'Philippines', 'Pakistan', 'Poland', 'Puerto Rico', 'Portugal',\n",
       "        'Paraguay', 'Qatar', 'Réunion', 'Romania', 'Serbia', 'Russia',\n",
       "        'Rwanda', 'Saudi Arabia', 'Sweden', 'Singapore', 'Slovenia',\n",
       "        'Slovakia', 'Senegal', 'El Salvador', 'Togo', 'Thailand',\n",
       "        'Tajikistan', 'Turkey', 'Trinidad and Tobago', 'Taiwan',\n",
       "        'Tanzania', 'Ukraine', 'Uganda', 'United States', 'Uruguay',\n",
       "        'Venezuela', 'Vietnam', 'Yemen', 'South Africa', 'Zambia',\n",
       "        'Zimbabwe'], dtype=object))"
      ]
     },
     "execution_count": 25,
     "metadata": {},
     "output_type": "execute_result"
    }
   ],
   "source": [
    "# Extract the mobility levels for each top-level country\n",
    "def gen_for_country(df):\n",
    "    \n",
    "    w = 7\n",
    "    \n",
    "    # The columns to use for calculating the mobility drop\n",
    "    use_cols = ['mobility_retail', 'mobility_transit', 'mobility_work']\n",
    "    \n",
    "    # Find all the null regions for each country\n",
    "    countries = df[df['sub_region_1'].isnull()].copy()\n",
    "    \n",
    "    # Relabel the cols for convenience\n",
    "    countries.columns = ['country_id', 'country', 'sub_region_1', 'sub_region_2', 'iso_3166_2_code', 'census_fips_code', 'date', 'mobility_retail', 'mobility_grocery', 'mobility_parks', 'mobility_transit', 'mobility_work', 'mobility_home']\n",
    "    \n",
    "    # Add rolling cols\n",
    "    for mobility_col in countries.filter(like='mobility_').columns:\n",
    "        countries['rolling_'+mobility_col] = countries.groupby(\n",
    "            'country')[mobility_col].apply(\n",
    "                lambda s: s.rolling(w).mean())\n",
    "        \n",
    "    # Calculate the mobility drop\n",
    "    countries['google_mobility_drop'] = countries[use_cols].mean(axis=1)\n",
    "    \n",
    "    return countries[['country_id', 'country', 'date', 'google_mobility_drop']]\n",
    "\n",
    "google_countries = gen_for_country(google).dropna(subset=['country_id'])\n",
    "\n",
    "# Convert mobility drop to mobility level\n",
    "google_countries['google_mobility_level'] = 100+google_countries['google_mobility_drop']\n",
    "\n",
    "google_countries.shape, google_countries.country.nunique(), google_countries.country.unique()"
   ]
  },
  {
   "cell_type": "markdown",
   "metadata": {},
   "source": [
    "# Combine into Minimal Form"
   ]
  },
  {
   "cell_type": "code",
   "execution_count": 26,
   "metadata": {},
   "outputs": [
    {
     "data": {
      "text/plain": [
       "(32652, 10)"
      ]
     },
     "execution_count": 26,
     "metadata": {},
     "output_type": "execute_result"
    }
   ],
   "source": [
    "owid_cols = ['country', 'country_code', 'continent', 'region', 'new_cases', 'new_deaths', 'population']\n",
    "google_cols = ['google_mobility_level']\n",
    "\n",
    "df = owid.set_index(['country_id', 'date'])[owid_cols].join(\n",
    "    google_countries.set_index(['country_id', 'date'])[google_cols]).reset_index()\n",
    "\n",
    "df.shape"
   ]
  },
  {
   "cell_type": "markdown",
   "metadata": {},
   "source": [
    "## Drop Negative Counts\n",
    "It looks like occasionally there are negative cases/deaths in the raw OWID data. Owid seems to drop these dates from its charts so we do the same here."
   ]
  },
  {
   "cell_type": "code",
   "execution_count": 27,
   "metadata": {},
   "outputs": [
    {
     "data": {
      "text/plain": [
       "(32633, 10)"
      ]
     },
     "execution_count": 27,
     "metadata": {},
     "output_type": "execute_result"
    }
   ],
   "source": [
    "# df['new_cases'] = df['new_cases'].clip(0)\n",
    "# df['new_deaths'] = df['new_deaths'].clip(0)\n",
    "\n",
    "is_neg = (df['new_cases']<0) | (df['new_deaths']<0)\n",
    "\n",
    "df = df[~is_neg]\n",
    "df.shape"
   ]
  },
  {
   "cell_type": "markdown",
   "metadata": {},
   "source": [
    "# Aggregations\n",
    "We can aggregate across continents and regions but need to be careful about how we combine cols by focusing on this columns that can be added across groupings.\n",
    "\n"
   ]
  },
  {
   "cell_type": "markdown",
   "metadata": {},
   "source": [
    "## Adjust mobility level so that it is safe to aggregate"
   ]
  },
  {
   "cell_type": "code",
   "execution_count": 28,
   "metadata": {},
   "outputs": [],
   "source": [
    "# Add a population adjusted mobility level\n",
    "df['google_mobility_level_by_pop'] = df['google_mobility_level']*df['population']"
   ]
  },
  {
   "cell_type": "markdown",
   "metadata": {},
   "source": [
    "## Aggregations by Continent and Region"
   ]
  },
  {
   "cell_type": "code",
   "execution_count": 29,
   "metadata": {},
   "outputs": [],
   "source": [
    "def agg_by(df, groupby_cols, aggregation):\n",
    "    \n",
    "    agg_cols = ['new_cases', 'new_deaths', 'population']\n",
    "\n",
    "    agg = df.groupby(groupby_cols)[agg_cols].sum().reset_index()\n",
    "\n",
    "    # Aggregate mobility separately to account for population and missing values\n",
    "    agg_mobility = df[df['google_mobility_level'].notnull()].groupby(\n",
    "        'date')[['google_mobility_level_by_pop', 'population']].sum().reset_index()\n",
    "\n",
    "    agg_mobility['google_mobility_level'] = agg_mobility['google_mobility_level_by_pop']/agg_mobility['population']\n",
    "\n",
    "    # Add to the us aggregation\n",
    "    agg = agg.set_index('date').join(\n",
    "        agg_mobility.set_index('date')['google_mobility_level']).reset_index()\n",
    "\n",
    "    return agg"
   ]
  },
  {
   "cell_type": "code",
   "execution_count": 30,
   "metadata": {},
   "outputs": [
    {
     "data": {
      "text/plain": [
       "(38114, 12)"
      ]
     },
     "execution_count": 30,
     "metadata": {},
     "output_type": "execute_result"
    }
   ],
   "source": [
    "by_continent = agg_by(df, ['continent', 'date'], 'continent')\n",
    "by_continent['aggregation'] = by_continent['continent']\n",
    "\n",
    "by_region = agg_by(df, ['region', 'date'], 'region')\n",
    "by_region['aggregation'] = by_region['region']\n",
    "\n",
    "by_world = agg_by(df, 'date', 'world')\n",
    "by_world['aggregation'] = 'world'\n",
    "\n",
    "df['aggregation'] = df['country']\n",
    "\n",
    "df_with_aggs = pd.concat([df, by_continent, by_region, by_world], sort=False, ignore_index=True)\n",
    "df_with_aggs.shape"
   ]
  },
  {
   "cell_type": "markdown",
   "metadata": {},
   "source": [
    "## Rolling Means"
   ]
  },
  {
   "cell_type": "code",
   "execution_count": 31,
   "metadata": {},
   "outputs": [
    {
     "data": {
      "text/html": [
       "<div>\n",
       "<style scoped>\n",
       "    .dataframe tbody tr th:only-of-type {\n",
       "        vertical-align: middle;\n",
       "    }\n",
       "\n",
       "    .dataframe tbody tr th {\n",
       "        vertical-align: top;\n",
       "    }\n",
       "\n",
       "    .dataframe thead th {\n",
       "        text-align: right;\n",
       "    }\n",
       "</style>\n",
       "<table border=\"1\" class=\"dataframe\">\n",
       "  <thead>\n",
       "    <tr style=\"text-align: right;\">\n",
       "      <th></th>\n",
       "      <th>country_id</th>\n",
       "      <th>date</th>\n",
       "      <th>country</th>\n",
       "      <th>country_code</th>\n",
       "      <th>continent</th>\n",
       "      <th>region</th>\n",
       "      <th>new_cases</th>\n",
       "      <th>new_deaths</th>\n",
       "      <th>population</th>\n",
       "      <th>google_mobility_level</th>\n",
       "      <th>google_mobility_level_by_pop</th>\n",
       "      <th>aggregation</th>\n",
       "    </tr>\n",
       "  </thead>\n",
       "  <tbody>\n",
       "    <tr>\n",
       "      <th>0</th>\n",
       "      <td>AF</td>\n",
       "      <td>2019-12-31</td>\n",
       "      <td>Afghanistan</td>\n",
       "      <td>AFG</td>\n",
       "      <td>Asia</td>\n",
       "      <td>south_asia</td>\n",
       "      <td>0.0</td>\n",
       "      <td>0.0</td>\n",
       "      <td>38928341.0</td>\n",
       "      <td>NaN</td>\n",
       "      <td>NaN</td>\n",
       "      <td>Afghanistan</td>\n",
       "    </tr>\n",
       "    <tr>\n",
       "      <th>33901</th>\n",
       "      <td>NaN</td>\n",
       "      <td>2019-12-31</td>\n",
       "      <td>NaN</td>\n",
       "      <td>NaN</td>\n",
       "      <td>NaN</td>\n",
       "      <td>carribean</td>\n",
       "      <td>0.0</td>\n",
       "      <td>0.0</td>\n",
       "      <td>10847904.0</td>\n",
       "      <td>NaN</td>\n",
       "      <td>NaN</td>\n",
       "      <td>carribean</td>\n",
       "    </tr>\n",
       "    <tr>\n",
       "      <th>33900</th>\n",
       "      <td>NaN</td>\n",
       "      <td>2019-12-31</td>\n",
       "      <td>NaN</td>\n",
       "      <td>NaN</td>\n",
       "      <td>NaN</td>\n",
       "      <td>australasia</td>\n",
       "      <td>0.0</td>\n",
       "      <td>0.0</td>\n",
       "      <td>30322114.0</td>\n",
       "      <td>NaN</td>\n",
       "      <td>NaN</td>\n",
       "      <td>australasia</td>\n",
       "    </tr>\n",
       "    <tr>\n",
       "      <th>33899</th>\n",
       "      <td>NaN</td>\n",
       "      <td>2019-12-31</td>\n",
       "      <td>NaN</td>\n",
       "      <td>NaN</td>\n",
       "      <td>NaN</td>\n",
       "      <td>andean_republics</td>\n",
       "      <td>0.0</td>\n",
       "      <td>0.0</td>\n",
       "      <td>17643060.0</td>\n",
       "      <td>NaN</td>\n",
       "      <td>NaN</td>\n",
       "      <td>andean_republics</td>\n",
       "    </tr>\n",
       "    <tr>\n",
       "      <th>26309</th>\n",
       "      <td>SG</td>\n",
       "      <td>2019-12-31</td>\n",
       "      <td>Singapore</td>\n",
       "      <td>SGP</td>\n",
       "      <td>Asia</td>\n",
       "      <td>south_east_asia</td>\n",
       "      <td>0.0</td>\n",
       "      <td>0.0</td>\n",
       "      <td>5850343.0</td>\n",
       "      <td>NaN</td>\n",
       "      <td>NaN</td>\n",
       "      <td>Singapore</td>\n",
       "    </tr>\n",
       "  </tbody>\n",
       "</table>\n",
       "</div>"
      ],
      "text/plain": [
       "      country_id       date      country country_code continent  \\\n",
       "0             AF 2019-12-31  Afghanistan          AFG      Asia   \n",
       "33901        NaN 2019-12-31          NaN          NaN       NaN   \n",
       "33900        NaN 2019-12-31          NaN          NaN       NaN   \n",
       "33899        NaN 2019-12-31          NaN          NaN       NaN   \n",
       "26309         SG 2019-12-31    Singapore          SGP      Asia   \n",
       "\n",
       "                 region  new_cases  new_deaths  population  \\\n",
       "0            south_asia        0.0         0.0  38928341.0   \n",
       "33901         carribean        0.0         0.0  10847904.0   \n",
       "33900       australasia        0.0         0.0  30322114.0   \n",
       "33899  andean_republics        0.0         0.0  17643060.0   \n",
       "26309   south_east_asia        0.0         0.0   5850343.0   \n",
       "\n",
       "       google_mobility_level  google_mobility_level_by_pop       aggregation  \n",
       "0                        NaN                           NaN       Afghanistan  \n",
       "33901                    NaN                           NaN         carribean  \n",
       "33900                    NaN                           NaN       australasia  \n",
       "33899                    NaN                           NaN  andean_republics  \n",
       "26309                    NaN                           NaN         Singapore  "
      ]
     },
     "execution_count": 31,
     "metadata": {},
     "output_type": "execute_result"
    }
   ],
   "source": [
    "df_with_aggs = df_with_aggs.sort_values(by='date')\n",
    "df_with_aggs.head()"
   ]
  },
  {
   "cell_type": "code",
   "execution_count": 32,
   "metadata": {},
   "outputs": [
    {
     "data": {
      "text/plain": [
       "(38114, 15)"
      ]
     },
     "execution_count": 32,
     "metadata": {},
     "output_type": "execute_result"
    }
   ],
   "source": [
    "rolling_cols = ['new_cases', 'new_deaths', 'google_mobility_level']\n",
    "\n",
    "rolling_means = df_with_aggs.groupby('aggregation').apply(\n",
    "    lambda g: g[rolling_cols].rolling(7).mean()\n",
    ").add_suffix('_rolling_mean')\n",
    "\n",
    "df_with_aggs = pd.concat([df_with_aggs, rolling_means], axis=1)\n",
    "\n",
    "df_with_aggs.shape"
   ]
  },
  {
   "cell_type": "code",
   "execution_count": 33,
   "metadata": {},
   "outputs": [
    {
     "data": {
      "text/plain": [
       "<matplotlib.axes._subplots.AxesSubplot at 0x7f7448a98050>"
      ]
     },
     "execution_count": 33,
     "metadata": {},
     "output_type": "execute_result"
    },
    {
     "data": {
      "image/png": "[encoded data removed]",
      "text/plain": [
       "<Figure size 432x288 with 1 Axes>"
      ]
     },
     "metadata": {
      "needs_background": "light"
     },
     "output_type": "display_data"
    }
   ],
   "source": [
    "uk = df_with_aggs[df_with_aggs['country']=='United Kingdom']\n",
    "\n",
    "uk['new_cases_rolling_mean'].plot()"
   ]
  },
  {
   "cell_type": "markdown",
   "metadata": {},
   "source": [
    "## Relative Values"
   ]
  },
  {
   "cell_type": "code",
   "execution_count": 34,
   "metadata": {},
   "outputs": [
    {
     "data": {
      "text/plain": [
       "(38114, 18)"
      ]
     },
     "execution_count": 34,
     "metadata": {},
     "output_type": "execute_result"
    }
   ],
   "source": [
    "rel_cols = ['new_cases_rolling_mean', 'new_deaths_rolling_mean', 'google_mobility_level_rolling_mean']\n",
    "\n",
    "relative_values = df_with_aggs.groupby('aggregation').apply(\n",
    "    lambda g: g[rel_cols]/g[rel_cols].max()\n",
    ").add_suffix('_rel')\n",
    "    \n",
    "df_with_aggs = pd.concat([df_with_aggs, relative_values], axis=1)\n",
    "\n",
    "df_with_aggs.shape"
   ]
  },
  {
   "cell_type": "markdown",
   "metadata": {},
   "source": [
    "# Save Dataset"
   ]
  },
  {
   "cell_type": "code",
   "execution_count": 35,
   "metadata": {},
   "outputs": [
    {
     "name": "stderr",
     "output_type": "stream",
     "text": [
      "2020-07-28 15:49:51.770 | INFO     | __main__:<module>:1 - Saving minimal OWID dataset with mobility data @ ../data/processed/minimal_owid_covid.csv\n"
     ]
    },
    {
     "data": {
      "text/plain": [
       "((38114, 18),\n",
       " '../data/processed/minimal_owid_covid.csv',\n",
       " Timestamp('2020-07-28 00:00:00'))"
      ]
     },
     "execution_count": 35,
     "metadata": {},
     "output_type": "execute_result"
    }
   ],
   "source": [
    "logger.info('Saving minimal OWID dataset with mobility data @ %s' % minimal_owid_covid_dataset)\n",
    "\n",
    "df_with_aggs.to_csv(minimal_owid_covid_dataset, index=False)\n",
    "df_with_aggs.shape, minimal_owid_covid_dataset, df_with_aggs.date.max()"
   ]
  }
 ],
 "metadata": {
  "kernelspec": {
   "display_name": "COVID-19",
   "language": "python",
   "name": "covid-19"
  },
  "language_info": {
   "codemirror_mode": {
    "name": "ipython",
    "version": 3
   },
   "file_extension": ".py",
   "mimetype": "text/x-python",
   "name": "python",
   "nbconvert_exporter": "python",
   "pygments_lexer": "ipython3",
   "version": "3.7.7"
  }
 },
 "nbformat": 4,
 "nbformat_minor": 4
}
