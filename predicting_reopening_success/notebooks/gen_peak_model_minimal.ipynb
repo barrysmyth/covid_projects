{
 "cells": [
  {
   "cell_type": "markdown",
   "metadata": {},
   "source": [
    "# The Peak Model\n",
    "A standardised model for identifying single peaks in cases/deaths/mobility drops etc. The 4 stage model assumes a period of expansion, a peak stage, a period of contraction, and a stablisation stage."
   ]
  },
  {
   "cell_type": "code",
   "execution_count": 1,
   "metadata": {},
   "outputs": [],
   "source": [
    "import datetime \n",
    "\n",
    "from matplotlib.pylab import plt\n",
    "from matplotlib.ticker import FuncFormatter\n",
    "import matplotlib.colors as mcolors\n",
    "import matplotlib.dates as mdates\n",
    "\n",
    "import pandas as pd\n",
    "import numpy as np\n",
    "\n",
    "import seaborn as sns\n",
    "\n",
    "from loguru import logger\n",
    "\n",
    "\n",
    "\n",
    "%matplotlib inline"
   ]
  },
  {
   "cell_type": "markdown",
   "metadata": {},
   "source": [
    "# Parameters"
   ]
  },
  {
   "cell_type": "code",
   "execution_count": 2,
   "metadata": {
    "tags": [
     "parameters"
    ]
   },
   "outputs": [],
   "source": [
    "# minimal_dataset = '../data/processed/minimal_ctp_covid.csv'\n",
    "\n",
    "minimal_dataset = '../data/processed/minimal_owid_covid.csv'\n"
   ]
  },
  {
   "cell_type": "code",
   "execution_count": 3,
   "metadata": {},
   "outputs": [
    {
     "data": {
      "text/plain": [
       "'../data/processed/peak_model_owid_covid.csv'"
      ]
     },
     "execution_count": 3,
     "metadata": {},
     "output_type": "execute_result"
    }
   ],
   "source": [
    "peak_model_dataset = minimal_dataset.replace('minimal', 'peak_model')\n",
    "\n",
    "peak_model_dataset"
   ]
  },
  {
   "cell_type": "markdown",
   "metadata": {},
   "source": [
    "# The Peak Model"
   ]
  },
  {
   "cell_type": "code",
   "execution_count": 4,
   "metadata": {},
   "outputs": [],
   "source": [
    "lower_threshold, upper_threshold = .15, .85\n",
    "\n",
    "def get_peak_model_dates(s, upper=upper_threshold, lower=lower_threshold):\n",
    "\n",
    "\n",
    "    # The model parameters\n",
    "    params = ['expansion_start_date', 'peak_start_date', 'contraction_start_date', 'stable_start_date']\n",
    "    peak_model = pd.Series(index=params)\n",
    "\n",
    "\n",
    "    if len(s):\n",
    "    \n",
    "        # The peak and peak date\n",
    "        peak_value, peak_date = s.max(), s.idxmax()\n",
    "\n",
    "        # pre and post peak\n",
    "        pre, post = s.loc[:peak_date], s.loc[peak_date:]\n",
    "\n",
    "        # The start of the expansion is the first date that pre>lower_threshold\n",
    "        # If it never exceeds the lower thershold then there is no expansion start.\n",
    "        expansion = pre[pre>lower_threshold*peak_value]\n",
    "        if len(expansion): \n",
    "\n",
    "            expansion_start_date = expansion.index[0]\n",
    "            peak_model.loc['expansion_start_date'] = expansion_start_date\n",
    "\n",
    "            # peak start\n",
    "            peak_start_date = expansion[expansion>upper_threshold*peak_value].index[0]\n",
    "            peak_model.loc['peak_start_date'] = peak_start_date\n",
    "\n",
    "            # peak end\n",
    "            rev_post = post[::-1]\n",
    "            peak = rev_post[rev_post>upper_threshold*peak_value]\n",
    "\n",
    "            if len(peak):\n",
    "\n",
    "                peak_end_date = peak.index[0]\n",
    "                contraction = post[peak_end_date:]\n",
    "                if len(contraction)>1:\n",
    "                    contraction_start_date = contraction.index[1]\n",
    "\n",
    "                    peak_model.loc['contraction_start_date'] = contraction_start_date\n",
    "\n",
    "                    # The stable start\n",
    "                    contraction_end = rev_post[rev_post>lower_threshold*peak_value]\n",
    "                    if len(contraction_end):\n",
    "                        contraction_end_date = contraction_end.index[0]\n",
    "                        \n",
    "                        stable = post[contraction_end_date:]\n",
    "                        if len(stable)>1:\n",
    "                            stable_start_date = stable.index[1]\n",
    "\n",
    "                            peak_model.loc['stable_start_date'] = stable_start_date\n",
    "\n",
    "    return peak_model\n",
    "    \n",
    "\n",
    "    \n",
    "def get_growth_model_stages(s, labels=['E', 'P', 'C', 'S']):\n",
    "        \n",
    "    if len(s)>0:\n",
    "                \n",
    "        stages = pd.Series([np.nan]*len(s), index=s.index)\n",
    "        \n",
    "        stage_start_dates = get_peak_model_dates(s).dropna()\n",
    "                        \n",
    "        stages.loc[stage_start_dates] = labels[:len(stage_start_dates)]\n",
    "\n",
    "        return stages.ffill()"
   ]
  },
  {
   "cell_type": "markdown",
   "metadata": {},
   "source": [
    "# Load the Dataset"
   ]
  },
  {
   "cell_type": "code",
   "execution_count": 5,
   "metadata": {},
   "outputs": [
    {
     "name": "stderr",
     "output_type": "stream",
     "text": [
      "2020-07-28 15:50:27.627 | INFO     | __main__:<module>:1 - Loading ../data/processed/minimal_owid_covid.csv\n"
     ]
    },
    {
     "data": {
      "text/plain": [
       "((38114, 18), Timestamp('2020-07-28 00:00:00'))"
      ]
     },
     "execution_count": 5,
     "metadata": {},
     "output_type": "execute_result"
    }
   ],
   "source": [
    "logger.info('Loading %s' % minimal_dataset)\n",
    "\n",
    "df = pd.read_csv(minimal_dataset, parse_dates=['date'], low_memory=False)\n",
    "df.shape, df.date.max()"
   ]
  },
  {
   "cell_type": "code",
   "execution_count": 6,
   "metadata": {},
   "outputs": [
    {
     "data": {
      "text/plain": [
       "(new_cases                      0.0\n",
       " new_deaths                     0.0\n",
       " new_cases_rolling_mean         0.0\n",
       " new_deaths_rolling_mean        0.0\n",
       " new_cases_rolling_mean_rel     0.0\n",
       " new_deaths_rolling_mean_rel    0.0\n",
       " dtype: float64,\n",
       " (38114, 18),\n",
       " 235)"
      ]
     },
     "execution_count": 6,
     "metadata": {},
     "output_type": "execute_result"
    }
   ],
   "source": [
    "# Exclude <0 cases/deaths in case of bad reporting\n",
    "check_cols = df.filter(regex='_cases|_deaths').columns\n",
    "\n",
    "df[check_cols] = df[check_cols].clip(lower=0)\n",
    "\n",
    "df[check_cols].min(), df.shape, df['aggregation'].nunique()"
   ]
  },
  {
   "cell_type": "markdown",
   "metadata": {},
   "source": [
    "# Build the Models\n",
    "Next we apply the model to a number of difference columns including case/death counts and mobility/stringency cols. We use difference labels for each to distinguish the virus models from the mobility/lockdown models, but the transitions/stages are all calculated in the same way using the same upper and lower thersholds."
   ]
  },
  {
   "cell_type": "code",
   "execution_count": 7,
   "metadata": {},
   "outputs": [
    {
     "name": "stderr",
     "output_type": "stream",
     "text": [
      "2020-07-28 15:50:28.008 | INFO     | __main__:<module>:1 - Building peak models.\n"
     ]
    }
   ],
   "source": [
    "logger.info('Building peak models.')"
   ]
  },
  {
   "cell_type": "markdown",
   "metadata": {},
   "source": [
    "## The Cases/Deaths Models"
   ]
  },
  {
   "cell_type": "code",
   "execution_count": 8,
   "metadata": {},
   "outputs": [
    {
     "name": "stderr",
     "output_type": "stream",
     "text": [
      "/home/barry/anaconda3/envs/covid-19/lib/python3.7/site-packages/ipykernel_launcher.py:8: DeprecationWarning: The default dtype for empty Series will be 'object' instead of 'float64' in a future version. Specify a dtype explicitly to silence this warning.\n",
      "  \n"
     ]
    },
    {
     "data": {
      "text/plain": [
       "(38114, 20)"
      ]
     },
     "execution_count": 8,
     "metadata": {},
     "output_type": "execute_result"
    }
   ],
   "source": [
    "peak_cols = [\n",
    "    'new_cases_rolling_mean',\n",
    "    'new_deaths_rolling_mean' \n",
    "]\n",
    "\n",
    "labels = ['E', 'P', 'C', 'S']\n",
    "\n",
    "for peak_col in peak_cols:\n",
    "    \n",
    "    # Calculate the stages.\n",
    "    stages = pd.DataFrame(\n",
    "        df.groupby('aggregation').apply(\n",
    "            lambda g: get_growth_model_stages(g.set_index('date')[peak_col].dropna(), labels=labels)\n",
    "        ), columns=[peak_col+'_stage']\n",
    "    )\n",
    "    \n",
    "    df = df.set_index(['aggregation', 'date']).join(stages).reset_index().sort_values(by='date')\n",
    "    \n",
    "df.shape"
   ]
  },
  {
   "cell_type": "markdown",
   "metadata": {},
   "source": [
    "## Mobility/Stringency Models"
   ]
  },
  {
   "cell_type": "code",
   "execution_count": 9,
   "metadata": {},
   "outputs": [
    {
     "name": "stderr",
     "output_type": "stream",
     "text": [
      "/home/barry/anaconda3/envs/covid-19/lib/python3.7/site-packages/ipykernel_launcher.py:8: DeprecationWarning: The default dtype for empty Series will be 'object' instead of 'float64' in a future version. Specify a dtype explicitly to silence this warning.\n",
      "  \n"
     ]
    },
    {
     "data": {
      "text/plain": [
       "(38114, 21)"
      ]
     },
     "execution_count": 9,
     "metadata": {},
     "output_type": "execute_result"
    }
   ],
   "source": [
    "peak_cols = ['google_mobility_level_rolling_mean']\n",
    "\n",
    "labels = ['D', 'H', 'B', 'N']\n",
    "\n",
    "def lockdown_period(mobility):\n",
    "    \n",
    "    if len(mobility):\n",
    "    \n",
    "        mobility = (100-mobility)\n",
    "\n",
    "        # Last zero before peak\n",
    "        peak_date = mobility.idxmax()\n",
    "        pre_peak_min = mobility.loc[:peak_date].idxmin()\n",
    "\n",
    "        return mobility.loc[pre_peak_min:]\n",
    "    \n",
    "    return mobility\n",
    "\n",
    "for peak_col in peak_cols:\n",
    "    \n",
    "    # Calculate the stages.\n",
    "    stages = pd.DataFrame(\n",
    "        df.groupby('aggregation').apply(\n",
    "            lambda g: get_growth_model_stages(lockdown_period(g.set_index('date')[peak_col].dropna()), labels=labels)\n",
    "        ), columns=[peak_col+'_stage']\n",
    "    )\n",
    "    \n",
    "    df = df.set_index(['aggregation', 'date']).join(stages).reset_index().sort_values(by='date')\n",
    "    \n",
    "df.shape"
   ]
  },
  {
   "cell_type": "markdown",
   "metadata": {},
   "source": [
    "## Add Stage Days"
   ]
  },
  {
   "cell_type": "code",
   "execution_count": 10,
   "metadata": {},
   "outputs": [
    {
     "data": {
      "text/plain": [
       "(38114, 24)"
      ]
     },
     "execution_count": 10,
     "metadata": {},
     "output_type": "execute_result"
    }
   ],
   "source": [
    "# Add the stage days for the cases growth model\n",
    "cases_growth_stage_days = pd.DataFrame(df.groupby(['aggregation', 'new_cases_rolling_mean_stage']).apply(\n",
    "    lambda g: g.reset_index().reset_index().set_index('date')['level_0'])).rename(columns={'level_0': 'new_cases_rolling_mean_stage_day'})\n",
    "\n",
    "df = df.set_index(['aggregation', 'new_cases_rolling_mean_stage', 'date']).join(cases_growth_stage_days).reset_index()\n",
    "\n",
    "\n",
    "\n",
    "# Add the stage days for the deaths growth model\n",
    "deaths_growth_stage_days = pd.DataFrame(df.groupby(['aggregation', 'new_deaths_rolling_mean_stage']).apply(\n",
    "    lambda g: g.reset_index().reset_index().set_index('date')['level_0'])).rename(columns={'level_0': 'new_deaths_rolling_mean_stage_day'})\n",
    "\n",
    "df = df.set_index(['aggregation', 'new_deaths_rolling_mean_stage', 'date']).join(deaths_growth_stage_days).reset_index()\n",
    "\n",
    "\n",
    "# Add the stage days for the mobility model\n",
    "mobility_stage_days = pd.DataFrame(df.groupby(['aggregation', 'google_mobility_level_rolling_mean_stage']).apply(\n",
    "    lambda g: g.reset_index().reset_index().set_index('date')['level_0'])).rename(columns={'level_0': 'google_mobility_level_rolling_mean_stage_day'})\n",
    "\n",
    "\n",
    "\n",
    "df = df.set_index(['aggregation', 'google_mobility_level_rolling_mean_stage', 'date']).join(mobility_stage_days).reset_index()\n",
    "\n",
    "df.shape"
   ]
  },
  {
   "cell_type": "markdown",
   "metadata": {},
   "source": [
    "## Add Cumulative Max Values"
   ]
  },
  {
   "cell_type": "code",
   "execution_count": 11,
   "metadata": {},
   "outputs": [
    {
     "data": {
      "text/html": [
       "<div>\n",
       "<style scoped>\n",
       "    .dataframe tbody tr th:only-of-type {\n",
       "        vertical-align: middle;\n",
       "    }\n",
       "\n",
       "    .dataframe tbody tr th {\n",
       "        vertical-align: top;\n",
       "    }\n",
       "\n",
       "    .dataframe thead th {\n",
       "        text-align: right;\n",
       "    }\n",
       "</style>\n",
       "<table border=\"1\" class=\"dataframe\">\n",
       "  <thead>\n",
       "    <tr style=\"text-align: right;\">\n",
       "      <th></th>\n",
       "      <th>aggregation</th>\n",
       "      <th>date</th>\n",
       "      <th>google_mobility_level_rolling_mean_stage</th>\n",
       "      <th>new_deaths_rolling_mean_stage</th>\n",
       "      <th>new_cases_rolling_mean_stage</th>\n",
       "      <th>country_id</th>\n",
       "      <th>country</th>\n",
       "      <th>country_code</th>\n",
       "      <th>continent</th>\n",
       "      <th>region</th>\n",
       "      <th>...</th>\n",
       "      <th>new_cases_rolling_mean</th>\n",
       "      <th>new_deaths_rolling_mean</th>\n",
       "      <th>google_mobility_level_rolling_mean</th>\n",
       "      <th>new_cases_rolling_mean_rel</th>\n",
       "      <th>new_deaths_rolling_mean_rel</th>\n",
       "      <th>google_mobility_level_rolling_mean_rel</th>\n",
       "      <th>new_cases_rolling_mean_stage_day</th>\n",
       "      <th>new_deaths_rolling_mean_stage_day</th>\n",
       "      <th>google_mobility_level_rolling_mean_stage_day</th>\n",
       "      <th>new_cases_rolling_mean_cummax</th>\n",
       "    </tr>\n",
       "  </thead>\n",
       "  <tbody>\n",
       "    <tr>\n",
       "      <th>0</th>\n",
       "      <td>Afghanistan</td>\n",
       "      <td>2019-12-31</td>\n",
       "      <td>NaN</td>\n",
       "      <td>NaN</td>\n",
       "      <td>NaN</td>\n",
       "      <td>AF</td>\n",
       "      <td>Afghanistan</td>\n",
       "      <td>AFG</td>\n",
       "      <td>Asia</td>\n",
       "      <td>south_asia</td>\n",
       "      <td>...</td>\n",
       "      <td>NaN</td>\n",
       "      <td>NaN</td>\n",
       "      <td>NaN</td>\n",
       "      <td>NaN</td>\n",
       "      <td>NaN</td>\n",
       "      <td>NaN</td>\n",
       "      <td>NaN</td>\n",
       "      <td>NaN</td>\n",
       "      <td>NaN</td>\n",
       "      <td>NaN</td>\n",
       "    </tr>\n",
       "    <tr>\n",
       "      <th>1</th>\n",
       "      <td>Georgia (W. Asia)</td>\n",
       "      <td>2019-12-31</td>\n",
       "      <td>NaN</td>\n",
       "      <td>NaN</td>\n",
       "      <td>NaN</td>\n",
       "      <td>GE</td>\n",
       "      <td>Georgia (W. Asia)</td>\n",
       "      <td>GEO</td>\n",
       "      <td>Asia</td>\n",
       "      <td>western_asia</td>\n",
       "      <td>...</td>\n",
       "      <td>NaN</td>\n",
       "      <td>NaN</td>\n",
       "      <td>NaN</td>\n",
       "      <td>NaN</td>\n",
       "      <td>NaN</td>\n",
       "      <td>NaN</td>\n",
       "      <td>NaN</td>\n",
       "      <td>NaN</td>\n",
       "      <td>NaN</td>\n",
       "      <td>NaN</td>\n",
       "    </tr>\n",
       "    <tr>\n",
       "      <th>2</th>\n",
       "      <td>Germany</td>\n",
       "      <td>2019-12-31</td>\n",
       "      <td>NaN</td>\n",
       "      <td>NaN</td>\n",
       "      <td>NaN</td>\n",
       "      <td>DE</td>\n",
       "      <td>Germany</td>\n",
       "      <td>DEU</td>\n",
       "      <td>Europe</td>\n",
       "      <td>eu</td>\n",
       "      <td>...</td>\n",
       "      <td>NaN</td>\n",
       "      <td>NaN</td>\n",
       "      <td>NaN</td>\n",
       "      <td>NaN</td>\n",
       "      <td>NaN</td>\n",
       "      <td>NaN</td>\n",
       "      <td>NaN</td>\n",
       "      <td>NaN</td>\n",
       "      <td>NaN</td>\n",
       "      <td>NaN</td>\n",
       "    </tr>\n",
       "    <tr>\n",
       "      <th>3</th>\n",
       "      <td>Greece</td>\n",
       "      <td>2019-12-31</td>\n",
       "      <td>NaN</td>\n",
       "      <td>NaN</td>\n",
       "      <td>NaN</td>\n",
       "      <td>GR</td>\n",
       "      <td>Greece</td>\n",
       "      <td>GRC</td>\n",
       "      <td>Europe</td>\n",
       "      <td>eu</td>\n",
       "      <td>...</td>\n",
       "      <td>NaN</td>\n",
       "      <td>NaN</td>\n",
       "      <td>NaN</td>\n",
       "      <td>NaN</td>\n",
       "      <td>NaN</td>\n",
       "      <td>NaN</td>\n",
       "      <td>NaN</td>\n",
       "      <td>NaN</td>\n",
       "      <td>NaN</td>\n",
       "      <td>NaN</td>\n",
       "    </tr>\n",
       "    <tr>\n",
       "      <th>4</th>\n",
       "      <td>Canada</td>\n",
       "      <td>2019-12-31</td>\n",
       "      <td>NaN</td>\n",
       "      <td>NaN</td>\n",
       "      <td>NaN</td>\n",
       "      <td>CA</td>\n",
       "      <td>Canada</td>\n",
       "      <td>CAN</td>\n",
       "      <td>North America</td>\n",
       "      <td>northern_america</td>\n",
       "      <td>...</td>\n",
       "      <td>NaN</td>\n",
       "      <td>NaN</td>\n",
       "      <td>NaN</td>\n",
       "      <td>NaN</td>\n",
       "      <td>NaN</td>\n",
       "      <td>NaN</td>\n",
       "      <td>NaN</td>\n",
       "      <td>NaN</td>\n",
       "      <td>NaN</td>\n",
       "      <td>NaN</td>\n",
       "    </tr>\n",
       "  </tbody>\n",
       "</table>\n",
       "<p>5 rows × 25 columns</p>\n",
       "</div>"
      ],
      "text/plain": [
       "         aggregation       date google_mobility_level_rolling_mean_stage  \\\n",
       "0        Afghanistan 2019-12-31                                      NaN   \n",
       "1  Georgia (W. Asia) 2019-12-31                                      NaN   \n",
       "2            Germany 2019-12-31                                      NaN   \n",
       "3             Greece 2019-12-31                                      NaN   \n",
       "4             Canada 2019-12-31                                      NaN   \n",
       "\n",
       "  new_deaths_rolling_mean_stage new_cases_rolling_mean_stage country_id  \\\n",
       "0                           NaN                          NaN         AF   \n",
       "1                           NaN                          NaN         GE   \n",
       "2                           NaN                          NaN         DE   \n",
       "3                           NaN                          NaN         GR   \n",
       "4                           NaN                          NaN         CA   \n",
       "\n",
       "             country country_code      continent            region  ...  \\\n",
       "0        Afghanistan          AFG           Asia        south_asia  ...   \n",
       "1  Georgia (W. Asia)          GEO           Asia      western_asia  ...   \n",
       "2            Germany          DEU         Europe                eu  ...   \n",
       "3             Greece          GRC         Europe                eu  ...   \n",
       "4             Canada          CAN  North America  northern_america  ...   \n",
       "\n",
       "   new_cases_rolling_mean  new_deaths_rolling_mean  \\\n",
       "0                     NaN                      NaN   \n",
       "1                     NaN                      NaN   \n",
       "2                     NaN                      NaN   \n",
       "3                     NaN                      NaN   \n",
       "4                     NaN                      NaN   \n",
       "\n",
       "   google_mobility_level_rolling_mean  new_cases_rolling_mean_rel  \\\n",
       "0                                 NaN                         NaN   \n",
       "1                                 NaN                         NaN   \n",
       "2                                 NaN                         NaN   \n",
       "3                                 NaN                         NaN   \n",
       "4                                 NaN                         NaN   \n",
       "\n",
       "   new_deaths_rolling_mean_rel  google_mobility_level_rolling_mean_rel  \\\n",
       "0                          NaN                                     NaN   \n",
       "1                          NaN                                     NaN   \n",
       "2                          NaN                                     NaN   \n",
       "3                          NaN                                     NaN   \n",
       "4                          NaN                                     NaN   \n",
       "\n",
       "   new_cases_rolling_mean_stage_day  new_deaths_rolling_mean_stage_day  \\\n",
       "0                               NaN                                NaN   \n",
       "1                               NaN                                NaN   \n",
       "2                               NaN                                NaN   \n",
       "3                               NaN                                NaN   \n",
       "4                               NaN                                NaN   \n",
       "\n",
       "   google_mobility_level_rolling_mean_stage_day  new_cases_rolling_mean_cummax  \n",
       "0                                           NaN                            NaN  \n",
       "1                                           NaN                            NaN  \n",
       "2                                           NaN                            NaN  \n",
       "3                                           NaN                            NaN  \n",
       "4                                           NaN                            NaN  \n",
       "\n",
       "[5 rows x 25 columns]"
      ]
     },
     "execution_count": 11,
     "metadata": {},
     "output_type": "execute_result"
    }
   ],
   "source": [
    "# Add cumulative max new case to DF\n",
    "df = df.set_index(['aggregation', 'date']).join(\n",
    "    pd.DataFrame(df.groupby(['aggregation']).apply(\n",
    "        lambda g: g.set_index('date')['new_cases_rolling_mean'].cummax())).add_suffix('_cummax')).reset_index()\n",
    "df.head()"
   ]
  },
  {
   "cell_type": "markdown",
   "metadata": {},
   "source": [
    "# Save Countries Dataset"
   ]
  },
  {
   "cell_type": "code",
   "execution_count": 12,
   "metadata": {},
   "outputs": [
    {
     "name": "stderr",
     "output_type": "stream",
     "text": [
      "2020-07-28 15:50:47.744 | INFO     | __main__:<module>:1 - Saving peak model dataset -> ../data/processed/peak_model_owid_covid.csv\n"
     ]
    },
    {
     "data": {
      "text/plain": [
       "((38114, 25),\n",
       " '../data/processed/peak_model_owid_covid.csv',\n",
       " Timestamp('2020-07-28 00:00:00'))"
      ]
     },
     "execution_count": 12,
     "metadata": {},
     "output_type": "execute_result"
    }
   ],
   "source": [
    "logger.info('Saving peak model dataset -> %s' % peak_model_dataset)\n",
    "\n",
    "df.to_csv(peak_model_dataset, index=False)\n",
    "\n",
    "df.shape, peak_model_dataset, df.date.max()"
   ]
  },
  {
   "cell_type": "code",
   "execution_count": null,
   "metadata": {},
   "outputs": [],
   "source": []
  },
  {
   "cell_type": "code",
   "execution_count": null,
   "metadata": {},
   "outputs": [],
   "source": []
  }
 ],
 "metadata": {
  "kernelspec": {
   "display_name": "COVID-19",
   "language": "python",
   "name": "covid-19"
  },
  "language_info": {
   "codemirror_mode": {
    "name": "ipython",
    "version": 3
   },
   "file_extension": ".py",
   "mimetype": "text/x-python",
   "name": "python",
   "nbconvert_exporter": "python",
   "pygments_lexer": "ipython3",
   "version": "3.7.7"
  }
 },
 "nbformat": 4,
 "nbformat_minor": 4
}
