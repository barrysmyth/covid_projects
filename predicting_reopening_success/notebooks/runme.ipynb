{
 "cells": [
  {
   "cell_type": "markdown",
   "metadata": {},
   "source": [
    "# Predicting Reopening Success\n",
    "Code used to generate the data and results of rthg paper \"Using Maching Learning to Predict the Success of COVID-19 Lockowns\"."
   ]
  },
  {
   "cell_type": "code",
   "execution_count": 1,
   "metadata": {},
   "outputs": [],
   "source": [
    "import papermill as pm\n",
    "\n",
    "\n",
    "from loguru import logger\n",
    "\n",
    "import warnings\n",
    "warnings.filterwarnings(\"ignore\")"
   ]
  },
  {
   "cell_type": "markdown",
   "metadata": {},
   "source": [
    "# Prep Data"
   ]
  },
  {
   "cell_type": "markdown",
   "metadata": {},
   "source": [
    "## Prep the OWID Data "
   ]
  },
  {
   "cell_type": "code",
   "execution_count": 2,
   "metadata": {},
   "outputs": [
    {
     "data": {
      "application/vnd.jupyter.widget-view+json": {
       "model_id": "90131c59541e4ec1851cdbb0f0f48bcb",
       "version_major": 2,
       "version_minor": 0
      },
      "text/plain": [
       "HBox(children=(FloatProgress(value=0.0, description='Executing', max=54.0, style=ProgressStyle(description_wid…"
      ]
     },
     "metadata": {},
     "output_type": "display_data"
    },
    {
     "name": "stderr",
     "output_type": "stream",
     "text": [
      "2020-07-28 14:25:14.211 | INFO     | __main__:<module>:1 - Loading OWID dataset @ https://covid.ourworldindata.org/data/owid-covid-data.csv\n",
      "\n",
      "2020-07-28 14:25:22.130 | INFO     | __main__:<module>:1 - Saving raw OWID dataset @ ../data/raw/raw_owid_dataset.csv\n",
      "\n",
      "2020-07-28 14:25:23.341 | INFO     | __main__:<module>:1 - Loading Google Mobility dataset @ https://www.gstatic.com/covid19/mobility/Global_Mobility_Report.csv\n",
      "\n",
      "2020-07-28 14:25:26.967 | INFO     | __main__:<module>:1 - Saving Google Mobility dataset @ ../data/raw/raw_google_dataset.csv\n",
      "\n",
      "2020-07-28 14:25:38.786 | INFO     | __main__:<module>:1 - Saving minimal OWID dataset with mobility data @ ../data/processed/minimal_owid_covid.csv\n",
      "\n"
     ]
    },
    {
     "name": "stdout",
     "output_type": "stream",
     "text": [
      "\n"
     ]
    }
   ],
   "source": [
    "pm.execute_notebook(\n",
    "    'prep_master_owid_dataset_minimal.ipynb',\n",
    "    'output/prep_master_owid_dataset_minimal.ipynb',\n",
    "    log_output=True\n",
    ");"
   ]
  },
  {
   "cell_type": "markdown",
   "metadata": {},
   "source": [
    "## Prep the CTP (Covid Tracking Project / US) Data"
   ]
  },
  {
   "cell_type": "code",
   "execution_count": 3,
   "metadata": {},
   "outputs": [
    {
     "data": {
      "application/vnd.jupyter.widget-view+json": {
       "model_id": "9b81d76923e741db96e0ef1969737876",
       "version_major": 2,
       "version_minor": 0
      },
      "text/plain": [
       "HBox(children=(FloatProgress(value=0.0, description='Executing', max=44.0, style=ProgressStyle(description_wid…"
      ]
     },
     "metadata": {},
     "output_type": "display_data"
    },
    {
     "name": "stderr",
     "output_type": "stream",
     "text": [
      "2020-07-28 14:25:42.522 | INFO     | __main__:<module>:1 - Loading CTP dataset @ https://covidtracking.com/api/v1/states/daily.csv\n",
      "\n",
      "2020-07-28 14:25:44.309 | INFO     | __main__:<module>:1 - Loading population data dataset @ https://www2.census.gov/programs-surveys/popest/datasets/2010-2019/state/detail/SCPRC-EST2019-18+POP-RES.csv\n",
      "\n",
      "2020-07-28 14:25:44.659 | INFO     | __main__:<module>:1 - Loading country codes data dataset @ https://worldpopulationreview.com/states/state-abbreviations\n",
      "\n",
      "2020-07-28 14:25:46.468 | INFO     | __main__:<module>:1 - Saving raw CTP dataset @ ../data/raw/raw_ctp_dataset.csv\n",
      "\n",
      "2020-07-28 14:25:46.969 | INFO     | __main__:<module>:1 - Loading Google mobility dataset @ https://www.gstatic.com/covid19/mobility/Global_Mobility_Report.csv\n",
      "\n",
      "2020-07-28 14:25:50.941 | INFO     | __main__:<module>:1 - Saving raw Google mobility dataset @ ../data/raw/raw_google_dataset.csv\n",
      "\n",
      "2020-07-28 14:26:01.160 | INFO     | __main__:<module>:1 - Saving minimal CTP dataset with mobility data @ ../data/processed/minimal_ctp_covid.csv\n",
      "\n"
     ]
    },
    {
     "name": "stdout",
     "output_type": "stream",
     "text": [
      "\n"
     ]
    }
   ],
   "source": [
    "pm.execute_notebook(\n",
    "    'prep_master_ctp_dataset_minimal.ipynb',\n",
    "    'output/prep_master_ctp_dataset_minimal.ipynb',\n",
    "    log_output=True\n",
    ");"
   ]
  },
  {
   "cell_type": "markdown",
   "metadata": {},
   "source": [
    "# Build Peak Models"
   ]
  },
  {
   "cell_type": "markdown",
   "metadata": {},
   "source": [
    "## Build peak model for OWID data "
   ]
  },
  {
   "cell_type": "code",
   "execution_count": 4,
   "metadata": {},
   "outputs": [
    {
     "data": {
      "application/vnd.jupyter.widget-view+json": {
       "model_id": "9ecb4ba428cf4e7bbf6d6991687db62f",
       "version_major": 2,
       "version_minor": 0
      },
      "text/plain": [
       "HBox(children=(FloatProgress(value=0.0, description='Executing', max=25.0, style=ProgressStyle(description_wid…"
      ]
     },
     "metadata": {},
     "output_type": "display_data"
    },
    {
     "name": "stderr",
     "output_type": "stream",
     "text": [
      "2020-07-28 14:26:05.200 | INFO     | __main__:<module>:1 - Loading ../data/processed/minimal_owid_covid.csv\n",
      "\n",
      "2020-07-28 14:26:05.788 | INFO     | __main__:<module>:1 - Building peak models.\n",
      "\n",
      "/home/barry/anaconda3/envs/covid-19/lib/python3.7/site-packages/ipykernel_launcher.py:8: DeprecationWarning: The default dtype for empty Series will be 'object' instead of 'float64' in a future version. Specify a dtype explicitly to silence this warning.\n",
      "  \n",
      "\n",
      "/home/barry/anaconda3/envs/covid-19/lib/python3.7/site-packages/ipykernel_launcher.py:8: DeprecationWarning: The default dtype for empty Series will be 'object' instead of 'float64' in a future version. Specify a dtype explicitly to silence this warning.\n",
      "  \n",
      "\n",
      "2020-07-28 14:26:17.404 | INFO     | __main__:<module>:1 - Saving peak model dataset -> ../data/processed/peak_model_owid_covid.csv\n",
      "\n"
     ]
    },
    {
     "name": "stdout",
     "output_type": "stream",
     "text": [
      "\n"
     ]
    }
   ],
   "source": [
    "pm.execute_notebook(\n",
    "    'gen_peak_model_minimal.ipynb',\n",
    "    'output/gen_peak_model_minimal.ipynb',\n",
    "    parameters=dict(\n",
    "        minimal_dataset='../data/processed/minimal_owid_covid.csv',\n",
    "    ),\n",
    "    log_output=True\n",
    ");"
   ]
  },
  {
   "cell_type": "markdown",
   "metadata": {},
   "source": [
    "## Build peak model for CTP data"
   ]
  },
  {
   "cell_type": "code",
   "execution_count": 5,
   "metadata": {},
   "outputs": [
    {
     "data": {
      "application/vnd.jupyter.widget-view+json": {
       "model_id": "04892d75a949406ca7eb47ce8d394fa0",
       "version_major": 2,
       "version_minor": 0
      },
      "text/plain": [
       "HBox(children=(FloatProgress(value=0.0, description='Executing', max=25.0, style=ProgressStyle(description_wid…"
      ]
     },
     "metadata": {},
     "output_type": "display_data"
    },
    {
     "name": "stderr",
     "output_type": "stream",
     "text": [
      "2020-07-28 14:26:21.616 | INFO     | __main__:<module>:1 - Loading ../data/processed/minimal_ctp_covid.csv\n",
      "\n",
      "2020-07-28 14:26:22.137 | INFO     | __main__:<module>:1 - Building peak models.\n",
      "\n",
      "/home/barry/anaconda3/envs/covid-19/lib/python3.7/site-packages/ipykernel_launcher.py:8: DeprecationWarning: The default dtype for empty Series will be 'object' instead of 'float64' in a future version. Specify a dtype explicitly to silence this warning.\n",
      "  \n",
      "\n",
      "/home/barry/anaconda3/envs/covid-19/lib/python3.7/site-packages/ipykernel_launcher.py:8: DeprecationWarning: The default dtype for empty Series will be 'object' instead of 'float64' in a future version. Specify a dtype explicitly to silence this warning.\n",
      "  \n",
      "\n",
      "2020-07-28 14:26:25.812 | INFO     | __main__:<module>:1 - Saving peak model dataset -> ../data/processed/peak_model_ctp_covid.csv\n",
      "\n"
     ]
    },
    {
     "name": "stdout",
     "output_type": "stream",
     "text": [
      "\n"
     ]
    }
   ],
   "source": [
    "pm.execute_notebook(\n",
    "    'gen_peak_model_minimal.ipynb',\n",
    "    'output/gen_peak_model_minimal.ipynb',\n",
    "    parameters=dict(\n",
    "        minimal_dataset='../data/processed/minimal_ctp_covid.csv',\n",
    "    ),\n",
    "    log_output=True\n",
    ");"
   ]
  },
  {
   "cell_type": "markdown",
   "metadata": {},
   "source": [
    "# Generate Lockdown Features"
   ]
  },
  {
   "cell_type": "code",
   "execution_count": 6,
   "metadata": {},
   "outputs": [
    {
     "data": {
      "application/vnd.jupyter.widget-view+json": {
       "model_id": "d5f1faaa897843ab9140c92b4fc4744e",
       "version_major": 2,
       "version_minor": 0
      },
      "text/plain": [
       "HBox(children=(FloatProgress(value=0.0, description='Executing', max=30.0, style=ProgressStyle(description_wid…"
      ]
     },
     "metadata": {},
     "output_type": "display_data"
    },
    {
     "name": "stderr",
     "output_type": "stream",
     "text": [
      "2020-07-28 14:26:29.011 | INFO     | __main__:<module>:1 - Loading CTP peak models @ ../data/processed/peak_model_ctp_covid.csv\n",
      "\n",
      "2020-07-28 14:26:29.190 | INFO     | __main__:<module>:1 - Loading OWID peak models @ ../data/processed/peak_model_ctp_covid.csv\n",
      "\n",
      "/home/barry/anaconda3/envs/covid-19/lib/python3.7/site-packages/ipykernel_launcher.py:64: RuntimeWarning: invalid value encountered in double_scalars\n",
      "/home/barry/anaconda3/envs/covid-19/lib/python3.7/site-packages/ipykernel_launcher.py:67: RuntimeWarning: invalid value encountered in double_scalars\n",
      "/home/barry/anaconda3/envs/covid-19/lib/python3.7/site-packages/ipykernel_launcher.py:83: RuntimeWarning: divide by zero encountered in double_scalars\n",
      "/home/barry/anaconda3/envs/covid-19/lib/python3.7/site-packages/ipykernel_launcher.py:89: RuntimeWarning: invalid value encountered in double_scalars\n",
      "/home/barry/anaconda3/envs/covid-19/lib/python3.7/site-packages/ipykernel_launcher.py:104: RuntimeWarning: invalid value encountered in double_scalars\n",
      "\n",
      "/home/barry/anaconda3/envs/covid-19/lib/python3.7/site-packages/ipykernel_launcher.py:91: RuntimeWarning: divide by zero encountered in double_scalars\n",
      "/home/barry/anaconda3/envs/covid-19/lib/python3.7/site-packages/ipykernel_launcher.py:92: RuntimeWarning: divide by zero encountered in double_scalars\n",
      "\n",
      "/home/barry/anaconda3/envs/covid-19/lib/python3.7/site-packages/ipykernel_launcher.py:92: RuntimeWarning: invalid value encountered in double_scalars\n",
      "\n",
      "2020-07-28 14:28:22.040 | INFO     | __main__:<module>:1 - Saving expanded lockdown data -> ../data/expanded_lockdowns.pkl\n",
      "\n"
     ]
    },
    {
     "name": "stdout",
     "output_type": "stream",
     "text": [
      "\n"
     ]
    }
   ],
   "source": [
    "pm.execute_notebook(\n",
    "    'gen_lockdown_features.ipynb',\n",
    "    'output/gen_lockdown_features.ipynb',\n",
    "    log_output=True\n",
    ");"
   ]
  },
  {
   "cell_type": "markdown",
   "metadata": {},
   "source": [
    "# Predicting Re-Opening Success Experiment"
   ]
  },
  {
   "cell_type": "markdown",
   "metadata": {},
   "source": [
    "## The Exhaustive Feature Search with Prediction Error"
   ]
  },
  {
   "cell_type": "code",
   "execution_count": 7,
   "metadata": {},
   "outputs": [
    {
     "data": {
      "application/vnd.jupyter.widget-view+json": {
       "model_id": "0e1ba45c061f4c51a4d2e2891f322701",
       "version_major": 2,
       "version_minor": 0
      },
      "text/plain": [
       "HBox(children=(FloatProgress(value=0.0, description='Executing', max=27.0, style=ProgressStyle(description_wid…"
      ]
     },
     "metadata": {},
     "output_type": "display_data"
    },
    {
     "name": "stderr",
     "output_type": "stream",
     "text": [
      "2020-07-28 14:28:26.439 | INFO     | __main__:<module>:1 - Loading lockdown data @ ../data/expanded_lockdowns.pkl\n",
      "\n",
      "2020-07-28 14:28:29.118 | INFO     | __main__:<module>:1 - Running exhaustive feature search (28 - 85 days. This will take a while ... (~12 hours)\n",
      "\n"
     ]
    },
    {
     "name": "stdout",
     "output_type": "stream",
     "text": [
      "\n"
     ]
    },
    {
     "ename": "PapermillExecutionError",
     "evalue": "\n---------------------------------------------------------------------------\nException encountered at \"In [12]\":\n---------------------------------------------------------------------------\nNameError                                 Traceback (most recent call last)\n<ipython-input-12-beb5ecba9c44> in <module>\n     28     return efs_df.sort_values(by=['rebound_days', 'avg_score'], ascending=False).reset_index().drop('index', axis='columns')\n     29 \n---> 30 logger.info('Finished with %s results' % len(efs_df))\n\nNameError: name 'efs_df' is not defined\n",
     "output_type": "error",
     "traceback": [
      "\u001b[0;31m---------------------------------------------------------------------------\u001b[0m",
      "\u001b[0;31mPapermillExecutionError\u001b[0m                   Traceback (most recent call last)",
      "\u001b[0;32m<ipython-input-7-45cb7c7a4055>\u001b[0m in \u001b[0;36m<module>\u001b[0;34m\u001b[0m\n\u001b[1;32m      7\u001b[0m         \u001b[0mto_rebound_days\u001b[0m\u001b[0;34m=\u001b[0m\u001b[0;36m85\u001b[0m\u001b[0;34m\u001b[0m\u001b[0;34m\u001b[0m\u001b[0m\n\u001b[1;32m      8\u001b[0m     ),\n\u001b[0;32m----> 9\u001b[0;31m     \u001b[0mlog_output\u001b[0m\u001b[0;34m=\u001b[0m\u001b[0;32mTrue\u001b[0m\u001b[0;34m\u001b[0m\u001b[0;34m\u001b[0m\u001b[0m\n\u001b[0m\u001b[1;32m     10\u001b[0m );\n",
      "\u001b[0;32m~/anaconda3/envs/covid-19/lib/python3.7/site-packages/papermill/execute.py\u001b[0m in \u001b[0;36mexecute_notebook\u001b[0;34m(input_path, output_path, parameters, engine_name, request_save_on_cell_execute, prepare_only, kernel_name, progress_bar, log_output, stdout_file, stderr_file, start_timeout, report_mode, cwd, **engine_kwargs)\u001b[0m\n\u001b[1;32m    108\u001b[0m \u001b[0;34m\u001b[0m\u001b[0m\n\u001b[1;32m    109\u001b[0m             \u001b[0;31m# Check for errors first (it saves on error before raising)\u001b[0m\u001b[0;34m\u001b[0m\u001b[0;34m\u001b[0m\u001b[0;34m\u001b[0m\u001b[0m\n\u001b[0;32m--> 110\u001b[0;31m             \u001b[0mraise_for_execution_errors\u001b[0m\u001b[0;34m(\u001b[0m\u001b[0mnb\u001b[0m\u001b[0;34m,\u001b[0m \u001b[0moutput_path\u001b[0m\u001b[0;34m)\u001b[0m\u001b[0;34m\u001b[0m\u001b[0;34m\u001b[0m\u001b[0m\n\u001b[0m\u001b[1;32m    111\u001b[0m \u001b[0;34m\u001b[0m\u001b[0m\n\u001b[1;32m    112\u001b[0m         \u001b[0;31m# Write final output in case the engine didn't write it on cell completion.\u001b[0m\u001b[0;34m\u001b[0m\u001b[0;34m\u001b[0m\u001b[0;34m\u001b[0m\u001b[0m\n",
      "\u001b[0;32m~/anaconda3/envs/covid-19/lib/python3.7/site-packages/papermill/execute.py\u001b[0m in \u001b[0;36mraise_for_execution_errors\u001b[0;34m(nb, output_path)\u001b[0m\n\u001b[1;32m    220\u001b[0m \u001b[0;34m\u001b[0m\u001b[0m\n\u001b[1;32m    221\u001b[0m         \u001b[0mwrite_ipynb\u001b[0m\u001b[0;34m(\u001b[0m\u001b[0mnb\u001b[0m\u001b[0;34m,\u001b[0m \u001b[0moutput_path\u001b[0m\u001b[0;34m)\u001b[0m\u001b[0;34m\u001b[0m\u001b[0;34m\u001b[0m\u001b[0m\n\u001b[0;32m--> 222\u001b[0;31m         \u001b[0;32mraise\u001b[0m \u001b[0merror\u001b[0m\u001b[0;34m\u001b[0m\u001b[0;34m\u001b[0m\u001b[0m\n\u001b[0m",
      "\u001b[0;31mPapermillExecutionError\u001b[0m: \n---------------------------------------------------------------------------\nException encountered at \"In [12]\":\n---------------------------------------------------------------------------\nNameError                                 Traceback (most recent call last)\n<ipython-input-12-beb5ecba9c44> in <module>\n     28     return efs_df.sort_values(by=['rebound_days', 'avg_score'], ascending=False).reset_index().drop('index', axis='columns')\n     29 \n---> 30 logger.info('Finished with %s results' % len(efs_df))\n\nNameError: name 'efs_df' is not defined\n"
     ]
    }
   ],
   "source": [
    "pm.execute_notebook(\n",
    "    'predicting_reopening_success.ipynb',\n",
    "    'output/predicting_reopening_success.ipynb',\n",
    "    parameters=dict(\n",
    "        dataset='eu_us',\n",
    "        from_rebound_days=28, \n",
    "        to_rebound_days=85\n",
    "    ),\n",
    "    log_output=True\n",
    ");"
   ]
  },
  {
   "cell_type": "markdown",
   "metadata": {},
   "source": [
    "## Analysis of EFS Results\n",
    "The core analysis and charts uses in the \"predicting Re-Opeinign Success\" paper."
   ]
  },
  {
   "cell_type": "code",
   "execution_count": null,
   "metadata": {},
   "outputs": [],
   "source": [
    "pm.execute_notebook(\n",
    "    'analysing_feature_subsets.ipynb',\n",
    "    'output/analysing_feature_subsets.ipynb',\n",
    "    parameters=dict(\n",
    "        dataset='eu_us',\n",
    "        from_rebound_days=28, \n",
    "        to_rebound_days=71\n",
    "    ),\n",
    "    log_output=True\n",
    ");"
   ]
  },
  {
   "cell_type": "markdown",
   "metadata": {},
   "source": [
    "## Generate Lockdown Charts"
   ]
  },
  {
   "cell_type": "markdown",
   "metadata": {},
   "source": [
    "## Viz Eu & US\n",
    "Comparing the EU countries and US states"
   ]
  },
  {
   "cell_type": "code",
   "execution_count": null,
   "metadata": {},
   "outputs": [],
   "source": [
    "pm.execute_notebook(\n",
    "    'viz_lockdown_models_eu_us.ipynb',\n",
    "    'output/viz_lockdown_models_eu_us.ipynb',\n",
    "    log_output=True\n",
    ");"
   ]
  },
  {
   "cell_type": "code",
   "execution_count": null,
   "metadata": {},
   "outputs": [],
   "source": []
  }
 ],
 "metadata": {
  "kernelspec": {
   "display_name": "COVID-19",
   "language": "python",
   "name": "covid-19"
  },
  "language_info": {
   "codemirror_mode": {
    "name": "ipython",
    "version": 3
   },
   "file_extension": ".py",
   "mimetype": "text/x-python",
   "name": "python",
   "nbconvert_exporter": "python",
   "pygments_lexer": "ipython3",
   "version": "3.7.7"
  }
 },
 "nbformat": 4,
 "nbformat_minor": 4
}
