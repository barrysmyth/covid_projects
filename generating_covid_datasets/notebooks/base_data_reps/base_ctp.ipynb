{
 "cells": [
  {
   "cell_type": "markdown",
   "metadata": {},
   "source": [
    "# Base CTP\n",
    "\n",
    "* date\n",
    "\n",
    "* country\n",
    "* country_code\n",
    "* country_id\n",
    "\n",
    "* continent\n",
    "* region -- sub-contintent but larger than country\n",
    "\n",
    "* new_cases\n",
    "* new_deaths\n",
    "* new_tests\n",
    "\n"
   ]
  },
  {
   "cell_type": "code",
   "execution_count": 1,
   "metadata": {
    "execution": {
     "iopub.execute_input": "2020-08-27T10:14:17.717205Z",
     "iopub.status.busy": "2020-08-27T10:14:17.716787Z",
     "iopub.status.idle": "2020-08-27T10:14:18.286979Z",
     "shell.execute_reply": "2020-08-27T10:14:18.286324Z",
     "shell.execute_reply.started": "2020-08-27T10:14:17.717155Z"
    }
   },
   "outputs": [],
   "source": [
    "from datetime import date, datetime, timedelta\n",
    "\n",
    "\n",
    "import pandas as pd\n",
    "import numpy as np\n",
    "\n",
    "from loguru import logger\n",
    "import pycountry\n",
    "from matplotlib.pylab import plt\n",
    "\n",
    "%matplotlib inline"
   ]
  },
  {
   "cell_type": "markdown",
   "metadata": {},
   "source": [
    "# Params "
   ]
  },
  {
   "cell_type": "code",
   "execution_count": 2,
   "metadata": {
    "execution": {
     "iopub.execute_input": "2020-08-27T10:14:18.288274Z",
     "iopub.status.busy": "2020-08-27T10:14:18.288085Z",
     "iopub.status.idle": "2020-08-27T10:14:18.291892Z",
     "shell.execute_reply": "2020-08-27T10:14:18.291308Z",
     "shell.execute_reply.started": "2020-08-27T10:14:18.288249Z"
    },
    "tags": [
     "parameters"
    ]
   },
   "outputs": [],
   "source": [
    "ctp_dataset = 'https://covidtracking.com/api/v1/states/daily.csv'\n",
    "\n",
    "base_ctp_dataset = '../../data/base_ctp.pkl'\n",
    "\n",
    "# The columns used in the base representation\n",
    "base_cols = [\n",
    "    'date', 'state', 'state_code', 'country', 'country_code', 'country_id', 'continent', 'region', \n",
    "    'new_cases', 'new_deaths', \n",
    "    'population'\n",
    "]"
   ]
  },
  {
   "cell_type": "markdown",
   "metadata": {},
   "source": [
    "# The Covid Tracking Project Dataset"
   ]
  },
  {
   "cell_type": "markdown",
   "metadata": {},
   "source": [
    "## Prepare the CTP Dataset "
   ]
  },
  {
   "cell_type": "code",
   "execution_count": 3,
   "metadata": {
    "execution": {
     "iopub.execute_input": "2020-08-27T10:14:18.293455Z",
     "iopub.status.busy": "2020-08-27T10:14:18.293262Z",
     "iopub.status.idle": "2020-08-27T10:14:20.369298Z",
     "shell.execute_reply": "2020-08-27T10:14:20.368603Z",
     "shell.execute_reply.started": "2020-08-27T10:14:18.293430Z"
    }
   },
   "outputs": [
    {
     "name": "stderr",
     "output_type": "stream",
     "text": [
      "2020-08-27 11:14:18.379 | INFO     | __main__:<module>:1 - Loading CTP dataset @ https://covidtracking.com/api/v1/states/daily.csv\n"
     ]
    },
    {
     "data": {
      "text/plain": [
       "(9785, 54)"
      ]
     },
     "execution_count": 3,
     "metadata": {},
     "output_type": "execute_result"
    }
   ],
   "source": [
    "logger.info('Loading CTP dataset @ %s' % ctp_dataset)\n",
    "\n",
    "ctp = pd.read_csv(ctp_dataset, parse_dates=['date'], low_memory=False)\n",
    "ctp.shape"
   ]
  },
  {
   "cell_type": "code",
   "execution_count": 4,
   "metadata": {
    "execution": {
     "iopub.execute_input": "2020-08-27T10:14:20.370781Z",
     "iopub.status.busy": "2020-08-27T10:14:20.370568Z",
     "iopub.status.idle": "2020-08-27T10:14:20.398432Z",
     "shell.execute_reply": "2020-08-27T10:14:20.397766Z",
     "shell.execute_reply.started": "2020-08-27T10:14:20.370751Z"
    }
   },
   "outputs": [
    {
     "data": {
      "text/html": [
       "<div>\n",
       "<style scoped>\n",
       "    .dataframe tbody tr th:only-of-type {\n",
       "        vertical-align: middle;\n",
       "    }\n",
       "\n",
       "    .dataframe tbody tr th {\n",
       "        vertical-align: top;\n",
       "    }\n",
       "\n",
       "    .dataframe thead th {\n",
       "        text-align: right;\n",
       "    }\n",
       "</style>\n",
       "<table border=\"1\" class=\"dataframe\">\n",
       "  <thead>\n",
       "    <tr style=\"text-align: right;\">\n",
       "      <th></th>\n",
       "      <th>date</th>\n",
       "      <th>state</th>\n",
       "      <th>positive</th>\n",
       "      <th>negative</th>\n",
       "      <th>pending</th>\n",
       "      <th>hospitalizedCurrently</th>\n",
       "      <th>hospitalizedCumulative</th>\n",
       "      <th>inIcuCurrently</th>\n",
       "      <th>inIcuCumulative</th>\n",
       "      <th>onVentilatorCurrently</th>\n",
       "      <th>...</th>\n",
       "      <th>posNeg</th>\n",
       "      <th>deathIncrease</th>\n",
       "      <th>hospitalizedIncrease</th>\n",
       "      <th>hash</th>\n",
       "      <th>commercialScore</th>\n",
       "      <th>negativeRegularScore</th>\n",
       "      <th>negativeScore</th>\n",
       "      <th>positiveScore</th>\n",
       "      <th>score</th>\n",
       "      <th>grade</th>\n",
       "    </tr>\n",
       "  </thead>\n",
       "  <tbody>\n",
       "    <tr>\n",
       "      <th>0</th>\n",
       "      <td>2020-08-26</td>\n",
       "      <td>AK</td>\n",
       "      <td>5719.0</td>\n",
       "      <td>329085.0</td>\n",
       "      <td>NaN</td>\n",
       "      <td>44.0</td>\n",
       "      <td>NaN</td>\n",
       "      <td>NaN</td>\n",
       "      <td>NaN</td>\n",
       "      <td>6.0</td>\n",
       "      <td>...</td>\n",
       "      <td>334804</td>\n",
       "      <td>1</td>\n",
       "      <td>0</td>\n",
       "      <td>d9f7e0826fb6675334cd2621a69a85060d3df87d</td>\n",
       "      <td>0</td>\n",
       "      <td>0</td>\n",
       "      <td>0</td>\n",
       "      <td>0</td>\n",
       "      <td>0</td>\n",
       "      <td>NaN</td>\n",
       "    </tr>\n",
       "    <tr>\n",
       "      <th>1</th>\n",
       "      <td>2020-08-26</td>\n",
       "      <td>AL</td>\n",
       "      <td>119254.0</td>\n",
       "      <td>824431.0</td>\n",
       "      <td>NaN</td>\n",
       "      <td>1077.0</td>\n",
       "      <td>14005.0</td>\n",
       "      <td>NaN</td>\n",
       "      <td>1412.0</td>\n",
       "      <td>NaN</td>\n",
       "      <td>...</td>\n",
       "      <td>943685</td>\n",
       "      <td>8</td>\n",
       "      <td>212</td>\n",
       "      <td>d3485886905948f2a1ee44e033157877576c0571</td>\n",
       "      <td>0</td>\n",
       "      <td>0</td>\n",
       "      <td>0</td>\n",
       "      <td>0</td>\n",
       "      <td>0</td>\n",
       "      <td>NaN</td>\n",
       "    </tr>\n",
       "    <tr>\n",
       "      <th>2</th>\n",
       "      <td>2020-08-26</td>\n",
       "      <td>AR</td>\n",
       "      <td>58023.0</td>\n",
       "      <td>625250.0</td>\n",
       "      <td>NaN</td>\n",
       "      <td>435.0</td>\n",
       "      <td>4061.0</td>\n",
       "      <td>NaN</td>\n",
       "      <td>NaN</td>\n",
       "      <td>108.0</td>\n",
       "      <td>...</td>\n",
       "      <td>683273</td>\n",
       "      <td>21</td>\n",
       "      <td>48</td>\n",
       "      <td>7baca8490439947b97cb5779289239e087ab37f4</td>\n",
       "      <td>0</td>\n",
       "      <td>0</td>\n",
       "      <td>0</td>\n",
       "      <td>0</td>\n",
       "      <td>0</td>\n",
       "      <td>NaN</td>\n",
       "    </tr>\n",
       "    <tr>\n",
       "      <th>3</th>\n",
       "      <td>2020-08-26</td>\n",
       "      <td>AS</td>\n",
       "      <td>0.0</td>\n",
       "      <td>1514.0</td>\n",
       "      <td>NaN</td>\n",
       "      <td>NaN</td>\n",
       "      <td>NaN</td>\n",
       "      <td>NaN</td>\n",
       "      <td>NaN</td>\n",
       "      <td>NaN</td>\n",
       "      <td>...</td>\n",
       "      <td>1514</td>\n",
       "      <td>0</td>\n",
       "      <td>0</td>\n",
       "      <td>d6804c7b3b61d39816426beba31ff5ca4758b98c</td>\n",
       "      <td>0</td>\n",
       "      <td>0</td>\n",
       "      <td>0</td>\n",
       "      <td>0</td>\n",
       "      <td>0</td>\n",
       "      <td>NaN</td>\n",
       "    </tr>\n",
       "    <tr>\n",
       "      <th>4</th>\n",
       "      <td>2020-08-26</td>\n",
       "      <td>AZ</td>\n",
       "      <td>199459.0</td>\n",
       "      <td>967451.0</td>\n",
       "      <td>NaN</td>\n",
       "      <td>967.0</td>\n",
       "      <td>21376.0</td>\n",
       "      <td>305.0</td>\n",
       "      <td>NaN</td>\n",
       "      <td>180.0</td>\n",
       "      <td>...</td>\n",
       "      <td>1166910</td>\n",
       "      <td>104</td>\n",
       "      <td>11</td>\n",
       "      <td>836897c2325e26019a8947a3eb09ac383976e40e</td>\n",
       "      <td>0</td>\n",
       "      <td>0</td>\n",
       "      <td>0</td>\n",
       "      <td>0</td>\n",
       "      <td>0</td>\n",
       "      <td>NaN</td>\n",
       "    </tr>\n",
       "  </tbody>\n",
       "</table>\n",
       "<p>5 rows × 54 columns</p>\n",
       "</div>"
      ],
      "text/plain": [
       "        date state  positive  negative  pending  hospitalizedCurrently  \\\n",
       "0 2020-08-26    AK    5719.0  329085.0      NaN                   44.0   \n",
       "1 2020-08-26    AL  119254.0  824431.0      NaN                 1077.0   \n",
       "2 2020-08-26    AR   58023.0  625250.0      NaN                  435.0   \n",
       "3 2020-08-26    AS       0.0    1514.0      NaN                    NaN   \n",
       "4 2020-08-26    AZ  199459.0  967451.0      NaN                  967.0   \n",
       "\n",
       "   hospitalizedCumulative  inIcuCurrently  inIcuCumulative  \\\n",
       "0                     NaN             NaN              NaN   \n",
       "1                 14005.0             NaN           1412.0   \n",
       "2                  4061.0             NaN              NaN   \n",
       "3                     NaN             NaN              NaN   \n",
       "4                 21376.0           305.0              NaN   \n",
       "\n",
       "   onVentilatorCurrently  ...   posNeg  deathIncrease hospitalizedIncrease  \\\n",
       "0                    6.0  ...   334804              1                    0   \n",
       "1                    NaN  ...   943685              8                  212   \n",
       "2                  108.0  ...   683273             21                   48   \n",
       "3                    NaN  ...     1514              0                    0   \n",
       "4                  180.0  ...  1166910            104                   11   \n",
       "\n",
       "                                       hash commercialScore  \\\n",
       "0  d9f7e0826fb6675334cd2621a69a85060d3df87d               0   \n",
       "1  d3485886905948f2a1ee44e033157877576c0571               0   \n",
       "2  7baca8490439947b97cb5779289239e087ab37f4               0   \n",
       "3  d6804c7b3b61d39816426beba31ff5ca4758b98c               0   \n",
       "4  836897c2325e26019a8947a3eb09ac383976e40e               0   \n",
       "\n",
       "  negativeRegularScore  negativeScore  positiveScore score  grade  \n",
       "0                    0              0              0     0    NaN  \n",
       "1                    0              0              0     0    NaN  \n",
       "2                    0              0              0     0    NaN  \n",
       "3                    0              0              0     0    NaN  \n",
       "4                    0              0              0     0    NaN  \n",
       "\n",
       "[5 rows x 54 columns]"
      ]
     },
     "execution_count": 4,
     "metadata": {},
     "output_type": "execute_result"
    }
   ],
   "source": [
    "ctp.head()"
   ]
  },
  {
   "cell_type": "code",
   "execution_count": 5,
   "metadata": {
    "execution": {
     "iopub.execute_input": "2020-08-27T10:14:20.399698Z",
     "iopub.status.busy": "2020-08-27T10:14:20.399470Z",
     "iopub.status.idle": "2020-08-27T10:14:20.558453Z",
     "shell.execute_reply": "2020-08-27T10:14:20.557522Z",
     "shell.execute_reply.started": "2020-08-27T10:14:20.399668Z"
    }
   },
   "outputs": [
    {
     "data": {
      "text/plain": [
       "((9785, 54),\n",
       " 56,\n",
       " Index(['date', 'state', 'positive', 'negative', 'pending',\n",
       "        'hospitalizedCurrently', 'hospitalizedCumulative', 'inIcuCurrently',\n",
       "        'inIcuCumulative', 'onVentilatorCurrently', 'onVentilatorCumulative',\n",
       "        'recovered', 'dataQualityGrade', 'lastUpdateEt', 'dateModified',\n",
       "        'checkTimeEt', 'death', 'hospitalized', 'dateChecked',\n",
       "        'totalTestsViral', 'positiveTestsViral', 'negativeTestsViral',\n",
       "        'positiveCasesViral', 'deathConfirmed', 'deathProbable',\n",
       "        'totalTestEncountersViral', 'totalTestsPeopleViral',\n",
       "        'totalTestsAntibody', 'positiveTestsAntibody', 'negativeTestsAntibody',\n",
       "        'totalTestsPeopleAntibody', 'positiveTestsPeopleAntibody',\n",
       "        'negativeTestsPeopleAntibody', 'totalTestsPeopleAntigen',\n",
       "        'positiveTestsPeopleAntigen', 'totalTestsAntigen',\n",
       "        'positiveTestsAntigen', 'fips', 'positiveIncrease', 'negativeIncrease',\n",
       "        'total', 'totalTestResultsSource', 'totalTestResults',\n",
       "        'totalTestResultsIncrease', 'posNeg', 'deathIncrease',\n",
       "        'hospitalizedIncrease', 'hash', 'commercialScore',\n",
       "        'negativeRegularScore', 'negativeScore', 'positiveScore', 'score',\n",
       "        'grade'],\n",
       "       dtype='object'))"
      ]
     },
     "execution_count": 5,
     "metadata": {},
     "output_type": "execute_result"
    }
   ],
   "source": [
    "ctp.shape, ctp.state.nunique(), ctp.columns"
   ]
  },
  {
   "cell_type": "code",
   "execution_count": 6,
   "metadata": {
    "execution": {
     "iopub.execute_input": "2020-08-27T10:14:20.560559Z",
     "iopub.status.busy": "2020-08-27T10:14:20.560024Z",
     "iopub.status.idle": "2020-08-27T10:14:20.634104Z",
     "shell.execute_reply": "2020-08-27T10:14:20.633440Z",
     "shell.execute_reply.started": "2020-08-27T10:14:20.560499Z"
    }
   },
   "outputs": [
    {
     "data": {
      "text/plain": [
       "((9785, 3), Timestamp('2020-08-26 00:00:00'))"
      ]
     },
     "execution_count": 6,
     "metadata": {},
     "output_type": "execute_result"
    }
   ],
   "source": [
    "ctp = ctp.rename(columns={\n",
    "    'positive': 'total_cases',\n",
    "    'death': 'total_deaths',\n",
    "    'state': 'state_code',\n",
    "})[['date', 'total_cases', 'total_deaths', 'state_code']].set_index('state_code')\n",
    "\n",
    "ctp.shape, ctp.date.max()"
   ]
  },
  {
   "cell_type": "markdown",
   "metadata": {},
   "source": [
    "## Get State Populations and Codes"
   ]
  },
  {
   "cell_type": "code",
   "execution_count": 7,
   "metadata": {
    "execution": {
     "iopub.execute_input": "2020-08-27T10:14:20.635368Z",
     "iopub.status.busy": "2020-08-27T10:14:20.635134Z",
     "iopub.status.idle": "2020-08-27T10:14:21.164938Z",
     "shell.execute_reply": "2020-08-27T10:14:21.164231Z",
     "shell.execute_reply.started": "2020-08-27T10:14:20.635336Z"
    }
   },
   "outputs": [
    {
     "name": "stderr",
     "output_type": "stream",
     "text": [
      "2020-08-27 11:14:20.693 | INFO     | __main__:<module>:1 - Loading population data dataset @ https://www2.census.gov/programs-surveys/popest/datasets/2010-2019/state/detail/SCPRC-EST2019-18+POP-RES.csv\n"
     ]
    },
    {
     "data": {
      "text/html": [
       "<div>\n",
       "<style scoped>\n",
       "    .dataframe tbody tr th:only-of-type {\n",
       "        vertical-align: middle;\n",
       "    }\n",
       "\n",
       "    .dataframe tbody tr th {\n",
       "        vertical-align: top;\n",
       "    }\n",
       "\n",
       "    .dataframe thead th {\n",
       "        text-align: right;\n",
       "    }\n",
       "</style>\n",
       "<table border=\"1\" class=\"dataframe\">\n",
       "  <thead>\n",
       "    <tr style=\"text-align: right;\">\n",
       "      <th></th>\n",
       "      <th>population</th>\n",
       "    </tr>\n",
       "    <tr>\n",
       "      <th>state</th>\n",
       "      <th></th>\n",
       "    </tr>\n",
       "  </thead>\n",
       "  <tbody>\n",
       "    <tr>\n",
       "      <th>United States</th>\n",
       "      <td>328239523</td>\n",
       "    </tr>\n",
       "    <tr>\n",
       "      <th>Alabama</th>\n",
       "      <td>4903185</td>\n",
       "    </tr>\n",
       "    <tr>\n",
       "      <th>Alaska</th>\n",
       "      <td>731545</td>\n",
       "    </tr>\n",
       "    <tr>\n",
       "      <th>Arizona</th>\n",
       "      <td>7278717</td>\n",
       "    </tr>\n",
       "    <tr>\n",
       "      <th>Arkansas</th>\n",
       "      <td>3017804</td>\n",
       "    </tr>\n",
       "  </tbody>\n",
       "</table>\n",
       "</div>"
      ],
      "text/plain": [
       "               population\n",
       "state                    \n",
       "United States   328239523\n",
       "Alabama           4903185\n",
       "Alaska             731545\n",
       "Arizona           7278717\n",
       "Arkansas          3017804"
      ]
     },
     "execution_count": 7,
     "metadata": {},
     "output_type": "execute_result"
    }
   ],
   "source": [
    "logger.info('Loading population data dataset @ %s' % 'https://www2.census.gov/programs-surveys/popest/datasets/2010-2019/state/detail/SCPRC-EST2019-18+POP-RES.csv')\n",
    "\n",
    "pops = pd.read_csv('https://www2.census.gov/programs-surveys/popest/datasets/2010-2019/state/detail/SCPRC-EST2019-18+POP-RES.csv', low_memory=False)\n",
    "\n",
    "pops = pops.rename(columns={\n",
    "    'NAME': 'state',\n",
    "    'POPESTIMATE2019': 'population'\n",
    "})[['state', 'population']].set_index('state')\n",
    "\n",
    "pops.head()"
   ]
  },
  {
   "cell_type": "code",
   "execution_count": 8,
   "metadata": {
    "execution": {
     "iopub.execute_input": "2020-08-27T10:14:21.166186Z",
     "iopub.status.busy": "2020-08-27T10:14:21.165974Z",
     "iopub.status.idle": "2020-08-27T10:14:21.518367Z",
     "shell.execute_reply": "2020-08-27T10:14:21.517828Z",
     "shell.execute_reply.started": "2020-08-27T10:14:21.166155Z"
    }
   },
   "outputs": [
    {
     "name": "stderr",
     "output_type": "stream",
     "text": [
      "2020-08-27 11:14:21.168 | INFO     | __main__:<module>:1 - Loading country codes data dataset @ https://worldpopulationreview.com/states/state-abbreviations\n"
     ]
    },
    {
     "data": {
      "text/html": [
       "<div>\n",
       "<style scoped>\n",
       "    .dataframe tbody tr th:only-of-type {\n",
       "        vertical-align: middle;\n",
       "    }\n",
       "\n",
       "    .dataframe tbody tr th {\n",
       "        vertical-align: top;\n",
       "    }\n",
       "\n",
       "    .dataframe thead th {\n",
       "        text-align: right;\n",
       "    }\n",
       "</style>\n",
       "<table border=\"1\" class=\"dataframe\">\n",
       "  <thead>\n",
       "    <tr style=\"text-align: right;\">\n",
       "      <th></th>\n",
       "      <th>state_code</th>\n",
       "    </tr>\n",
       "    <tr>\n",
       "      <th>state</th>\n",
       "      <th></th>\n",
       "    </tr>\n",
       "  </thead>\n",
       "  <tbody>\n",
       "    <tr>\n",
       "      <th>Alabama</th>\n",
       "      <td>AL</td>\n",
       "    </tr>\n",
       "    <tr>\n",
       "      <th>Alaska</th>\n",
       "      <td>AK</td>\n",
       "    </tr>\n",
       "    <tr>\n",
       "      <th>Arizona</th>\n",
       "      <td>AZ</td>\n",
       "    </tr>\n",
       "    <tr>\n",
       "      <th>Arkansas</th>\n",
       "      <td>AR</td>\n",
       "    </tr>\n",
       "    <tr>\n",
       "      <th>California</th>\n",
       "      <td>CA</td>\n",
       "    </tr>\n",
       "  </tbody>\n",
       "</table>\n",
       "</div>"
      ],
      "text/plain": [
       "           state_code\n",
       "state                \n",
       "Alabama            AL\n",
       "Alaska             AK\n",
       "Arizona            AZ\n",
       "Arkansas           AR\n",
       "California         CA"
      ]
     },
     "execution_count": 8,
     "metadata": {},
     "output_type": "execute_result"
    }
   ],
   "source": [
    "logger.info('Loading country codes data dataset @ %s' % 'https://worldpopulationreview.com/states/state-abbreviations')\n",
    "\n",
    "states = pd.read_html('https://worldpopulationreview.com/states/state-abbreviations')[0]\n",
    "\n",
    "states = states.rename(columns={\n",
    "    'State': 'state',\n",
    "    'Code': 'state_code'\n",
    "})[['state', 'state_code']].set_index('state')\n",
    "\n",
    "states.head()"
   ]
  },
  {
   "cell_type": "markdown",
   "metadata": {},
   "source": [
    "## Add the state names and populations"
   ]
  },
  {
   "cell_type": "code",
   "execution_count": 9,
   "metadata": {
    "execution": {
     "iopub.execute_input": "2020-08-27T10:14:21.520439Z",
     "iopub.status.busy": "2020-08-27T10:14:21.520210Z",
     "iopub.status.idle": "2020-08-27T10:14:21.540822Z",
     "shell.execute_reply": "2020-08-27T10:14:21.540150Z",
     "shell.execute_reply.started": "2020-08-27T10:14:21.520408Z"
    }
   },
   "outputs": [
    {
     "data": {
      "text/plain": [
       "51"
      ]
     },
     "execution_count": 9,
     "metadata": {},
     "output_type": "execute_result"
    }
   ],
   "source": [
    "ctp = ctp.join(states.join(pops).reset_index().set_index('state_code')).reset_index().dropna(subset=['state', 'state_code'])\n",
    "\n",
    "ctp['state_code'].nunique()"
   ]
  },
  {
   "cell_type": "code",
   "execution_count": 10,
   "metadata": {
    "execution": {
     "iopub.execute_input": "2020-08-27T10:14:21.542113Z",
     "iopub.status.busy": "2020-08-27T10:14:21.541891Z",
     "iopub.status.idle": "2020-08-27T10:14:21.603492Z",
     "shell.execute_reply": "2020-08-27T10:14:21.602756Z",
     "shell.execute_reply.started": "2020-08-27T10:14:21.542084Z"
    }
   },
   "outputs": [
    {
     "data": {
      "text/html": [
       "<div>\n",
       "<style scoped>\n",
       "    .dataframe tbody tr th:only-of-type {\n",
       "        vertical-align: middle;\n",
       "    }\n",
       "\n",
       "    .dataframe tbody tr th {\n",
       "        vertical-align: top;\n",
       "    }\n",
       "\n",
       "    .dataframe thead th {\n",
       "        text-align: right;\n",
       "    }\n",
       "</style>\n",
       "<table border=\"1\" class=\"dataframe\">\n",
       "  <thead>\n",
       "    <tr style=\"text-align: right;\">\n",
       "      <th></th>\n",
       "      <th>state_code</th>\n",
       "      <th>date</th>\n",
       "      <th>total_cases</th>\n",
       "      <th>total_deaths</th>\n",
       "      <th>state</th>\n",
       "      <th>population</th>\n",
       "    </tr>\n",
       "  </thead>\n",
       "  <tbody>\n",
       "    <tr>\n",
       "      <th>4336</th>\n",
       "      <td>MN</td>\n",
       "      <td>2020-08-26</td>\n",
       "      <td>71236.0</td>\n",
       "      <td>1842.0</td>\n",
       "      <td>Minnesota</td>\n",
       "      <td>5639632.0</td>\n",
       "    </tr>\n",
       "    <tr>\n",
       "      <th>6617</th>\n",
       "      <td>OH</td>\n",
       "      <td>2020-08-26</td>\n",
       "      <td>117584.0</td>\n",
       "      <td>4044.0</td>\n",
       "      <td>Ohio</td>\n",
       "      <td>11689100.0</td>\n",
       "    </tr>\n",
       "    <tr>\n",
       "      <th>6441</th>\n",
       "      <td>NY</td>\n",
       "      <td>2020-08-26</td>\n",
       "      <td>431340.0</td>\n",
       "      <td>25305.0</td>\n",
       "      <td>New York</td>\n",
       "      <td>19453561.0</td>\n",
       "    </tr>\n",
       "    <tr>\n",
       "      <th>9438</th>\n",
       "      <td>WV</td>\n",
       "      <td>2020-08-26</td>\n",
       "      <td>9540.0</td>\n",
       "      <td>190.0</td>\n",
       "      <td>West Virginia</td>\n",
       "      <td>1792147.0</td>\n",
       "    </tr>\n",
       "    <tr>\n",
       "      <th>0</th>\n",
       "      <td>AK</td>\n",
       "      <td>2020-08-26</td>\n",
       "      <td>5719.0</td>\n",
       "      <td>37.0</td>\n",
       "      <td>Alaska</td>\n",
       "      <td>731545.0</td>\n",
       "    </tr>\n",
       "  </tbody>\n",
       "</table>\n",
       "</div>"
      ],
      "text/plain": [
       "     state_code       date  total_cases  total_deaths          state  \\\n",
       "4336         MN 2020-08-26      71236.0        1842.0      Minnesota   \n",
       "6617         OH 2020-08-26     117584.0        4044.0           Ohio   \n",
       "6441         NY 2020-08-26     431340.0       25305.0       New York   \n",
       "9438         WV 2020-08-26       9540.0         190.0  West Virginia   \n",
       "0            AK 2020-08-26       5719.0          37.0         Alaska   \n",
       "\n",
       "      population  \n",
       "4336   5639632.0  \n",
       "6617  11689100.0  \n",
       "6441  19453561.0  \n",
       "9438   1792147.0  \n",
       "0       731545.0  "
      ]
     },
     "execution_count": 10,
     "metadata": {},
     "output_type": "execute_result"
    }
   ],
   "source": [
    "ctp = ctp.sort_values(by='date')\n",
    "ctp.tail()"
   ]
  },
  {
   "cell_type": "markdown",
   "metadata": {},
   "source": [
    "# New Cases/Deaths"
   ]
  },
  {
   "cell_type": "code",
   "execution_count": 11,
   "metadata": {
    "execution": {
     "iopub.execute_input": "2020-08-27T10:14:21.604698Z",
     "iopub.status.busy": "2020-08-27T10:14:21.604488Z",
     "iopub.status.idle": "2020-08-27T10:14:22.001589Z",
     "shell.execute_reply": "2020-08-27T10:14:22.001021Z",
     "shell.execute_reply.started": "2020-08-27T10:14:21.604669Z"
    }
   },
   "outputs": [
    {
     "data": {
      "text/html": [
       "<div>\n",
       "<style scoped>\n",
       "    .dataframe tbody tr th:only-of-type {\n",
       "        vertical-align: middle;\n",
       "    }\n",
       "\n",
       "    .dataframe tbody tr th {\n",
       "        vertical-align: top;\n",
       "    }\n",
       "\n",
       "    .dataframe thead th {\n",
       "        text-align: right;\n",
       "    }\n",
       "</style>\n",
       "<table border=\"1\" class=\"dataframe\">\n",
       "  <thead>\n",
       "    <tr style=\"text-align: right;\">\n",
       "      <th></th>\n",
       "      <th>state_code</th>\n",
       "      <th>date</th>\n",
       "      <th>total_cases</th>\n",
       "      <th>total_deaths</th>\n",
       "      <th>state</th>\n",
       "      <th>population</th>\n",
       "      <th>new_cases</th>\n",
       "      <th>new_deaths</th>\n",
       "    </tr>\n",
       "  </thead>\n",
       "  <tbody>\n",
       "    <tr>\n",
       "      <th>8960</th>\n",
       "      <td>MN</td>\n",
       "      <td>2020-08-26</td>\n",
       "      <td>71236.0</td>\n",
       "      <td>1842.0</td>\n",
       "      <td>Minnesota</td>\n",
       "      <td>5639632.0</td>\n",
       "      <td>529.0</td>\n",
       "      <td>17.0</td>\n",
       "    </tr>\n",
       "    <tr>\n",
       "      <th>8961</th>\n",
       "      <td>OH</td>\n",
       "      <td>2020-08-26</td>\n",
       "      <td>117584.0</td>\n",
       "      <td>4044.0</td>\n",
       "      <td>Ohio</td>\n",
       "      <td>11689100.0</td>\n",
       "      <td>1089.0</td>\n",
       "      <td>48.0</td>\n",
       "    </tr>\n",
       "    <tr>\n",
       "      <th>8962</th>\n",
       "      <td>NY</td>\n",
       "      <td>2020-08-26</td>\n",
       "      <td>431340.0</td>\n",
       "      <td>25305.0</td>\n",
       "      <td>New York</td>\n",
       "      <td>19453561.0</td>\n",
       "      <td>566.0</td>\n",
       "      <td>8.0</td>\n",
       "    </tr>\n",
       "    <tr>\n",
       "      <th>8963</th>\n",
       "      <td>WV</td>\n",
       "      <td>2020-08-26</td>\n",
       "      <td>9540.0</td>\n",
       "      <td>190.0</td>\n",
       "      <td>West Virginia</td>\n",
       "      <td>1792147.0</td>\n",
       "      <td>145.0</td>\n",
       "      <td>3.0</td>\n",
       "    </tr>\n",
       "    <tr>\n",
       "      <th>8964</th>\n",
       "      <td>AK</td>\n",
       "      <td>2020-08-26</td>\n",
       "      <td>5719.0</td>\n",
       "      <td>37.0</td>\n",
       "      <td>Alaska</td>\n",
       "      <td>731545.0</td>\n",
       "      <td>53.0</td>\n",
       "      <td>1.0</td>\n",
       "    </tr>\n",
       "  </tbody>\n",
       "</table>\n",
       "</div>"
      ],
      "text/plain": [
       "     state_code       date  total_cases  total_deaths          state  \\\n",
       "8960         MN 2020-08-26      71236.0        1842.0      Minnesota   \n",
       "8961         OH 2020-08-26     117584.0        4044.0           Ohio   \n",
       "8962         NY 2020-08-26     431340.0       25305.0       New York   \n",
       "8963         WV 2020-08-26       9540.0         190.0  West Virginia   \n",
       "8964         AK 2020-08-26       5719.0          37.0         Alaska   \n",
       "\n",
       "      population  new_cases  new_deaths  \n",
       "8960   5639632.0      529.0        17.0  \n",
       "8961  11689100.0     1089.0        48.0  \n",
       "8962  19453561.0      566.0         8.0  \n",
       "8963   1792147.0      145.0         3.0  \n",
       "8964    731545.0       53.0         1.0  "
      ]
     },
     "execution_count": 11,
     "metadata": {},
     "output_type": "execute_result"
    }
   ],
   "source": [
    "new_cases_deaths = ctp.groupby('state_code').apply(\n",
    "    lambda g: g.set_index('date')[['total_cases', 'total_deaths']]\\\n",
    "        .diff()\\\n",
    "        .fillna(g.set_index('date')[['total_cases', 'total_deaths']])).rename(columns={\n",
    "    'total_cases': 'new_cases',\n",
    "    'total_deaths': 'new_deaths'\n",
    "})\n",
    "\n",
    "ctp = ctp.set_index(['state_code', 'date']).join(new_cases_deaths).reset_index()\n",
    "\n",
    "ctp.tail()"
   ]
  },
  {
   "cell_type": "markdown",
   "metadata": {},
   "source": [
    "# Save Dataset"
   ]
  },
  {
   "cell_type": "code",
   "execution_count": 12,
   "metadata": {
    "execution": {
     "iopub.execute_input": "2020-08-27T10:14:22.002748Z",
     "iopub.status.busy": "2020-08-27T10:14:22.002558Z",
     "iopub.status.idle": "2020-08-27T10:14:22.009306Z",
     "shell.execute_reply": "2020-08-27T10:14:22.008589Z",
     "shell.execute_reply.started": "2020-08-27T10:14:22.002723Z"
    }
   },
   "outputs": [],
   "source": [
    "ctp['country'] = 'United States'\n",
    "ctp['country_code'] = 'USA'\n",
    "ctp['country_id'] = 'US'\n",
    "ctp['continent'] = 'North America'\n",
    "ctp['region'] = 'northern_america'"
   ]
  },
  {
   "cell_type": "code",
   "execution_count": 13,
   "metadata": {
    "execution": {
     "iopub.execute_input": "2020-08-27T10:14:22.010393Z",
     "iopub.status.busy": "2020-08-27T10:14:22.010219Z",
     "iopub.status.idle": "2020-08-27T10:14:22.093163Z",
     "shell.execute_reply": "2020-08-27T10:14:22.092423Z",
     "shell.execute_reply.started": "2020-08-27T10:14:22.010369Z"
    }
   },
   "outputs": [
    {
     "data": {
      "text/plain": [
       "((8965, 11), 1)"
      ]
     },
     "execution_count": 13,
     "metadata": {},
     "output_type": "execute_result"
    }
   ],
   "source": [
    "ctp_base = ctp[base_cols].copy()\n",
    "ctp_base.shape, ctp_base['country'].nunique()"
   ]
  },
  {
   "cell_type": "code",
   "execution_count": 14,
   "metadata": {
    "execution": {
     "iopub.execute_input": "2020-08-27T10:14:22.094454Z",
     "iopub.status.busy": "2020-08-27T10:14:22.094221Z",
     "iopub.status.idle": "2020-08-27T10:14:22.152684Z",
     "shell.execute_reply": "2020-08-27T10:14:22.151972Z",
     "shell.execute_reply.started": "2020-08-27T10:14:22.094421Z"
    }
   },
   "outputs": [],
   "source": [
    "# [ctp_base.fillna(0, inplace=True) for col in ctp_base.filter(like='new_')]\n",
    "\n",
    "# assert ctp_base.notnull().all().all()"
   ]
  },
  {
   "cell_type": "code",
   "execution_count": 15,
   "metadata": {
    "execution": {
     "iopub.execute_input": "2020-08-27T10:14:22.154240Z",
     "iopub.status.busy": "2020-08-27T10:14:22.153943Z",
     "iopub.status.idle": "2020-08-27T10:14:22.771097Z",
     "shell.execute_reply": "2020-08-27T10:14:22.770449Z",
     "shell.execute_reply.started": "2020-08-27T10:14:22.154191Z"
    }
   },
   "outputs": [
    {
     "data": {
      "text/plain": [
       "[<matplotlib.lines.Line2D at 0x7f1c662f8650>]"
      ]
     },
     "execution_count": 15,
     "metadata": {},
     "output_type": "execute_result"
    },
    {
     "data": {
      "image/png": "[encoded data removed]",
      "text/plain": [
       "<Figure size 1440x576 with 1 Axes>"
      ]
     },
     "metadata": {
      "needs_background": "light"
     },
     "output_type": "display_data"
    }
   ],
   "source": [
    "fig, ax = plt.subplots(figsize=(20, 8))\n",
    "\n",
    "state = 'Florida'\n",
    "x = ctp_base[ctp_base['state']==state].set_index('date').index\n",
    "y = ctp_base[ctp_base['state']==state].set_index('date')['new_cases']\n",
    "\n",
    "ax.bar(x, y)\n",
    "ax.plot(x, y.rolling('7d').mean(), c='coral', lw=4)"
   ]
  },
  {
   "cell_type": "code",
   "execution_count": 16,
   "metadata": {
    "execution": {
     "iopub.execute_input": "2020-08-27T10:14:22.772213Z",
     "iopub.status.busy": "2020-08-27T10:14:22.772026Z",
     "iopub.status.idle": "2020-08-27T10:14:22.863071Z",
     "shell.execute_reply": "2020-08-27T10:14:22.862384Z",
     "shell.execute_reply.started": "2020-08-27T10:14:22.772187Z"
    }
   },
   "outputs": [
    {
     "name": "stderr",
     "output_type": "stream",
     "text": [
      "2020-08-27 11:14:22.773 | INFO     | __main__:<module>:1 - Saving base CTP dataset --> ../../data/base_ctp.pkl\n"
     ]
    },
    {
     "data": {
      "text/plain": [
       "((8965, 11), Timestamp('2020-08-26 00:00:00'))"
      ]
     },
     "execution_count": 16,
     "metadata": {},
     "output_type": "execute_result"
    }
   ],
   "source": [
    "logger.info('Saving base CTP dataset --> %s' % base_ctp_dataset)\n",
    "\n",
    "ctp_base.to_pickle(base_ctp_dataset)\n",
    "ctp_base.shape, ctp_base.date.max()"
   ]
  }
 ],
 "metadata": {
  "kernelspec": {
   "display_name": "COVID-19",
   "language": "python",
   "name": "covid-19"
  },
  "language_info": {
   "codemirror_mode": {
    "name": "ipython",
    "version": 3
   },
   "file_extension": ".py",
   "mimetype": "text/x-python",
   "name": "python",
   "nbconvert_exporter": "python",
   "pygments_lexer": "ipython3",
   "version": "3.7.7"
  }
 },
 "nbformat": 4,
 "nbformat_minor": 4
}
