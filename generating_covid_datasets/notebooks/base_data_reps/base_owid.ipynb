{
 "cells": [
  {
   "cell_type": "markdown",
   "metadata": {},
   "source": [
    "# Base OWID\n",
    "Focus on minimal case dataset.\n",
    "\n",
    "* date\n",
    "\n",
    "* country\n",
    "* country_code\n",
    "* country_id\n",
    "\n",
    "* continent\n",
    "* region -- sub-contintent but larger than country\n",
    "\n",
    "* new_cases\n",
    "* new_deaths\n",
    "* new_tests\n"
   ]
  },
  {
   "cell_type": "code",
   "execution_count": 1,
   "metadata": {
    "execution": {
     "iopub.execute_input": "2020-09-15T08:16:12.377879Z",
     "iopub.status.busy": "2020-09-15T08:16:12.377492Z",
     "iopub.status.idle": "2020-09-15T08:16:12.835928Z",
     "shell.execute_reply": "2020-09-15T08:16:12.835052Z",
     "shell.execute_reply.started": "2020-09-15T08:16:12.377827Z"
    }
   },
   "outputs": [],
   "source": [
    "from datetime import date, datetime, timedelta\n",
    "\n",
    "\n",
    "import pandas as pd\n",
    "import numpy as np\n",
    "\n",
    "from loguru import logger\n",
    "import pycountry\n",
    "\n",
    "from matplotlib.pylab import plt\n",
    "%matplotlib inline"
   ]
  },
  {
   "cell_type": "markdown",
   "metadata": {},
   "source": [
    "# Params"
   ]
  },
  {
   "cell_type": "code",
   "execution_count": 2,
   "metadata": {
    "execution": {
     "iopub.execute_input": "2020-09-15T08:16:12.837330Z",
     "iopub.status.busy": "2020-09-15T08:16:12.837166Z",
     "iopub.status.idle": "2020-09-15T08:16:12.840941Z",
     "shell.execute_reply": "2020-09-15T08:16:12.840341Z",
     "shell.execute_reply.started": "2020-09-15T08:16:12.837308Z"
    }
   },
   "outputs": [],
   "source": [
    "owid_dataset = 'https://covid.ourworldindata.org/data/owid-covid-data.csv'\n",
    "\n",
    "base_owid_dataset = '../../data/base_owid.pkl'\n",
    "\n",
    "# The columns used in the base representation\n",
    "base_cols = [\n",
    "    'date', 'country', 'country_code', 'country_id', 'continent', 'region', \n",
    "    'new_cases', 'new_deaths', 'new_tests_smoothed', \n",
    "    'population'\n",
    "]\n"
   ]
  },
  {
   "cell_type": "markdown",
   "metadata": {},
   "source": [
    "# The Our World in Data Dataset"
   ]
  },
  {
   "cell_type": "markdown",
   "metadata": {},
   "source": [
    "## Load the OWID Dataset "
   ]
  },
  {
   "cell_type": "code",
   "execution_count": 3,
   "metadata": {
    "execution": {
     "iopub.execute_input": "2020-09-15T08:16:12.842402Z",
     "iopub.status.busy": "2020-09-15T08:16:12.842231Z",
     "iopub.status.idle": "2020-09-15T08:16:18.541770Z",
     "shell.execute_reply": "2020-09-15T08:16:18.541227Z",
     "shell.execute_reply.started": "2020-09-15T08:16:12.842381Z"
    }
   },
   "outputs": [
    {
     "name": "stderr",
     "output_type": "stream",
     "text": [
      "2020-09-15 09:16:12.973 | INFO     | __main__:<module>:1 - Loading OWID dataset @ https://covid.ourworldindata.org/data/owid-covid-data.csv\n"
     ]
    },
    {
     "data": {
      "text/plain": [
       "((43705, 41),\n",
       " 212,\n",
       " Index(['iso_code', 'continent', 'location', 'date', 'total_cases', 'new_cases',\n",
       "        'new_cases_smoothed', 'total_deaths', 'new_deaths',\n",
       "        'new_deaths_smoothed', 'total_cases_per_million',\n",
       "        'new_cases_per_million', 'new_cases_smoothed_per_million',\n",
       "        'total_deaths_per_million', 'new_deaths_per_million',\n",
       "        'new_deaths_smoothed_per_million', 'new_tests', 'total_tests',\n",
       "        'total_tests_per_thousand', 'new_tests_per_thousand',\n",
       "        'new_tests_smoothed', 'new_tests_smoothed_per_thousand',\n",
       "        'tests_per_case', 'positive_rate', 'tests_units', 'stringency_index',\n",
       "        'population', 'population_density', 'median_age', 'aged_65_older',\n",
       "        'aged_70_older', 'gdp_per_capita', 'extreme_poverty',\n",
       "        'cardiovasc_death_rate', 'diabetes_prevalence', 'female_smokers',\n",
       "        'male_smokers', 'handwashing_facilities', 'hospital_beds_per_thousand',\n",
       "        'life_expectancy', 'human_development_index'],\n",
       "       dtype='object'),\n",
       " Timestamp('2020-09-14 00:00:00'))"
      ]
     },
     "execution_count": 3,
     "metadata": {},
     "output_type": "execute_result"
    }
   ],
   "source": [
    "logger.info('Loading OWID dataset @ %s' % owid_dataset)\n",
    "\n",
    "owid = pd.read_csv(owid_dataset, parse_dates=['date'], low_memory=False)\n",
    "owid.shape, owid.location.nunique(), owid.columns, owid.date.max()"
   ]
  },
  {
   "cell_type": "code",
   "execution_count": 4,
   "metadata": {
    "execution": {
     "iopub.execute_input": "2020-09-15T08:16:18.543109Z",
     "iopub.status.busy": "2020-09-15T08:16:18.542910Z",
     "iopub.status.idle": "2020-09-15T08:16:18.559814Z",
     "shell.execute_reply": "2020-09-15T08:16:18.559227Z",
     "shell.execute_reply.started": "2020-09-15T08:16:18.543067Z"
    }
   },
   "outputs": [
    {
     "data": {
      "text/plain": [
       "Timestamp('2020-09-14 00:00:00')"
      ]
     },
     "execution_count": 4,
     "metadata": {},
     "output_type": "execute_result"
    }
   ],
   "source": [
    "owid = owid.rename(columns={\n",
    "    'iso_code': 'country_code',\n",
    "    'location': 'country'\n",
    "})\n",
    "\n",
    "owid.date.max()"
   ]
  },
  {
   "cell_type": "code",
   "execution_count": 5,
   "metadata": {
    "execution": {
     "iopub.execute_input": "2020-09-15T08:16:18.561140Z",
     "iopub.status.busy": "2020-09-15T08:16:18.560959Z",
     "iopub.status.idle": "2020-09-15T08:16:18.789867Z",
     "shell.execute_reply": "2020-09-15T08:16:18.789374Z",
     "shell.execute_reply.started": "2020-09-15T08:16:18.561115Z"
    }
   },
   "outputs": [
    {
     "data": {
      "text/plain": [
       "((43097, 41), 209)"
      ]
     },
     "execution_count": 5,
     "metadata": {},
     "output_type": "execute_result"
    }
   ],
   "source": [
    "# Drop disputed Kosovo because it causes problems with country codes later\n",
    "owid = owid[owid['country']!='Kosovo']\n",
    "\n",
    "# Drop Falklands because they are without a region\n",
    "owid = owid[owid['country']!='Falkland Islands']\n",
    "\n",
    "# Drop missing country codes\n",
    "owid = owid.dropna(subset=['country_code'])\n",
    "\n",
    "owid.shape, owid.country.nunique()"
   ]
  },
  {
   "cell_type": "markdown",
   "metadata": {},
   "source": [
    "## Add the 2 letter codes as `country_id`"
   ]
  },
  {
   "cell_type": "code",
   "execution_count": 6,
   "metadata": {
    "execution": {
     "iopub.execute_input": "2020-09-15T08:16:18.791061Z",
     "iopub.status.busy": "2020-09-15T08:16:18.790795Z",
     "iopub.status.idle": "2020-09-15T08:16:18.938463Z",
     "shell.execute_reply": "2020-09-15T08:16:18.937989Z",
     "shell.execute_reply.started": "2020-09-15T08:16:18.791034Z"
    }
   },
   "outputs": [
    {
     "data": {
      "text/plain": [
       "((42838, 42), 208)"
      ]
     },
     "execution_count": 6,
     "metadata": {},
     "output_type": "execute_result"
    }
   ],
   "source": [
    "def lookup_country_code(code, **kwargs):\n",
    "    country = pycountry.countries.get(**kwargs)\n",
    "    \n",
    "    if country: return getattr(country, code)\n",
    "\n",
    "\n",
    "owid['country_id'] = owid['country_code'].apply(\n",
    "    lambda country_code: lookup_country_code('alpha_2', alpha_3=country_code)\n",
    ")\n",
    "\n",
    "owid = owid[owid['country_id'].notnull()]\n",
    "\n",
    "owid.shape, owid.country.nunique()"
   ]
  },
  {
   "cell_type": "markdown",
   "metadata": {},
   "source": [
    "## Add Regions"
   ]
  },
  {
   "cell_type": "code",
   "execution_count": 7,
   "metadata": {
    "execution": {
     "iopub.execute_input": "2020-09-15T08:16:18.939746Z",
     "iopub.status.busy": "2020-09-15T08:16:18.939520Z",
     "iopub.status.idle": "2020-09-15T08:16:18.944132Z",
     "shell.execute_reply": "2020-09-15T08:16:18.943379Z",
     "shell.execute_reply.started": "2020-09-15T08:16:18.939724Z"
    }
   },
   "outputs": [],
   "source": [
    "# regions = {\n",
    "#     'northern_america': ['United States', 'Canada', 'Mexico', 'Greenland'],\n",
    "    \n",
    "#     'central_america': ['Belize', 'Costa Rica', 'El Salvador', 'Guatemala', 'Honduras', 'Nicaragua', 'Panama'],\n",
    "    \n",
    "#     'carribean': [\n",
    "#         'Anguilla', 'Antigua and Barbuda', 'Aruba', 'Bahamas', 'Barbados', 'Bermuda', 'British Virgin Islands', \n",
    "#         'Cayman Islands', 'Cuba', 'Curacao', 'Dominica', 'Dominican Republic', 'Grenada', 'Guadeloupe', 'Haiti', \n",
    "#         'Jamaica', 'Martinique', 'Montserrat', 'Puerto Rico', 'Saint Kitts and Nevis', 'Saint Lucia', 'Sint Maarten (Dutch part)',\n",
    "#         'Saint Vincent and the Grenadines', 'Trinidad and Tobago', 'United States Virgin Islands', \n",
    "#         'Bonaire Sint Eustatius and Saba', 'Turks and Caicos Islands'],\n",
    "    \n",
    "#     'caribbean_republics ': ['Colombia', 'Venezuela', 'Guyana', 'Suriname', 'French Guiana'],\n",
    "    \n",
    "#     'andean_republics': ['Bolivia', 'Ecuador', 'Chile', 'Colombia', 'Peru'],\n",
    "    \n",
    "#     'river_plate_republics': ['Uruguay', 'Paraguay', 'Argentina', 'Brazil'],\n",
    "\n",
    "        \n",
    "#     'non-eu': [\n",
    "#         'Faeroe Islands', 'Guernsey', 'Iceland', 'Isle of Man', 'Jersey', 'Norway', 'United Kingdom',\n",
    "#         'Albania', 'Andorra', 'Bosnia and Herzegovina', 'Gibraltar', 'Macedonia', 'Montenegro',\n",
    "#         'San Marino', 'Serbia', 'Vatican', 'Belarus', 'Moldova',\n",
    "#         'Russia', 'Ukraine', 'Switzerland', 'Liechtenstein', 'Monaco'\n",
    "#     ],\n",
    "    \n",
    "#     'eu': [\n",
    "#         'Austria', 'Belgium', 'Bulgaria', 'Croatia','Cyprus', 'Czech Republic', 'Denmark', \n",
    "#         'Estonia', 'Finland', 'France', 'Germany', 'Greece', 'Hungary', 'Ireland', 'Italy', 'Latvia', 'Lithuania', \n",
    "#         'Luxembourg', 'Malta', 'Netherlands', 'Poland', 'Portugal', 'Romania', 'Slovakia', 'Slovenia', 'Spain', 'Sweden',\n",
    "        \n",
    "#     ],\n",
    "    \n",
    "#     'north_africa': [\n",
    "#         'Algeria' ,'Canary Islands' ,'Ceuta' ,'Egypt' ,'Libya' ,\n",
    "#         'Madeira' ,'Melilla' ,'Morocco' ,'Sahrawi Arab Democratic Republic' ,\n",
    "#         'Sudan' ,'Tunisia'\n",
    "#     ],\n",
    "\n",
    "#     'east_africa': [\n",
    "#         'Burundi', 'Comoros', 'Djibouti', 'Eritrea', 'Ethiopia', 'French Southern Territories', \n",
    "#         'Kenya', 'Madagascar', 'Malawi', 'Mauritius', 'Mayotte', 'Mozambique', 'Reunion', \n",
    "#         'Rwanda', 'Seychelles', 'Somalia', 'Somaliland', 'South Sudan', 'Tanzania', 'Uganda', \n",
    "#         'Zambia', 'Zimbabwe', \n",
    "#     ],\n",
    "\n",
    "#     'central_africa': [\n",
    "#         'Angola', 'Cameroon', 'Central African Republic', 'Chad', \n",
    "#         'Democratic Republic of Congo', 'Congo', \n",
    "#         'Equatorial Guinea', 'Gabon', 'Sao Tome and Principe'\n",
    "#     ],\n",
    "\n",
    "#     'west_africa': [\n",
    "#         'Benin', 'Burkina Faso', 'Cape Verde', \"Cote d'Ivoire\", 'Gambia', 'Ghana', \n",
    "#         'Guinea', 'Guinea-Bissau', 'Liberia', 'Mali', 'Mauritania', 'Niger', 'Nigeria', \n",
    "#         'Saint Helena, Ascension and Tristan da Cunha', 'Senegal', 'Sierra Leone', 'Togo',\n",
    "#         'Western Sahara'\n",
    "#     ],\n",
    "\n",
    "#     'southern_africa': [\n",
    "#         'Botswana', 'Swaziland', 'Lesotho', 'Namibia', 'South Africa'\n",
    "#     ],\n",
    "    \n",
    "#     'central_asia': ['Tajikistan', 'Uzbekistan', 'Kazakhstan', 'Turkmenistan', 'Kyrgyzstan'],\n",
    "    \n",
    "#     'east_asia': ['China', 'Mongolia', 'North Korea', 'South Korea', 'Japan', 'Hong Kong', 'Taiwan', 'Macau'],\n",
    "    \n",
    "#     'south_asia': ['Sri Lanka', 'Bangladesh', 'India', 'Afghanistan', 'Pakistan', 'Bhutan', 'Nepal', 'Maldives'],\n",
    "    \n",
    "#     'south_east_asia': ['Brunei', 'Cambodia', 'Indonesia', 'Laos', 'Malaysia', 'Myanmar', 'Philippines','Singapore', 'Thailand', 'Timor', 'Vietnam', 'Christmas Island', 'Cocos Islands'],\n",
    "    \n",
    "#     'western_asia': ['Georgia', 'Armenia', 'Azerbaijan', 'Turkey'],\n",
    "    \n",
    "#     'middle_east': ['Bahrain', 'Egypt', 'Iran', 'Iraq', 'Israel', 'Jordan', 'Kuwait', 'Lebanon', 'Oman', 'Palestine', 'Qatar', 'Saudi Arabia', 'Syria', 'United Arab Emirates', 'Yemen'],\n",
    " \n",
    "#     'australasia': ['Australia', 'New Zealand'],\n",
    "    \n",
    "#     'melanesia_micronesia_polynesia': [\n",
    "        \n",
    "#         # melanesia\n",
    "#         'Fiji', 'New Caledonia', 'Papua New Guinea', 'Solomon Islands', 'Vanuatu',\n",
    "    \n",
    "#         # micronesia\n",
    "#         'Guam', 'Kiribati', 'Marshall Islands', 'Micronesia (Federated States of)', \n",
    "#         'Nauru', 'Northern Mariana Islands', 'Palau', 'United States Minor Outlying Islands',\n",
    "        \n",
    "#         # polynesia\n",
    "#         'American Samoa', 'Cook Islands', 'Easter Island', 'French Polynesia', \n",
    "#         'Niue', 'Norfolk Island', 'Pitcairn Islands', 'Samoa', \n",
    "#         'Tokelau', 'Tonga', 'Tuvalu', 'Wallis and Futuna','Rotuma Rotuma'\n",
    "#     ],\n",
    "\n",
    "# }"
   ]
  },
  {
   "cell_type": "code",
   "execution_count": 8,
   "metadata": {
    "execution": {
     "iopub.execute_input": "2020-09-15T08:16:18.945326Z",
     "iopub.status.busy": "2020-09-15T08:16:18.945171Z",
     "iopub.status.idle": "2020-09-15T08:16:19.038132Z",
     "shell.execute_reply": "2020-09-15T08:16:19.037420Z",
     "shell.execute_reply.started": "2020-09-15T08:16:18.945305Z"
    }
   },
   "outputs": [],
   "source": [
    "owid['region'] = None"
   ]
  },
  {
   "cell_type": "markdown",
   "metadata": {},
   "source": [
    "### The Americas"
   ]
  },
  {
   "cell_type": "code",
   "execution_count": 9,
   "metadata": {
    "execution": {
     "iopub.execute_input": "2020-09-15T08:16:19.040802Z",
     "iopub.status.busy": "2020-09-15T08:16:19.040572Z",
     "iopub.status.idle": "2020-09-15T08:16:19.220437Z",
     "shell.execute_reply": "2020-09-15T08:16:19.219755Z",
     "shell.execute_reply.started": "2020-09-15T08:16:19.040771Z"
    }
   },
   "outputs": [
    {
     "data": {
      "text/plain": [
       "(region\n",
       " carribean           25\n",
       " central_america      7\n",
       " northern_america     4\n",
       " Name: country, dtype: int64,\n",
       " 172)"
      ]
     },
     "execution_count": 9,
     "metadata": {},
     "output_type": "execute_result"
    }
   ],
   "source": [
    "north_america = {\n",
    "    'northern_america': ['United States', 'Canada', 'Mexico', 'Greenland'],\n",
    "    \n",
    "    'central_america': ['Belize', 'Costa Rica', 'El Salvador', 'Guatemala', 'Honduras', 'Nicaragua', 'Panama'],\n",
    "    \n",
    "    'carribean': [\n",
    "        'Anguilla', 'Antigua and Barbuda', 'Aruba', 'Bahamas', 'Barbados', 'Bermuda', 'British Virgin Islands', \n",
    "        'Cayman Islands', 'Cuba', 'Curacao', 'Dominica', 'Dominican Republic', 'Grenada', 'Guadeloupe', 'Haiti', \n",
    "        'Jamaica', 'Martinique', 'Montserrat', 'Puerto Rico', 'Saint Kitts and Nevis', 'Saint Lucia', 'Sint Maarten (Dutch part)',\n",
    "        'Saint Vincent and the Grenadines', 'Trinidad and Tobago', 'United States Virgin Islands', \n",
    "        'Bonaire Sint Eustatius and Saba', 'Turks and Caicos Islands']\n",
    "}\n",
    "\n",
    "\n",
    "\n",
    "for label,countries in north_america.items():\n",
    "    for country in countries:\n",
    "        owid['region'] = np.where(owid['country']==country, label, owid['region'])\n",
    "\n",
    "owid.groupby('region')['country'].nunique(),  owid[owid['region'].isnull()].country.nunique()"
   ]
  },
  {
   "cell_type": "code",
   "execution_count": 10,
   "metadata": {
    "execution": {
     "iopub.execute_input": "2020-09-15T08:16:19.222111Z",
     "iopub.status.busy": "2020-09-15T08:16:19.221889Z",
     "iopub.status.idle": "2020-09-15T08:16:19.276384Z",
     "shell.execute_reply": "2020-09-15T08:16:19.275910Z",
     "shell.execute_reply.started": "2020-09-15T08:16:19.222088Z"
    }
   },
   "outputs": [
    {
     "data": {
      "text/plain": [
       "(region\n",
       " andean_republics          5\n",
       " caribbean_republics       3\n",
       " carribean                25\n",
       " central_america           7\n",
       " northern_america          4\n",
       " river_plate_republics     4\n",
       " Name: country, dtype: int64,\n",
       " 160)"
      ]
     },
     "execution_count": 10,
     "metadata": {},
     "output_type": "execute_result"
    }
   ],
   "source": [
    "south_america = {\n",
    "    \n",
    "    'caribbean_republics ': ['Colombia', 'Venezuela', 'Guyana', 'Suriname', 'French Guiana'],\n",
    "    \n",
    "    'andean_republics': ['Bolivia', 'Ecuador', 'Chile', 'Colombia', 'Peru'],\n",
    "    \n",
    "    'river_plate_republics': ['Uruguay', 'Paraguay', 'Argentina', 'Brazil'],\n",
    "}\n",
    "\n",
    "\n",
    "for label,countries in south_america.items():\n",
    "    for country in countries:\n",
    "        owid['region'] = np.where(owid['country']==country, label, owid['region'])\n",
    "\n",
    "owid.groupby('region')['country'].nunique(),  owid[owid['region'].isnull()].country.nunique()\n",
    "    "
   ]
  },
  {
   "cell_type": "markdown",
   "metadata": {},
   "source": [
    "### Europe"
   ]
  },
  {
   "cell_type": "code",
   "execution_count": 11,
   "metadata": {
    "execution": {
     "iopub.execute_input": "2020-09-15T08:16:19.277576Z",
     "iopub.status.busy": "2020-09-15T08:16:19.277347Z",
     "iopub.status.idle": "2020-09-15T08:16:19.498351Z",
     "shell.execute_reply": "2020-09-15T08:16:19.497876Z",
     "shell.execute_reply.started": "2020-09-15T08:16:19.277553Z"
    }
   },
   "outputs": [
    {
     "data": {
      "text/plain": [
       "(region\n",
       " andean_republics          5\n",
       " caribbean_republics       3\n",
       " carribean                25\n",
       " central_america           7\n",
       " eu                       27\n",
       " non-eu                   23\n",
       " northern_america          4\n",
       " river_plate_republics     4\n",
       " Name: country, dtype: int64,\n",
       " 110)"
      ]
     },
     "execution_count": 11,
     "metadata": {},
     "output_type": "execute_result"
    }
   ],
   "source": [
    "europe = {\n",
    "#     'northern_europe': [\n",
    "#         'Denmark', 'Estonia', 'Faeroe Islands', 'Finland',\n",
    "#        'Guernsey', 'Iceland', 'Ireland', 'Isle of Man', 'Jersey',\n",
    "#        'Latvia', 'Lithuania', 'Norway', 'Sweden', 'United Kingdom'\n",
    "#     ],\n",
    "    \n",
    "#     'southern_europe': [\n",
    "#         'Albania', 'Andorra', 'Bosnia and Herzegovina', 'Croatia',\n",
    "#        'Gibraltar', 'Greece', 'Italy', 'Macedonia', 'Malta', 'Montenegro',\n",
    "#        'Portugal', 'San Marino', 'Serbia', 'Slovenia', 'Spain', 'Vatican'\n",
    "#     ],\n",
    "    \n",
    "#     'eastern_europe': [\n",
    "#         'Belarus', 'Bulgaria', 'Czech Republic', 'Hungary', 'Moldova',\n",
    "#        'Poland', 'Romania', 'Russia', 'Slovakia', 'Ukraine'\n",
    "#     ],\n",
    "    \n",
    "#     'western_europe': [\n",
    "#         'Austria', 'Belgium', 'France', 'Germany', 'Liechtenstein',\n",
    "#        'Luxembourg', 'Monaco', 'Netherlands', 'Switzerland'\n",
    "#     ],\n",
    "    \n",
    "    'non-eu': {\n",
    "        'Faeroe Islands', 'Guernsey', 'Iceland', 'Isle of Man', 'Jersey', 'Norway', 'United Kingdom',\n",
    "        'Albania', 'Andorra', 'Bosnia and Herzegovina', 'Gibraltar', 'Macedonia', 'Montenegro',\n",
    "        'San Marino', 'Serbia', 'Vatican', 'Belarus', 'Moldova',\n",
    "        'Russia', 'Ukraine', 'Switzerland', 'Liechtenstein', 'Monaco'\n",
    "    },\n",
    "    \n",
    "    'eu': {\n",
    "        'Austria', 'Belgium', 'Bulgaria', 'Croatia','Cyprus', 'Czech Republic', 'Denmark', \n",
    "        'Estonia', 'Finland', 'France', 'Germany', 'Greece', 'Hungary', 'Ireland', 'Italy', 'Latvia', 'Lithuania', \n",
    "        'Luxembourg', 'Malta', 'Netherlands', 'Poland', 'Portugal', 'Romania', 'Slovakia', 'Slovenia', 'Spain', 'Sweden',\n",
    "        \n",
    "    }\n",
    "    \n",
    "    \n",
    "}\n",
    "\n",
    "\n",
    "for label,countries in europe.items():\n",
    "    for country in countries:\n",
    "        owid['region'] = np.where(owid['country']==country, label, owid['region'])\n",
    "        \n",
    "\n",
    "owid.groupby('region')['country'].nunique(),  owid[owid['region'].isnull()].country.nunique()"
   ]
  },
  {
   "cell_type": "markdown",
   "metadata": {},
   "source": [
    "### Africa's Regions"
   ]
  },
  {
   "cell_type": "code",
   "execution_count": 12,
   "metadata": {
    "execution": {
     "iopub.execute_input": "2020-09-15T08:16:19.499386Z",
     "iopub.status.busy": "2020-09-15T08:16:19.499177Z",
     "iopub.status.idle": "2020-09-15T08:16:19.507925Z",
     "shell.execute_reply": "2020-09-15T08:16:19.507251Z",
     "shell.execute_reply.started": "2020-09-15T08:16:19.499363Z"
    }
   },
   "outputs": [],
   "source": [
    "owid['continent'] = np.where(owid['country']=='Egypt', 'Asia', owid['continent'])"
   ]
  },
  {
   "cell_type": "code",
   "execution_count": 13,
   "metadata": {
    "execution": {
     "iopub.execute_input": "2020-09-15T08:16:19.509167Z",
     "iopub.status.busy": "2020-09-15T08:16:19.508981Z",
     "iopub.status.idle": "2020-09-15T08:16:19.770146Z",
     "shell.execute_reply": "2020-09-15T08:16:19.769664Z",
     "shell.execute_reply.started": "2020-09-15T08:16:19.509144Z"
    }
   },
   "outputs": [
    {
     "data": {
      "text/plain": [
       "(region\n",
       " andean_republics          5\n",
       " caribbean_republics       3\n",
       " carribean                25\n",
       " central_africa            9\n",
       " central_america           7\n",
       " east_africa              18\n",
       " eu                       27\n",
       " non-eu                   23\n",
       " north_africa              6\n",
       " northern_america          4\n",
       " river_plate_republics     4\n",
       " southern_africa           5\n",
       " west_africa              17\n",
       " Name: country, dtype: int64,\n",
       " 55)"
      ]
     },
     "execution_count": 13,
     "metadata": {},
     "output_type": "execute_result"
    }
   ],
   "source": [
    "africa = {\n",
    "    'north_africa': [\n",
    "        'Algeria' ,'Canary Islands' ,'Ceuta' ,'Egypt' ,'Libya' ,\n",
    "        'Madeira' ,'Melilla' ,'Morocco' ,'Sahrawi Arab Democratic Republic' ,\n",
    "        'Sudan' ,'Tunisia'\n",
    "    ],\n",
    "\n",
    "    'east_africa': [\n",
    "        'Burundi', 'Comoros', 'Djibouti', 'Eritrea', 'Ethiopia', 'French Southern Territories', \n",
    "        'Kenya', 'Madagascar', 'Malawi', 'Mauritius', 'Mayotte', 'Mozambique', 'Reunion', \n",
    "        'Rwanda', 'Seychelles', 'Somalia', 'Somaliland', 'South Sudan', 'Tanzania', 'Uganda', \n",
    "        'Zambia', 'Zimbabwe', \n",
    "    ],\n",
    "\n",
    "    'central_africa': [\n",
    "        'Angola', 'Cameroon', 'Central African Republic', 'Chad', \n",
    "        'Democratic Republic of Congo', 'Congo', \n",
    "        'Equatorial Guinea', 'Gabon', 'Sao Tome and Principe'\n",
    "    ],\n",
    "\n",
    "    'west_africa': [\n",
    "        'Benin', 'Burkina Faso', 'Cape Verde', \"Cote d'Ivoire\", 'Gambia', 'Ghana', \n",
    "        'Guinea', 'Guinea-Bissau', 'Liberia', 'Mali', 'Mauritania', 'Niger', 'Nigeria', \n",
    "        'Saint Helena, Ascension and Tristan da Cunha', 'Senegal', 'Sierra Leone', 'Togo',\n",
    "        'Western Sahara'\n",
    "    ],\n",
    "\n",
    "    'southern_africa': [\n",
    "        'Botswana', 'Swaziland', 'Lesotho', 'Namibia', 'South Africa'\n",
    "    ],\n",
    "}\n",
    "\n",
    "for label,countries in africa.items():\n",
    "    for country in countries:\n",
    "        owid['region'] = np.where(owid['country']==country, label, owid['region'])\n",
    "        \n",
    "owid.groupby('region')['country'].nunique(),  owid[owid['region'].isnull()].country.nunique()"
   ]
  },
  {
   "cell_type": "markdown",
   "metadata": {},
   "source": [
    "### Asia's Regions"
   ]
  },
  {
   "cell_type": "code",
   "execution_count": 14,
   "metadata": {
    "execution": {
     "iopub.execute_input": "2020-09-15T08:16:19.771058Z",
     "iopub.status.busy": "2020-09-15T08:16:19.770899Z",
     "iopub.status.idle": "2020-09-15T08:16:19.777373Z",
     "shell.execute_reply": "2020-09-15T08:16:19.776685Z",
     "shell.execute_reply.started": "2020-09-15T08:16:19.771036Z"
    }
   },
   "outputs": [],
   "source": [
    "# Adjust Cyprus\n",
    "owid['continent'] = np.where(owid['country']=='Cyprus', 'Asia', owid['continent'])"
   ]
  },
  {
   "cell_type": "code",
   "execution_count": 15,
   "metadata": {
    "execution": {
     "iopub.execute_input": "2020-09-15T08:16:19.778557Z",
     "iopub.status.busy": "2020-09-15T08:16:19.778391Z",
     "iopub.status.idle": "2020-09-15T08:16:20.003053Z",
     "shell.execute_reply": "2020-09-15T08:16:20.002526Z",
     "shell.execute_reply.started": "2020-09-15T08:16:19.778535Z"
    }
   },
   "outputs": [
    {
     "data": {
      "text/plain": [
       "(region\n",
       " andean_republics          5\n",
       " caribbean_republics       3\n",
       " carribean                25\n",
       " central_africa            9\n",
       " central_america           7\n",
       " central_asia              4\n",
       " east_africa              18\n",
       " east_asia                 6\n",
       " eu                       27\n",
       " middle_east              15\n",
       " non-eu                   23\n",
       " north_africa              5\n",
       " northern_america          4\n",
       " river_plate_republics     4\n",
       " south_asia                8\n",
       " south_east_asia          11\n",
       " southern_africa           5\n",
       " west_africa              17\n",
       " western_asia              4\n",
       " Name: country, dtype: int64,\n",
       " 8)"
      ]
     },
     "execution_count": 15,
     "metadata": {},
     "output_type": "execute_result"
    }
   ],
   "source": [
    "asia = {\n",
    "    'central_asia': ['Tajikistan', 'Uzbekistan', 'Kazakhstan', 'Turkmenistan', 'Kyrgyzstan'],\n",
    "    \n",
    "    'east_asia': ['China', 'Mongolia', 'North Korea', 'South Korea', 'Japan', 'Hong Kong', 'Taiwan', 'Macau'],\n",
    "    \n",
    "    'south_asia': ['Sri Lanka', 'Bangladesh', 'India', 'Afghanistan', 'Pakistan', 'Bhutan', 'Nepal', 'Maldives'],\n",
    "    \n",
    "    'south_east_asia': ['Brunei', 'Cambodia', 'Indonesia', 'Laos', 'Malaysia', 'Myanmar', 'Philippines','Singapore', 'Thailand', 'Timor', 'Vietnam', 'Christmas Island', 'Cocos Islands'],\n",
    "    \n",
    "    'western_asia': ['Georgia', 'Armenia', 'Azerbaijan', 'Turkey'],\n",
    "    \n",
    "    'middle_east': ['Bahrain', 'Egypt', 'Iran', 'Iraq', 'Israel', 'Jordan', 'Kuwait', 'Lebanon', 'Oman', 'Palestine', 'Qatar', 'Saudi Arabia', 'Syria', 'United Arab Emirates', 'Yemen'],\n",
    "\n",
    "    \n",
    "}\n",
    "\n",
    "\n",
    "for label,countries in asia.items():\n",
    "    for country in countries:\n",
    "        owid['region'] = np.where(owid['country']==country, label, owid['region'])\n",
    "        \n",
    "\n",
    "owid.groupby('region')['country'].nunique(),  owid[owid['region'].isnull()].country.nunique()"
   ]
  },
  {
   "cell_type": "code",
   "execution_count": 16,
   "metadata": {
    "execution": {
     "iopub.execute_input": "2020-09-15T08:16:20.004288Z",
     "iopub.status.busy": "2020-09-15T08:16:20.004113Z",
     "iopub.status.idle": "2020-09-15T08:16:20.010383Z",
     "shell.execute_reply": "2020-09-15T08:16:20.009661Z",
     "shell.execute_reply.started": "2020-09-15T08:16:20.004266Z"
    }
   },
   "outputs": [],
   "source": [
    "# Adjust Georgia to avoid name clash with US state else where.\n",
    "owid['country'] = np.where(owid['country']=='Georgia', 'Georgia (W. Asia)', owid['country'])"
   ]
  },
  {
   "cell_type": "markdown",
   "metadata": {},
   "source": [
    "### Oceania's Regions"
   ]
  },
  {
   "cell_type": "code",
   "execution_count": 17,
   "metadata": {
    "execution": {
     "iopub.execute_input": "2020-09-15T08:16:20.011533Z",
     "iopub.status.busy": "2020-09-15T08:16:20.011364Z",
     "iopub.status.idle": "2020-09-15T08:16:20.177923Z",
     "shell.execute_reply": "2020-09-15T08:16:20.177303Z",
     "shell.execute_reply.started": "2020-09-15T08:16:20.011510Z"
    }
   },
   "outputs": [
    {
     "data": {
      "text/plain": [
       "(continent      region                        \n",
       " Africa         central_africa                     9\n",
       "                east_africa                       18\n",
       "                north_africa                       5\n",
       "                southern_africa                    5\n",
       "                west_africa                       17\n",
       " Asia           central_asia                       4\n",
       "                east_asia                          6\n",
       "                eu                                 1\n",
       "                middle_east                       15\n",
       "                south_asia                         8\n",
       "                south_east_asia                   11\n",
       "                western_asia                       4\n",
       " Europe         eu                                26\n",
       "                non-eu                            23\n",
       " North America  carribean                         25\n",
       "                central_america                    7\n",
       "                northern_america                   4\n",
       " Oceania        australasia                        2\n",
       "                melanesia_micronesia_polynesia     6\n",
       " South America  andean_republics                   5\n",
       "                caribbean_republics                3\n",
       "                river_plate_republics              4\n",
       " Name: country, dtype: int64,\n",
       " continent\n",
       " Africa           54\n",
       " Asia             49\n",
       " Europe           49\n",
       " North America    36\n",
       " Oceania           8\n",
       " South America    12\n",
       " Name: country, dtype: int64,\n",
       " 0)"
      ]
     },
     "execution_count": 17,
     "metadata": {},
     "output_type": "execute_result"
    }
   ],
   "source": [
    "oceania = {\n",
    "    'australasia': ['Australia', 'New Zealand'],\n",
    "    \n",
    "    'melanesia_micronesia_polynesia': [\n",
    "        \n",
    "        # melanesia\n",
    "        'Fiji', 'New Caledonia', 'Papua New Guinea', 'Solomon Islands', 'Vanuatu',\n",
    "    \n",
    "        # micronesia\n",
    "        'Guam', 'Kiribati', 'Marshall Islands', 'Micronesia (Federated States of)', \n",
    "        'Nauru', 'Northern Mariana Islands', 'Palau', 'United States Minor Outlying Islands',\n",
    "        \n",
    "        # polynesia\n",
    "        'American Samoa', 'Cook Islands', 'Easter Island', 'French Polynesia', \n",
    "        'Niue', 'Norfolk Island', 'Pitcairn Islands', 'Samoa', \n",
    "        'Tokelau', 'Tonga', 'Tuvalu', 'Wallis and Futuna','Rotuma Rotuma'\n",
    "    ],\n",
    "    \n",
    "}\n",
    "\n",
    "\n",
    "for label,countries in oceania.items():\n",
    "    for country in countries:\n",
    "        owid['region'] = np.where(owid['country']==country, label, owid['region'])\n",
    "        \n",
    "\n",
    "owid.groupby(['continent', 'region'])['country'].nunique(),  owid.groupby(['continent'])['country'].nunique(), owid[owid['region'].isnull()].country.nunique()"
   ]
  },
  {
   "cell_type": "code",
   "execution_count": 18,
   "metadata": {
    "execution": {
     "iopub.execute_input": "2020-09-15T08:16:20.179164Z",
     "iopub.status.busy": "2020-09-15T08:16:20.178981Z",
     "iopub.status.idle": "2020-09-15T08:16:20.186964Z",
     "shell.execute_reply": "2020-09-15T08:16:20.186495Z",
     "shell.execute_reply.started": "2020-09-15T08:16:20.179141Z"
    }
   },
   "outputs": [
    {
     "data": {
      "text/plain": [
       "(array([], dtype=object), 208)"
      ]
     },
     "execution_count": 18,
     "metadata": {},
     "output_type": "execute_result"
    }
   ],
   "source": [
    "owid[owid['region'].isnull()].country.unique(), owid.country.nunique()"
   ]
  },
  {
   "cell_type": "code",
   "execution_count": 19,
   "metadata": {
    "execution": {
     "iopub.execute_input": "2020-09-15T08:16:20.188118Z",
     "iopub.status.busy": "2020-09-15T08:16:20.187919Z",
     "iopub.status.idle": "2020-09-15T08:16:20.272719Z",
     "shell.execute_reply": "2020-09-15T08:16:20.272118Z",
     "shell.execute_reply.started": "2020-09-15T08:16:20.188096Z"
    }
   },
   "outputs": [
    {
     "data": {
      "text/plain": [
       "((42838, 43), 208)"
      ]
     },
     "execution_count": 19,
     "metadata": {},
     "output_type": "execute_result"
    }
   ],
   "source": [
    "owid = owid.dropna(subset=['country_code', 'country_id'])\n",
    "owid.shape, owid['country_code'].nunique()"
   ]
  },
  {
   "cell_type": "code",
   "execution_count": 20,
   "metadata": {
    "execution": {
     "iopub.execute_input": "2020-09-15T08:16:20.273929Z",
     "iopub.status.busy": "2020-09-15T08:16:20.273732Z",
     "iopub.status.idle": "2020-09-15T08:16:20.325310Z",
     "shell.execute_reply": "2020-09-15T08:16:20.324223Z",
     "shell.execute_reply.started": "2020-09-15T08:16:20.273906Z"
    }
   },
   "outputs": [],
   "source": [
    "assert owid['region'].notnull().all()"
   ]
  },
  {
   "cell_type": "markdown",
   "metadata": {},
   "source": [
    "# Save Dataset"
   ]
  },
  {
   "cell_type": "code",
   "execution_count": 21,
   "metadata": {
    "execution": {
     "iopub.execute_input": "2020-09-15T08:16:20.327204Z",
     "iopub.status.busy": "2020-09-15T08:16:20.326827Z",
     "iopub.status.idle": "2020-09-15T08:16:20.399739Z",
     "shell.execute_reply": "2020-09-15T08:16:20.399178Z",
     "shell.execute_reply.started": "2020-09-15T08:16:20.327154Z"
    }
   },
   "outputs": [
    {
     "data": {
      "text/plain": [
       "((42838, 10), 208)"
      ]
     },
     "execution_count": 21,
     "metadata": {},
     "output_type": "execute_result"
    }
   ],
   "source": [
    "owid_base = owid[base_cols].copy()\n",
    "owid_base.shape, owid_base['country'].nunique()"
   ]
  },
  {
   "cell_type": "code",
   "execution_count": 22,
   "metadata": {
    "execution": {
     "iopub.execute_input": "2020-09-15T08:16:20.400859Z",
     "iopub.status.busy": "2020-09-15T08:16:20.400701Z",
     "iopub.status.idle": "2020-09-15T08:16:20.454496Z",
     "shell.execute_reply": "2020-09-15T08:16:20.453529Z",
     "shell.execute_reply.started": "2020-09-15T08:16:20.400838Z"
    }
   },
   "outputs": [],
   "source": [
    "# [owid_base.fillna(0, inplace=True) for col in owid_base.filter(like='new_')]\n",
    "\n",
    "# assert owid_base.notnull().all().all()"
   ]
  },
  {
   "cell_type": "code",
   "execution_count": 23,
   "metadata": {
    "execution": {
     "iopub.execute_input": "2020-09-15T08:16:20.456168Z",
     "iopub.status.busy": "2020-09-15T08:16:20.455836Z",
     "iopub.status.idle": "2020-09-15T08:16:21.203219Z",
     "shell.execute_reply": "2020-09-15T08:16:21.202585Z",
     "shell.execute_reply.started": "2020-09-15T08:16:20.456123Z"
    }
   },
   "outputs": [
    {
     "data": {
      "text/plain": [
       "[<matplotlib.lines.Line2D at 0x7f381db539d0>]"
      ]
     },
     "execution_count": 23,
     "metadata": {},
     "output_type": "execute_result"
    },
    {
     "data": {
      "image/png": "[encoded data removed]",
      "text/plain": [
       "<Figure size 1440x576 with 1 Axes>"
      ]
     },
     "metadata": {
      "needs_background": "light"
     },
     "output_type": "display_data"
    }
   ],
   "source": [
    "fig, ax = plt.subplots(figsize=(20, 8))\n",
    "\n",
    "country = 'Sweden'\n",
    "x = owid_base[owid_base['country']==country].set_index('date').index\n",
    "y = owid_base[owid_base['country']==country].set_index('date')['new_cases']\n",
    "\n",
    "ax.bar(x, y)\n",
    "ax.plot(x, y.rolling('7d').mean(), c='coral', lw=4)"
   ]
  },
  {
   "cell_type": "code",
   "execution_count": 24,
   "metadata": {
    "execution": {
     "iopub.execute_input": "2020-09-15T08:16:21.204385Z",
     "iopub.status.busy": "2020-09-15T08:16:21.204218Z",
     "iopub.status.idle": "2020-09-15T08:16:21.306221Z",
     "shell.execute_reply": "2020-09-15T08:16:21.305581Z",
     "shell.execute_reply.started": "2020-09-15T08:16:21.204362Z"
    }
   },
   "outputs": [
    {
     "name": "stderr",
     "output_type": "stream",
     "text": [
      "2020-09-15 09:16:21.205 | INFO     | __main__:<module>:1 - Saving base OWID dataset --> ../../data/base_owid.pkl\n"
     ]
    },
    {
     "data": {
      "text/plain": [
       "((42838, 10), Timestamp('2020-09-14 00:00:00'))"
      ]
     },
     "execution_count": 24,
     "metadata": {},
     "output_type": "execute_result"
    }
   ],
   "source": [
    "logger.info('Saving base OWID dataset --> %s' % base_owid_dataset)\n",
    "\n",
    "owid_base.to_pickle(base_owid_dataset)\n",
    "owid_base.shape, owid_base.date.max()"
   ]
  },
  {
   "cell_type": "code",
   "execution_count": 25,
   "metadata": {
    "execution": {
     "iopub.execute_input": "2020-09-15T08:16:21.307460Z",
     "iopub.status.busy": "2020-09-15T08:16:21.307266Z",
     "iopub.status.idle": "2020-09-15T08:16:21.644242Z",
     "shell.execute_reply": "2020-09-15T08:16:21.643603Z",
     "shell.execute_reply.started": "2020-09-15T08:16:21.307435Z"
    }
   },
   "outputs": [
    {
     "data": {
      "text/plain": [
       "<matplotlib.axes._subplots.AxesSubplot at 0x7f381c43b150>"
      ]
     },
     "execution_count": 25,
     "metadata": {},
     "output_type": "execute_result"
    },
    {
     "data": {
      "image/png": "[encoded data removed]",
      "text/plain": [
       "<Figure size 432x288 with 1 Axes>"
      ]
     },
     "metadata": {
      "needs_background": "light"
     },
     "output_type": "display_data"
    }
   ],
   "source": [
    "owid[owid['country']=='Ireland'].set_index('date')['new_tests_per_thousand'].rolling('7d').mean().plot()"
   ]
  },
  {
   "cell_type": "code",
   "execution_count": 26,
   "metadata": {
    "execution": {
     "iopub.execute_input": "2020-09-15T08:16:21.645797Z",
     "iopub.status.busy": "2020-09-15T08:16:21.645599Z",
     "iopub.status.idle": "2020-09-15T08:16:21.668669Z",
     "shell.execute_reply": "2020-09-15T08:16:21.668130Z",
     "shell.execute_reply.started": "2020-09-15T08:16:21.645769Z"
    }
   },
   "outputs": [
    {
     "data": {
      "text/html": [
       "<div>\n",
       "<style scoped>\n",
       "    .dataframe tbody tr th:only-of-type {\n",
       "        vertical-align: middle;\n",
       "    }\n",
       "\n",
       "    .dataframe tbody tr th {\n",
       "        vertical-align: top;\n",
       "    }\n",
       "\n",
       "    .dataframe thead th {\n",
       "        text-align: right;\n",
       "    }\n",
       "</style>\n",
       "<table border=\"1\" class=\"dataframe\">\n",
       "  <thead>\n",
       "    <tr style=\"text-align: right;\">\n",
       "      <th></th>\n",
       "      <th>new_tests</th>\n",
       "      <th>total_tests</th>\n",
       "      <th>total_tests_per_thousand</th>\n",
       "      <th>new_tests_per_thousand</th>\n",
       "      <th>new_tests_smoothed</th>\n",
       "      <th>new_tests_smoothed_per_thousand</th>\n",
       "      <th>tests_per_case</th>\n",
       "      <th>tests_units</th>\n",
       "    </tr>\n",
       "  </thead>\n",
       "  <tbody>\n",
       "    <tr>\n",
       "      <th>0</th>\n",
       "      <td>NaN</td>\n",
       "      <td>NaN</td>\n",
       "      <td>NaN</td>\n",
       "      <td>NaN</td>\n",
       "      <td>NaN</td>\n",
       "      <td>NaN</td>\n",
       "      <td>NaN</td>\n",
       "      <td>NaN</td>\n",
       "    </tr>\n",
       "    <tr>\n",
       "      <th>1</th>\n",
       "      <td>NaN</td>\n",
       "      <td>NaN</td>\n",
       "      <td>NaN</td>\n",
       "      <td>NaN</td>\n",
       "      <td>NaN</td>\n",
       "      <td>NaN</td>\n",
       "      <td>NaN</td>\n",
       "      <td>NaN</td>\n",
       "    </tr>\n",
       "    <tr>\n",
       "      <th>2</th>\n",
       "      <td>NaN</td>\n",
       "      <td>NaN</td>\n",
       "      <td>NaN</td>\n",
       "      <td>NaN</td>\n",
       "      <td>NaN</td>\n",
       "      <td>NaN</td>\n",
       "      <td>NaN</td>\n",
       "      <td>NaN</td>\n",
       "    </tr>\n",
       "    <tr>\n",
       "      <th>3</th>\n",
       "      <td>NaN</td>\n",
       "      <td>NaN</td>\n",
       "      <td>NaN</td>\n",
       "      <td>NaN</td>\n",
       "      <td>NaN</td>\n",
       "      <td>NaN</td>\n",
       "      <td>NaN</td>\n",
       "      <td>NaN</td>\n",
       "    </tr>\n",
       "    <tr>\n",
       "      <th>4</th>\n",
       "      <td>NaN</td>\n",
       "      <td>NaN</td>\n",
       "      <td>NaN</td>\n",
       "      <td>NaN</td>\n",
       "      <td>NaN</td>\n",
       "      <td>NaN</td>\n",
       "      <td>NaN</td>\n",
       "      <td>NaN</td>\n",
       "    </tr>\n",
       "    <tr>\n",
       "      <th>...</th>\n",
       "      <td>...</td>\n",
       "      <td>...</td>\n",
       "      <td>...</td>\n",
       "      <td>...</td>\n",
       "      <td>...</td>\n",
       "      <td>...</td>\n",
       "      <td>...</td>\n",
       "      <td>...</td>\n",
       "    </tr>\n",
       "    <tr>\n",
       "      <th>43182</th>\n",
       "      <td>969.0</td>\n",
       "      <td>107414.0</td>\n",
       "      <td>7.227</td>\n",
       "      <td>0.065</td>\n",
       "      <td>649.0</td>\n",
       "      <td>0.044</td>\n",
       "      <td>5.743</td>\n",
       "      <td>tests performed</td>\n",
       "    </tr>\n",
       "    <tr>\n",
       "      <th>43183</th>\n",
       "      <td>NaN</td>\n",
       "      <td>NaN</td>\n",
       "      <td>NaN</td>\n",
       "      <td>NaN</td>\n",
       "      <td>NaN</td>\n",
       "      <td>NaN</td>\n",
       "      <td>NaN</td>\n",
       "      <td>NaN</td>\n",
       "    </tr>\n",
       "    <tr>\n",
       "      <th>43184</th>\n",
       "      <td>NaN</td>\n",
       "      <td>NaN</td>\n",
       "      <td>NaN</td>\n",
       "      <td>NaN</td>\n",
       "      <td>NaN</td>\n",
       "      <td>NaN</td>\n",
       "      <td>NaN</td>\n",
       "      <td>NaN</td>\n",
       "    </tr>\n",
       "    <tr>\n",
       "      <th>43185</th>\n",
       "      <td>NaN</td>\n",
       "      <td>NaN</td>\n",
       "      <td>NaN</td>\n",
       "      <td>NaN</td>\n",
       "      <td>NaN</td>\n",
       "      <td>NaN</td>\n",
       "      <td>NaN</td>\n",
       "      <td>NaN</td>\n",
       "    </tr>\n",
       "    <tr>\n",
       "      <th>43186</th>\n",
       "      <td>NaN</td>\n",
       "      <td>NaN</td>\n",
       "      <td>NaN</td>\n",
       "      <td>NaN</td>\n",
       "      <td>NaN</td>\n",
       "      <td>NaN</td>\n",
       "      <td>NaN</td>\n",
       "      <td>NaN</td>\n",
       "    </tr>\n",
       "  </tbody>\n",
       "</table>\n",
       "<p>42838 rows × 8 columns</p>\n",
       "</div>"
      ],
      "text/plain": [
       "       new_tests  total_tests  total_tests_per_thousand  \\\n",
       "0            NaN          NaN                       NaN   \n",
       "1            NaN          NaN                       NaN   \n",
       "2            NaN          NaN                       NaN   \n",
       "3            NaN          NaN                       NaN   \n",
       "4            NaN          NaN                       NaN   \n",
       "...          ...          ...                       ...   \n",
       "43182      969.0     107414.0                     7.227   \n",
       "43183        NaN          NaN                       NaN   \n",
       "43184        NaN          NaN                       NaN   \n",
       "43185        NaN          NaN                       NaN   \n",
       "43186        NaN          NaN                       NaN   \n",
       "\n",
       "       new_tests_per_thousand  new_tests_smoothed  \\\n",
       "0                         NaN                 NaN   \n",
       "1                         NaN                 NaN   \n",
       "2                         NaN                 NaN   \n",
       "3                         NaN                 NaN   \n",
       "4                         NaN                 NaN   \n",
       "...                       ...                 ...   \n",
       "43182                   0.065               649.0   \n",
       "43183                     NaN                 NaN   \n",
       "43184                     NaN                 NaN   \n",
       "43185                     NaN                 NaN   \n",
       "43186                     NaN                 NaN   \n",
       "\n",
       "       new_tests_smoothed_per_thousand  tests_per_case      tests_units  \n",
       "0                                  NaN             NaN              NaN  \n",
       "1                                  NaN             NaN              NaN  \n",
       "2                                  NaN             NaN              NaN  \n",
       "3                                  NaN             NaN              NaN  \n",
       "4                                  NaN             NaN              NaN  \n",
       "...                                ...             ...              ...  \n",
       "43182                            0.044           5.743  tests performed  \n",
       "43183                              NaN             NaN              NaN  \n",
       "43184                              NaN             NaN              NaN  \n",
       "43185                              NaN             NaN              NaN  \n",
       "43186                              NaN             NaN              NaN  \n",
       "\n",
       "[42838 rows x 8 columns]"
      ]
     },
     "execution_count": 26,
     "metadata": {},
     "output_type": "execute_result"
    }
   ],
   "source": [
    "owid.filter(like='test')"
   ]
  },
  {
   "cell_type": "code",
   "execution_count": null,
   "metadata": {},
   "outputs": [],
   "source": []
  },
  {
   "cell_type": "code",
   "execution_count": null,
   "metadata": {},
   "outputs": [],
   "source": []
  },
  {
   "cell_type": "code",
   "execution_count": null,
   "metadata": {},
   "outputs": [],
   "source": []
  },
  {
   "cell_type": "code",
   "execution_count": null,
   "metadata": {},
   "outputs": [],
   "source": []
  },
  {
   "cell_type": "code",
   "execution_count": null,
   "metadata": {},
   "outputs": [],
   "source": []
  },
  {
   "cell_type": "code",
   "execution_count": null,
   "metadata": {},
   "outputs": [],
   "source": []
  }
 ],
 "metadata": {
  "kernelspec": {
   "display_name": "COVID-19",
   "language": "python",
   "name": "covid-19"
  },
  "language_info": {
   "codemirror_mode": {
    "name": "ipython",
    "version": 3
   },
   "file_extension": ".py",
   "mimetype": "text/x-python",
   "name": "python",
   "nbconvert_exporter": "python",
   "pygments_lexer": "ipython3",
   "version": "3.7.7"
  },
  "toc-autonumbering": true,
  "toc-showcode": false,
  "toc-showmarkdowntxt": true,
  "toc-showtags": false
 },
 "nbformat": 4,
 "nbformat_minor": 4
}
