{
 "cells": [
  {
   "cell_type": "markdown",
   "metadata": {},
   "source": [
    "# Base Ireland\n",
    "Focus on minimal case dataset.\n",
    "\n",
    "* date\n",
    "\n",
    "* country\n",
    "* country_code\n",
    "* country_id\n",
    "\n",
    "* continent\n",
    "* region -- sub-contintent but larger than country\n",
    "* province\n",
    "\n",
    "* new_cases\n",
    "* new_deaths\n",
    "* new_tests\n"
   ]
  },
  {
   "cell_type": "code",
   "execution_count": 64,
   "metadata": {
    "execution": {
     "iopub.execute_input": "2020-09-16T21:31:16.964249Z",
     "iopub.status.busy": "2020-09-16T21:31:16.963755Z",
     "iopub.status.idle": "2020-09-16T21:31:16.978206Z",
     "shell.execute_reply": "2020-09-16T21:31:16.977511Z",
     "shell.execute_reply.started": "2020-09-16T21:31:16.964183Z"
    }
   },
   "outputs": [],
   "source": [
    "from datetime import date, datetime, timedelta\n",
    "\n",
    "\n",
    "import pandas as pd\n",
    "import numpy as np\n",
    "\n",
    "from loguru import logger\n",
    "import pycountry\n",
    "\n",
    "from matplotlib.pylab import plt\n",
    "%matplotlib inline"
   ]
  },
  {
   "cell_type": "markdown",
   "metadata": {},
   "source": [
    "# Params"
   ]
  },
  {
   "cell_type": "code",
   "execution_count": 65,
   "metadata": {
    "execution": {
     "iopub.execute_input": "2020-09-16T21:31:20.074901Z",
     "iopub.status.busy": "2020-09-16T21:31:20.074460Z",
     "iopub.status.idle": "2020-09-16T21:31:20.081760Z",
     "shell.execute_reply": "2020-09-16T21:31:20.080671Z",
     "shell.execute_reply.started": "2020-09-16T21:31:20.074846Z"
    }
   },
   "outputs": [],
   "source": [
    "# At: https://data.gov.ie/dataset/covid19countystatisticshpscireland\n",
    "ireland_dataset = 'http://opendata-geohive.hub.arcgis.com/datasets/d9be85b30d7748b5b7c09450b8aede63_0.csv?outSR={%22latestWkid%22:3857,%22wkid%22:102100}'\n",
    "base_ireland_dataset = '../../data/base_ireland.pkl'\n",
    "\n",
    "# The columns used in the base representation\n",
    "base_cols = [\n",
    "    'date', 'country', 'country_code', 'country_id', 'continent', 'region', 'county', 'province',\n",
    "    'new_cases', 'new_deaths', \n",
    "    'population'\n",
    "]\n"
   ]
  },
  {
   "cell_type": "markdown",
   "metadata": {},
   "source": [
    "# The Ireland Dataset"
   ]
  },
  {
   "cell_type": "markdown",
   "metadata": {},
   "source": [
    "## Load the Ireland Dataset "
   ]
  },
  {
   "cell_type": "code",
   "execution_count": 66,
   "metadata": {
    "execution": {
     "iopub.execute_input": "2020-09-16T21:31:25.857792Z",
     "iopub.status.busy": "2020-09-16T21:31:25.857343Z",
     "iopub.status.idle": "2020-09-16T21:31:27.135189Z",
     "shell.execute_reply": "2020-09-16T21:31:27.134465Z",
     "shell.execute_reply.started": "2020-09-16T21:31:25.857737Z"
    }
   },
   "outputs": [
    {
     "name": "stderr",
     "output_type": "stream",
     "text": [
      "2020-09-16 22:31:25.861 | INFO     | __main__:<module>:1 - Loading Ireland dataset @ http://opendata-geohive.hub.arcgis.com/datasets/d9be85b30d7748b5b7c09450b8aede63_0.csv?outSR={%22latestWkid%22:3857,%22wkid%22:102100}\n"
     ]
    },
    {
     "data": {
      "text/plain": [
       "((5174, 16),\n",
       " 26,\n",
       " Index(['OBJECTID', 'ORIGID', 'CountyName', 'PopulationCensus16', 'TimeStamp',\n",
       "        'IGEasting', 'IGNorthing', 'Lat', 'Long', 'UGI', 'ConfirmedCovidCases',\n",
       "        'PopulationProportionCovidCases', 'ConfirmedCovidDeaths',\n",
       "        'ConfirmedCovidRecovered', 'Shape__Area', 'Shape__Length'],\n",
       "       dtype='object'),\n",
       " Timestamp('2020-09-14 00:00:00+0000', tz='UTC'))"
      ]
     },
     "execution_count": 66,
     "metadata": {},
     "output_type": "execute_result"
    }
   ],
   "source": [
    "logger.info('Loading Ireland dataset @ %s' % ireland_dataset)\n",
    "\n",
    "ireland = pd.read_csv(ireland_dataset, parse_dates=['TimeStamp'], low_memory=False)\n",
    "ireland.shape, ireland['CountyName'].nunique(), ireland.columns, ireland['TimeStamp'].max()"
   ]
  },
  {
   "cell_type": "code",
   "execution_count": 67,
   "metadata": {
    "execution": {
     "iopub.execute_input": "2020-09-16T21:31:30.327516Z",
     "iopub.status.busy": "2020-09-16T21:31:30.327023Z",
     "iopub.status.idle": "2020-09-16T21:31:30.369122Z",
     "shell.execute_reply": "2020-09-16T21:31:30.368277Z",
     "shell.execute_reply.started": "2020-09-16T21:31:30.327459Z"
    }
   },
   "outputs": [
    {
     "data": {
      "text/html": [
       "<div>\n",
       "<style scoped>\n",
       "    .dataframe tbody tr th:only-of-type {\n",
       "        vertical-align: middle;\n",
       "    }\n",
       "\n",
       "    .dataframe tbody tr th {\n",
       "        vertical-align: top;\n",
       "    }\n",
       "\n",
       "    .dataframe thead th {\n",
       "        text-align: right;\n",
       "    }\n",
       "</style>\n",
       "<table border=\"1\" class=\"dataframe\">\n",
       "  <thead>\n",
       "    <tr style=\"text-align: right;\">\n",
       "      <th></th>\n",
       "      <th>OBJECTID</th>\n",
       "      <th>ORIGID</th>\n",
       "      <th>county</th>\n",
       "      <th>population</th>\n",
       "      <th>date</th>\n",
       "      <th>IGEasting</th>\n",
       "      <th>IGNorthing</th>\n",
       "      <th>Lat</th>\n",
       "      <th>Long</th>\n",
       "      <th>UGI</th>\n",
       "      <th>cum_cases</th>\n",
       "      <th>PopulationProportionCovidCases</th>\n",
       "      <th>cum_deaths</th>\n",
       "      <th>ConfirmedCovidRecovered</th>\n",
       "      <th>Shape__Area</th>\n",
       "      <th>Shape__Length</th>\n",
       "    </tr>\n",
       "  </thead>\n",
       "  <tbody>\n",
       "    <tr>\n",
       "      <th>0</th>\n",
       "      <td>1</td>\n",
       "      <td>1</td>\n",
       "      <td>Carlow</td>\n",
       "      <td>56932</td>\n",
       "      <td>2020-02-27 00:00:00+00:00</td>\n",
       "      <td>278661</td>\n",
       "      <td>163444</td>\n",
       "      <td>52.7168</td>\n",
       "      <td>-6.8367</td>\n",
       "      <td>http://data.geohive.ie/resource/county/2ae1962...</td>\n",
       "      <td>0</td>\n",
       "      <td>NaN</td>\n",
       "      <td>NaN</td>\n",
       "      <td>NaN</td>\n",
       "      <td>2.432352e+09</td>\n",
       "      <td>3.193486e+05</td>\n",
       "    </tr>\n",
       "    <tr>\n",
       "      <th>1</th>\n",
       "      <td>2</td>\n",
       "      <td>2</td>\n",
       "      <td>Cavan</td>\n",
       "      <td>76176</td>\n",
       "      <td>2020-02-27 00:00:00+00:00</td>\n",
       "      <td>246380</td>\n",
       "      <td>304501</td>\n",
       "      <td>53.9878</td>\n",
       "      <td>-7.2937</td>\n",
       "      <td>http://data.geohive.ie/resource/county/2ae1962...</td>\n",
       "      <td>0</td>\n",
       "      <td>NaN</td>\n",
       "      <td>NaN</td>\n",
       "      <td>NaN</td>\n",
       "      <td>5.575010e+09</td>\n",
       "      <td>5.159545e+05</td>\n",
       "    </tr>\n",
       "    <tr>\n",
       "      <th>2</th>\n",
       "      <td>3</td>\n",
       "      <td>3</td>\n",
       "      <td>Clare</td>\n",
       "      <td>118817</td>\n",
       "      <td>2020-02-27 00:00:00+00:00</td>\n",
       "      <td>133493</td>\n",
       "      <td>182732</td>\n",
       "      <td>52.8917</td>\n",
       "      <td>-8.9889</td>\n",
       "      <td>http://data.geohive.ie/resource/county/2ae1962...</td>\n",
       "      <td>0</td>\n",
       "      <td>NaN</td>\n",
       "      <td>NaN</td>\n",
       "      <td>NaN</td>\n",
       "      <td>8.722542e+09</td>\n",
       "      <td>1.013949e+06</td>\n",
       "    </tr>\n",
       "    <tr>\n",
       "      <th>3</th>\n",
       "      <td>4</td>\n",
       "      <td>4</td>\n",
       "      <td>Cork</td>\n",
       "      <td>542868</td>\n",
       "      <td>2020-02-27 00:00:00+00:00</td>\n",
       "      <td>156242</td>\n",
       "      <td>77860</td>\n",
       "      <td>51.9517</td>\n",
       "      <td>-8.6372</td>\n",
       "      <td>http://data.geohive.ie/resource/county/2ae1962...</td>\n",
       "      <td>0</td>\n",
       "      <td>NaN</td>\n",
       "      <td>NaN</td>\n",
       "      <td>NaN</td>\n",
       "      <td>1.952949e+10</td>\n",
       "      <td>2.129949e+06</td>\n",
       "    </tr>\n",
       "    <tr>\n",
       "      <th>4</th>\n",
       "      <td>5</td>\n",
       "      <td>5</td>\n",
       "      <td>Donegal</td>\n",
       "      <td>159192</td>\n",
       "      <td>2020-02-27 00:00:00+00:00</td>\n",
       "      <td>202615</td>\n",
       "      <td>405691</td>\n",
       "      <td>54.8989</td>\n",
       "      <td>-7.9600</td>\n",
       "      <td>http://data.geohive.ie/resource/county/2ae1962...</td>\n",
       "      <td>0</td>\n",
       "      <td>NaN</td>\n",
       "      <td>NaN</td>\n",
       "      <td>NaN</td>\n",
       "      <td>1.462404e+10</td>\n",
       "      <td>2.145086e+06</td>\n",
       "    </tr>\n",
       "  </tbody>\n",
       "</table>\n",
       "</div>"
      ],
      "text/plain": [
       "   OBJECTID  ORIGID   county  population                      date  IGEasting  \\\n",
       "0         1       1   Carlow       56932 2020-02-27 00:00:00+00:00     278661   \n",
       "1         2       2    Cavan       76176 2020-02-27 00:00:00+00:00     246380   \n",
       "2         3       3    Clare      118817 2020-02-27 00:00:00+00:00     133493   \n",
       "3         4       4     Cork      542868 2020-02-27 00:00:00+00:00     156242   \n",
       "4         5       5  Donegal      159192 2020-02-27 00:00:00+00:00     202615   \n",
       "\n",
       "   IGNorthing      Lat    Long  \\\n",
       "0      163444  52.7168 -6.8367   \n",
       "1      304501  53.9878 -7.2937   \n",
       "2      182732  52.8917 -8.9889   \n",
       "3       77860  51.9517 -8.6372   \n",
       "4      405691  54.8989 -7.9600   \n",
       "\n",
       "                                                 UGI  cum_cases  \\\n",
       "0  http://data.geohive.ie/resource/county/2ae1962...          0   \n",
       "1  http://data.geohive.ie/resource/county/2ae1962...          0   \n",
       "2  http://data.geohive.ie/resource/county/2ae1962...          0   \n",
       "3  http://data.geohive.ie/resource/county/2ae1962...          0   \n",
       "4  http://data.geohive.ie/resource/county/2ae1962...          0   \n",
       "\n",
       "   PopulationProportionCovidCases  cum_deaths  ConfirmedCovidRecovered  \\\n",
       "0                             NaN         NaN                      NaN   \n",
       "1                             NaN         NaN                      NaN   \n",
       "2                             NaN         NaN                      NaN   \n",
       "3                             NaN         NaN                      NaN   \n",
       "4                             NaN         NaN                      NaN   \n",
       "\n",
       "    Shape__Area  Shape__Length  \n",
       "0  2.432352e+09   3.193486e+05  \n",
       "1  5.575010e+09   5.159545e+05  \n",
       "2  8.722542e+09   1.013949e+06  \n",
       "3  1.952949e+10   2.129949e+06  \n",
       "4  1.462404e+10   2.145086e+06  "
      ]
     },
     "execution_count": 67,
     "metadata": {},
     "output_type": "execute_result"
    }
   ],
   "source": [
    "ireland = ireland.rename(columns={\n",
    "    'CountyName': 'county',\n",
    "    'PopulationCensus16': 'population',\n",
    "    'TimeStamp': 'date',\n",
    "    'ConfirmedCovidCases': 'cum_cases',\n",
    "    'ConfirmedCovidDeaths': 'cum_deaths'\n",
    "})\n",
    "\n",
    "ireland['date'] = ireland['date'].map(\n",
    "    lambda date: date.to_pydatetime())\n",
    "\n",
    "ireland.head()"
   ]
  },
  {
   "cell_type": "markdown",
   "metadata": {},
   "source": [
    "# New Cases/Deaths"
   ]
  },
  {
   "cell_type": "code",
   "execution_count": 68,
   "metadata": {
    "execution": {
     "iopub.execute_input": "2020-09-16T21:31:30.793892Z",
     "iopub.status.busy": "2020-09-16T21:31:30.793572Z",
     "iopub.status.idle": "2020-09-16T21:31:31.028682Z",
     "shell.execute_reply": "2020-09-16T21:31:31.028191Z",
     "shell.execute_reply.started": "2020-09-16T21:31:30.793855Z"
    }
   },
   "outputs": [
    {
     "data": {
      "text/html": [
       "<div>\n",
       "<style scoped>\n",
       "    .dataframe tbody tr th:only-of-type {\n",
       "        vertical-align: middle;\n",
       "    }\n",
       "\n",
       "    .dataframe tbody tr th {\n",
       "        vertical-align: top;\n",
       "    }\n",
       "\n",
       "    .dataframe thead th {\n",
       "        text-align: right;\n",
       "    }\n",
       "</style>\n",
       "<table border=\"1\" class=\"dataframe\">\n",
       "  <thead>\n",
       "    <tr style=\"text-align: right;\">\n",
       "      <th></th>\n",
       "      <th>county</th>\n",
       "      <th>date</th>\n",
       "      <th>OBJECTID</th>\n",
       "      <th>ORIGID</th>\n",
       "      <th>population</th>\n",
       "      <th>IGEasting</th>\n",
       "      <th>IGNorthing</th>\n",
       "      <th>Lat</th>\n",
       "      <th>Long</th>\n",
       "      <th>UGI</th>\n",
       "      <th>cum_cases</th>\n",
       "      <th>PopulationProportionCovidCases</th>\n",
       "      <th>cum_deaths</th>\n",
       "      <th>ConfirmedCovidRecovered</th>\n",
       "      <th>Shape__Area</th>\n",
       "      <th>Shape__Length</th>\n",
       "      <th>new_cases</th>\n",
       "      <th>new_deaths</th>\n",
       "    </tr>\n",
       "  </thead>\n",
       "  <tbody>\n",
       "    <tr>\n",
       "      <th>5169</th>\n",
       "      <td>Tipperary</td>\n",
       "      <td>2020-09-14 00:00:00+00:00</td>\n",
       "      <td>5170</td>\n",
       "      <td>22</td>\n",
       "      <td>159553</td>\n",
       "      <td>205427</td>\n",
       "      <td>154345</td>\n",
       "      <td>52.6407</td>\n",
       "      <td>-7.9206</td>\n",
       "      <td>http://data.geohive.ie/resource/county/2ae1962...</td>\n",
       "      <td>748</td>\n",
       "      <td>468.809737</td>\n",
       "      <td>NaN</td>\n",
       "      <td>NaN</td>\n",
       "      <td>1.155120e+10</td>\n",
       "      <td>781276.579658</td>\n",
       "      <td>5.0</td>\n",
       "      <td>NaN</td>\n",
       "    </tr>\n",
       "    <tr>\n",
       "      <th>5170</th>\n",
       "      <td>Waterford</td>\n",
       "      <td>2020-09-14 00:00:00+00:00</td>\n",
       "      <td>5171</td>\n",
       "      <td>23</td>\n",
       "      <td>116176</td>\n",
       "      <td>234676</td>\n",
       "      <td>105809</td>\n",
       "      <td>52.2035</td>\n",
       "      <td>-7.4935</td>\n",
       "      <td>http://data.geohive.ie/resource/county/2ae1962...</td>\n",
       "      <td>271</td>\n",
       "      <td>233.266768</td>\n",
       "      <td>NaN</td>\n",
       "      <td>NaN</td>\n",
       "      <td>4.848380e+09</td>\n",
       "      <td>643184.903993</td>\n",
       "      <td>11.0</td>\n",
       "      <td>NaN</td>\n",
       "    </tr>\n",
       "    <tr>\n",
       "      <th>5171</th>\n",
       "      <td>Westmeath</td>\n",
       "      <td>2020-09-14 00:00:00+00:00</td>\n",
       "      <td>5172</td>\n",
       "      <td>24</td>\n",
       "      <td>88770</td>\n",
       "      <td>238362</td>\n",
       "      <td>255966</td>\n",
       "      <td>53.5524</td>\n",
       "      <td>-7.4219</td>\n",
       "      <td>http://data.geohive.ie/resource/county/2ae1962...</td>\n",
       "      <td>731</td>\n",
       "      <td>823.476400</td>\n",
       "      <td>NaN</td>\n",
       "      <td>NaN</td>\n",
       "      <td>5.208706e+09</td>\n",
       "      <td>422669.332716</td>\n",
       "      <td>10.0</td>\n",
       "      <td>NaN</td>\n",
       "    </tr>\n",
       "    <tr>\n",
       "      <th>5172</th>\n",
       "      <td>Wexford</td>\n",
       "      <td>2020-09-14 00:00:00+00:00</td>\n",
       "      <td>5173</td>\n",
       "      <td>25</td>\n",
       "      <td>149722</td>\n",
       "      <td>301627</td>\n",
       "      <td>141559</td>\n",
       "      <td>52.5164</td>\n",
       "      <td>-6.5037</td>\n",
       "      <td>http://data.geohive.ie/resource/county/2ae1962...</td>\n",
       "      <td>346</td>\n",
       "      <td>231.094963</td>\n",
       "      <td>NaN</td>\n",
       "      <td>NaN</td>\n",
       "      <td>6.332221e+09</td>\n",
       "      <td>589324.476745</td>\n",
       "      <td>5.0</td>\n",
       "      <td>NaN</td>\n",
       "    </tr>\n",
       "    <tr>\n",
       "      <th>5173</th>\n",
       "      <td>Wicklow</td>\n",
       "      <td>2020-09-14 00:00:00+00:00</td>\n",
       "      <td>5174</td>\n",
       "      <td>26</td>\n",
       "      <td>142425</td>\n",
       "      <td>311162</td>\n",
       "      <td>197894</td>\n",
       "      <td>53.0205</td>\n",
       "      <td>-6.3442</td>\n",
       "      <td>http://data.geohive.ie/resource/county/2ae1962...</td>\n",
       "      <td>812</td>\n",
       "      <td>570.124627</td>\n",
       "      <td>NaN</td>\n",
       "      <td>NaN</td>\n",
       "      <td>5.580729e+09</td>\n",
       "      <td>427539.198567</td>\n",
       "      <td>7.0</td>\n",
       "      <td>NaN</td>\n",
       "    </tr>\n",
       "  </tbody>\n",
       "</table>\n",
       "</div>"
      ],
      "text/plain": [
       "         county                      date  OBJECTID  ORIGID  population  \\\n",
       "5169  Tipperary 2020-09-14 00:00:00+00:00      5170      22      159553   \n",
       "5170  Waterford 2020-09-14 00:00:00+00:00      5171      23      116176   \n",
       "5171  Westmeath 2020-09-14 00:00:00+00:00      5172      24       88770   \n",
       "5172    Wexford 2020-09-14 00:00:00+00:00      5173      25      149722   \n",
       "5173    Wicklow 2020-09-14 00:00:00+00:00      5174      26      142425   \n",
       "\n",
       "      IGEasting  IGNorthing      Lat    Long  \\\n",
       "5169     205427      154345  52.6407 -7.9206   \n",
       "5170     234676      105809  52.2035 -7.4935   \n",
       "5171     238362      255966  53.5524 -7.4219   \n",
       "5172     301627      141559  52.5164 -6.5037   \n",
       "5173     311162      197894  53.0205 -6.3442   \n",
       "\n",
       "                                                    UGI  cum_cases  \\\n",
       "5169  http://data.geohive.ie/resource/county/2ae1962...        748   \n",
       "5170  http://data.geohive.ie/resource/county/2ae1962...        271   \n",
       "5171  http://data.geohive.ie/resource/county/2ae1962...        731   \n",
       "5172  http://data.geohive.ie/resource/county/2ae1962...        346   \n",
       "5173  http://data.geohive.ie/resource/county/2ae1962...        812   \n",
       "\n",
       "      PopulationProportionCovidCases  cum_deaths  ConfirmedCovidRecovered  \\\n",
       "5169                      468.809737         NaN                      NaN   \n",
       "5170                      233.266768         NaN                      NaN   \n",
       "5171                      823.476400         NaN                      NaN   \n",
       "5172                      231.094963         NaN                      NaN   \n",
       "5173                      570.124627         NaN                      NaN   \n",
       "\n",
       "       Shape__Area  Shape__Length  new_cases  new_deaths  \n",
       "5169  1.155120e+10  781276.579658        5.0         NaN  \n",
       "5170  4.848380e+09  643184.903993       11.0         NaN  \n",
       "5171  5.208706e+09  422669.332716       10.0         NaN  \n",
       "5172  6.332221e+09  589324.476745        5.0         NaN  \n",
       "5173  5.580729e+09  427539.198567        7.0         NaN  "
      ]
     },
     "execution_count": 68,
     "metadata": {},
     "output_type": "execute_result"
    }
   ],
   "source": [
    "new_cases_deaths = ireland.groupby('county').apply(\n",
    "    lambda g: g.set_index('date')[['cum_cases', 'cum_deaths']]\\\n",
    "        .diff()\\\n",
    "        .fillna(g.set_index('date')[['cum_cases', 'cum_deaths']])).rename(columns={\n",
    "    'cum_cases': 'new_cases',\n",
    "    'cum_deaths': 'new_deaths'\n",
    "})\n",
    "\n",
    "ireland = ireland.set_index(['county', 'date']).join(new_cases_deaths).reset_index()\n",
    "\n",
    "ireland.tail()"
   ]
  },
  {
   "cell_type": "markdown",
   "metadata": {},
   "source": [
    "# Add Provinces"
   ]
  },
  {
   "cell_type": "code",
   "execution_count": 69,
   "metadata": {
    "execution": {
     "iopub.execute_input": "2020-09-16T21:31:31.065364Z",
     "iopub.status.busy": "2020-09-16T21:31:31.065207Z",
     "iopub.status.idle": "2020-09-16T21:31:31.076013Z",
     "shell.execute_reply": "2020-09-16T21:31:31.075328Z",
     "shell.execute_reply.started": "2020-09-16T21:31:31.065343Z"
    }
   },
   "outputs": [
    {
     "data": {
      "text/plain": [
       "(array(['Leinster', 'Ulster', 'Munster', 'Connaught'], dtype=object), 4)"
      ]
     },
     "execution_count": 69,
     "metadata": {},
     "output_type": "execute_result"
    }
   ],
   "source": [
    "provinces = {\n",
    "    'Galway': 'Connaught', 'Leitrim': 'Connaught', 'Mayo': 'Connaught', \n",
    "    'Roscommon': 'Connaught', 'Sligo': 'Connaught',\n",
    " \n",
    "    'Carlow': 'Leinster', 'Dublin': 'Leinster', 'Kildare': 'Leinster', \n",
    "    'Kilkenny': 'Leinster', 'Laois': 'Leinster', 'Longford': 'Leinster', \n",
    "    'Louth': 'Leinster', 'Meath': 'Leinster', 'Offaly': 'Leinster', \n",
    "    'Westmeath': 'Leinster', 'Wexford': 'Leinster', 'Wicklow': 'Leinster',\n",
    "    \n",
    "    'Clare': 'Munster', 'Cork': 'Munster', 'Kerry': 'Munster', \n",
    "    'Limerick': 'Munster', 'Tipperary': 'Munster', 'Waterford': 'Munster',\n",
    "\n",
    "    'Cavan': 'Ulster', 'Donegal': 'Ulster', 'Monaghan': 'Ulster', \n",
    "}\n",
    "\n",
    "ireland['province'] = ireland['county'].map(lambda name: provinces[name])\n",
    "\n",
    "ireland['province'].unique(), ireland['province'].nunique()\n",
    "\n"
   ]
  },
  {
   "cell_type": "markdown",
   "metadata": {},
   "source": [
    "# Save Dataset"
   ]
  },
  {
   "cell_type": "code",
   "execution_count": 70,
   "metadata": {
    "execution": {
     "iopub.execute_input": "2020-09-16T21:31:31.428998Z",
     "iopub.status.busy": "2020-09-16T21:31:31.428697Z",
     "iopub.status.idle": "2020-09-16T21:31:31.439417Z",
     "shell.execute_reply": "2020-09-16T21:31:31.438440Z",
     "shell.execute_reply.started": "2020-09-16T21:31:31.428958Z"
    }
   },
   "outputs": [],
   "source": [
    "ireland['country'] = 'Ireland'\n",
    "ireland['country_code'] = 'IRL'\n",
    "ireland['country_id'] = 'IE'\n",
    "ireland['continent'] = 'Europe'\n",
    "ireland['region'] = 'eu'"
   ]
  },
  {
   "cell_type": "code",
   "execution_count": 71,
   "metadata": {
    "execution": {
     "iopub.execute_input": "2020-09-16T21:31:31.611008Z",
     "iopub.status.busy": "2020-09-16T21:31:31.610738Z",
     "iopub.status.idle": "2020-09-16T21:31:31.622642Z",
     "shell.execute_reply": "2020-09-16T21:31:31.622038Z",
     "shell.execute_reply.started": "2020-09-16T21:31:31.610971Z"
    }
   },
   "outputs": [
    {
     "data": {
      "text/plain": [
       "((5174, 11), 26)"
      ]
     },
     "execution_count": 71,
     "metadata": {},
     "output_type": "execute_result"
    }
   ],
   "source": [
    "ireland_base = ireland[base_cols].copy()\n",
    "ireland_base.shape, ireland_base['county'].nunique()"
   ]
  },
  {
   "cell_type": "code",
   "execution_count": 72,
   "metadata": {
    "execution": {
     "iopub.execute_input": "2020-09-16T21:31:32.042771Z",
     "iopub.status.busy": "2020-09-16T21:31:32.042585Z",
     "iopub.status.idle": "2020-09-16T21:31:32.595879Z",
     "shell.execute_reply": "2020-09-16T21:31:32.595214Z",
     "shell.execute_reply.started": "2020-09-16T21:31:32.042749Z"
    }
   },
   "outputs": [
    {
     "data": {
      "text/plain": [
       "[<matplotlib.lines.Line2D at 0x7f5914725650>]"
      ]
     },
     "execution_count": 72,
     "metadata": {},
     "output_type": "execute_result"
    },
    {
     "data": {
      "image/png": "[encoded data removed]",
      "text/plain": [
       "<Figure size 1440x576 with 1 Axes>"
      ]
     },
     "metadata": {
      "needs_background": "light"
     },
     "output_type": "display_data"
    }
   ],
   "source": [
    "fig, ax = plt.subplots(figsize=(20, 8))\n",
    "\n",
    "county = 'Laois'\n",
    "x = ireland_base[ireland_base['county']==county].set_index('date').index\n",
    "y = ireland_base[ireland_base['county']==county].set_index('date')['new_cases']\n",
    "\n",
    "ax.bar(x, y)\n",
    "ax.plot(x, y.rolling('7d').mean(), c='coral', lw=4)"
   ]
  },
  {
   "cell_type": "code",
   "execution_count": 73,
   "metadata": {
    "execution": {
     "iopub.execute_input": "2020-09-16T21:31:32.597315Z",
     "iopub.status.busy": "2020-09-16T21:31:32.597138Z",
     "iopub.status.idle": "2020-09-16T21:31:32.692219Z",
     "shell.execute_reply": "2020-09-16T21:31:32.691232Z",
     "shell.execute_reply.started": "2020-09-16T21:31:32.597290Z"
    }
   },
   "outputs": [
    {
     "name": "stderr",
     "output_type": "stream",
     "text": [
      "2020-09-16 22:31:32.598 | INFO     | __main__:<module>:1 - Saving base Ireland dataset --> ../../data/base_ireland.pkl\n"
     ]
    },
    {
     "data": {
      "text/plain": [
       "((5174, 11), Timestamp('2020-09-14 00:00:00+0000', tz='UTC'))"
      ]
     },
     "execution_count": 73,
     "metadata": {},
     "output_type": "execute_result"
    }
   ],
   "source": [
    "logger.info('Saving base Ireland dataset --> %s' % base_ireland_dataset)\n",
    "\n",
    "ireland_base.to_pickle(base_ireland_dataset)\n",
    "ireland_base.shape, ireland_base.date.max()"
   ]
  },
  {
   "cell_type": "code",
   "execution_count": 74,
   "metadata": {
    "execution": {
     "iopub.execute_input": "2020-09-16T21:31:32.694242Z",
     "iopub.status.busy": "2020-09-16T21:31:32.693937Z",
     "iopub.status.idle": "2020-09-16T21:31:32.786931Z",
     "shell.execute_reply": "2020-09-16T21:31:32.786413Z",
     "shell.execute_reply.started": "2020-09-16T21:31:32.694200Z"
    }
   },
   "outputs": [
    {
     "data": {
      "text/html": [
       "<div>\n",
       "<style scoped>\n",
       "    .dataframe tbody tr th:only-of-type {\n",
       "        vertical-align: middle;\n",
       "    }\n",
       "\n",
       "    .dataframe tbody tr th {\n",
       "        vertical-align: top;\n",
       "    }\n",
       "\n",
       "    .dataframe thead th {\n",
       "        text-align: right;\n",
       "    }\n",
       "</style>\n",
       "<table border=\"1\" class=\"dataframe\">\n",
       "  <thead>\n",
       "    <tr style=\"text-align: right;\">\n",
       "      <th></th>\n",
       "      <th>date</th>\n",
       "      <th>country</th>\n",
       "      <th>country_code</th>\n",
       "      <th>country_id</th>\n",
       "      <th>continent</th>\n",
       "      <th>region</th>\n",
       "      <th>county</th>\n",
       "      <th>province</th>\n",
       "      <th>new_cases</th>\n",
       "      <th>new_deaths</th>\n",
       "      <th>population</th>\n",
       "    </tr>\n",
       "  </thead>\n",
       "  <tbody>\n",
       "    <tr>\n",
       "      <th>0</th>\n",
       "      <td>2020-02-27 00:00:00+00:00</td>\n",
       "      <td>Ireland</td>\n",
       "      <td>IRL</td>\n",
       "      <td>IE</td>\n",
       "      <td>Europe</td>\n",
       "      <td>eu</td>\n",
       "      <td>Carlow</td>\n",
       "      <td>Leinster</td>\n",
       "      <td>0.0</td>\n",
       "      <td>NaN</td>\n",
       "      <td>56932</td>\n",
       "    </tr>\n",
       "    <tr>\n",
       "      <th>1</th>\n",
       "      <td>2020-02-27 00:00:00+00:00</td>\n",
       "      <td>Ireland</td>\n",
       "      <td>IRL</td>\n",
       "      <td>IE</td>\n",
       "      <td>Europe</td>\n",
       "      <td>eu</td>\n",
       "      <td>Cavan</td>\n",
       "      <td>Ulster</td>\n",
       "      <td>0.0</td>\n",
       "      <td>NaN</td>\n",
       "      <td>76176</td>\n",
       "    </tr>\n",
       "    <tr>\n",
       "      <th>2</th>\n",
       "      <td>2020-02-27 00:00:00+00:00</td>\n",
       "      <td>Ireland</td>\n",
       "      <td>IRL</td>\n",
       "      <td>IE</td>\n",
       "      <td>Europe</td>\n",
       "      <td>eu</td>\n",
       "      <td>Clare</td>\n",
       "      <td>Munster</td>\n",
       "      <td>0.0</td>\n",
       "      <td>NaN</td>\n",
       "      <td>118817</td>\n",
       "    </tr>\n",
       "    <tr>\n",
       "      <th>3</th>\n",
       "      <td>2020-02-27 00:00:00+00:00</td>\n",
       "      <td>Ireland</td>\n",
       "      <td>IRL</td>\n",
       "      <td>IE</td>\n",
       "      <td>Europe</td>\n",
       "      <td>eu</td>\n",
       "      <td>Cork</td>\n",
       "      <td>Munster</td>\n",
       "      <td>0.0</td>\n",
       "      <td>NaN</td>\n",
       "      <td>542868</td>\n",
       "    </tr>\n",
       "    <tr>\n",
       "      <th>4</th>\n",
       "      <td>2020-02-27 00:00:00+00:00</td>\n",
       "      <td>Ireland</td>\n",
       "      <td>IRL</td>\n",
       "      <td>IE</td>\n",
       "      <td>Europe</td>\n",
       "      <td>eu</td>\n",
       "      <td>Donegal</td>\n",
       "      <td>Ulster</td>\n",
       "      <td>0.0</td>\n",
       "      <td>NaN</td>\n",
       "      <td>159192</td>\n",
       "    </tr>\n",
       "    <tr>\n",
       "      <th>...</th>\n",
       "      <td>...</td>\n",
       "      <td>...</td>\n",
       "      <td>...</td>\n",
       "      <td>...</td>\n",
       "      <td>...</td>\n",
       "      <td>...</td>\n",
       "      <td>...</td>\n",
       "      <td>...</td>\n",
       "      <td>...</td>\n",
       "      <td>...</td>\n",
       "      <td>...</td>\n",
       "    </tr>\n",
       "    <tr>\n",
       "      <th>5169</th>\n",
       "      <td>2020-09-14 00:00:00+00:00</td>\n",
       "      <td>Ireland</td>\n",
       "      <td>IRL</td>\n",
       "      <td>IE</td>\n",
       "      <td>Europe</td>\n",
       "      <td>eu</td>\n",
       "      <td>Tipperary</td>\n",
       "      <td>Munster</td>\n",
       "      <td>5.0</td>\n",
       "      <td>NaN</td>\n",
       "      <td>159553</td>\n",
       "    </tr>\n",
       "    <tr>\n",
       "      <th>5170</th>\n",
       "      <td>2020-09-14 00:00:00+00:00</td>\n",
       "      <td>Ireland</td>\n",
       "      <td>IRL</td>\n",
       "      <td>IE</td>\n",
       "      <td>Europe</td>\n",
       "      <td>eu</td>\n",
       "      <td>Waterford</td>\n",
       "      <td>Munster</td>\n",
       "      <td>11.0</td>\n",
       "      <td>NaN</td>\n",
       "      <td>116176</td>\n",
       "    </tr>\n",
       "    <tr>\n",
       "      <th>5171</th>\n",
       "      <td>2020-09-14 00:00:00+00:00</td>\n",
       "      <td>Ireland</td>\n",
       "      <td>IRL</td>\n",
       "      <td>IE</td>\n",
       "      <td>Europe</td>\n",
       "      <td>eu</td>\n",
       "      <td>Westmeath</td>\n",
       "      <td>Leinster</td>\n",
       "      <td>10.0</td>\n",
       "      <td>NaN</td>\n",
       "      <td>88770</td>\n",
       "    </tr>\n",
       "    <tr>\n",
       "      <th>5172</th>\n",
       "      <td>2020-09-14 00:00:00+00:00</td>\n",
       "      <td>Ireland</td>\n",
       "      <td>IRL</td>\n",
       "      <td>IE</td>\n",
       "      <td>Europe</td>\n",
       "      <td>eu</td>\n",
       "      <td>Wexford</td>\n",
       "      <td>Leinster</td>\n",
       "      <td>5.0</td>\n",
       "      <td>NaN</td>\n",
       "      <td>149722</td>\n",
       "    </tr>\n",
       "    <tr>\n",
       "      <th>5173</th>\n",
       "      <td>2020-09-14 00:00:00+00:00</td>\n",
       "      <td>Ireland</td>\n",
       "      <td>IRL</td>\n",
       "      <td>IE</td>\n",
       "      <td>Europe</td>\n",
       "      <td>eu</td>\n",
       "      <td>Wicklow</td>\n",
       "      <td>Leinster</td>\n",
       "      <td>7.0</td>\n",
       "      <td>NaN</td>\n",
       "      <td>142425</td>\n",
       "    </tr>\n",
       "  </tbody>\n",
       "</table>\n",
       "<p>5174 rows × 11 columns</p>\n",
       "</div>"
      ],
      "text/plain": [
       "                          date  country country_code country_id continent  \\\n",
       "0    2020-02-27 00:00:00+00:00  Ireland          IRL         IE    Europe   \n",
       "1    2020-02-27 00:00:00+00:00  Ireland          IRL         IE    Europe   \n",
       "2    2020-02-27 00:00:00+00:00  Ireland          IRL         IE    Europe   \n",
       "3    2020-02-27 00:00:00+00:00  Ireland          IRL         IE    Europe   \n",
       "4    2020-02-27 00:00:00+00:00  Ireland          IRL         IE    Europe   \n",
       "...                        ...      ...          ...        ...       ...   \n",
       "5169 2020-09-14 00:00:00+00:00  Ireland          IRL         IE    Europe   \n",
       "5170 2020-09-14 00:00:00+00:00  Ireland          IRL         IE    Europe   \n",
       "5171 2020-09-14 00:00:00+00:00  Ireland          IRL         IE    Europe   \n",
       "5172 2020-09-14 00:00:00+00:00  Ireland          IRL         IE    Europe   \n",
       "5173 2020-09-14 00:00:00+00:00  Ireland          IRL         IE    Europe   \n",
       "\n",
       "     region     county  province  new_cases  new_deaths  population  \n",
       "0        eu     Carlow  Leinster        0.0         NaN       56932  \n",
       "1        eu      Cavan    Ulster        0.0         NaN       76176  \n",
       "2        eu      Clare   Munster        0.0         NaN      118817  \n",
       "3        eu       Cork   Munster        0.0         NaN      542868  \n",
       "4        eu    Donegal    Ulster        0.0         NaN      159192  \n",
       "...     ...        ...       ...        ...         ...         ...  \n",
       "5169     eu  Tipperary   Munster        5.0         NaN      159553  \n",
       "5170     eu  Waterford   Munster       11.0         NaN      116176  \n",
       "5171     eu  Westmeath  Leinster       10.0         NaN       88770  \n",
       "5172     eu    Wexford  Leinster        5.0         NaN      149722  \n",
       "5173     eu    Wicklow  Leinster        7.0         NaN      142425  \n",
       "\n",
       "[5174 rows x 11 columns]"
      ]
     },
     "execution_count": 74,
     "metadata": {},
     "output_type": "execute_result"
    }
   ],
   "source": [
    "ireland_base"
   ]
  },
  {
   "cell_type": "code",
   "execution_count": null,
   "metadata": {},
   "outputs": [],
   "source": []
  },
  {
   "cell_type": "code",
   "execution_count": null,
   "metadata": {},
   "outputs": [],
   "source": []
  },
  {
   "cell_type": "code",
   "execution_count": null,
   "metadata": {},
   "outputs": [],
   "source": []
  },
  {
   "cell_type": "code",
   "execution_count": null,
   "metadata": {},
   "outputs": [],
   "source": []
  },
  {
   "cell_type": "code",
   "execution_count": null,
   "metadata": {},
   "outputs": [],
   "source": []
  }
 ],
 "metadata": {
  "kernelspec": {
   "display_name": "COVID-19",
   "language": "python",
   "name": "covid-19"
  },
  "language_info": {
   "codemirror_mode": {
    "name": "ipython",
    "version": 3
   },
   "file_extension": ".py",
   "mimetype": "text/x-python",
   "name": "python",
   "nbconvert_exporter": "python",
   "pygments_lexer": "ipython3",
   "version": "3.7.7"
  },
  "toc-autonumbering": true,
  "toc-showcode": false,
  "toc-showmarkdowntxt": true,
  "toc-showtags": false
 },
 "nbformat": 4,
 "nbformat_minor": 4
}
