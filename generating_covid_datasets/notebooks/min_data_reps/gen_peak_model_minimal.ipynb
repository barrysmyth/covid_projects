{
 "cells": [
  {
   "cell_type": "markdown",
   "metadata": {},
   "source": [
    "# The Peak Model\n",
    "A standardised model for identifying single peaks in cases/deaths/mobility drops etc. The 4 stage model assumes a period of expansion, a peak stage, a period of contraction, and a stablisation stage."
   ]
  },
  {
   "cell_type": "code",
   "execution_count": 1,
   "metadata": {
    "execution": {
     "iopub.execute_input": "2020-08-18T11:40:25.948386Z",
     "iopub.status.busy": "2020-08-18T11:40:25.948098Z",
     "iopub.status.idle": "2020-08-18T11:40:26.804797Z",
     "shell.execute_reply": "2020-08-18T11:40:26.804050Z",
     "shell.execute_reply.started": "2020-08-18T11:40:25.948351Z"
    }
   },
   "outputs": [],
   "source": [
    "import datetime \n",
    "\n",
    "from matplotlib.pylab import plt\n",
    "from matplotlib.ticker import FuncFormatter\n",
    "import matplotlib.colors as mcolors\n",
    "import matplotlib.dates as mdates\n",
    "\n",
    "import pandas as pd\n",
    "import numpy as np\n",
    "\n",
    "import seaborn as sns\n",
    "\n",
    "from loguru import logger\n",
    "\n",
    "\n",
    "\n",
    "%matplotlib inline"
   ]
  },
  {
   "cell_type": "markdown",
   "metadata": {},
   "source": [
    "# Parameters"
   ]
  },
  {
   "cell_type": "code",
   "execution_count": 2,
   "metadata": {
    "execution": {
     "iopub.execute_input": "2020-08-18T11:40:26.806056Z",
     "iopub.status.busy": "2020-08-18T11:40:26.805885Z",
     "iopub.status.idle": "2020-08-18T11:40:26.808780Z",
     "shell.execute_reply": "2020-08-18T11:40:26.808228Z",
     "shell.execute_reply.started": "2020-08-18T11:40:26.806032Z"
    },
    "tags": [
     "parameters"
    ]
   },
   "outputs": [],
   "source": [
    "# minimal_dataset = '../data/processed/minimal_ctp_covid.pkl'\n",
    "\n",
    "minimal_dataset = '../data/minimal_owid_covid.pkl'\n"
   ]
  },
  {
   "cell_type": "code",
   "execution_count": 3,
   "metadata": {
    "execution": {
     "iopub.execute_input": "2020-08-18T11:40:26.810127Z",
     "iopub.status.busy": "2020-08-18T11:40:26.809942Z",
     "iopub.status.idle": "2020-08-18T11:40:26.970177Z",
     "shell.execute_reply": "2020-08-18T11:40:26.969204Z",
     "shell.execute_reply.started": "2020-08-18T11:40:26.810106Z"
    }
   },
   "outputs": [
    {
     "data": {
      "text/plain": [
       "'../data/peak_model_owid_covid.pkl'"
      ]
     },
     "execution_count": 3,
     "metadata": {},
     "output_type": "execute_result"
    }
   ],
   "source": [
    "peak_model_dataset = minimal_dataset.replace('minimal', 'peak_model')\n",
    "\n",
    "peak_model_dataset"
   ]
  },
  {
   "cell_type": "markdown",
   "metadata": {},
   "source": [
    "# The Peak Model"
   ]
  },
  {
   "cell_type": "code",
   "execution_count": 4,
   "metadata": {
    "execution": {
     "iopub.execute_input": "2020-08-18T11:40:26.972504Z",
     "iopub.status.busy": "2020-08-18T11:40:26.972139Z",
     "iopub.status.idle": "2020-08-18T11:40:27.051399Z",
     "shell.execute_reply": "2020-08-18T11:40:27.050516Z",
     "shell.execute_reply.started": "2020-08-18T11:40:26.972454Z"
    }
   },
   "outputs": [],
   "source": [
    "lower_threshold, upper_threshold = .15, .85\n",
    "\n",
    "def get_peak_model_dates(s, upper=upper_threshold, lower=lower_threshold):\n",
    "\n",
    "\n",
    "    # The model parameters\n",
    "    params = ['expansion_start_date', 'peak_start_date', 'contraction_start_date', 'stable_start_date']\n",
    "    peak_model = pd.Series(index=params)\n",
    "\n",
    "\n",
    "    if len(s):\n",
    "    \n",
    "        # The peak and peak date\n",
    "        peak_value, peak_date = s.max(), s.idxmax()\n",
    "\n",
    "        # pre and post peak\n",
    "        pre, post = s.loc[:peak_date], s.loc[peak_date:]\n",
    "\n",
    "        # The start of the expansion is the first date that pre>lower_threshold\n",
    "        # If it never exceeds the lower thershold then there is no expansion start.\n",
    "        expansion = pre[pre>lower_threshold*peak_value]\n",
    "        if len(expansion): \n",
    "\n",
    "            expansion_start_date = expansion.index[0]\n",
    "            peak_model.loc['expansion_start_date'] = expansion_start_date\n",
    "\n",
    "            # peak start\n",
    "            peak_start_date = expansion[expansion>upper_threshold*peak_value].index[0]\n",
    "            peak_model.loc['peak_start_date'] = peak_start_date\n",
    "\n",
    "            # peak end\n",
    "            rev_post = post[::-1]\n",
    "            peak = rev_post[rev_post>upper_threshold*peak_value]\n",
    "\n",
    "            if len(peak):\n",
    "\n",
    "                peak_end_date = peak.index[0]\n",
    "                contraction = post[peak_end_date:]\n",
    "                if len(contraction)>1:\n",
    "                    contraction_start_date = contraction.index[1]\n",
    "\n",
    "                    peak_model.loc['contraction_start_date'] = contraction_start_date\n",
    "\n",
    "                    # The stable start\n",
    "                    contraction_end = rev_post[rev_post>lower_threshold*peak_value]\n",
    "                    if len(contraction_end):\n",
    "                        contraction_end_date = contraction_end.index[0]\n",
    "                        \n",
    "                        stable = post[contraction_end_date:]\n",
    "                        if len(stable)>1:\n",
    "                            stable_start_date = stable.index[1]\n",
    "\n",
    "                            peak_model.loc['stable_start_date'] = stable_start_date\n",
    "\n",
    "    return peak_model\n",
    "    \n",
    "\n",
    "    \n",
    "def get_growth_model_stages(s, labels=['E', 'P', 'C', 'S']):\n",
    "        \n",
    "    if len(s)>0:\n",
    "                \n",
    "        stages = pd.Series([np.nan]*len(s), index=s.index)\n",
    "        \n",
    "        stage_start_dates = get_peak_model_dates(s).dropna()\n",
    "                        \n",
    "        stages.loc[stage_start_dates] = labels[:len(stage_start_dates)]\n",
    "\n",
    "        return stages.ffill()"
   ]
  },
  {
   "cell_type": "markdown",
   "metadata": {},
   "source": [
    "# Load the Dataset"
   ]
  },
  {
   "cell_type": "code",
   "execution_count": 5,
   "metadata": {
    "execution": {
     "iopub.execute_input": "2020-08-18T11:40:27.052910Z",
     "iopub.status.busy": "2020-08-18T11:40:27.052637Z",
     "iopub.status.idle": "2020-08-18T11:40:27.149082Z",
     "shell.execute_reply": "2020-08-18T11:40:27.148404Z",
     "shell.execute_reply.started": "2020-08-18T11:40:27.052873Z"
    }
   },
   "outputs": [
    {
     "name": "stderr",
     "output_type": "stream",
     "text": [
      "2020-08-18 12:40:27.123 | INFO     | __main__:<module>:1 - Loading ../data/minimal_owid_covid.pkl\n"
     ]
    },
    {
     "data": {
      "text/plain": [
       "((43279, 18), Timestamp('2020-08-18 00:00:00'))"
      ]
     },
     "execution_count": 5,
     "metadata": {},
     "output_type": "execute_result"
    }
   ],
   "source": [
    "logger.info('Loading %s' % minimal_dataset)\n",
    "\n",
    "df = pd.read_pickle(minimal_dataset)\n",
    "df.shape, df.date.max()"
   ]
  },
  {
   "cell_type": "code",
   "execution_count": 6,
   "metadata": {
    "execution": {
     "iopub.execute_input": "2020-08-18T11:40:27.150364Z",
     "iopub.status.busy": "2020-08-18T11:40:27.150177Z",
     "iopub.status.idle": "2020-08-18T11:40:27.271639Z",
     "shell.execute_reply": "2020-08-18T11:40:27.270848Z",
     "shell.execute_reply.started": "2020-08-18T11:40:27.150338Z"
    }
   },
   "outputs": [
    {
     "data": {
      "text/plain": [
       "(new_cases                      0.0\n",
       " new_deaths                     0.0\n",
       " new_cases_rolling_mean         0.0\n",
       " new_deaths_rolling_mean        0.0\n",
       " new_cases_rolling_mean_rel     0.0\n",
       " new_deaths_rolling_mean_rel    0.0\n",
       " dtype: float64,\n",
       " (43279, 18),\n",
       " 235)"
      ]
     },
     "execution_count": 6,
     "metadata": {},
     "output_type": "execute_result"
    }
   ],
   "source": [
    "# Exclude <0 cases/deaths in case of bad reporting\n",
    "check_cols = df.filter(regex='_cases|_deaths').columns\n",
    "\n",
    "df[check_cols] = df[check_cols].clip(lower=0)\n",
    "\n",
    "df[check_cols].min(), df.shape, df['aggregation'].nunique()"
   ]
  },
  {
   "cell_type": "markdown",
   "metadata": {},
   "source": [
    "# Build the Models\n",
    "Next we apply the model to a number of difference columns including case/death counts and mobility/stringency cols. We use difference labels for each to distinguish the virus models from the mobility/lockdown models, but the transitions/stages are all calculated in the same way using the same upper and lower thersholds."
   ]
  },
  {
   "cell_type": "code",
   "execution_count": 7,
   "metadata": {
    "execution": {
     "iopub.execute_input": "2020-08-18T11:40:27.273201Z",
     "iopub.status.busy": "2020-08-18T11:40:27.272925Z",
     "iopub.status.idle": "2020-08-18T11:40:27.286290Z",
     "shell.execute_reply": "2020-08-18T11:40:27.285554Z",
     "shell.execute_reply.started": "2020-08-18T11:40:27.273161Z"
    }
   },
   "outputs": [
    {
     "name": "stderr",
     "output_type": "stream",
     "text": [
      "2020-08-18 12:40:27.283 | INFO     | __main__:<module>:1 - Building peak models.\n"
     ]
    }
   ],
   "source": [
    "logger.info('Building peak models.')"
   ]
  },
  {
   "cell_type": "markdown",
   "metadata": {},
   "source": [
    "## The Cases/Deaths Models"
   ]
  },
  {
   "cell_type": "code",
   "execution_count": 8,
   "metadata": {
    "execution": {
     "iopub.execute_input": "2020-08-18T11:40:27.287609Z",
     "iopub.status.busy": "2020-08-18T11:40:27.287353Z",
     "iopub.status.idle": "2020-08-18T11:40:27.373971Z",
     "shell.execute_reply": "2020-08-18T11:40:27.373357Z",
     "shell.execute_reply.started": "2020-08-18T11:40:27.287573Z"
    }
   },
   "outputs": [
    {
     "data": {
      "text/html": [
       "<div>\n",
       "<style scoped>\n",
       "    .dataframe tbody tr th:only-of-type {\n",
       "        vertical-align: middle;\n",
       "    }\n",
       "\n",
       "    .dataframe tbody tr th {\n",
       "        vertical-align: top;\n",
       "    }\n",
       "\n",
       "    .dataframe thead th {\n",
       "        text-align: right;\n",
       "    }\n",
       "</style>\n",
       "<table border=\"1\" class=\"dataframe\">\n",
       "  <thead>\n",
       "    <tr style=\"text-align: right;\">\n",
       "      <th></th>\n",
       "      <th>country_id</th>\n",
       "      <th>date</th>\n",
       "      <th>country</th>\n",
       "      <th>country_code</th>\n",
       "      <th>continent</th>\n",
       "      <th>region</th>\n",
       "      <th>new_cases</th>\n",
       "      <th>new_deaths</th>\n",
       "      <th>population</th>\n",
       "      <th>google_mobility_level</th>\n",
       "      <th>google_mobility_level_by_pop</th>\n",
       "      <th>aggregation</th>\n",
       "      <th>new_cases_rolling_mean</th>\n",
       "      <th>new_deaths_rolling_mean</th>\n",
       "      <th>google_mobility_level_rolling_mean</th>\n",
       "      <th>new_cases_rolling_mean_rel</th>\n",
       "      <th>new_deaths_rolling_mean_rel</th>\n",
       "      <th>google_mobility_level_rolling_mean_rel</th>\n",
       "    </tr>\n",
       "  </thead>\n",
       "  <tbody>\n",
       "    <tr>\n",
       "      <th>0</th>\n",
       "      <td>AF</td>\n",
       "      <td>2019-12-31</td>\n",
       "      <td>Afghanistan</td>\n",
       "      <td>AFG</td>\n",
       "      <td>Asia</td>\n",
       "      <td>south_asia</td>\n",
       "      <td>0.0</td>\n",
       "      <td>0.0</td>\n",
       "      <td>3.892834e+07</td>\n",
       "      <td>NaN</td>\n",
       "      <td>NaN</td>\n",
       "      <td>Afghanistan</td>\n",
       "      <td>NaN</td>\n",
       "      <td>NaN</td>\n",
       "      <td>NaN</td>\n",
       "      <td>NaN</td>\n",
       "      <td>NaN</td>\n",
       "      <td>NaN</td>\n",
       "    </tr>\n",
       "    <tr>\n",
       "      <th>1428</th>\n",
       "      <td>AM</td>\n",
       "      <td>2019-12-31</td>\n",
       "      <td>Armenia</td>\n",
       "      <td>ARM</td>\n",
       "      <td>Asia</td>\n",
       "      <td>western_asia</td>\n",
       "      <td>0.0</td>\n",
       "      <td>0.0</td>\n",
       "      <td>2.963234e+06</td>\n",
       "      <td>NaN</td>\n",
       "      <td>NaN</td>\n",
       "      <td>Armenia</td>\n",
       "      <td>NaN</td>\n",
       "      <td>NaN</td>\n",
       "      <td>NaN</td>\n",
       "      <td>NaN</td>\n",
       "      <td>NaN</td>\n",
       "      <td>NaN</td>\n",
       "    </tr>\n",
       "    <tr>\n",
       "      <th>19197</th>\n",
       "      <td>LB</td>\n",
       "      <td>2019-12-31</td>\n",
       "      <td>Lebanon</td>\n",
       "      <td>LBN</td>\n",
       "      <td>Asia</td>\n",
       "      <td>middle_east</td>\n",
       "      <td>0.0</td>\n",
       "      <td>0.0</td>\n",
       "      <td>6.825442e+06</td>\n",
       "      <td>NaN</td>\n",
       "      <td>NaN</td>\n",
       "      <td>Lebanon</td>\n",
       "      <td>NaN</td>\n",
       "      <td>NaN</td>\n",
       "      <td>NaN</td>\n",
       "      <td>NaN</td>\n",
       "      <td>NaN</td>\n",
       "      <td>NaN</td>\n",
       "    </tr>\n",
       "    <tr>\n",
       "      <th>32349</th>\n",
       "      <td>SE</td>\n",
       "      <td>2019-12-31</td>\n",
       "      <td>Sweden</td>\n",
       "      <td>SWE</td>\n",
       "      <td>Europe</td>\n",
       "      <td>eu</td>\n",
       "      <td>0.0</td>\n",
       "      <td>0.0</td>\n",
       "      <td>1.009927e+07</td>\n",
       "      <td>NaN</td>\n",
       "      <td>NaN</td>\n",
       "      <td>Sweden</td>\n",
       "      <td>NaN</td>\n",
       "      <td>NaN</td>\n",
       "      <td>NaN</td>\n",
       "      <td>NaN</td>\n",
       "      <td>NaN</td>\n",
       "      <td>NaN</td>\n",
       "    </tr>\n",
       "    <tr>\n",
       "      <th>18493</th>\n",
       "      <td>KW</td>\n",
       "      <td>2019-12-31</td>\n",
       "      <td>Kuwait</td>\n",
       "      <td>KWT</td>\n",
       "      <td>Asia</td>\n",
       "      <td>middle_east</td>\n",
       "      <td>0.0</td>\n",
       "      <td>0.0</td>\n",
       "      <td>4.270563e+06</td>\n",
       "      <td>NaN</td>\n",
       "      <td>NaN</td>\n",
       "      <td>Kuwait</td>\n",
       "      <td>NaN</td>\n",
       "      <td>NaN</td>\n",
       "      <td>NaN</td>\n",
       "      <td>NaN</td>\n",
       "      <td>NaN</td>\n",
       "      <td>NaN</td>\n",
       "    </tr>\n",
       "    <tr>\n",
       "      <th>...</th>\n",
       "      <td>...</td>\n",
       "      <td>...</td>\n",
       "      <td>...</td>\n",
       "      <td>...</td>\n",
       "      <td>...</td>\n",
       "      <td>...</td>\n",
       "      <td>...</td>\n",
       "      <td>...</td>\n",
       "      <td>...</td>\n",
       "      <td>...</td>\n",
       "      <td>...</td>\n",
       "      <td>...</td>\n",
       "      <td>...</td>\n",
       "      <td>...</td>\n",
       "      <td>...</td>\n",
       "      <td>...</td>\n",
       "      <td>...</td>\n",
       "      <td>...</td>\n",
       "    </tr>\n",
       "    <tr>\n",
       "      <th>43040</th>\n",
       "      <td>NaN</td>\n",
       "      <td>2020-08-18</td>\n",
       "      <td>NaN</td>\n",
       "      <td>NaN</td>\n",
       "      <td>NaN</td>\n",
       "      <td>northern_america</td>\n",
       "      <td>39412.0</td>\n",
       "      <td>717.0</td>\n",
       "      <td>4.977343e+08</td>\n",
       "      <td>NaN</td>\n",
       "      <td>NaN</td>\n",
       "      <td>northern_america</td>\n",
       "      <td>55226.142857</td>\n",
       "      <td>1585.857143</td>\n",
       "      <td>NaN</td>\n",
       "      <td>0.743908</td>\n",
       "      <td>0.544487</td>\n",
       "      <td>NaN</td>\n",
       "    </tr>\n",
       "    <tr>\n",
       "      <th>43039</th>\n",
       "      <td>NaN</td>\n",
       "      <td>2020-08-18</td>\n",
       "      <td>NaN</td>\n",
       "      <td>NaN</td>\n",
       "      <td>NaN</td>\n",
       "      <td>north_africa</td>\n",
       "      <td>2430.0</td>\n",
       "      <td>23.0</td>\n",
       "      <td>1.433008e+08</td>\n",
       "      <td>NaN</td>\n",
       "      <td>NaN</td>\n",
       "      <td>north_africa</td>\n",
       "      <td>2395.428571</td>\n",
       "      <td>39.000000</td>\n",
       "      <td>NaN</td>\n",
       "      <td>1.000000</td>\n",
       "      <td>0.931741</td>\n",
       "      <td>NaN</td>\n",
       "    </tr>\n",
       "    <tr>\n",
       "      <th>43038</th>\n",
       "      <td>NaN</td>\n",
       "      <td>2020-08-18</td>\n",
       "      <td>NaN</td>\n",
       "      <td>NaN</td>\n",
       "      <td>NaN</td>\n",
       "      <td>non-eu</td>\n",
       "      <td>8596.0</td>\n",
       "      <td>116.0</td>\n",
       "      <td>3.016151e+08</td>\n",
       "      <td>NaN</td>\n",
       "      <td>NaN</td>\n",
       "      <td>non-eu</td>\n",
       "      <td>9047.000000</td>\n",
       "      <td>182.714286</td>\n",
       "      <td>NaN</td>\n",
       "      <td>0.567530</td>\n",
       "      <td>0.177319</td>\n",
       "      <td>NaN</td>\n",
       "    </tr>\n",
       "    <tr>\n",
       "      <th>25278</th>\n",
       "      <td>MP</td>\n",
       "      <td>2020-08-18</td>\n",
       "      <td>Northern Mariana Islands</td>\n",
       "      <td>MNP</td>\n",
       "      <td>Oceania</td>\n",
       "      <td>melanesia_micronesia_polynesia</td>\n",
       "      <td>4.0</td>\n",
       "      <td>0.0</td>\n",
       "      <td>5.755700e+04</td>\n",
       "      <td>NaN</td>\n",
       "      <td>NaN</td>\n",
       "      <td>Northern Mariana Islands</td>\n",
       "      <td>0.714286</td>\n",
       "      <td>0.000000</td>\n",
       "      <td>NaN</td>\n",
       "      <td>0.625000</td>\n",
       "      <td>0.000000</td>\n",
       "      <td>NaN</td>\n",
       "    </tr>\n",
       "    <tr>\n",
       "      <th>43278</th>\n",
       "      <td>NaN</td>\n",
       "      <td>2020-08-18</td>\n",
       "      <td>NaN</td>\n",
       "      <td>NaN</td>\n",
       "      <td>NaN</td>\n",
       "      <td>NaN</td>\n",
       "      <td>189745.0</td>\n",
       "      <td>4232.0</td>\n",
       "      <td>7.701792e+09</td>\n",
       "      <td>NaN</td>\n",
       "      <td>NaN</td>\n",
       "      <td>world</td>\n",
       "      <td>257426.857143</td>\n",
       "      <td>6195.714286</td>\n",
       "      <td>NaN</td>\n",
       "      <td>0.980645</td>\n",
       "      <td>0.836597</td>\n",
       "      <td>NaN</td>\n",
       "    </tr>\n",
       "  </tbody>\n",
       "</table>\n",
       "<p>43279 rows × 18 columns</p>\n",
       "</div>"
      ],
      "text/plain": [
       "      country_id       date                   country country_code continent  \\\n",
       "0             AF 2019-12-31               Afghanistan          AFG      Asia   \n",
       "1428          AM 2019-12-31                   Armenia          ARM      Asia   \n",
       "19197         LB 2019-12-31                   Lebanon          LBN      Asia   \n",
       "32349         SE 2019-12-31                    Sweden          SWE    Europe   \n",
       "18493         KW 2019-12-31                    Kuwait          KWT      Asia   \n",
       "...          ...        ...                       ...          ...       ...   \n",
       "43040        NaN 2020-08-18                       NaN          NaN       NaN   \n",
       "43039        NaN 2020-08-18                       NaN          NaN       NaN   \n",
       "43038        NaN 2020-08-18                       NaN          NaN       NaN   \n",
       "25278         MP 2020-08-18  Northern Mariana Islands          MNP   Oceania   \n",
       "43278        NaN 2020-08-18                       NaN          NaN       NaN   \n",
       "\n",
       "                               region  new_cases  new_deaths    population  \\\n",
       "0                          south_asia        0.0         0.0  3.892834e+07   \n",
       "1428                     western_asia        0.0         0.0  2.963234e+06   \n",
       "19197                     middle_east        0.0         0.0  6.825442e+06   \n",
       "32349                              eu        0.0         0.0  1.009927e+07   \n",
       "18493                     middle_east        0.0         0.0  4.270563e+06   \n",
       "...                               ...        ...         ...           ...   \n",
       "43040                northern_america    39412.0       717.0  4.977343e+08   \n",
       "43039                    north_africa     2430.0        23.0  1.433008e+08   \n",
       "43038                          non-eu     8596.0       116.0  3.016151e+08   \n",
       "25278  melanesia_micronesia_polynesia        4.0         0.0  5.755700e+04   \n",
       "43278                             NaN   189745.0      4232.0  7.701792e+09   \n",
       "\n",
       "       google_mobility_level  google_mobility_level_by_pop  \\\n",
       "0                        NaN                           NaN   \n",
       "1428                     NaN                           NaN   \n",
       "19197                    NaN                           NaN   \n",
       "32349                    NaN                           NaN   \n",
       "18493                    NaN                           NaN   \n",
       "...                      ...                           ...   \n",
       "43040                    NaN                           NaN   \n",
       "43039                    NaN                           NaN   \n",
       "43038                    NaN                           NaN   \n",
       "25278                    NaN                           NaN   \n",
       "43278                    NaN                           NaN   \n",
       "\n",
       "                    aggregation  new_cases_rolling_mean  \\\n",
       "0                   Afghanistan                     NaN   \n",
       "1428                    Armenia                     NaN   \n",
       "19197                   Lebanon                     NaN   \n",
       "32349                    Sweden                     NaN   \n",
       "18493                    Kuwait                     NaN   \n",
       "...                         ...                     ...   \n",
       "43040          northern_america            55226.142857   \n",
       "43039              north_africa             2395.428571   \n",
       "43038                    non-eu             9047.000000   \n",
       "25278  Northern Mariana Islands                0.714286   \n",
       "43278                     world           257426.857143   \n",
       "\n",
       "       new_deaths_rolling_mean  google_mobility_level_rolling_mean  \\\n",
       "0                          NaN                                 NaN   \n",
       "1428                       NaN                                 NaN   \n",
       "19197                      NaN                                 NaN   \n",
       "32349                      NaN                                 NaN   \n",
       "18493                      NaN                                 NaN   \n",
       "...                        ...                                 ...   \n",
       "43040              1585.857143                                 NaN   \n",
       "43039                39.000000                                 NaN   \n",
       "43038               182.714286                                 NaN   \n",
       "25278                 0.000000                                 NaN   \n",
       "43278              6195.714286                                 NaN   \n",
       "\n",
       "       new_cases_rolling_mean_rel  new_deaths_rolling_mean_rel  \\\n",
       "0                             NaN                          NaN   \n",
       "1428                          NaN                          NaN   \n",
       "19197                         NaN                          NaN   \n",
       "32349                         NaN                          NaN   \n",
       "18493                         NaN                          NaN   \n",
       "...                           ...                          ...   \n",
       "43040                    0.743908                     0.544487   \n",
       "43039                    1.000000                     0.931741   \n",
       "43038                    0.567530                     0.177319   \n",
       "25278                    0.625000                     0.000000   \n",
       "43278                    0.980645                     0.836597   \n",
       "\n",
       "       google_mobility_level_rolling_mean_rel  \n",
       "0                                         NaN  \n",
       "1428                                      NaN  \n",
       "19197                                     NaN  \n",
       "32349                                     NaN  \n",
       "18493                                     NaN  \n",
       "...                                       ...  \n",
       "43040                                     NaN  \n",
       "43039                                     NaN  \n",
       "43038                                     NaN  \n",
       "25278                                     NaN  \n",
       "43278                                     NaN  \n",
       "\n",
       "[43279 rows x 18 columns]"
      ]
     },
     "execution_count": 8,
     "metadata": {},
     "output_type": "execute_result"
    }
   ],
   "source": [
    "df"
   ]
  },
  {
   "cell_type": "code",
   "execution_count": 9,
   "metadata": {
    "execution": {
     "iopub.execute_input": "2020-08-18T11:40:27.375766Z",
     "iopub.status.busy": "2020-08-18T11:40:27.375566Z",
     "iopub.status.idle": "2020-08-18T11:40:31.830098Z",
     "shell.execute_reply": "2020-08-18T11:40:31.829355Z",
     "shell.execute_reply.started": "2020-08-18T11:40:27.375738Z"
    }
   },
   "outputs": [
    {
     "name": "stderr",
     "output_type": "stream",
     "text": [
      "/home/barry/anaconda3/envs/covid-19/lib/python3.7/site-packages/ipykernel_launcher.py:8: DeprecationWarning: The default dtype for empty Series will be 'object' instead of 'float64' in a future version. Specify a dtype explicitly to silence this warning.\n",
      "  \n"
     ]
    },
    {
     "data": {
      "text/plain": [
       "(43279, 20)"
      ]
     },
     "execution_count": 9,
     "metadata": {},
     "output_type": "execute_result"
    }
   ],
   "source": [
    "peak_cols = [\n",
    "    'new_cases_rolling_mean',\n",
    "    'new_deaths_rolling_mean' \n",
    "]\n",
    "\n",
    "labels = ['E', 'P', 'C', 'S']\n",
    "\n",
    "for peak_col in peak_cols:\n",
    "    \n",
    "    # Calculate the stages.\n",
    "    stages = pd.DataFrame(\n",
    "        df.groupby('aggregation').apply(\n",
    "            lambda g: get_growth_model_stages(g.set_index('date')[peak_col].dropna(), labels=labels)\n",
    "        ), columns=[peak_col+'_stage']\n",
    "    )\n",
    "    \n",
    "    df = df.set_index(['aggregation', 'date']).join(stages).reset_index().sort_values(by='date')\n",
    "    \n",
    "df.shape"
   ]
  },
  {
   "cell_type": "markdown",
   "metadata": {},
   "source": [
    "## Mobility/Stringency Models"
   ]
  },
  {
   "cell_type": "code",
   "execution_count": 10,
   "metadata": {
    "execution": {
     "iopub.execute_input": "2020-08-18T11:40:31.831592Z",
     "iopub.status.busy": "2020-08-18T11:40:31.831414Z",
     "iopub.status.idle": "2020-08-18T11:40:33.697429Z",
     "shell.execute_reply": "2020-08-18T11:40:33.696837Z",
     "shell.execute_reply.started": "2020-08-18T11:40:31.831568Z"
    }
   },
   "outputs": [
    {
     "name": "stderr",
     "output_type": "stream",
     "text": [
      "/home/barry/anaconda3/envs/covid-19/lib/python3.7/site-packages/ipykernel_launcher.py:8: DeprecationWarning: The default dtype for empty Series will be 'object' instead of 'float64' in a future version. Specify a dtype explicitly to silence this warning.\n",
      "  \n"
     ]
    },
    {
     "data": {
      "text/plain": [
       "(43279, 21)"
      ]
     },
     "execution_count": 10,
     "metadata": {},
     "output_type": "execute_result"
    }
   ],
   "source": [
    "peak_cols = ['google_mobility_level_rolling_mean']\n",
    "\n",
    "labels = ['D', 'H', 'B', 'N']\n",
    "\n",
    "def lockdown_period(mobility):\n",
    "    \n",
    "    if len(mobility):\n",
    "    \n",
    "        mobility = (100-mobility)\n",
    "\n",
    "        # Last zero before peak\n",
    "        peak_date = mobility.idxmax()\n",
    "        pre_peak_min = mobility.loc[:peak_date].idxmin()\n",
    "\n",
    "        return mobility.loc[pre_peak_min:]\n",
    "    \n",
    "    return mobility\n",
    "\n",
    "for peak_col in peak_cols:\n",
    "    \n",
    "    # Calculate the stages.\n",
    "    stages = pd.DataFrame(\n",
    "        df.groupby('aggregation').apply(\n",
    "            lambda g: get_growth_model_stages(lockdown_period(g.set_index('date')[peak_col].dropna()), labels=labels)\n",
    "        ), columns=[peak_col+'_stage']\n",
    "    )\n",
    "    \n",
    "    df = df.set_index(['aggregation', 'date']).join(stages).reset_index().sort_values(by='date')\n",
    "    \n",
    "df.shape"
   ]
  },
  {
   "cell_type": "markdown",
   "metadata": {},
   "source": [
    "## Add Stage Days"
   ]
  },
  {
   "cell_type": "code",
   "execution_count": 11,
   "metadata": {
    "execution": {
     "iopub.execute_input": "2020-08-18T11:40:33.698572Z",
     "iopub.status.busy": "2020-08-18T11:40:33.698379Z",
     "iopub.status.idle": "2020-08-18T11:40:40.281796Z",
     "shell.execute_reply": "2020-08-18T11:40:40.281256Z",
     "shell.execute_reply.started": "2020-08-18T11:40:33.698545Z"
    }
   },
   "outputs": [
    {
     "data": {
      "text/plain": [
       "(43279, 24)"
      ]
     },
     "execution_count": 11,
     "metadata": {},
     "output_type": "execute_result"
    }
   ],
   "source": [
    "# Add the stage days for the cases growth model\n",
    "cases_growth_stage_days = pd.DataFrame(df.groupby(['aggregation', 'new_cases_rolling_mean_stage']).apply(\n",
    "    lambda g: g.reset_index().reset_index().set_index('date')['level_0'])).rename(columns={'level_0': 'new_cases_rolling_mean_stage_day'})\n",
    "\n",
    "df = df.set_index(['aggregation', 'new_cases_rolling_mean_stage', 'date']).join(cases_growth_stage_days).reset_index()\n",
    "\n",
    "\n",
    "\n",
    "# Add the stage days for the deaths growth model\n",
    "deaths_growth_stage_days = pd.DataFrame(df.groupby(['aggregation', 'new_deaths_rolling_mean_stage']).apply(\n",
    "    lambda g: g.reset_index().reset_index().set_index('date')['level_0'])).rename(columns={'level_0': 'new_deaths_rolling_mean_stage_day'})\n",
    "\n",
    "df = df.set_index(['aggregation', 'new_deaths_rolling_mean_stage', 'date']).join(deaths_growth_stage_days).reset_index()\n",
    "\n",
    "\n",
    "# Add the stage days for the mobility model\n",
    "mobility_stage_days = pd.DataFrame(df.groupby(['aggregation', 'google_mobility_level_rolling_mean_stage']).apply(\n",
    "    lambda g: g.reset_index().reset_index().set_index('date')['level_0'])).rename(columns={'level_0': 'google_mobility_level_rolling_mean_stage_day'})\n",
    "\n",
    "\n",
    "\n",
    "df = df.set_index(['aggregation', 'google_mobility_level_rolling_mean_stage', 'date']).join(mobility_stage_days).reset_index()\n",
    "\n",
    "df.shape"
   ]
  },
  {
   "cell_type": "markdown",
   "metadata": {},
   "source": [
    "## Add Cumulative Max Values"
   ]
  },
  {
   "cell_type": "code",
   "execution_count": 12,
   "metadata": {
    "execution": {
     "iopub.execute_input": "2020-08-18T11:40:40.283074Z",
     "iopub.status.busy": "2020-08-18T11:40:40.282875Z",
     "iopub.status.idle": "2020-08-18T11:40:40.854288Z",
     "shell.execute_reply": "2020-08-18T11:40:40.853558Z",
     "shell.execute_reply.started": "2020-08-18T11:40:40.283049Z"
    }
   },
   "outputs": [
    {
     "data": {
      "text/html": [
       "<div>\n",
       "<style scoped>\n",
       "    .dataframe tbody tr th:only-of-type {\n",
       "        vertical-align: middle;\n",
       "    }\n",
       "\n",
       "    .dataframe tbody tr th {\n",
       "        vertical-align: top;\n",
       "    }\n",
       "\n",
       "    .dataframe thead th {\n",
       "        text-align: right;\n",
       "    }\n",
       "</style>\n",
       "<table border=\"1\" class=\"dataframe\">\n",
       "  <thead>\n",
       "    <tr style=\"text-align: right;\">\n",
       "      <th></th>\n",
       "      <th>aggregation</th>\n",
       "      <th>date</th>\n",
       "      <th>google_mobility_level_rolling_mean_stage</th>\n",
       "      <th>new_deaths_rolling_mean_stage</th>\n",
       "      <th>new_cases_rolling_mean_stage</th>\n",
       "      <th>country_id</th>\n",
       "      <th>country</th>\n",
       "      <th>country_code</th>\n",
       "      <th>continent</th>\n",
       "      <th>region</th>\n",
       "      <th>...</th>\n",
       "      <th>new_cases_rolling_mean</th>\n",
       "      <th>new_deaths_rolling_mean</th>\n",
       "      <th>google_mobility_level_rolling_mean</th>\n",
       "      <th>new_cases_rolling_mean_rel</th>\n",
       "      <th>new_deaths_rolling_mean_rel</th>\n",
       "      <th>google_mobility_level_rolling_mean_rel</th>\n",
       "      <th>new_cases_rolling_mean_stage_day</th>\n",
       "      <th>new_deaths_rolling_mean_stage_day</th>\n",
       "      <th>google_mobility_level_rolling_mean_stage_day</th>\n",
       "      <th>new_cases_rolling_mean_cummax</th>\n",
       "    </tr>\n",
       "  </thead>\n",
       "  <tbody>\n",
       "    <tr>\n",
       "      <th>0</th>\n",
       "      <td>Afghanistan</td>\n",
       "      <td>2019-12-31</td>\n",
       "      <td>NaN</td>\n",
       "      <td>NaN</td>\n",
       "      <td>NaN</td>\n",
       "      <td>AF</td>\n",
       "      <td>Afghanistan</td>\n",
       "      <td>AFG</td>\n",
       "      <td>Asia</td>\n",
       "      <td>south_asia</td>\n",
       "      <td>...</td>\n",
       "      <td>NaN</td>\n",
       "      <td>NaN</td>\n",
       "      <td>NaN</td>\n",
       "      <td>NaN</td>\n",
       "      <td>NaN</td>\n",
       "      <td>NaN</td>\n",
       "      <td>NaN</td>\n",
       "      <td>NaN</td>\n",
       "      <td>NaN</td>\n",
       "      <td>NaN</td>\n",
       "    </tr>\n",
       "    <tr>\n",
       "      <th>1</th>\n",
       "      <td>Denmark</td>\n",
       "      <td>2019-12-31</td>\n",
       "      <td>NaN</td>\n",
       "      <td>NaN</td>\n",
       "      <td>NaN</td>\n",
       "      <td>DK</td>\n",
       "      <td>Denmark</td>\n",
       "      <td>DNK</td>\n",
       "      <td>Europe</td>\n",
       "      <td>eu</td>\n",
       "      <td>...</td>\n",
       "      <td>NaN</td>\n",
       "      <td>NaN</td>\n",
       "      <td>NaN</td>\n",
       "      <td>NaN</td>\n",
       "      <td>NaN</td>\n",
       "      <td>NaN</td>\n",
       "      <td>NaN</td>\n",
       "      <td>NaN</td>\n",
       "      <td>NaN</td>\n",
       "      <td>NaN</td>\n",
       "    </tr>\n",
       "    <tr>\n",
       "      <th>2</th>\n",
       "      <td>northern_america</td>\n",
       "      <td>2019-12-31</td>\n",
       "      <td>NaN</td>\n",
       "      <td>NaN</td>\n",
       "      <td>NaN</td>\n",
       "      <td>NaN</td>\n",
       "      <td>NaN</td>\n",
       "      <td>NaN</td>\n",
       "      <td>NaN</td>\n",
       "      <td>northern_america</td>\n",
       "      <td>...</td>\n",
       "      <td>NaN</td>\n",
       "      <td>NaN</td>\n",
       "      <td>NaN</td>\n",
       "      <td>NaN</td>\n",
       "      <td>NaN</td>\n",
       "      <td>NaN</td>\n",
       "      <td>NaN</td>\n",
       "      <td>NaN</td>\n",
       "      <td>NaN</td>\n",
       "      <td>NaN</td>\n",
       "    </tr>\n",
       "    <tr>\n",
       "      <th>3</th>\n",
       "      <td>Brazil</td>\n",
       "      <td>2019-12-31</td>\n",
       "      <td>NaN</td>\n",
       "      <td>NaN</td>\n",
       "      <td>NaN</td>\n",
       "      <td>BR</td>\n",
       "      <td>Brazil</td>\n",
       "      <td>BRA</td>\n",
       "      <td>South America</td>\n",
       "      <td>river_plate_republics</td>\n",
       "      <td>...</td>\n",
       "      <td>NaN</td>\n",
       "      <td>NaN</td>\n",
       "      <td>NaN</td>\n",
       "      <td>NaN</td>\n",
       "      <td>NaN</td>\n",
       "      <td>NaN</td>\n",
       "      <td>NaN</td>\n",
       "      <td>NaN</td>\n",
       "      <td>NaN</td>\n",
       "      <td>NaN</td>\n",
       "    </tr>\n",
       "    <tr>\n",
       "      <th>4</th>\n",
       "      <td>Canada</td>\n",
       "      <td>2019-12-31</td>\n",
       "      <td>NaN</td>\n",
       "      <td>NaN</td>\n",
       "      <td>NaN</td>\n",
       "      <td>CA</td>\n",
       "      <td>Canada</td>\n",
       "      <td>CAN</td>\n",
       "      <td>North America</td>\n",
       "      <td>northern_america</td>\n",
       "      <td>...</td>\n",
       "      <td>NaN</td>\n",
       "      <td>NaN</td>\n",
       "      <td>NaN</td>\n",
       "      <td>NaN</td>\n",
       "      <td>NaN</td>\n",
       "      <td>NaN</td>\n",
       "      <td>NaN</td>\n",
       "      <td>NaN</td>\n",
       "      <td>NaN</td>\n",
       "      <td>NaN</td>\n",
       "    </tr>\n",
       "  </tbody>\n",
       "</table>\n",
       "<p>5 rows × 25 columns</p>\n",
       "</div>"
      ],
      "text/plain": [
       "        aggregation       date google_mobility_level_rolling_mean_stage  \\\n",
       "0       Afghanistan 2019-12-31                                      NaN   \n",
       "1           Denmark 2019-12-31                                      NaN   \n",
       "2  northern_america 2019-12-31                                      NaN   \n",
       "3            Brazil 2019-12-31                                      NaN   \n",
       "4            Canada 2019-12-31                                      NaN   \n",
       "\n",
       "  new_deaths_rolling_mean_stage new_cases_rolling_mean_stage country_id  \\\n",
       "0                           NaN                          NaN         AF   \n",
       "1                           NaN                          NaN         DK   \n",
       "2                           NaN                          NaN        NaN   \n",
       "3                           NaN                          NaN         BR   \n",
       "4                           NaN                          NaN         CA   \n",
       "\n",
       "       country country_code      continent                 region  ...  \\\n",
       "0  Afghanistan          AFG           Asia             south_asia  ...   \n",
       "1      Denmark          DNK         Europe                     eu  ...   \n",
       "2          NaN          NaN            NaN       northern_america  ...   \n",
       "3       Brazil          BRA  South America  river_plate_republics  ...   \n",
       "4       Canada          CAN  North America       northern_america  ...   \n",
       "\n",
       "   new_cases_rolling_mean  new_deaths_rolling_mean  \\\n",
       "0                     NaN                      NaN   \n",
       "1                     NaN                      NaN   \n",
       "2                     NaN                      NaN   \n",
       "3                     NaN                      NaN   \n",
       "4                     NaN                      NaN   \n",
       "\n",
       "   google_mobility_level_rolling_mean  new_cases_rolling_mean_rel  \\\n",
       "0                                 NaN                         NaN   \n",
       "1                                 NaN                         NaN   \n",
       "2                                 NaN                         NaN   \n",
       "3                                 NaN                         NaN   \n",
       "4                                 NaN                         NaN   \n",
       "\n",
       "   new_deaths_rolling_mean_rel  google_mobility_level_rolling_mean_rel  \\\n",
       "0                          NaN                                     NaN   \n",
       "1                          NaN                                     NaN   \n",
       "2                          NaN                                     NaN   \n",
       "3                          NaN                                     NaN   \n",
       "4                          NaN                                     NaN   \n",
       "\n",
       "   new_cases_rolling_mean_stage_day  new_deaths_rolling_mean_stage_day  \\\n",
       "0                               NaN                                NaN   \n",
       "1                               NaN                                NaN   \n",
       "2                               NaN                                NaN   \n",
       "3                               NaN                                NaN   \n",
       "4                               NaN                                NaN   \n",
       "\n",
       "   google_mobility_level_rolling_mean_stage_day  new_cases_rolling_mean_cummax  \n",
       "0                                           NaN                            NaN  \n",
       "1                                           NaN                            NaN  \n",
       "2                                           NaN                            NaN  \n",
       "3                                           NaN                            NaN  \n",
       "4                                           NaN                            NaN  \n",
       "\n",
       "[5 rows x 25 columns]"
      ]
     },
     "execution_count": 12,
     "metadata": {},
     "output_type": "execute_result"
    }
   ],
   "source": [
    "# Add cumulative max new case to DF\n",
    "df = df.set_index(['aggregation', 'date']).join(\n",
    "    pd.DataFrame(df.groupby(['aggregation']).apply(\n",
    "        lambda g: g.set_index('date')['new_cases_rolling_mean'].cummax())).add_suffix('_cummax')).reset_index()\n",
    "df.head()"
   ]
  },
  {
   "cell_type": "markdown",
   "metadata": {},
   "source": [
    "# Save Countries Dataset"
   ]
  },
  {
   "cell_type": "code",
   "execution_count": 14,
   "metadata": {
    "execution": {
     "iopub.execute_input": "2020-08-18T11:40:54.309950Z",
     "iopub.status.busy": "2020-08-18T11:40:54.309583Z",
     "iopub.status.idle": "2020-08-18T11:40:54.413358Z",
     "shell.execute_reply": "2020-08-18T11:40:54.412568Z",
     "shell.execute_reply.started": "2020-08-18T11:40:54.309907Z"
    }
   },
   "outputs": [
    {
     "name": "stderr",
     "output_type": "stream",
     "text": [
      "2020-08-18 12:40:54.311 | INFO     | __main__:<module>:1 - Saving peak model dataset -> ../data/peak_model_owid_covid.pkl\n"
     ]
    },
    {
     "data": {
      "text/plain": [
       "((43279, 25),\n",
       " '../data/peak_model_owid_covid.pkl',\n",
       " Timestamp('2020-08-18 00:00:00'))"
      ]
     },
     "execution_count": 14,
     "metadata": {},
     "output_type": "execute_result"
    }
   ],
   "source": [
    "logger.info('Saving peak model dataset -> %s' % peak_model_dataset)\n",
    "\n",
    "df.to_pickle(peak_model_dataset)\n",
    "\n",
    "df.shape, peak_model_dataset, df.date.max()"
   ]
  },
  {
   "cell_type": "code",
   "execution_count": null,
   "metadata": {},
   "outputs": [],
   "source": []
  }
 ],
 "metadata": {
  "kernelspec": {
   "display_name": "COVID-19",
   "language": "python",
   "name": "covid-19"
  },
  "language_info": {
   "codemirror_mode": {
    "name": "ipython",
    "version": 3
   },
   "file_extension": ".py",
   "mimetype": "text/x-python",
   "name": "python",
   "nbconvert_exporter": "python",
   "pygments_lexer": "ipython3",
   "version": "3.7.7"
  }
 },
 "nbformat": 4,
 "nbformat_minor": 4
}
