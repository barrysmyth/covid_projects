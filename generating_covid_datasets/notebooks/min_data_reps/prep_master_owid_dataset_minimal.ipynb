{
 "cells": [
  {
   "cell_type": "markdown",
   "metadata": {},
   "source": [
    "# Master OWID Dataset (Minimal Version)\n",
    "In this version we focus on cases/deaths and gogole mobility only and in a way that allows for aggergations across different groupings. To do this we need to limit the raw data to new cases/deaths and we need to convert google mobility data to a per capital measure."
   ]
  },
  {
   "cell_type": "code",
   "execution_count": 19,
   "metadata": {
    "execution": {
     "iopub.execute_input": "2020-09-01T07:38:17.325075Z",
     "iopub.status.busy": "2020-09-01T07:38:17.324572Z",
     "iopub.status.idle": "2020-09-01T07:38:17.338781Z",
     "shell.execute_reply": "2020-09-01T07:38:17.337656Z",
     "shell.execute_reply.started": "2020-09-01T07:38:17.325008Z"
    }
   },
   "outputs": [],
   "source": [
    "from datetime import date, datetime, timedelta\n",
    "\n",
    "\n",
    "import pandas as pd\n",
    "import numpy as np\n",
    "\n",
    "from loguru import logger\n",
    "import pycountry\n",
    "\n",
    "%matplotlib inline"
   ]
  },
  {
   "cell_type": "markdown",
   "metadata": {},
   "source": [
    "# Params"
   ]
  },
  {
   "cell_type": "code",
   "execution_count": 20,
   "metadata": {
    "execution": {
     "iopub.execute_input": "2020-09-01T07:38:17.648518Z",
     "iopub.status.busy": "2020-09-01T07:38:17.648075Z",
     "iopub.status.idle": "2020-09-01T07:38:17.654104Z",
     "shell.execute_reply": "2020-09-01T07:38:17.652971Z",
     "shell.execute_reply.started": "2020-09-01T07:38:17.648463Z"
    }
   },
   "outputs": [],
   "source": [
    "owid_dataset = 'https://raw.githubusercontent.com/owid/covid-19-data/master/public/data/owid-covid-data.csv'\n",
    "google_raw_dataset = 'https://www.gstatic.com/covid19/mobility/Global_Mobility_Report.csv'\n",
    "\n",
    "minimal_owid_covid_dataset = '../data/minimal_owid_covid.pkl'\n",
    "\n",
    "\n"
   ]
  },
  {
   "cell_type": "markdown",
   "metadata": {},
   "source": [
    "# The Our World in Data Dataset"
   ]
  },
  {
   "cell_type": "markdown",
   "metadata": {},
   "source": [
    "## Load the OWID Dataset "
   ]
  },
  {
   "cell_type": "code",
   "execution_count": 21,
   "metadata": {
    "execution": {
     "iopub.execute_input": "2020-09-01T07:38:18.206469Z",
     "iopub.status.busy": "2020-09-01T07:38:18.206024Z",
     "iopub.status.idle": "2020-09-01T07:38:18.821810Z",
     "shell.execute_reply": "2020-09-01T07:38:18.821226Z",
     "shell.execute_reply.started": "2020-09-01T07:38:18.206413Z"
    }
   },
   "outputs": [
    {
     "name": "stderr",
     "output_type": "stream",
     "text": [
      "2020-09-01 08:38:18.209 | INFO     | __main__:<module>:1 - Loading OWID dataset @ https://raw.githubusercontent.com/owid/covid-19-data/master/public/data/owid-covid-data.csv\n"
     ]
    },
    {
     "data": {
      "text/plain": [
       "((40748, 40), 212)"
      ]
     },
     "execution_count": 21,
     "metadata": {},
     "output_type": "execute_result"
    }
   ],
   "source": [
    "logger.info('Loading OWID dataset @ %s' % owid_dataset)\n",
    "\n",
    "owid = pd.read_csv(owid_dataset, parse_dates=['date'], low_memory=False)\n",
    "owid.shape, owid.location.nunique()"
   ]
  },
  {
   "cell_type": "code",
   "execution_count": 22,
   "metadata": {
    "execution": {
     "iopub.execute_input": "2020-09-01T07:38:18.823376Z",
     "iopub.status.busy": "2020-09-01T07:38:18.823111Z",
     "iopub.status.idle": "2020-09-01T07:38:18.839372Z",
     "shell.execute_reply": "2020-09-01T07:38:18.838787Z",
     "shell.execute_reply.started": "2020-09-01T07:38:18.823345Z"
    }
   },
   "outputs": [
    {
     "data": {
      "text/plain": [
       "Timestamp('2020-08-31 00:00:00')"
      ]
     },
     "execution_count": 22,
     "metadata": {},
     "output_type": "execute_result"
    }
   ],
   "source": [
    "owid = owid.rename(columns={\n",
    "    'iso_code': 'country_code',\n",
    "    'location': 'country'\n",
    "})\n",
    "\n",
    "owid.date.max()"
   ]
  },
  {
   "cell_type": "code",
   "execution_count": 23,
   "metadata": {
    "execution": {
     "iopub.execute_input": "2020-09-01T07:38:18.841010Z",
     "iopub.status.busy": "2020-09-01T07:38:18.840798Z",
     "iopub.status.idle": "2020-09-01T07:38:19.016969Z",
     "shell.execute_reply": "2020-09-01T07:38:19.016395Z",
     "shell.execute_reply.started": "2020-09-01T07:38:18.840980Z"
    }
   },
   "outputs": [
    {
     "data": {
      "text/plain": [
       "((40182, 40), 209)"
      ]
     },
     "execution_count": 23,
     "metadata": {},
     "output_type": "execute_result"
    }
   ],
   "source": [
    "# Drop disputed Kosovo because it causes problems with country codes later\n",
    "owid = owid[owid['country']!='Kosovo']\n",
    "\n",
    "# Drop Falklands because they are without a region\n",
    "owid = owid[owid['country']!='Falkland Islands']\n",
    "\n",
    "# Drop missing country codes\n",
    "owid = owid.dropna(subset=['country_code'])\n",
    "\n",
    "owid.shape, owid.country.nunique()"
   ]
  },
  {
   "cell_type": "code",
   "execution_count": 24,
   "metadata": {
    "execution": {
     "iopub.execute_input": "2020-09-01T07:38:19.018508Z",
     "iopub.status.busy": "2020-09-01T07:38:19.018292Z",
     "iopub.status.idle": "2020-09-01T07:38:19.056109Z",
     "shell.execute_reply": "2020-09-01T07:38:19.055406Z",
     "shell.execute_reply.started": "2020-09-01T07:38:19.018478Z"
    }
   },
   "outputs": [
    {
     "data": {
      "text/plain": [
       "208"
      ]
     },
     "execution_count": 24,
     "metadata": {},
     "output_type": "execute_result"
    }
   ],
   "source": [
    "countries_with_some_cases = owid.groupby('country')['total_cases'].max()\n",
    "countries_with_some_cases = countries_with_some_cases[countries_with_some_cases>0].index\n",
    "\n",
    "len(countries_with_some_cases)"
   ]
  },
  {
   "cell_type": "code",
   "execution_count": 25,
   "metadata": {
    "execution": {
     "iopub.execute_input": "2020-09-01T07:38:19.606561Z",
     "iopub.status.busy": "2020-09-01T07:38:19.606124Z",
     "iopub.status.idle": "2020-09-01T07:38:19.625439Z",
     "shell.execute_reply": "2020-09-01T07:38:19.624895Z",
     "shell.execute_reply.started": "2020-09-01T07:38:19.606505Z"
    }
   },
   "outputs": [
    {
     "data": {
      "text/plain": [
       "((40164, 40), 208)"
      ]
     },
     "execution_count": 25,
     "metadata": {},
     "output_type": "execute_result"
    }
   ],
   "source": [
    "owid = owid[owid['country'].isin(countries_with_some_cases)]\n",
    "\n",
    "owid.shape, owid['country'].nunique()"
   ]
  },
  {
   "cell_type": "markdown",
   "metadata": {},
   "source": [
    "## Add the 2 letter codes"
   ]
  },
  {
   "cell_type": "code",
   "execution_count": 26,
   "metadata": {
    "execution": {
     "iopub.execute_input": "2020-09-01T07:38:19.985685Z",
     "iopub.status.busy": "2020-09-01T07:38:19.985380Z",
     "iopub.status.idle": "2020-09-01T07:38:20.130924Z",
     "shell.execute_reply": "2020-09-01T07:38:20.130382Z",
     "shell.execute_reply.started": "2020-09-01T07:38:19.985643Z"
    }
   },
   "outputs": [
    {
     "data": {
      "text/plain": [
       "((39919, 41), 207)"
      ]
     },
     "execution_count": 26,
     "metadata": {},
     "output_type": "execute_result"
    }
   ],
   "source": [
    "def lookup_country_code(code, **kwargs):\n",
    "    country = pycountry.countries.get(**kwargs)\n",
    "    \n",
    "    if country: return getattr(country, code)\n",
    "\n",
    "\n",
    "owid['country_id'] = owid['country_code'].apply(\n",
    "    lambda country_code: lookup_country_code('alpha_2', alpha_3=country_code)\n",
    ")\n",
    "\n",
    "owid = owid[owid['country_id'].notnull()]\n",
    "\n",
    "owid.shape, owid.country.nunique()"
   ]
  },
  {
   "cell_type": "markdown",
   "metadata": {},
   "source": [
    "## Add Regions"
   ]
  },
  {
   "cell_type": "code",
   "execution_count": 27,
   "metadata": {
    "execution": {
     "iopub.execute_input": "2020-09-01T07:38:21.160228Z",
     "iopub.status.busy": "2020-09-01T07:38:21.159780Z",
     "iopub.status.idle": "2020-09-01T07:38:21.167086Z",
     "shell.execute_reply": "2020-09-01T07:38:21.166255Z",
     "shell.execute_reply.started": "2020-09-01T07:38:21.160174Z"
    }
   },
   "outputs": [],
   "source": [
    "owid['region'] = None"
   ]
  },
  {
   "cell_type": "markdown",
   "metadata": {},
   "source": [
    "### The Americas"
   ]
  },
  {
   "cell_type": "code",
   "execution_count": 28,
   "metadata": {
    "execution": {
     "iopub.execute_input": "2020-09-01T07:38:21.611494Z",
     "iopub.status.busy": "2020-09-01T07:38:21.611003Z",
     "iopub.status.idle": "2020-09-01T07:38:21.767022Z",
     "shell.execute_reply": "2020-09-01T07:38:21.766378Z",
     "shell.execute_reply.started": "2020-09-01T07:38:21.611439Z"
    }
   },
   "outputs": [
    {
     "data": {
      "text/plain": [
       "(region\n",
       " carribean           25\n",
       " central_america      7\n",
       " northern_america     4\n",
       " Name: country, dtype: int64,\n",
       " 171)"
      ]
     },
     "execution_count": 28,
     "metadata": {},
     "output_type": "execute_result"
    }
   ],
   "source": [
    "north_america = {\n",
    "    'northern_america': ['United States', 'Canada', 'Mexico', 'Greenland'],\n",
    "    \n",
    "    'central_america': ['Belize', 'Costa Rica', 'El Salvador', 'Guatemala', 'Honduras', 'Nicaragua', 'Panama'],\n",
    "    \n",
    "    'carribean': [\n",
    "         'Anguilla', 'Antigua and Barbuda', 'Aruba', 'Bahamas', 'Barbados', 'Bermuda', 'British Virgin Islands', \n",
    "        'Cayman Islands', 'Cuba', 'Curacao', 'Dominica', 'Dominican Republic', 'Grenada', 'Guadeloupe', 'Haiti', \n",
    "        'Jamaica', 'Martinique', 'Montserrat', 'Puerto Rico', 'Saint Kitts and Nevis', 'Saint Lucia', 'Sint Maarten (Dutch part)',\n",
    "        'Saint Vincent and the Grenadines', 'Trinidad and Tobago', 'United States Virgin Islands', \n",
    "        'Bonaire Sint Eustatius and Saba', 'Turks and Caicos Islands']\n",
    "    \n",
    "}\n",
    "\n",
    "\n",
    "\n",
    "for label,countries in north_america.items():\n",
    "    for country in countries:\n",
    "        owid['region'] = np.where(owid['country']==country, label, owid['region'])\n",
    "\n",
    "owid.groupby('region')['country'].nunique(),  owid[owid['region'].isnull()].country.nunique()"
   ]
  },
  {
   "cell_type": "code",
   "execution_count": 29,
   "metadata": {
    "execution": {
     "iopub.execute_input": "2020-09-01T07:38:21.818080Z",
     "iopub.status.busy": "2020-09-01T07:38:21.817861Z",
     "iopub.status.idle": "2020-09-01T07:38:21.874287Z",
     "shell.execute_reply": "2020-09-01T07:38:21.873713Z",
     "shell.execute_reply.started": "2020-09-01T07:38:21.818049Z"
    }
   },
   "outputs": [
    {
     "data": {
      "text/plain": [
       "(region\n",
       " andean_republics          5\n",
       " caribbean_republics       3\n",
       " carribean                25\n",
       " central_america           7\n",
       " northern_america          4\n",
       " river_plate_republics     4\n",
       " Name: country, dtype: int64,\n",
       " 159)"
      ]
     },
     "execution_count": 29,
     "metadata": {},
     "output_type": "execute_result"
    }
   ],
   "source": [
    "south_america = {\n",
    "    \n",
    "    'caribbean_republics ': ['Colombia', 'Venezuela', 'Guyana', 'Suriname', 'French Guiana'],\n",
    "    \n",
    "    'andean_republics': ['Bolivia', 'Ecuador', 'Chile', 'Colombia', 'Peru'],\n",
    "    \n",
    "    'river_plate_republics': ['Uruguay', 'Paraguay', 'Argentina', 'Brazil'],\n",
    "}\n",
    "\n",
    "\n",
    "for label,countries in south_america.items():\n",
    "    for country in countries:\n",
    "        owid['region'] = np.where(owid['country']==country, label, owid['region'])\n",
    "\n",
    "owid.groupby('region')['country'].nunique(),  owid[owid['region'].isnull()].country.nunique()\n",
    "    "
   ]
  },
  {
   "cell_type": "markdown",
   "metadata": {},
   "source": [
    "### Europe"
   ]
  },
  {
   "cell_type": "code",
   "execution_count": 30,
   "metadata": {
    "execution": {
     "iopub.execute_input": "2020-09-01T07:38:23.841860Z",
     "iopub.status.busy": "2020-09-01T07:38:23.841473Z",
     "iopub.status.idle": "2020-09-01T07:38:24.026063Z",
     "shell.execute_reply": "2020-09-01T07:38:24.025474Z",
     "shell.execute_reply.started": "2020-09-01T07:38:23.841812Z"
    }
   },
   "outputs": [
    {
     "data": {
      "text/plain": [
       "(region\n",
       " andean_republics          5\n",
       " caribbean_republics       3\n",
       " carribean                25\n",
       " central_america           7\n",
       " eu                       27\n",
       " non-eu                   22\n",
       " northern_america          4\n",
       " river_plate_republics     4\n",
       " Name: country, dtype: int64,\n",
       " 110)"
      ]
     },
     "execution_count": 30,
     "metadata": {},
     "output_type": "execute_result"
    }
   ],
   "source": [
    "europe = {\n",
    "#     'northern_europe': [\n",
    "#         'Denmark', 'Estonia', 'Faeroe Islands', 'Finland',\n",
    "#        'Guernsey', 'Iceland', 'Ireland', 'Isle of Man', 'Jersey',\n",
    "#        'Latvia', 'Lithuania', 'Norway', 'Sweden', 'United Kingdom'\n",
    "#     ],\n",
    "    \n",
    "#     'southern_europe': [\n",
    "#         'Albania', 'Andorra', 'Bosnia and Herzegovina', 'Croatia',\n",
    "#        'Gibraltar', 'Greece', 'Italy', 'Macedonia', 'Malta', 'Montenegro',\n",
    "#        'Portugal', 'San Marino', 'Serbia', 'Slovenia', 'Spain', 'Vatican'\n",
    "#     ],\n",
    "    \n",
    "#     'eastern_europe': [\n",
    "#         'Belarus', 'Bulgaria', 'Czech Republic', 'Hungary', 'Moldova',\n",
    "#        'Poland', 'Romania', 'Russia', 'Slovakia', 'Ukraine'\n",
    "#     ],\n",
    "    \n",
    "#     'western_europe': [\n",
    "#         'Austria', 'Belgium', 'France', 'Germany', 'Liechtenstein',\n",
    "#        'Luxembourg', 'Monaco', 'Netherlands', 'Switzerland'\n",
    "#     ],\n",
    "    \n",
    "    'non-eu': {\n",
    "        'Faeroe Islands', 'Guernsey', 'Iceland', 'Isle of Man', 'Jersey', 'Norway', 'United Kingdom',\n",
    "        'Albania', 'Andorra', 'Bosnia and Herzegovina', 'Gibraltar', 'Macedonia', 'Montenegro',\n",
    "        'San Marino', 'Serbia', 'Vatican', 'Belarus', 'Moldova',\n",
    "        'Russia', 'Ukraine', 'Switzerland', 'Liechtenstein',\n",
    "    },\n",
    "    \n",
    "    'eu': {\n",
    "        'Austria', 'Belgium', 'Bulgaria', 'Croatia','Cyprus', 'Czech Republic', 'Denmark', \n",
    "        'Estonia', 'Finland', 'France', 'Germany', 'Greece', 'Hungary', 'Ireland', 'Italy', 'Latvia', 'Lithuania', \n",
    "        'Luxembourg', 'Malta', 'Netherlands', 'Poland', 'Portugal', 'Romania', 'Slovakia', 'Slovenia', 'Spain', 'Sweden',\n",
    "        \n",
    "    }\n",
    "    \n",
    "    \n",
    "}\n",
    "\n",
    "\n",
    "for label,countries in europe.items():\n",
    "    for country in countries:\n",
    "        owid['region'] = np.where(owid['country']==country, label, owid['region'])\n",
    "        \n",
    "\n",
    "owid.groupby('region')['country'].nunique(),  owid[owid['region'].isnull()].country.nunique()"
   ]
  },
  {
   "cell_type": "markdown",
   "metadata": {},
   "source": [
    "### Africa's Regions"
   ]
  },
  {
   "cell_type": "code",
   "execution_count": 31,
   "metadata": {
    "execution": {
     "iopub.execute_input": "2020-09-01T07:38:29.271403Z",
     "iopub.status.busy": "2020-09-01T07:38:29.270948Z",
     "iopub.status.idle": "2020-09-01T07:38:29.283862Z",
     "shell.execute_reply": "2020-09-01T07:38:29.283275Z",
     "shell.execute_reply.started": "2020-09-01T07:38:29.271347Z"
    }
   },
   "outputs": [],
   "source": [
    "owid['continent'] = np.where(owid['country']=='Egypt', 'Asia', owid['continent'])"
   ]
  },
  {
   "cell_type": "code",
   "execution_count": 32,
   "metadata": {
    "execution": {
     "iopub.execute_input": "2020-09-01T07:38:29.436704Z",
     "iopub.status.busy": "2020-09-01T07:38:29.436322Z",
     "iopub.status.idle": "2020-09-01T07:38:29.663931Z",
     "shell.execute_reply": "2020-09-01T07:38:29.663190Z",
     "shell.execute_reply.started": "2020-09-01T07:38:29.436653Z"
    }
   },
   "outputs": [
    {
     "data": {
      "text/plain": [
       "(region\n",
       " andean_republics          5\n",
       " caribbean_republics       3\n",
       " carribean                25\n",
       " central_africa            9\n",
       " central_america           7\n",
       " east_africa              18\n",
       " eu                       27\n",
       " non-eu                   22\n",
       " north_africa              6\n",
       " northern_america          4\n",
       " river_plate_republics     4\n",
       " southern_africa           5\n",
       " west_africa              17\n",
       " Name: country, dtype: int64,\n",
       " 55)"
      ]
     },
     "execution_count": 32,
     "metadata": {},
     "output_type": "execute_result"
    }
   ],
   "source": [
    "africa = {\n",
    "    'north_africa': [\n",
    "        'Algeria' ,'Canary Islands' ,'Ceuta' ,'Egypt' ,'Libya' ,\n",
    "        'Madeira' ,'Melilla' ,'Morocco' ,'Sahrawi Arab Democratic Republic' ,\n",
    "        'Sudan' ,'Tunisia'\n",
    "    ],\n",
    "\n",
    "    'east_africa': [\n",
    "        'Burundi', 'Comoros', 'Djibouti', 'Eritrea', 'Ethiopia', 'French Southern Territories', \n",
    "        'Kenya', 'Madagascar', 'Malawi', 'Mauritius', 'Mayotte', 'Mozambique', 'Reunion', \n",
    "        'Rwanda', 'Seychelles', 'Somalia', 'Somaliland', 'South Sudan', 'Tanzania', 'Uganda', \n",
    "        'Zambia', 'Zimbabwe', \n",
    "    ],\n",
    "\n",
    "    'central_africa': [\n",
    "        'Angola', 'Cameroon', 'Central African Republic', 'Chad', \n",
    "        'Democratic Republic of Congo', 'Congo', \n",
    "        'Equatorial Guinea', 'Gabon', 'Sao Tome and Principe'\n",
    "    ],\n",
    "\n",
    "    'west_africa': [\n",
    "        'Benin', 'Burkina Faso', 'Cape Verde', \"Cote d'Ivoire\", 'Gambia', 'Ghana', \n",
    "        'Guinea', 'Guinea-Bissau', 'Liberia', 'Mali', 'Mauritania', 'Niger', 'Nigeria', \n",
    "        'Saint Helena, Ascension and Tristan da Cunha', 'Senegal', 'Sierra Leone', 'Togo',\n",
    "        'Western Sahara'\n",
    "    ],\n",
    "\n",
    "    'southern_africa': [\n",
    "        'Botswana', 'Swaziland', 'Lesotho', 'Namibia', 'South Africa'\n",
    "    ],\n",
    "}\n",
    "\n",
    "for label,countries in africa.items():\n",
    "    for country in countries:\n",
    "        owid['region'] = np.where(owid['country']==country, label, owid['region'])\n",
    "        \n",
    "owid.groupby('region')['country'].nunique(),  owid[owid['region'].isnull()].country.nunique()"
   ]
  },
  {
   "cell_type": "markdown",
   "metadata": {},
   "source": [
    "### Asia's Regions"
   ]
  },
  {
   "cell_type": "code",
   "execution_count": 33,
   "metadata": {
    "execution": {
     "iopub.execute_input": "2020-09-01T07:38:29.761617Z",
     "iopub.status.busy": "2020-09-01T07:38:29.761201Z",
     "iopub.status.idle": "2020-09-01T07:38:29.774360Z",
     "shell.execute_reply": "2020-09-01T07:38:29.773319Z",
     "shell.execute_reply.started": "2020-09-01T07:38:29.761562Z"
    }
   },
   "outputs": [],
   "source": [
    "# Adjust Cyprus\n",
    "owid['continent'] = np.where(owid['country']=='Cyprus', 'Asia', owid['continent'])"
   ]
  },
  {
   "cell_type": "code",
   "execution_count": 34,
   "metadata": {
    "execution": {
     "iopub.execute_input": "2020-09-01T07:38:29.872272Z",
     "iopub.status.busy": "2020-09-01T07:38:29.872047Z",
     "iopub.status.idle": "2020-09-01T07:38:30.028101Z",
     "shell.execute_reply": "2020-09-01T07:38:30.027463Z",
     "shell.execute_reply.started": "2020-09-01T07:38:29.872248Z"
    }
   },
   "outputs": [
    {
     "data": {
      "text/plain": [
       "(region\n",
       " andean_republics          5\n",
       " caribbean_republics       3\n",
       " carribean                25\n",
       " central_africa            9\n",
       " central_america           7\n",
       " central_asia              4\n",
       " east_africa              18\n",
       " east_asia                 5\n",
       " eu                       27\n",
       " middle_east              15\n",
       " non-eu                   22\n",
       " north_africa              5\n",
       " northern_america          4\n",
       " river_plate_republics     4\n",
       " south_asia                8\n",
       " south_east_asia          11\n",
       " southern_africa           5\n",
       " west_africa              17\n",
       " western_asia              4\n",
       " Name: country, dtype: int64,\n",
       " 9)"
      ]
     },
     "execution_count": 34,
     "metadata": {},
     "output_type": "execute_result"
    }
   ],
   "source": [
    "asia = {\n",
    "    'central_asia': ['Tajikistan', 'Uzbekistan', 'Kazakhstan', 'Turkmenistan', 'Kyrgyzstan'],\n",
    "    \n",
    "    'east_asia': ['China', 'Mongolia', 'North Korea', 'South Korea', 'Japan', 'Hong Kong', 'Taiwan', 'Macau'],\n",
    "    \n",
    "    'south_asia': ['Sri Lanka', 'Bangladesh', 'India', 'Afghanistan', 'Pakistan', 'Bhutan', 'Nepal', 'Maldives'],\n",
    "    \n",
    "    'south_east_asia': ['Brunei', 'Cambodia', 'Indonesia', 'Laos', 'Malaysia', 'Myanmar', 'Philippines','Singapore', 'Thailand', 'Timor', 'Vietnam', 'Christmas Island', 'Cocos Islands'],\n",
    "    \n",
    "    'western_asia': ['Georgia', 'Armenia', 'Azerbaijan', 'Turkey'],\n",
    "    \n",
    "    'middle_east': ['Bahrain', 'Egypt', 'Iran', 'Iraq', 'Israel', 'Jordan', 'Kuwait', 'Lebanon', 'Oman', 'Palestine', 'Qatar', 'Saudi Arabia', 'Syria', 'United Arab Emirates', 'Yemen'],\n",
    "\n",
    "    \n",
    "}\n",
    "\n",
    "\n",
    "for label,countries in asia.items():\n",
    "    for country in countries:\n",
    "        owid['region'] = np.where(owid['country']==country, label, owid['region'])\n",
    "        \n",
    "\n",
    "owid.groupby('region')['country'].nunique(),  owid[owid['region'].isnull()].country.nunique()"
   ]
  },
  {
   "cell_type": "code",
   "execution_count": 35,
   "metadata": {
    "execution": {
     "iopub.execute_input": "2020-09-01T07:38:30.029443Z",
     "iopub.status.busy": "2020-09-01T07:38:30.029248Z",
     "iopub.status.idle": "2020-09-01T07:38:30.035638Z",
     "shell.execute_reply": "2020-09-01T07:38:30.034944Z",
     "shell.execute_reply.started": "2020-09-01T07:38:30.029420Z"
    }
   },
   "outputs": [],
   "source": [
    "# Adjust Georgia to avoid name clash with US state else where.\n",
    "owid['country'] = np.where(owid['country']=='Georgia', 'Georgia (W. Asia)', owid['country'])"
   ]
  },
  {
   "cell_type": "markdown",
   "metadata": {},
   "source": [
    "### Oceania's Regions"
   ]
  },
  {
   "cell_type": "code",
   "execution_count": 36,
   "metadata": {
    "execution": {
     "iopub.execute_input": "2020-09-01T07:38:30.326972Z",
     "iopub.status.busy": "2020-09-01T07:38:30.326671Z",
     "iopub.status.idle": "2020-09-01T07:38:30.461937Z",
     "shell.execute_reply": "2020-09-01T07:38:30.461204Z",
     "shell.execute_reply.started": "2020-09-01T07:38:30.326937Z"
    }
   },
   "outputs": [
    {
     "data": {
      "text/plain": [
       "(continent      region                        \n",
       " Africa         central_africa                     9\n",
       "                east_africa                       18\n",
       "                north_africa                       5\n",
       "                southern_africa                    5\n",
       "                west_africa                       17\n",
       " Asia           central_asia                       4\n",
       "                east_asia                          5\n",
       "                eu                                 1\n",
       "                middle_east                       15\n",
       "                south_asia                         8\n",
       "                south_east_asia                   11\n",
       "                western_asia                       4\n",
       " Europe         eu                                26\n",
       "                non-eu                            22\n",
       " North America  carribean                         25\n",
       "                central_america                    7\n",
       "                northern_america                   4\n",
       " Oceania        australasia                        2\n",
       "                melanesia_micronesia_polynesia     6\n",
       " South America  andean_republics                   5\n",
       "                caribbean_republics                3\n",
       "                river_plate_republics              4\n",
       " Name: country, dtype: int64,\n",
       " continent\n",
       " Africa           54\n",
       " Asia             48\n",
       " Europe           49\n",
       " North America    36\n",
       " Oceania           8\n",
       " South America    12\n",
       " Name: country, dtype: int64,\n",
       " 1)"
      ]
     },
     "execution_count": 36,
     "metadata": {},
     "output_type": "execute_result"
    }
   ],
   "source": [
    "oceania = {\n",
    "    'australasia': ['Australia', 'New Zealand'],\n",
    "    \n",
    "    'melanesia_micronesia_polynesia': [\n",
    "        \n",
    "        # melanesia\n",
    "        'Fiji', 'New Caledonia', 'Papua New Guinea', 'Solomon Islands', 'Vanuatu',\n",
    "    \n",
    "        # micronesia\n",
    "        'Guam', 'Kiribati', 'Marshall Islands', 'Micronesia (Federated States of)', \n",
    "        'Nauru', 'Northern Mariana Islands', 'Palau', 'United States Minor Outlying Islands',\n",
    "        \n",
    "        # polynesia\n",
    "        'American Samoa', 'Cook Islands', 'Easter Island', 'French Polynesia', \n",
    "        'Niue', 'Norfolk Island', 'Pitcairn Islands', 'Samoa', \n",
    "        'Tokelau', 'Tonga', 'Tuvalu', 'Wallis and Futuna','Rotuma Rotuma'\n",
    "    ],\n",
    "    \n",
    "}\n",
    "\n",
    "\n",
    "for label,countries in oceania.items():\n",
    "    for country in countries:\n",
    "        owid['region'] = np.where(owid['country']==country, label, owid['region'])\n",
    "        \n",
    "\n",
    "owid.groupby(['continent', 'region'])['country'].nunique(),  owid.groupby(['continent'])['country'].nunique(), owid[owid['region'].isnull()].country.nunique()"
   ]
  },
  {
   "cell_type": "code",
   "execution_count": 37,
   "metadata": {
    "execution": {
     "iopub.execute_input": "2020-09-01T07:38:30.514245Z",
     "iopub.status.busy": "2020-09-01T07:38:30.513889Z",
     "iopub.status.idle": "2020-09-01T07:38:30.528665Z",
     "shell.execute_reply": "2020-09-01T07:38:30.528084Z",
     "shell.execute_reply.started": "2020-09-01T07:38:30.514203Z"
    }
   },
   "outputs": [
    {
     "data": {
      "text/plain": [
       "(array(['Monaco'], dtype=object), 207)"
      ]
     },
     "execution_count": 37,
     "metadata": {},
     "output_type": "execute_result"
    }
   ],
   "source": [
    "owid[owid['region'].isnull()].country.unique(), owid.country.nunique()"
   ]
  },
  {
   "cell_type": "code",
   "execution_count": 38,
   "metadata": {
    "execution": {
     "iopub.execute_input": "2020-09-01T07:38:30.655373Z",
     "iopub.status.busy": "2020-09-01T07:38:30.655075Z",
     "iopub.status.idle": "2020-09-01T07:38:30.684776Z",
     "shell.execute_reply": "2020-09-01T07:38:30.684218Z",
     "shell.execute_reply.started": "2020-09-01T07:38:30.655334Z"
    }
   },
   "outputs": [
    {
     "data": {
      "text/plain": [
       "((39919, 42), 207)"
      ]
     },
     "execution_count": 38,
     "metadata": {},
     "output_type": "execute_result"
    }
   ],
   "source": [
    "owid = owid.dropna(subset=['country_code', 'country_id'])\n",
    "owid.shape, owid['country_code'].nunique()"
   ]
  },
  {
   "cell_type": "markdown",
   "metadata": {},
   "source": [
    "## Save as backup "
   ]
  },
  {
   "cell_type": "code",
   "execution_count": 39,
   "metadata": {
    "execution": {
     "iopub.execute_input": "2020-09-01T07:38:30.973784Z",
     "iopub.status.busy": "2020-09-01T07:38:30.973400Z",
     "iopub.status.idle": "2020-09-01T07:38:32.341277Z",
     "shell.execute_reply": "2020-09-01T07:38:32.340111Z",
     "shell.execute_reply.started": "2020-09-01T07:38:30.973732Z"
    }
   },
   "outputs": [
    {
     "name": "stderr",
     "output_type": "stream",
     "text": [
      "2020-09-01 08:38:30.976 | INFO     | __main__:<module>:1 - Saving raw OWID dataset @ ../data/raw_owid_dataset.csv\n"
     ]
    }
   ],
   "source": [
    "logger.info('Saving raw OWID dataset @ %s' % '../data/raw_owid_dataset.csv')\n",
    "\n",
    "owid.to_csv('../data/raw_owid_dataset.csv', index=False)"
   ]
  },
  {
   "cell_type": "code",
   "execution_count": 40,
   "metadata": {
    "execution": {
     "iopub.execute_input": "2020-09-01T07:38:32.343469Z",
     "iopub.status.busy": "2020-09-01T07:38:32.343182Z",
     "iopub.status.idle": "2020-09-01T07:38:32.369785Z",
     "shell.execute_reply": "2020-09-01T07:38:32.369299Z",
     "shell.execute_reply.started": "2020-09-01T07:38:32.343435Z"
    }
   },
   "outputs": [
    {
     "data": {
      "text/html": [
       "<div>\n",
       "<style scoped>\n",
       "    .dataframe tbody tr th:only-of-type {\n",
       "        vertical-align: middle;\n",
       "    }\n",
       "\n",
       "    .dataframe tbody tr th {\n",
       "        vertical-align: top;\n",
       "    }\n",
       "\n",
       "    .dataframe thead th {\n",
       "        text-align: right;\n",
       "    }\n",
       "</style>\n",
       "<table border=\"1\" class=\"dataframe\">\n",
       "  <thead>\n",
       "    <tr style=\"text-align: right;\">\n",
       "      <th></th>\n",
       "      <th>country_code</th>\n",
       "      <th>continent</th>\n",
       "      <th>country</th>\n",
       "      <th>date</th>\n",
       "      <th>total_cases</th>\n",
       "      <th>new_cases</th>\n",
       "      <th>new_cases_smoothed</th>\n",
       "      <th>total_deaths</th>\n",
       "      <th>new_deaths</th>\n",
       "      <th>new_deaths_smoothed</th>\n",
       "      <th>...</th>\n",
       "      <th>extreme_poverty</th>\n",
       "      <th>cardiovasc_death_rate</th>\n",
       "      <th>diabetes_prevalence</th>\n",
       "      <th>female_smokers</th>\n",
       "      <th>male_smokers</th>\n",
       "      <th>handwashing_facilities</th>\n",
       "      <th>hospital_beds_per_thousand</th>\n",
       "      <th>life_expectancy</th>\n",
       "      <th>country_id</th>\n",
       "      <th>region</th>\n",
       "    </tr>\n",
       "  </thead>\n",
       "  <tbody>\n",
       "    <tr>\n",
       "      <th>0</th>\n",
       "      <td>ABW</td>\n",
       "      <td>North America</td>\n",
       "      <td>Aruba</td>\n",
       "      <td>2020-03-13</td>\n",
       "      <td>2.0</td>\n",
       "      <td>2.0</td>\n",
       "      <td>NaN</td>\n",
       "      <td>0.0</td>\n",
       "      <td>0.0</td>\n",
       "      <td>NaN</td>\n",
       "      <td>...</td>\n",
       "      <td>NaN</td>\n",
       "      <td>NaN</td>\n",
       "      <td>11.62</td>\n",
       "      <td>NaN</td>\n",
       "      <td>NaN</td>\n",
       "      <td>NaN</td>\n",
       "      <td>NaN</td>\n",
       "      <td>76.29</td>\n",
       "      <td>AW</td>\n",
       "      <td>carribean</td>\n",
       "    </tr>\n",
       "    <tr>\n",
       "      <th>1</th>\n",
       "      <td>ABW</td>\n",
       "      <td>North America</td>\n",
       "      <td>Aruba</td>\n",
       "      <td>2020-03-19</td>\n",
       "      <td>NaN</td>\n",
       "      <td>NaN</td>\n",
       "      <td>0.286</td>\n",
       "      <td>NaN</td>\n",
       "      <td>NaN</td>\n",
       "      <td>0.0</td>\n",
       "      <td>...</td>\n",
       "      <td>NaN</td>\n",
       "      <td>NaN</td>\n",
       "      <td>11.62</td>\n",
       "      <td>NaN</td>\n",
       "      <td>NaN</td>\n",
       "      <td>NaN</td>\n",
       "      <td>NaN</td>\n",
       "      <td>76.29</td>\n",
       "      <td>AW</td>\n",
       "      <td>carribean</td>\n",
       "    </tr>\n",
       "    <tr>\n",
       "      <th>2</th>\n",
       "      <td>ABW</td>\n",
       "      <td>North America</td>\n",
       "      <td>Aruba</td>\n",
       "      <td>2020-03-20</td>\n",
       "      <td>4.0</td>\n",
       "      <td>2.0</td>\n",
       "      <td>0.286</td>\n",
       "      <td>0.0</td>\n",
       "      <td>0.0</td>\n",
       "      <td>0.0</td>\n",
       "      <td>...</td>\n",
       "      <td>NaN</td>\n",
       "      <td>NaN</td>\n",
       "      <td>11.62</td>\n",
       "      <td>NaN</td>\n",
       "      <td>NaN</td>\n",
       "      <td>NaN</td>\n",
       "      <td>NaN</td>\n",
       "      <td>76.29</td>\n",
       "      <td>AW</td>\n",
       "      <td>carribean</td>\n",
       "    </tr>\n",
       "    <tr>\n",
       "      <th>3</th>\n",
       "      <td>ABW</td>\n",
       "      <td>North America</td>\n",
       "      <td>Aruba</td>\n",
       "      <td>2020-03-21</td>\n",
       "      <td>NaN</td>\n",
       "      <td>NaN</td>\n",
       "      <td>0.286</td>\n",
       "      <td>NaN</td>\n",
       "      <td>NaN</td>\n",
       "      <td>0.0</td>\n",
       "      <td>...</td>\n",
       "      <td>NaN</td>\n",
       "      <td>NaN</td>\n",
       "      <td>11.62</td>\n",
       "      <td>NaN</td>\n",
       "      <td>NaN</td>\n",
       "      <td>NaN</td>\n",
       "      <td>NaN</td>\n",
       "      <td>76.29</td>\n",
       "      <td>AW</td>\n",
       "      <td>carribean</td>\n",
       "    </tr>\n",
       "    <tr>\n",
       "      <th>4</th>\n",
       "      <td>ABW</td>\n",
       "      <td>North America</td>\n",
       "      <td>Aruba</td>\n",
       "      <td>2020-03-22</td>\n",
       "      <td>NaN</td>\n",
       "      <td>NaN</td>\n",
       "      <td>0.286</td>\n",
       "      <td>NaN</td>\n",
       "      <td>NaN</td>\n",
       "      <td>0.0</td>\n",
       "      <td>...</td>\n",
       "      <td>NaN</td>\n",
       "      <td>NaN</td>\n",
       "      <td>11.62</td>\n",
       "      <td>NaN</td>\n",
       "      <td>NaN</td>\n",
       "      <td>NaN</td>\n",
       "      <td>NaN</td>\n",
       "      <td>76.29</td>\n",
       "      <td>AW</td>\n",
       "      <td>carribean</td>\n",
       "    </tr>\n",
       "  </tbody>\n",
       "</table>\n",
       "<p>5 rows × 42 columns</p>\n",
       "</div>"
      ],
      "text/plain": [
       "  country_code      continent country       date  total_cases  new_cases  \\\n",
       "0          ABW  North America   Aruba 2020-03-13          2.0        2.0   \n",
       "1          ABW  North America   Aruba 2020-03-19          NaN        NaN   \n",
       "2          ABW  North America   Aruba 2020-03-20          4.0        2.0   \n",
       "3          ABW  North America   Aruba 2020-03-21          NaN        NaN   \n",
       "4          ABW  North America   Aruba 2020-03-22          NaN        NaN   \n",
       "\n",
       "   new_cases_smoothed  total_deaths  new_deaths  new_deaths_smoothed  ...  \\\n",
       "0                 NaN           0.0         0.0                  NaN  ...   \n",
       "1               0.286           NaN         NaN                  0.0  ...   \n",
       "2               0.286           0.0         0.0                  0.0  ...   \n",
       "3               0.286           NaN         NaN                  0.0  ...   \n",
       "4               0.286           NaN         NaN                  0.0  ...   \n",
       "\n",
       "   extreme_poverty  cardiovasc_death_rate  diabetes_prevalence  \\\n",
       "0              NaN                    NaN                11.62   \n",
       "1              NaN                    NaN                11.62   \n",
       "2              NaN                    NaN                11.62   \n",
       "3              NaN                    NaN                11.62   \n",
       "4              NaN                    NaN                11.62   \n",
       "\n",
       "   female_smokers  male_smokers  handwashing_facilities  \\\n",
       "0             NaN           NaN                     NaN   \n",
       "1             NaN           NaN                     NaN   \n",
       "2             NaN           NaN                     NaN   \n",
       "3             NaN           NaN                     NaN   \n",
       "4             NaN           NaN                     NaN   \n",
       "\n",
       "   hospital_beds_per_thousand  life_expectancy  country_id     region  \n",
       "0                         NaN            76.29          AW  carribean  \n",
       "1                         NaN            76.29          AW  carribean  \n",
       "2                         NaN            76.29          AW  carribean  \n",
       "3                         NaN            76.29          AW  carribean  \n",
       "4                         NaN            76.29          AW  carribean  \n",
       "\n",
       "[5 rows x 42 columns]"
      ]
     },
     "execution_count": 40,
     "metadata": {},
     "output_type": "execute_result"
    }
   ],
   "source": [
    "owid.head()"
   ]
  },
  {
   "cell_type": "markdown",
   "metadata": {},
   "source": [
    "# The Google Mobility Dataset"
   ]
  },
  {
   "cell_type": "code",
   "execution_count": 41,
   "metadata": {
    "execution": {
     "iopub.execute_input": "2020-09-01T07:38:32.371328Z",
     "iopub.status.busy": "2020-09-01T07:38:32.371114Z",
     "iopub.status.idle": "2020-09-01T07:38:36.991888Z",
     "shell.execute_reply": "2020-09-01T07:38:36.991119Z",
     "shell.execute_reply.started": "2020-09-01T07:38:32.371304Z"
    }
   },
   "outputs": [
    {
     "name": "stderr",
     "output_type": "stream",
     "text": [
      "2020-09-01 08:38:32.450 | INFO     | __main__:<module>:1 - Loading Google Mobility dataset @ https://www.gstatic.com/covid19/mobility/Global_Mobility_Report.csv\n"
     ]
    },
    {
     "data": {
      "text/plain": [
       "((2148055, 14), Timestamp('2020-08-28 00:00:00'))"
      ]
     },
     "execution_count": 41,
     "metadata": {},
     "output_type": "execute_result"
    }
   ],
   "source": [
    "logger.info('Loading Google Mobility dataset @ %s' % google_raw_dataset)\n",
    "\n",
    "google = pd.read_csv(google_raw_dataset, parse_dates=['date'], low_memory=False)\n",
    "\n",
    "google.shape, google.date.max()"
   ]
  },
  {
   "cell_type": "markdown",
   "metadata": {},
   "source": [
    "## Save raw data as backup"
   ]
  },
  {
   "cell_type": "code",
   "execution_count": 42,
   "metadata": {
    "execution": {
     "iopub.execute_input": "2020-09-01T07:38:36.993536Z",
     "iopub.status.busy": "2020-09-01T07:38:36.993347Z",
     "iopub.status.idle": "2020-09-01T07:38:58.763800Z",
     "shell.execute_reply": "2020-09-01T07:38:58.763083Z",
     "shell.execute_reply.started": "2020-09-01T07:38:36.993511Z"
    }
   },
   "outputs": [
    {
     "name": "stderr",
     "output_type": "stream",
     "text": [
      "2020-09-01 08:38:36.994 | INFO     | __main__:<module>:1 - Saving Google Mobility dataset @ ../data/raw_google_dataset.csv\n"
     ]
    },
    {
     "data": {
      "text/plain": [
       "(2148055, 14)"
      ]
     },
     "execution_count": 42,
     "metadata": {},
     "output_type": "execute_result"
    }
   ],
   "source": [
    "logger.info('Saving Google Mobility dataset @ %s' % '../data/raw_google_dataset.csv')\n",
    "\n",
    "google.to_csv('../data/raw_google_dataset.csv', index=False)\n",
    "google.shape"
   ]
  },
  {
   "cell_type": "code",
   "execution_count": 43,
   "metadata": {
    "execution": {
     "iopub.execute_input": "2020-09-01T07:38:58.765154Z",
     "iopub.status.busy": "2020-09-01T07:38:58.764949Z",
     "iopub.status.idle": "2020-09-01T07:38:59.126536Z",
     "shell.execute_reply": "2020-09-01T07:38:59.125920Z",
     "shell.execute_reply.started": "2020-09-01T07:38:58.765127Z"
    }
   },
   "outputs": [
    {
     "data": {
      "text/plain": [
       "<matplotlib.axes._subplots.AxesSubplot at 0x7fb7c9839b90>"
      ]
     },
     "execution_count": 43,
     "metadata": {},
     "output_type": "execute_result"
    },
    {
     "data": {
      "image/png": "[encoded data removed]",
      "text/plain": [
       "<Figure size 432x288 with 1 Axes>"
      ]
     },
     "metadata": {
      "needs_background": "light"
     },
     "output_type": "display_data"
    }
   ],
   "source": [
    "google[(google['country_region_code']=='IE') & (google['sub_region_1'].isnull())].filter(like='from_baseline').rolling(7).mean().plot()"
   ]
  },
  {
   "cell_type": "markdown",
   "metadata": {},
   "source": [
    "## Country level mobility"
   ]
  },
  {
   "cell_type": "code",
   "execution_count": 44,
   "metadata": {
    "execution": {
     "iopub.execute_input": "2020-09-01T07:38:59.128125Z",
     "iopub.status.busy": "2020-09-01T07:38:59.127950Z",
     "iopub.status.idle": "2020-09-01T07:38:59.705911Z",
     "shell.execute_reply": "2020-09-01T07:38:59.705255Z",
     "shell.execute_reply.started": "2020-09-01T07:38:59.128101Z"
    }
   },
   "outputs": [
    {
     "data": {
      "text/plain": [
       "((26129, 5),\n",
       " 134,\n",
       " array(['United Arab Emirates', 'Afghanistan', 'Antigua and Barbuda',\n",
       "        'Angola', 'Argentina', 'Austria', 'Australia', 'Aruba',\n",
       "        'Bosnia and Herzegovina', 'Barbados', 'Bangladesh', 'Belgium',\n",
       "        'Burkina Faso', 'Bulgaria', 'Bahrain', 'Benin', 'Bolivia',\n",
       "        'Brazil', 'The Bahamas', 'Botswana', 'Belarus', 'Belize', 'Canada',\n",
       "        'Switzerland', \"Côte d'Ivoire\", 'Chile', 'Cameroon', 'Colombia',\n",
       "        'Costa Rica', 'Cape Verde', 'Czechia', 'Germany', 'Denmark',\n",
       "        'Dominican Republic', 'Ecuador', 'Estonia', 'Egypt', 'Spain',\n",
       "        'Finland', 'Fiji', 'France', 'Gabon', 'United Kingdom', 'Georgia',\n",
       "        'Ghana', 'Greece', 'Guatemala', 'Guinea-Bissau', 'Hong Kong',\n",
       "        'Honduras', 'Croatia', 'Haiti', 'Hungary', 'Indonesia', 'Ireland',\n",
       "        'Israel', 'India', 'Iraq', 'Italy', 'Jamaica', 'Jordan', 'Japan',\n",
       "        'Kenya', 'Kyrgyzstan', 'Cambodia', 'South Korea', 'Kuwait',\n",
       "        'Kazakhstan', 'Laos', 'Lebanon', 'Liechtenstein', 'Sri Lanka',\n",
       "        'Lithuania', 'Luxembourg', 'Latvia', 'Libya', 'Morocco', 'Moldova',\n",
       "        'North Macedonia', 'Mali', 'Myanmar (Burma)', 'Mongolia', 'Malta',\n",
       "        'Mauritius', 'Mexico', 'Malaysia', 'Mozambique', 'Niger',\n",
       "        'Nigeria', 'Nicaragua', 'Netherlands', 'Norway', 'Nepal',\n",
       "        'New Zealand', 'Oman', 'Panama', 'Peru', 'Papua New Guinea',\n",
       "        'Philippines', 'Pakistan', 'Poland', 'Puerto Rico', 'Portugal',\n",
       "        'Paraguay', 'Qatar', 'Réunion', 'Romania', 'Serbia', 'Russia',\n",
       "        'Rwanda', 'Saudi Arabia', 'Sweden', 'Singapore', 'Slovenia',\n",
       "        'Slovakia', 'Senegal', 'El Salvador', 'Togo', 'Thailand',\n",
       "        'Tajikistan', 'Turkey', 'Trinidad and Tobago', 'Taiwan',\n",
       "        'Tanzania', 'Ukraine', 'Uganda', 'United States', 'Uruguay',\n",
       "        'Venezuela', 'Vietnam', 'Yemen', 'South Africa', 'Zambia',\n",
       "        'Zimbabwe'], dtype=object))"
      ]
     },
     "execution_count": 44,
     "metadata": {},
     "output_type": "execute_result"
    }
   ],
   "source": [
    "# Extract the mobility levels for each top-level country\n",
    "def gen_for_country(df):\n",
    "    \n",
    "    w = 7\n",
    "    \n",
    "    # The columns to use for calculating the mobility drop\n",
    "    use_cols = ['mobility_retail', 'mobility_transit', 'mobility_work']\n",
    "    \n",
    "    # Find all the null regions for each country\n",
    "    countries = df[(df['sub_region_1'].isnull()) & (df['sub_region_2'].isnull()) &(df['metro_area'].isnull())].copy()\n",
    "    \n",
    "    # Relabel the cols for convenience\n",
    "    countries.columns = ['country_id', 'country', 'sub_region_1', 'sub_region_2', 'metro_area', 'iso_3166_2_code', 'census_fips_code', 'date', 'mobility_retail', 'mobility_grocery', 'mobility_parks', 'mobility_transit', 'mobility_work', 'mobility_home']\n",
    "    \n",
    "    # Add rolling cols\n",
    "    for mobility_col in countries.filter(like='mobility_').columns:\n",
    "        countries['rolling_'+mobility_col] = countries.groupby(\n",
    "            'country')[mobility_col].apply(\n",
    "                lambda s: s.rolling(w).mean())\n",
    "        \n",
    "    # Calculate the mobility drop\n",
    "    countries['google_mobility_drop'] = countries[use_cols].mean(axis=1)\n",
    "    \n",
    "    return countries[['country_id', 'country', 'date', 'google_mobility_drop']]\n",
    "\n",
    "google_countries = gen_for_country(google).dropna(subset=['country_id'])\n",
    "\n",
    "# Convert mobility drop to mobility level\n",
    "google_countries['google_mobility_level'] = 100+google_countries['google_mobility_drop']\n",
    "\n",
    "google_countries.shape, google_countries.country.nunique(), google_countries.country.unique()"
   ]
  },
  {
   "cell_type": "markdown",
   "metadata": {},
   "source": [
    "# Combine into Minimal Form"
   ]
  },
  {
   "cell_type": "code",
   "execution_count": 27,
   "metadata": {
    "execution": {
     "iopub.execute_input": "2020-08-24T10:36:53.908325Z",
     "iopub.status.busy": "2020-08-24T10:36:53.908145Z",
     "iopub.status.idle": "2020-08-24T10:36:54.131147Z",
     "shell.execute_reply": "2020-08-24T10:36:54.130644Z",
     "shell.execute_reply.started": "2020-08-24T10:36:53.908302Z"
    }
   },
   "outputs": [
    {
     "data": {
      "text/plain": [
       "(38470, 10)"
      ]
     },
     "execution_count": 27,
     "metadata": {},
     "output_type": "execute_result"
    }
   ],
   "source": [
    "owid_cols = ['country', 'country_code', 'continent', 'region', 'new_cases', 'new_deaths', 'population']\n",
    "google_cols = ['google_mobility_level']\n",
    "\n",
    "df = owid.set_index(['country_id', 'date'])[owid_cols].join(\n",
    "    google_countries.set_index(['country_id', 'date'])[google_cols]).reset_index()\n",
    "\n",
    "df.shape"
   ]
  },
  {
   "cell_type": "markdown",
   "metadata": {},
   "source": [
    "## Drop Negative Counts\n",
    "It looks like occasionally there are negative cases/deaths in the raw OWID data. Owid seems to drop these dates from its charts so we do the same here."
   ]
  },
  {
   "cell_type": "code",
   "execution_count": 28,
   "metadata": {
    "execution": {
     "iopub.execute_input": "2020-08-24T10:36:54.132406Z",
     "iopub.status.busy": "2020-08-24T10:36:54.132160Z",
     "iopub.status.idle": "2020-08-24T10:36:54.143006Z",
     "shell.execute_reply": "2020-08-24T10:36:54.142526Z",
     "shell.execute_reply.started": "2020-08-24T10:36:54.132365Z"
    }
   },
   "outputs": [
    {
     "data": {
      "text/plain": [
       "(38452, 10)"
      ]
     },
     "execution_count": 28,
     "metadata": {},
     "output_type": "execute_result"
    }
   ],
   "source": [
    "# df['new_cases'] = df['new_cases'].clip(0)\n",
    "# df['new_deaths'] = df['new_deaths'].clip(0)\n",
    "\n",
    "is_neg = (df['new_cases']<0) | (df['new_deaths']<0)\n",
    "\n",
    "df = df[~is_neg]\n",
    "df.shape"
   ]
  },
  {
   "cell_type": "markdown",
   "metadata": {},
   "source": [
    "# Aggregations\n",
    "We can aggregate across continents and regions but need to be careful about how we combine cols by focusing on this columns that can be added across groupings.\n",
    "\n"
   ]
  },
  {
   "cell_type": "markdown",
   "metadata": {},
   "source": [
    "## Adjust mobility level so that it is safe to aggregate"
   ]
  },
  {
   "cell_type": "code",
   "execution_count": 29,
   "metadata": {
    "execution": {
     "iopub.execute_input": "2020-08-24T10:36:54.144198Z",
     "iopub.status.busy": "2020-08-24T10:36:54.143957Z",
     "iopub.status.idle": "2020-08-24T10:36:54.215316Z",
     "shell.execute_reply": "2020-08-24T10:36:54.214434Z",
     "shell.execute_reply.started": "2020-08-24T10:36:54.144176Z"
    }
   },
   "outputs": [],
   "source": [
    "# Add a population adjusted mobility level\n",
    "df['google_mobility_level_by_pop'] = df['google_mobility_level']*df['population']"
   ]
  },
  {
   "cell_type": "markdown",
   "metadata": {},
   "source": [
    "## Aggregations by Continent and Region"
   ]
  },
  {
   "cell_type": "code",
   "execution_count": 30,
   "metadata": {
    "execution": {
     "iopub.execute_input": "2020-08-24T10:36:54.217096Z",
     "iopub.status.busy": "2020-08-24T10:36:54.216795Z",
     "iopub.status.idle": "2020-08-24T10:36:54.305719Z",
     "shell.execute_reply": "2020-08-24T10:36:54.304857Z",
     "shell.execute_reply.started": "2020-08-24T10:36:54.217057Z"
    }
   },
   "outputs": [],
   "source": [
    "def agg_by(df, groupby_cols, aggregation):\n",
    "    \n",
    "    agg_cols = ['new_cases', 'new_deaths', 'population']\n",
    "\n",
    "    agg = df.groupby(groupby_cols)[agg_cols].sum().reset_index()\n",
    "\n",
    "    # Aggregate mobility separately to account for population and missing values\n",
    "    agg_mobility = df[df['google_mobility_level'].notnull()].groupby(\n",
    "        'date')[['google_mobility_level_by_pop', 'population']].sum().reset_index()\n",
    "\n",
    "    agg_mobility['google_mobility_level'] = agg_mobility['google_mobility_level_by_pop']/agg_mobility['population']\n",
    "\n",
    "    # Add to the us aggregation\n",
    "    agg = agg.set_index('date').join(\n",
    "        agg_mobility.set_index('date')['google_mobility_level']).reset_index()\n",
    "\n",
    "    return agg"
   ]
  },
  {
   "cell_type": "code",
   "execution_count": 31,
   "metadata": {
    "execution": {
     "iopub.execute_input": "2020-08-24T10:36:54.308342Z",
     "iopub.status.busy": "2020-08-24T10:36:54.308155Z",
     "iopub.status.idle": "2020-08-24T10:36:54.493223Z",
     "shell.execute_reply": "2020-08-24T10:36:54.492188Z",
     "shell.execute_reply.started": "2020-08-24T10:36:54.308317Z"
    }
   },
   "outputs": [
    {
     "data": {
      "text/plain": [
       "(44697, 12)"
      ]
     },
     "execution_count": 31,
     "metadata": {},
     "output_type": "execute_result"
    }
   ],
   "source": [
    "by_continent = agg_by(df, ['continent', 'date'], 'continent')\n",
    "by_continent['aggregation'] = by_continent['continent']\n",
    "\n",
    "by_region = agg_by(df, ['region', 'date'], 'region')\n",
    "by_region['aggregation'] = by_region['region']\n",
    "\n",
    "by_world = agg_by(df, 'date', 'world')\n",
    "by_world['aggregation'] = 'world'\n",
    "\n",
    "df['aggregation'] = df['country']\n",
    "\n",
    "df_with_aggs = pd.concat([df, by_continent, by_region, by_world], sort=False, ignore_index=True)\n",
    "df_with_aggs.shape"
   ]
  },
  {
   "cell_type": "markdown",
   "metadata": {},
   "source": [
    "## Rolling Means"
   ]
  },
  {
   "cell_type": "code",
   "execution_count": 32,
   "metadata": {
    "execution": {
     "iopub.execute_input": "2020-08-24T10:36:54.494535Z",
     "iopub.status.busy": "2020-08-24T10:36:54.494357Z",
     "iopub.status.idle": "2020-08-24T10:36:54.533862Z",
     "shell.execute_reply": "2020-08-24T10:36:54.533190Z",
     "shell.execute_reply.started": "2020-08-24T10:36:54.494511Z"
    }
   },
   "outputs": [
    {
     "data": {
      "text/html": [
       "<div>\n",
       "<style scoped>\n",
       "    .dataframe tbody tr th:only-of-type {\n",
       "        vertical-align: middle;\n",
       "    }\n",
       "\n",
       "    .dataframe tbody tr th {\n",
       "        vertical-align: top;\n",
       "    }\n",
       "\n",
       "    .dataframe thead th {\n",
       "        text-align: right;\n",
       "    }\n",
       "</style>\n",
       "<table border=\"1\" class=\"dataframe\">\n",
       "  <thead>\n",
       "    <tr style=\"text-align: right;\">\n",
       "      <th></th>\n",
       "      <th>country_id</th>\n",
       "      <th>date</th>\n",
       "      <th>country</th>\n",
       "      <th>country_code</th>\n",
       "      <th>continent</th>\n",
       "      <th>region</th>\n",
       "      <th>new_cases</th>\n",
       "      <th>new_deaths</th>\n",
       "      <th>population</th>\n",
       "      <th>google_mobility_level</th>\n",
       "      <th>google_mobility_level_by_pop</th>\n",
       "      <th>aggregation</th>\n",
       "    </tr>\n",
       "  </thead>\n",
       "  <tbody>\n",
       "    <tr>\n",
       "      <th>39883</th>\n",
       "      <td>NaN</td>\n",
       "      <td>2019-12-31</td>\n",
       "      <td>NaN</td>\n",
       "      <td>NaN</td>\n",
       "      <td>NaN</td>\n",
       "      <td>east_asia</td>\n",
       "      <td>27.0</td>\n",
       "      <td>0.0</td>\n",
       "      <td>1.640886e+09</td>\n",
       "      <td>NaN</td>\n",
       "      <td>NaN</td>\n",
       "      <td>east_asia</td>\n",
       "    </tr>\n",
       "    <tr>\n",
       "      <th>9938</th>\n",
       "      <td>DO</td>\n",
       "      <td>2019-12-31</td>\n",
       "      <td>Dominican Republic</td>\n",
       "      <td>DOM</td>\n",
       "      <td>North America</td>\n",
       "      <td>carribean</td>\n",
       "      <td>0.0</td>\n",
       "      <td>0.0</td>\n",
       "      <td>1.084790e+07</td>\n",
       "      <td>NaN</td>\n",
       "      <td>NaN</td>\n",
       "      <td>Dominican Republic</td>\n",
       "    </tr>\n",
       "    <tr>\n",
       "      <th>17529</th>\n",
       "      <td>IS</td>\n",
       "      <td>2019-12-31</td>\n",
       "      <td>Iceland</td>\n",
       "      <td>ISL</td>\n",
       "      <td>Europe</td>\n",
       "      <td>non-eu</td>\n",
       "      <td>0.0</td>\n",
       "      <td>0.0</td>\n",
       "      <td>3.412500e+05</td>\n",
       "      <td>NaN</td>\n",
       "      <td>NaN</td>\n",
       "      <td>Iceland</td>\n",
       "    </tr>\n",
       "    <tr>\n",
       "      <th>38457</th>\n",
       "      <td>NaN</td>\n",
       "      <td>2019-12-31</td>\n",
       "      <td>NaN</td>\n",
       "      <td>NaN</td>\n",
       "      <td>South America</td>\n",
       "      <td>NaN</td>\n",
       "      <td>0.0</td>\n",
       "      <td>0.0</td>\n",
       "      <td>2.302025e+08</td>\n",
       "      <td>NaN</td>\n",
       "      <td>NaN</td>\n",
       "      <td>South America</td>\n",
       "    </tr>\n",
       "    <tr>\n",
       "      <th>38456</th>\n",
       "      <td>NaN</td>\n",
       "      <td>2019-12-31</td>\n",
       "      <td>NaN</td>\n",
       "      <td>NaN</td>\n",
       "      <td>Oceania</td>\n",
       "      <td>NaN</td>\n",
       "      <td>0.0</td>\n",
       "      <td>0.0</td>\n",
       "      <td>3.032211e+07</td>\n",
       "      <td>NaN</td>\n",
       "      <td>NaN</td>\n",
       "      <td>Oceania</td>\n",
       "    </tr>\n",
       "  </tbody>\n",
       "</table>\n",
       "</div>"
      ],
      "text/plain": [
       "      country_id       date             country country_code      continent  \\\n",
       "39883        NaN 2019-12-31                 NaN          NaN            NaN   \n",
       "9938          DO 2019-12-31  Dominican Republic          DOM  North America   \n",
       "17529         IS 2019-12-31             Iceland          ISL         Europe   \n",
       "38457        NaN 2019-12-31                 NaN          NaN  South America   \n",
       "38456        NaN 2019-12-31                 NaN          NaN        Oceania   \n",
       "\n",
       "          region  new_cases  new_deaths    population  google_mobility_level  \\\n",
       "39883  east_asia       27.0         0.0  1.640886e+09                    NaN   \n",
       "9938   carribean        0.0         0.0  1.084790e+07                    NaN   \n",
       "17529     non-eu        0.0         0.0  3.412500e+05                    NaN   \n",
       "38457        NaN        0.0         0.0  2.302025e+08                    NaN   \n",
       "38456        NaN        0.0         0.0  3.032211e+07                    NaN   \n",
       "\n",
       "       google_mobility_level_by_pop         aggregation  \n",
       "39883                           NaN           east_asia  \n",
       "9938                            NaN  Dominican Republic  \n",
       "17529                           NaN             Iceland  \n",
       "38457                           NaN       South America  \n",
       "38456                           NaN             Oceania  "
      ]
     },
     "execution_count": 32,
     "metadata": {},
     "output_type": "execute_result"
    }
   ],
   "source": [
    "df_with_aggs = df_with_aggs.sort_values(by='date')\n",
    "df_with_aggs.head()"
   ]
  },
  {
   "cell_type": "code",
   "execution_count": 33,
   "metadata": {
    "execution": {
     "iopub.execute_input": "2020-08-24T10:36:54.535369Z",
     "iopub.status.busy": "2020-08-24T10:36:54.535074Z",
     "iopub.status.idle": "2020-08-24T10:36:55.070653Z",
     "shell.execute_reply": "2020-08-24T10:36:55.069935Z",
     "shell.execute_reply.started": "2020-08-24T10:36:54.535329Z"
    }
   },
   "outputs": [
    {
     "data": {
      "text/plain": [
       "(44697, 15)"
      ]
     },
     "execution_count": 33,
     "metadata": {},
     "output_type": "execute_result"
    }
   ],
   "source": [
    "rolling_cols = ['new_cases', 'new_deaths', 'google_mobility_level']\n",
    "\n",
    "rolling_means = df_with_aggs.groupby('aggregation').apply(\n",
    "    lambda g: g[rolling_cols].rolling(7).mean()\n",
    ").add_suffix('_rolling_mean')\n",
    "\n",
    "df_with_aggs = pd.concat([df_with_aggs, rolling_means], axis=1)\n",
    "\n",
    "df_with_aggs.shape"
   ]
  },
  {
   "cell_type": "code",
   "execution_count": 34,
   "metadata": {
    "execution": {
     "iopub.execute_input": "2020-08-24T10:36:55.071750Z",
     "iopub.status.busy": "2020-08-24T10:36:55.071534Z",
     "iopub.status.idle": "2020-08-24T10:36:55.229608Z",
     "shell.execute_reply": "2020-08-24T10:36:55.228821Z",
     "shell.execute_reply.started": "2020-08-24T10:36:55.071727Z"
    }
   },
   "outputs": [
    {
     "data": {
      "text/plain": [
       "<matplotlib.axes._subplots.AxesSubplot at 0x7f853891f450>"
      ]
     },
     "execution_count": 34,
     "metadata": {},
     "output_type": "execute_result"
    },
    {
     "data": {
      "image/png": "[encoded data removed]",
      "text/plain": [
       "<Figure size 432x288 with 1 Axes>"
      ]
     },
     "metadata": {
      "needs_background": "light"
     },
     "output_type": "display_data"
    }
   ],
   "source": [
    "uk = df_with_aggs[df_with_aggs['country']=='United Kingdom']\n",
    "\n",
    "uk['new_cases_rolling_mean'].plot()"
   ]
  },
  {
   "cell_type": "markdown",
   "metadata": {},
   "source": [
    "## Relative Values"
   ]
  },
  {
   "cell_type": "code",
   "execution_count": 35,
   "metadata": {
    "execution": {
     "iopub.execute_input": "2020-08-24T10:36:55.231214Z",
     "iopub.status.busy": "2020-08-24T10:36:55.230950Z",
     "iopub.status.idle": "2020-08-24T10:36:56.044723Z",
     "shell.execute_reply": "2020-08-24T10:36:56.044102Z",
     "shell.execute_reply.started": "2020-08-24T10:36:55.231177Z"
    }
   },
   "outputs": [
    {
     "data": {
      "text/plain": [
       "(44697, 18)"
      ]
     },
     "execution_count": 35,
     "metadata": {},
     "output_type": "execute_result"
    }
   ],
   "source": [
    "rel_cols = ['new_cases_rolling_mean', 'new_deaths_rolling_mean', 'google_mobility_level_rolling_mean']\n",
    "\n",
    "relative_values = df_with_aggs.groupby('aggregation').apply(\n",
    "    lambda g: g[rel_cols]/g[rel_cols].max()\n",
    ").add_suffix('_rel')\n",
    "    \n",
    "df_with_aggs = pd.concat([df_with_aggs, relative_values], axis=1)\n",
    "\n",
    "df_with_aggs.shape"
   ]
  },
  {
   "cell_type": "markdown",
   "metadata": {},
   "source": [
    "# Save Dataset"
   ]
  },
  {
   "cell_type": "code",
   "execution_count": 36,
   "metadata": {
    "execution": {
     "iopub.execute_input": "2020-08-24T10:36:56.046039Z",
     "iopub.status.busy": "2020-08-24T10:36:56.045862Z",
     "iopub.status.idle": "2020-08-24T10:36:56.134176Z",
     "shell.execute_reply": "2020-08-24T10:36:56.133577Z",
     "shell.execute_reply.started": "2020-08-24T10:36:56.046013Z"
    }
   },
   "outputs": [
    {
     "name": "stderr",
     "output_type": "stream",
     "text": [
      "2020-08-24 11:36:56.047 | INFO     | __main__:<module>:1 - Saving minimal OWID dataset with mobility data @ ../data/minimal_owid_covid.pkl\n"
     ]
    },
    {
     "data": {
      "text/plain": [
       "((44697, 18),\n",
       " '../data/minimal_owid_covid.pkl',\n",
       " Timestamp('2020-08-24 00:00:00'))"
      ]
     },
     "execution_count": 36,
     "metadata": {},
     "output_type": "execute_result"
    }
   ],
   "source": [
    "logger.info('Saving minimal OWID dataset with mobility data @ %s' % minimal_owid_covid_dataset)\n",
    "\n",
    "df_with_aggs.to_pickle(minimal_owid_covid_dataset)\n",
    "df_with_aggs.shape, minimal_owid_covid_dataset, df_with_aggs.date.max()"
   ]
  },
  {
   "cell_type": "code",
   "execution_count": null,
   "metadata": {},
   "outputs": [],
   "source": []
  },
  {
   "cell_type": "code",
   "execution_count": null,
   "metadata": {},
   "outputs": [],
   "source": []
  },
  {
   "cell_type": "code",
   "execution_count": null,
   "metadata": {},
   "outputs": [],
   "source": []
  }
 ],
 "metadata": {
  "kernelspec": {
   "display_name": "COVID-19",
   "language": "python",
   "name": "covid-19"
  },
  "language_info": {
   "codemirror_mode": {
    "name": "ipython",
    "version": 3
   },
   "file_extension": ".py",
   "mimetype": "text/x-python",
   "name": "python",
   "nbconvert_exporter": "python",
   "pygments_lexer": "ipython3",
   "version": "3.7.7"
  }
 },
 "nbformat": 4,
 "nbformat_minor": 4
}
