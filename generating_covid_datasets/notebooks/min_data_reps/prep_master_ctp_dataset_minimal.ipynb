{
 "cells": [
  {
   "cell_type": "markdown",
   "metadata": {},
   "source": [
    "# Minimal Covid Tracking Project Dataset"
   ]
  },
  {
   "cell_type": "code",
   "execution_count": 1,
   "metadata": {
    "execution": {
     "iopub.execute_input": "2020-08-18T11:39:16.216496Z",
     "iopub.status.busy": "2020-08-18T11:39:16.216231Z",
     "iopub.status.idle": "2020-08-18T11:39:16.949950Z",
     "shell.execute_reply": "2020-08-18T11:39:16.949182Z",
     "shell.execute_reply.started": "2020-08-18T11:39:16.216455Z"
    }
   },
   "outputs": [],
   "source": [
    "from datetime import date, datetime, timedelta\n",
    "\n",
    "\n",
    "import pandas as pd\n",
    "import numpy as np\n",
    "\n",
    "from loguru import logger\n",
    "import pycountry\n",
    "\n",
    "%matplotlib inline"
   ]
  },
  {
   "cell_type": "markdown",
   "metadata": {},
   "source": [
    "# Params "
   ]
  },
  {
   "cell_type": "code",
   "execution_count": 2,
   "metadata": {
    "execution": {
     "iopub.execute_input": "2020-08-18T11:39:16.951293Z",
     "iopub.status.busy": "2020-08-18T11:39:16.951081Z",
     "iopub.status.idle": "2020-08-18T11:39:16.954293Z",
     "shell.execute_reply": "2020-08-18T11:39:16.953718Z",
     "shell.execute_reply.started": "2020-08-18T11:39:16.951245Z"
    },
    "tags": [
     "parameters"
    ]
   },
   "outputs": [],
   "source": [
    "ctp_dataset = 'https://covidtracking.com/api/v1/states/daily.csv'\n",
    "google_raw_dataset = 'https://www.gstatic.com/covid19/mobility/Global_Mobility_Report.csv'\n",
    "\n",
    "minimal_ctp_dataset = '../data/minimal_ctp_covid.pkl'"
   ]
  },
  {
   "cell_type": "markdown",
   "metadata": {},
   "source": [
    "# The Covid Tracking Project Dataset"
   ]
  },
  {
   "cell_type": "markdown",
   "metadata": {},
   "source": [
    "## Prepare the CTP Dataset "
   ]
  },
  {
   "cell_type": "code",
   "execution_count": 3,
   "metadata": {
    "execution": {
     "iopub.execute_input": "2020-08-18T11:39:16.955698Z",
     "iopub.status.busy": "2020-08-18T11:39:16.955516Z",
     "iopub.status.idle": "2020-08-18T11:39:18.964747Z",
     "shell.execute_reply": "2020-08-18T11:39:18.963958Z",
     "shell.execute_reply.started": "2020-08-18T11:39:16.955674Z"
    }
   },
   "outputs": [
    {
     "name": "stderr",
     "output_type": "stream",
     "text": [
      "2020-08-18 12:39:17.144 | INFO     | __main__:<module>:1 - Loading CTP dataset @ https://covidtracking.com/api/v1/states/daily.csv\n"
     ]
    },
    {
     "data": {
      "text/plain": [
       "(9281, 53)"
      ]
     },
     "execution_count": 3,
     "metadata": {},
     "output_type": "execute_result"
    }
   ],
   "source": [
    "logger.info('Loading CTP dataset @ %s' % ctp_dataset)\n",
    "\n",
    "ctp = pd.read_csv(ctp_dataset, parse_dates=['date'], low_memory=False)\n",
    "ctp.shape"
   ]
  },
  {
   "cell_type": "code",
   "execution_count": 4,
   "metadata": {
    "execution": {
     "iopub.execute_input": "2020-08-18T11:39:18.965957Z",
     "iopub.status.busy": "2020-08-18T11:39:18.965802Z",
     "iopub.status.idle": "2020-08-18T11:39:18.980239Z",
     "shell.execute_reply": "2020-08-18T11:39:18.979707Z",
     "shell.execute_reply.started": "2020-08-18T11:39:18.965935Z"
    }
   },
   "outputs": [
    {
     "data": {
      "text/plain": [
       "(                 date  total_cases  total_deaths\n",
       " state_code                                      \n",
       " AK         2020-08-17       5110.0          28.0\n",
       " AL         2020-08-17     109004.0        1925.0\n",
       " AR         2020-08-17      53077.0         603.0\n",
       " AS         2020-08-17          0.0           0.0\n",
       " AZ         2020-08-17     194005.0        4506.0,\n",
       " Timestamp('2020-08-17 00:00:00'))"
      ]
     },
     "execution_count": 4,
     "metadata": {},
     "output_type": "execute_result"
    }
   ],
   "source": [
    "ctp = ctp.rename(columns={\n",
    "    'positive': 'total_cases',\n",
    "    'death': 'total_deaths',\n",
    "    'state': 'state_code',\n",
    "})[['date', 'total_cases', 'total_deaths', 'state_code']].set_index('state_code')\n",
    "\n",
    "ctp.head(), ctp.date.max()"
   ]
  },
  {
   "cell_type": "markdown",
   "metadata": {},
   "source": [
    "## Get State Populations and Codes"
   ]
  },
  {
   "cell_type": "code",
   "execution_count": 5,
   "metadata": {
    "execution": {
     "iopub.execute_input": "2020-08-18T11:39:18.981208Z",
     "iopub.status.busy": "2020-08-18T11:39:18.981038Z",
     "iopub.status.idle": "2020-08-18T11:39:19.389496Z",
     "shell.execute_reply": "2020-08-18T11:39:19.388679Z",
     "shell.execute_reply.started": "2020-08-18T11:39:18.981187Z"
    }
   },
   "outputs": [
    {
     "name": "stderr",
     "output_type": "stream",
     "text": [
      "2020-08-18 12:39:19.101 | INFO     | __main__:<module>:1 - Loading population data dataset @ https://www2.census.gov/programs-surveys/popest/datasets/2010-2019/state/detail/SCPRC-EST2019-18+POP-RES.csv\n"
     ]
    },
    {
     "data": {
      "text/html": [
       "<div>\n",
       "<style scoped>\n",
       "    .dataframe tbody tr th:only-of-type {\n",
       "        vertical-align: middle;\n",
       "    }\n",
       "\n",
       "    .dataframe tbody tr th {\n",
       "        vertical-align: top;\n",
       "    }\n",
       "\n",
       "    .dataframe thead th {\n",
       "        text-align: right;\n",
       "    }\n",
       "</style>\n",
       "<table border=\"1\" class=\"dataframe\">\n",
       "  <thead>\n",
       "    <tr style=\"text-align: right;\">\n",
       "      <th></th>\n",
       "      <th>population</th>\n",
       "    </tr>\n",
       "    <tr>\n",
       "      <th>state</th>\n",
       "      <th></th>\n",
       "    </tr>\n",
       "  </thead>\n",
       "  <tbody>\n",
       "    <tr>\n",
       "      <th>United States</th>\n",
       "      <td>328239523</td>\n",
       "    </tr>\n",
       "    <tr>\n",
       "      <th>Alabama</th>\n",
       "      <td>4903185</td>\n",
       "    </tr>\n",
       "    <tr>\n",
       "      <th>Alaska</th>\n",
       "      <td>731545</td>\n",
       "    </tr>\n",
       "    <tr>\n",
       "      <th>Arizona</th>\n",
       "      <td>7278717</td>\n",
       "    </tr>\n",
       "    <tr>\n",
       "      <th>Arkansas</th>\n",
       "      <td>3017804</td>\n",
       "    </tr>\n",
       "  </tbody>\n",
       "</table>\n",
       "</div>"
      ],
      "text/plain": [
       "               population\n",
       "state                    \n",
       "United States   328239523\n",
       "Alabama           4903185\n",
       "Alaska             731545\n",
       "Arizona           7278717\n",
       "Arkansas          3017804"
      ]
     },
     "execution_count": 5,
     "metadata": {},
     "output_type": "execute_result"
    }
   ],
   "source": [
    "logger.info('Loading population data dataset @ %s' % 'https://www2.census.gov/programs-surveys/popest/datasets/2010-2019/state/detail/SCPRC-EST2019-18+POP-RES.csv')\n",
    "\n",
    "pops = pd.read_csv('https://www2.census.gov/programs-surveys/popest/datasets/2010-2019/state/detail/SCPRC-EST2019-18+POP-RES.csv', low_memory=False)\n",
    "\n",
    "pops = pops.rename(columns={\n",
    "    'NAME': 'state',\n",
    "    'POPESTIMATE2019': 'population'\n",
    "})[['state', 'population']].set_index('state')\n",
    "\n",
    "pops.head()"
   ]
  },
  {
   "cell_type": "code",
   "execution_count": 6,
   "metadata": {
    "execution": {
     "iopub.execute_input": "2020-08-18T11:39:19.391122Z",
     "iopub.status.busy": "2020-08-18T11:39:19.390849Z",
     "iopub.status.idle": "2020-08-18T11:39:19.557473Z",
     "shell.execute_reply": "2020-08-18T11:39:19.556622Z",
     "shell.execute_reply.started": "2020-08-18T11:39:19.391082Z"
    }
   },
   "outputs": [
    {
     "name": "stderr",
     "output_type": "stream",
     "text": [
      "2020-08-18 12:39:19.394 | INFO     | __main__:<module>:1 - Loading country codes data dataset @ https://worldpopulationreview.com/states/state-abbreviations\n"
     ]
    },
    {
     "data": {
      "text/html": [
       "<div>\n",
       "<style scoped>\n",
       "    .dataframe tbody tr th:only-of-type {\n",
       "        vertical-align: middle;\n",
       "    }\n",
       "\n",
       "    .dataframe tbody tr th {\n",
       "        vertical-align: top;\n",
       "    }\n",
       "\n",
       "    .dataframe thead th {\n",
       "        text-align: right;\n",
       "    }\n",
       "</style>\n",
       "<table border=\"1\" class=\"dataframe\">\n",
       "  <thead>\n",
       "    <tr style=\"text-align: right;\">\n",
       "      <th></th>\n",
       "      <th>state_code</th>\n",
       "    </tr>\n",
       "    <tr>\n",
       "      <th>state</th>\n",
       "      <th></th>\n",
       "    </tr>\n",
       "  </thead>\n",
       "  <tbody>\n",
       "    <tr>\n",
       "      <th>Alabama</th>\n",
       "      <td>AL</td>\n",
       "    </tr>\n",
       "    <tr>\n",
       "      <th>Alaska</th>\n",
       "      <td>AK</td>\n",
       "    </tr>\n",
       "    <tr>\n",
       "      <th>Arizona</th>\n",
       "      <td>AZ</td>\n",
       "    </tr>\n",
       "    <tr>\n",
       "      <th>Arkansas</th>\n",
       "      <td>AR</td>\n",
       "    </tr>\n",
       "    <tr>\n",
       "      <th>California</th>\n",
       "      <td>CA</td>\n",
       "    </tr>\n",
       "  </tbody>\n",
       "</table>\n",
       "</div>"
      ],
      "text/plain": [
       "           state_code\n",
       "state                \n",
       "Alabama            AL\n",
       "Alaska             AK\n",
       "Arizona            AZ\n",
       "Arkansas           AR\n",
       "California         CA"
      ]
     },
     "execution_count": 6,
     "metadata": {},
     "output_type": "execute_result"
    }
   ],
   "source": [
    "logger.info('Loading country codes data dataset @ %s' % 'https://worldpopulationreview.com/states/state-abbreviations')\n",
    "\n",
    "states = pd.read_html('https://worldpopulationreview.com/states/state-abbreviations')[0]\n",
    "\n",
    "states = states.rename(columns={\n",
    "    'State': 'state',\n",
    "    'Code': 'state_code'\n",
    "})[['state', 'state_code']].set_index('state')\n",
    "\n",
    "states.head()"
   ]
  },
  {
   "cell_type": "markdown",
   "metadata": {},
   "source": [
    "## Combine Datasets"
   ]
  },
  {
   "cell_type": "code",
   "execution_count": 7,
   "metadata": {
    "execution": {
     "iopub.execute_input": "2020-08-18T11:39:19.558977Z",
     "iopub.status.busy": "2020-08-18T11:39:19.558712Z",
     "iopub.status.idle": "2020-08-18T11:39:19.579403Z",
     "shell.execute_reply": "2020-08-18T11:39:19.578771Z",
     "shell.execute_reply.started": "2020-08-18T11:39:19.558939Z"
    }
   },
   "outputs": [
    {
     "data": {
      "text/plain": [
       "51"
      ]
     },
     "execution_count": 7,
     "metadata": {},
     "output_type": "execute_result"
    }
   ],
   "source": [
    "ctp = ctp.join(states.join(pops).reset_index().set_index('state_code')).reset_index().dropna(subset=['state', 'state_code'])\n",
    "\n",
    "ctp['state_code'].nunique()"
   ]
  },
  {
   "cell_type": "code",
   "execution_count": 8,
   "metadata": {
    "execution": {
     "iopub.execute_input": "2020-08-18T11:39:19.580634Z",
     "iopub.status.busy": "2020-08-18T11:39:19.580387Z",
     "iopub.status.idle": "2020-08-18T11:39:19.634786Z",
     "shell.execute_reply": "2020-08-18T11:39:19.633681Z",
     "shell.execute_reply.started": "2020-08-18T11:39:19.580608Z"
    }
   },
   "outputs": [],
   "source": [
    "ctp = ctp.sort_values(by='date')"
   ]
  },
  {
   "cell_type": "markdown",
   "metadata": {},
   "source": [
    "# Add Missing Cols"
   ]
  },
  {
   "cell_type": "markdown",
   "metadata": {},
   "source": [
    "## New Cases/Deaths"
   ]
  },
  {
   "cell_type": "code",
   "execution_count": 9,
   "metadata": {
    "execution": {
     "iopub.execute_input": "2020-08-18T11:39:19.637977Z",
     "iopub.status.busy": "2020-08-18T11:39:19.637671Z",
     "iopub.status.idle": "2020-08-18T11:39:20.011062Z",
     "shell.execute_reply": "2020-08-18T11:39:20.010434Z",
     "shell.execute_reply.started": "2020-08-18T11:39:19.637937Z"
    }
   },
   "outputs": [
    {
     "data": {
      "text/html": [
       "<div>\n",
       "<style scoped>\n",
       "    .dataframe tbody tr th:only-of-type {\n",
       "        vertical-align: middle;\n",
       "    }\n",
       "\n",
       "    .dataframe tbody tr th {\n",
       "        vertical-align: top;\n",
       "    }\n",
       "\n",
       "    .dataframe thead th {\n",
       "        text-align: right;\n",
       "    }\n",
       "</style>\n",
       "<table border=\"1\" class=\"dataframe\">\n",
       "  <thead>\n",
       "    <tr style=\"text-align: right;\">\n",
       "      <th></th>\n",
       "      <th>state_code</th>\n",
       "      <th>date</th>\n",
       "      <th>total_cases</th>\n",
       "      <th>total_deaths</th>\n",
       "      <th>state</th>\n",
       "      <th>population</th>\n",
       "      <th>new_cases</th>\n",
       "      <th>new_deaths</th>\n",
       "    </tr>\n",
       "  </thead>\n",
       "  <tbody>\n",
       "    <tr>\n",
       "      <th>0</th>\n",
       "      <td>WA</td>\n",
       "      <td>2020-01-22</td>\n",
       "      <td>2.0</td>\n",
       "      <td>NaN</td>\n",
       "      <td>Washington</td>\n",
       "      <td>7614893.0</td>\n",
       "      <td>2.0</td>\n",
       "      <td>NaN</td>\n",
       "    </tr>\n",
       "    <tr>\n",
       "      <th>1</th>\n",
       "      <td>WA</td>\n",
       "      <td>2020-01-23</td>\n",
       "      <td>2.0</td>\n",
       "      <td>NaN</td>\n",
       "      <td>Washington</td>\n",
       "      <td>7614893.0</td>\n",
       "      <td>0.0</td>\n",
       "      <td>NaN</td>\n",
       "    </tr>\n",
       "    <tr>\n",
       "      <th>2</th>\n",
       "      <td>WA</td>\n",
       "      <td>2020-01-24</td>\n",
       "      <td>2.0</td>\n",
       "      <td>NaN</td>\n",
       "      <td>Washington</td>\n",
       "      <td>7614893.0</td>\n",
       "      <td>0.0</td>\n",
       "      <td>NaN</td>\n",
       "    </tr>\n",
       "    <tr>\n",
       "      <th>3</th>\n",
       "      <td>WA</td>\n",
       "      <td>2020-01-25</td>\n",
       "      <td>2.0</td>\n",
       "      <td>NaN</td>\n",
       "      <td>Washington</td>\n",
       "      <td>7614893.0</td>\n",
       "      <td>0.0</td>\n",
       "      <td>NaN</td>\n",
       "    </tr>\n",
       "    <tr>\n",
       "      <th>4</th>\n",
       "      <td>WA</td>\n",
       "      <td>2020-01-26</td>\n",
       "      <td>2.0</td>\n",
       "      <td>NaN</td>\n",
       "      <td>Washington</td>\n",
       "      <td>7614893.0</td>\n",
       "      <td>0.0</td>\n",
       "      <td>NaN</td>\n",
       "    </tr>\n",
       "  </tbody>\n",
       "</table>\n",
       "</div>"
      ],
      "text/plain": [
       "  state_code       date  total_cases  total_deaths       state  population  \\\n",
       "0         WA 2020-01-22          2.0           NaN  Washington   7614893.0   \n",
       "1         WA 2020-01-23          2.0           NaN  Washington   7614893.0   \n",
       "2         WA 2020-01-24          2.0           NaN  Washington   7614893.0   \n",
       "3         WA 2020-01-25          2.0           NaN  Washington   7614893.0   \n",
       "4         WA 2020-01-26          2.0           NaN  Washington   7614893.0   \n",
       "\n",
       "   new_cases  new_deaths  \n",
       "0        2.0         NaN  \n",
       "1        0.0         NaN  \n",
       "2        0.0         NaN  \n",
       "3        0.0         NaN  \n",
       "4        0.0         NaN  "
      ]
     },
     "execution_count": 9,
     "metadata": {},
     "output_type": "execute_result"
    }
   ],
   "source": [
    "new_cases_deaths = ctp.groupby('state_code').apply(\n",
    "    lambda g: g.set_index('date')[['total_cases', 'total_deaths']]\\\n",
    "        .diff()\\\n",
    "        .fillna(g.set_index('date')[['total_cases', 'total_deaths']])).rename(columns={\n",
    "    'total_cases': 'new_cases',\n",
    "    'total_deaths': 'new_deaths'\n",
    "})\n",
    "\n",
    "ctp = ctp.set_index(['state_code', 'date']).join(new_cases_deaths).reset_index()\n",
    "\n",
    "ctp.head()"
   ]
  },
  {
   "cell_type": "markdown",
   "metadata": {},
   "source": [
    "## Save Raw CTP Dataset as Backup"
   ]
  },
  {
   "cell_type": "code",
   "execution_count": 10,
   "metadata": {
    "execution": {
     "iopub.execute_input": "2020-08-18T11:39:20.012537Z",
     "iopub.status.busy": "2020-08-18T11:39:20.012360Z",
     "iopub.status.idle": "2020-08-18T11:39:20.111169Z",
     "shell.execute_reply": "2020-08-18T11:39:20.110490Z",
     "shell.execute_reply.started": "2020-08-18T11:39:20.012512Z"
    }
   },
   "outputs": [
    {
     "name": "stderr",
     "output_type": "stream",
     "text": [
      "2020-08-18 12:39:20.013 | INFO     | __main__:<module>:1 - Saving raw CTP dataset @ ../data/raw/raw_ctp_dataset.csv\n"
     ]
    },
    {
     "data": {
      "text/plain": [
       "(8506, 8)"
      ]
     },
     "execution_count": 10,
     "metadata": {},
     "output_type": "execute_result"
    }
   ],
   "source": [
    "logger.info('Saving raw CTP dataset @ %s' % '../data/raw/raw_ctp_dataset.csv')\n",
    "\n",
    "ctp.to_csv('../data/raw_ctp_dataset.csv', index=False)\n",
    "ctp.shape"
   ]
  },
  {
   "cell_type": "markdown",
   "metadata": {},
   "source": [
    "# The Rt Dataset"
   ]
  },
  {
   "cell_type": "markdown",
   "metadata": {},
   "source": [
    "## Load the rt.live dataset"
   ]
  },
  {
   "cell_type": "code",
   "execution_count": 11,
   "metadata": {
    "execution": {
     "iopub.execute_input": "2020-08-18T11:39:20.112459Z",
     "iopub.status.busy": "2020-08-18T11:39:20.112284Z",
     "iopub.status.idle": "2020-08-18T11:39:20.115374Z",
     "shell.execute_reply": "2020-08-18T11:39:20.114697Z",
     "shell.execute_reply.started": "2020-08-18T11:39:20.112435Z"
    }
   },
   "outputs": [],
   "source": [
    "# rt = pd.read_csv('https://d14wlfuexuxgcm.cloudfront.net/covid/rt.csv', parse_dates=['date']).rename(columns={\n",
    "#     'region': 'state_code',\n",
    "#     'mean': 'rt',\n",
    "# })[['date', 'state_code', 'rt', 'lower_80', 'upper_80']]\n",
    "\n",
    "# rt.head()"
   ]
  },
  {
   "cell_type": "markdown",
   "metadata": {},
   "source": [
    "# The Google Mobility Dataset"
   ]
  },
  {
   "cell_type": "code",
   "execution_count": 12,
   "metadata": {
    "execution": {
     "iopub.execute_input": "2020-08-18T11:39:20.116539Z",
     "iopub.status.busy": "2020-08-18T11:39:20.116224Z",
     "iopub.status.idle": "2020-08-18T11:39:24.387320Z",
     "shell.execute_reply": "2020-08-18T11:39:24.386407Z",
     "shell.execute_reply.started": "2020-08-18T11:39:20.116516Z"
    }
   },
   "outputs": [
    {
     "name": "stderr",
     "output_type": "stream",
     "text": [
      "2020-08-18 12:39:20.197 | INFO     | __main__:<module>:1 - Loading Google mobility dataset @ https://www.gstatic.com/covid19/mobility/Global_Mobility_Report.csv\n"
     ]
    },
    {
     "data": {
      "text/plain": [
       "(1834167, 14)"
      ]
     },
     "execution_count": 12,
     "metadata": {},
     "output_type": "execute_result"
    }
   ],
   "source": [
    "logger.info('Loading Google mobility dataset @ %s' % google_raw_dataset)\n",
    "\n",
    "google = pd.read_csv(google_raw_dataset, parse_dates=['date'], low_memory=False)\n",
    "\n",
    "google.shape"
   ]
  },
  {
   "cell_type": "markdown",
   "metadata": {},
   "source": [
    "## Save raw data as backup"
   ]
  },
  {
   "cell_type": "code",
   "execution_count": 13,
   "metadata": {
    "execution": {
     "iopub.execute_input": "2020-08-18T11:39:24.389547Z",
     "iopub.status.busy": "2020-08-18T11:39:24.389325Z",
     "iopub.status.idle": "2020-08-18T11:39:51.177841Z",
     "shell.execute_reply": "2020-08-18T11:39:51.176691Z",
     "shell.execute_reply.started": "2020-08-18T11:39:24.389513Z"
    }
   },
   "outputs": [
    {
     "name": "stderr",
     "output_type": "stream",
     "text": [
      "2020-08-18 12:39:24.391 | INFO     | __main__:<module>:1 - Saving raw Google mobility dataset @ ../data/raw_google_dataset.csv\n"
     ]
    },
    {
     "data": {
      "text/plain": [
       "(1834167, 14)"
      ]
     },
     "execution_count": 13,
     "metadata": {},
     "output_type": "execute_result"
    }
   ],
   "source": [
    "logger.info('Saving raw Google mobility dataset @ %s' % '../data/raw_google_dataset.csv')\n",
    "\n",
    "google.to_csv('../data/raw_google_dataset.csv', index=False)\n",
    "google.shape"
   ]
  },
  {
   "cell_type": "markdown",
   "metadata": {},
   "source": [
    "## State Level Mobility"
   ]
  },
  {
   "cell_type": "code",
   "execution_count": 14,
   "metadata": {
    "execution": {
     "iopub.execute_input": "2020-08-18T11:39:51.180373Z",
     "iopub.status.busy": "2020-08-18T11:39:51.180030Z",
     "iopub.status.idle": "2020-08-18T11:39:51.800774Z",
     "shell.execute_reply": "2020-08-18T11:39:51.799898Z",
     "shell.execute_reply.started": "2020-08-18T11:39:51.180322Z"
    }
   },
   "outputs": [
    {
     "data": {
      "text/plain": [
       "((9282, 6),\n",
       " 51,\n",
       " array(['Alabama', 'Alaska', 'Arizona', 'Arkansas', 'California',\n",
       "        'Colorado', 'Connecticut', 'Delaware', 'District of Columbia',\n",
       "        'Florida', 'Georgia', 'Hawaii', 'Idaho', 'Illinois', 'Indiana',\n",
       "        'Iowa', 'Kansas', 'Kentucky', 'Louisiana', 'Maine', 'Maryland',\n",
       "        'Massachusetts', 'Michigan', 'Minnesota', 'Mississippi',\n",
       "        'Missouri', 'Montana', 'Nebraska', 'Nevada', 'New Hampshire',\n",
       "        'New Jersey', 'New Mexico', 'New York', 'North Carolina',\n",
       "        'North Dakota', 'Ohio', 'Oklahoma', 'Oregon', 'Pennsylvania',\n",
       "        'Rhode Island', 'South Carolina', 'South Dakota', 'Tennessee',\n",
       "        'Texas', 'Utah', 'Vermont', 'Virginia', 'Washington',\n",
       "        'West Virginia', 'Wisconsin', 'Wyoming'], dtype=object))"
      ]
     },
     "execution_count": 14,
     "metadata": {},
     "output_type": "execute_result"
    }
   ],
   "source": [
    "# Extract the mobility levels for each top-level country\n",
    "def gen_for_us_states(df):\n",
    "    \n",
    "    w = 7\n",
    "    \n",
    "    # The columns to use for calculating the mobility drop\n",
    "    use_cols = ['mobility_retail', 'mobility_transit', 'mobility_work']\n",
    "    \n",
    "    # Focus on the US States\n",
    "    states = df[(df['country_region_code']=='US') & (df['sub_region_1'].notnull()) & (df['sub_region_2'].isnull()) & (df['metro_area'].isnull())].copy()\n",
    "    \n",
    "    # Relabel the cols for convenience\n",
    "    states.columns = ['country_id', 'country', 'state', 'sub_region_2', 'metro_area', 'iso_3166_2_code', 'census_fips_code', 'date', 'mobility_retail', 'mobility_grocery', 'mobility_parks', 'mobility_transit', 'mobility_work', 'mobility_home']\n",
    "    \n",
    "    # Add rolling cols\n",
    "    for mobility_col in states.filter(like='mobility_').columns:\n",
    "        states['rolling_'+mobility_col] = states.groupby(\n",
    "            'state')[mobility_col].apply(\n",
    "                lambda s: s.rolling(w).mean())\n",
    "        \n",
    "    # Calculate the mobility drop\n",
    "    states['google_mobility_drop'] = states[use_cols].mean(axis=1)\n",
    "\n",
    "    \n",
    "    return states[['country_id', 'country', 'state', 'date', 'google_mobility_drop']]\n",
    "\n",
    "google_states = gen_for_us_states(google).dropna(subset=['state'])\n",
    "\n",
    "# Convert mobility drop to mobility level\n",
    "google_states['google_mobility_level'] = 100+google_states['google_mobility_drop']\n",
    "\n",
    "\n",
    "google_states.shape, google_states.state.nunique(), google_states.state.unique()"
   ]
  },
  {
   "cell_type": "markdown",
   "metadata": {},
   "source": [
    "# Combine into Minimal Form"
   ]
  },
  {
   "cell_type": "code",
   "execution_count": 15,
   "metadata": {
    "execution": {
     "iopub.execute_input": "2020-08-18T11:39:51.802642Z",
     "iopub.status.busy": "2020-08-18T11:39:51.802347Z",
     "iopub.status.idle": "2020-08-18T11:39:51.913469Z",
     "shell.execute_reply": "2020-08-18T11:39:51.912424Z",
     "shell.execute_reply.started": "2020-08-18T11:39:51.802598Z"
    }
   },
   "outputs": [
    {
     "data": {
      "text/html": [
       "<div>\n",
       "<style scoped>\n",
       "    .dataframe tbody tr th:only-of-type {\n",
       "        vertical-align: middle;\n",
       "    }\n",
       "\n",
       "    .dataframe tbody tr th {\n",
       "        vertical-align: top;\n",
       "    }\n",
       "\n",
       "    .dataframe thead th {\n",
       "        text-align: right;\n",
       "    }\n",
       "</style>\n",
       "<table border=\"1\" class=\"dataframe\">\n",
       "  <thead>\n",
       "    <tr style=\"text-align: right;\">\n",
       "      <th></th>\n",
       "      <th>state</th>\n",
       "      <th>date</th>\n",
       "      <th>new_cases</th>\n",
       "      <th>new_deaths</th>\n",
       "      <th>population</th>\n",
       "      <th>google_mobility_level</th>\n",
       "    </tr>\n",
       "  </thead>\n",
       "  <tbody>\n",
       "    <tr>\n",
       "      <th>0</th>\n",
       "      <td>Washington</td>\n",
       "      <td>2020-01-22</td>\n",
       "      <td>2.0</td>\n",
       "      <td>NaN</td>\n",
       "      <td>7614893.0</td>\n",
       "      <td>NaN</td>\n",
       "    </tr>\n",
       "    <tr>\n",
       "      <th>1</th>\n",
       "      <td>Washington</td>\n",
       "      <td>2020-01-23</td>\n",
       "      <td>0.0</td>\n",
       "      <td>NaN</td>\n",
       "      <td>7614893.0</td>\n",
       "      <td>NaN</td>\n",
       "    </tr>\n",
       "    <tr>\n",
       "      <th>2</th>\n",
       "      <td>Washington</td>\n",
       "      <td>2020-01-24</td>\n",
       "      <td>0.0</td>\n",
       "      <td>NaN</td>\n",
       "      <td>7614893.0</td>\n",
       "      <td>NaN</td>\n",
       "    </tr>\n",
       "    <tr>\n",
       "      <th>3</th>\n",
       "      <td>Washington</td>\n",
       "      <td>2020-01-25</td>\n",
       "      <td>0.0</td>\n",
       "      <td>NaN</td>\n",
       "      <td>7614893.0</td>\n",
       "      <td>NaN</td>\n",
       "    </tr>\n",
       "    <tr>\n",
       "      <th>4</th>\n",
       "      <td>Washington</td>\n",
       "      <td>2020-01-26</td>\n",
       "      <td>0.0</td>\n",
       "      <td>NaN</td>\n",
       "      <td>7614893.0</td>\n",
       "      <td>NaN</td>\n",
       "    </tr>\n",
       "  </tbody>\n",
       "</table>\n",
       "</div>"
      ],
      "text/plain": [
       "        state       date  new_cases  new_deaths  population  \\\n",
       "0  Washington 2020-01-22        2.0         NaN   7614893.0   \n",
       "1  Washington 2020-01-23        0.0         NaN   7614893.0   \n",
       "2  Washington 2020-01-24        0.0         NaN   7614893.0   \n",
       "3  Washington 2020-01-25        0.0         NaN   7614893.0   \n",
       "4  Washington 2020-01-26        0.0         NaN   7614893.0   \n",
       "\n",
       "   google_mobility_level  \n",
       "0                    NaN  \n",
       "1                    NaN  \n",
       "2                    NaN  \n",
       "3                    NaN  \n",
       "4                    NaN  "
      ]
     },
     "execution_count": 15,
     "metadata": {},
     "output_type": "execute_result"
    }
   ],
   "source": [
    "ctp_cols = ['new_cases', 'new_deaths', 'population']\n",
    "google_cols = ['google_mobility_level']\n",
    "\n",
    "df = ctp.set_index(['state', 'date'])[ctp_cols].join(\n",
    "    google_states.set_index(['state', 'date'])[google_cols]).reset_index()\n",
    "\n",
    "df.head()"
   ]
  },
  {
   "cell_type": "markdown",
   "metadata": {},
   "source": [
    "## Adjust mobility level so that it is safe to aggregate"
   ]
  },
  {
   "cell_type": "code",
   "execution_count": 16,
   "metadata": {
    "execution": {
     "iopub.execute_input": "2020-08-18T11:39:51.915496Z",
     "iopub.status.busy": "2020-08-18T11:39:51.915085Z",
     "iopub.status.idle": "2020-08-18T11:39:51.921003Z",
     "shell.execute_reply": "2020-08-18T11:39:51.920501Z",
     "shell.execute_reply.started": "2020-08-18T11:39:51.915444Z"
    }
   },
   "outputs": [],
   "source": [
    "# Add a population adjusted mobility level\n",
    "df['google_mobility_level_by_pop'] = df['google_mobility_level']*df['population']"
   ]
  },
  {
   "cell_type": "markdown",
   "metadata": {},
   "source": [
    "# Aggregations\n",
    "We can aggregate across continents and regions but need to be careful about how we combine cols by focusing on this columns that can be added across groupings.\n",
    "\n",
    "## Aggregations by Continent and Region"
   ]
  },
  {
   "cell_type": "code",
   "execution_count": 17,
   "metadata": {
    "execution": {
     "iopub.execute_input": "2020-08-18T11:39:51.922015Z",
     "iopub.status.busy": "2020-08-18T11:39:51.921846Z",
     "iopub.status.idle": "2020-08-18T11:39:51.989453Z",
     "shell.execute_reply": "2020-08-18T11:39:51.988440Z",
     "shell.execute_reply.started": "2020-08-18T11:39:51.921992Z"
    }
   },
   "outputs": [],
   "source": [
    "def agg_by(df, groupby_cols, aggregation):\n",
    "    \n",
    "    agg_cols = ['new_cases', 'new_deaths', 'population']\n",
    "\n",
    "    agg = df.groupby(groupby_cols)[agg_cols].sum().reset_index()\n",
    "\n",
    "    # Aggregate mobility separately to account for population and missing values\n",
    "    agg_mobility = df[df['google_mobility_level'].notnull()].groupby(\n",
    "        'date')[['google_mobility_level_by_pop', 'population']].sum().reset_index()\n",
    "\n",
    "    agg_mobility['google_mobility_level'] = agg_mobility['google_mobility_level_by_pop']/agg_mobility['population']\n",
    "\n",
    "    # Add to the us aggregation\n",
    "    agg = agg.set_index('date').join(\n",
    "        agg_mobility.set_index('date')['google_mobility_level']).reset_index()\n",
    "\n",
    "    return agg"
   ]
  },
  {
   "cell_type": "code",
   "execution_count": 18,
   "metadata": {
    "execution": {
     "iopub.execute_input": "2020-08-18T11:39:51.991538Z",
     "iopub.status.busy": "2020-08-18T11:39:51.991135Z",
     "iopub.status.idle": "2020-08-18T11:39:52.078913Z",
     "shell.execute_reply": "2020-08-18T11:39:52.078034Z",
     "shell.execute_reply.started": "2020-08-18T11:39:51.991485Z"
    }
   },
   "outputs": [
    {
     "data": {
      "text/plain": [
       "(8715, 8)"
      ]
     },
     "execution_count": 18,
     "metadata": {},
     "output_type": "execute_result"
    }
   ],
   "source": [
    "# Safe to add the following cols\n",
    "\n",
    "by_us = agg_by(df, 'date', 'us')\n",
    "by_us['aggregation'] = 'us'\n",
    "\n",
    "df['aggregation'] = df['state']\n",
    "\n",
    "df_with_aggs = pd.concat([df, by_us], sort=False, ignore_index=True)\n",
    "df_with_aggs.shape"
   ]
  },
  {
   "cell_type": "markdown",
   "metadata": {},
   "source": [
    "## Rolling Means "
   ]
  },
  {
   "cell_type": "code",
   "execution_count": 19,
   "metadata": {
    "execution": {
     "iopub.execute_input": "2020-08-18T11:39:52.080180Z",
     "iopub.status.busy": "2020-08-18T11:39:52.079986Z",
     "iopub.status.idle": "2020-08-18T11:39:52.118980Z",
     "shell.execute_reply": "2020-08-18T11:39:52.118107Z",
     "shell.execute_reply.started": "2020-08-18T11:39:52.080154Z"
    }
   },
   "outputs": [
    {
     "data": {
      "text/html": [
       "<div>\n",
       "<style scoped>\n",
       "    .dataframe tbody tr th:only-of-type {\n",
       "        vertical-align: middle;\n",
       "    }\n",
       "\n",
       "    .dataframe tbody tr th {\n",
       "        vertical-align: top;\n",
       "    }\n",
       "\n",
       "    .dataframe thead th {\n",
       "        text-align: right;\n",
       "    }\n",
       "</style>\n",
       "<table border=\"1\" class=\"dataframe\">\n",
       "  <thead>\n",
       "    <tr style=\"text-align: right;\">\n",
       "      <th></th>\n",
       "      <th>state</th>\n",
       "      <th>date</th>\n",
       "      <th>new_cases</th>\n",
       "      <th>new_deaths</th>\n",
       "      <th>population</th>\n",
       "      <th>google_mobility_level</th>\n",
       "      <th>google_mobility_level_by_pop</th>\n",
       "      <th>aggregation</th>\n",
       "    </tr>\n",
       "  </thead>\n",
       "  <tbody>\n",
       "    <tr>\n",
       "      <th>0</th>\n",
       "      <td>Washington</td>\n",
       "      <td>2020-01-22</td>\n",
       "      <td>2.0</td>\n",
       "      <td>NaN</td>\n",
       "      <td>7614893.0</td>\n",
       "      <td>NaN</td>\n",
       "      <td>NaN</td>\n",
       "      <td>Washington</td>\n",
       "    </tr>\n",
       "    <tr>\n",
       "      <th>8506</th>\n",
       "      <td>NaN</td>\n",
       "      <td>2020-01-22</td>\n",
       "      <td>2.0</td>\n",
       "      <td>0.0</td>\n",
       "      <td>7614893.0</td>\n",
       "      <td>NaN</td>\n",
       "      <td>NaN</td>\n",
       "      <td>us</td>\n",
       "    </tr>\n",
       "    <tr>\n",
       "      <th>8507</th>\n",
       "      <td>NaN</td>\n",
       "      <td>2020-01-23</td>\n",
       "      <td>0.0</td>\n",
       "      <td>0.0</td>\n",
       "      <td>7614893.0</td>\n",
       "      <td>NaN</td>\n",
       "      <td>NaN</td>\n",
       "      <td>us</td>\n",
       "    </tr>\n",
       "    <tr>\n",
       "      <th>1</th>\n",
       "      <td>Washington</td>\n",
       "      <td>2020-01-23</td>\n",
       "      <td>0.0</td>\n",
       "      <td>NaN</td>\n",
       "      <td>7614893.0</td>\n",
       "      <td>NaN</td>\n",
       "      <td>NaN</td>\n",
       "      <td>Washington</td>\n",
       "    </tr>\n",
       "    <tr>\n",
       "      <th>2</th>\n",
       "      <td>Washington</td>\n",
       "      <td>2020-01-24</td>\n",
       "      <td>0.0</td>\n",
       "      <td>NaN</td>\n",
       "      <td>7614893.0</td>\n",
       "      <td>NaN</td>\n",
       "      <td>NaN</td>\n",
       "      <td>Washington</td>\n",
       "    </tr>\n",
       "  </tbody>\n",
       "</table>\n",
       "</div>"
      ],
      "text/plain": [
       "           state       date  new_cases  new_deaths  population  \\\n",
       "0     Washington 2020-01-22        2.0         NaN   7614893.0   \n",
       "8506         NaN 2020-01-22        2.0         0.0   7614893.0   \n",
       "8507         NaN 2020-01-23        0.0         0.0   7614893.0   \n",
       "1     Washington 2020-01-23        0.0         NaN   7614893.0   \n",
       "2     Washington 2020-01-24        0.0         NaN   7614893.0   \n",
       "\n",
       "      google_mobility_level  google_mobility_level_by_pop aggregation  \n",
       "0                       NaN                           NaN  Washington  \n",
       "8506                    NaN                           NaN          us  \n",
       "8507                    NaN                           NaN          us  \n",
       "1                       NaN                           NaN  Washington  \n",
       "2                       NaN                           NaN  Washington  "
      ]
     },
     "execution_count": 19,
     "metadata": {},
     "output_type": "execute_result"
    }
   ],
   "source": [
    "df_with_aggs = df_with_aggs.sort_values(by='date')\n",
    "df_with_aggs.head()"
   ]
  },
  {
   "cell_type": "code",
   "execution_count": 20,
   "metadata": {
    "execution": {
     "iopub.execute_input": "2020-08-18T11:39:52.120536Z",
     "iopub.status.busy": "2020-08-18T11:39:52.120239Z",
     "iopub.status.idle": "2020-08-18T11:39:52.384687Z",
     "shell.execute_reply": "2020-08-18T11:39:52.383901Z",
     "shell.execute_reply.started": "2020-08-18T11:39:52.120493Z"
    }
   },
   "outputs": [
    {
     "data": {
      "text/plain": [
       "(8715, 11)"
      ]
     },
     "execution_count": 20,
     "metadata": {},
     "output_type": "execute_result"
    }
   ],
   "source": [
    "rolling_cols = ['new_cases', 'new_deaths', 'google_mobility_level']\n",
    "\n",
    "rolling_means = df_with_aggs.groupby('aggregation').apply(\n",
    "    lambda g: g[rolling_cols].rolling(7).mean()\n",
    ").add_suffix('_rolling_mean')\n",
    "\n",
    "df_with_aggs = pd.concat([df_with_aggs, rolling_means], axis=1)\n",
    "\n",
    "df_with_aggs.shape"
   ]
  },
  {
   "cell_type": "markdown",
   "metadata": {},
   "source": [
    "## Relative Values"
   ]
  },
  {
   "cell_type": "code",
   "execution_count": 21,
   "metadata": {
    "execution": {
     "iopub.execute_input": "2020-08-18T11:39:52.386195Z",
     "iopub.status.busy": "2020-08-18T11:39:52.385899Z",
     "iopub.status.idle": "2020-08-18T11:39:52.575074Z",
     "shell.execute_reply": "2020-08-18T11:39:52.574212Z",
     "shell.execute_reply.started": "2020-08-18T11:39:52.386152Z"
    }
   },
   "outputs": [
    {
     "data": {
      "text/plain": [
       "(8715, 14)"
      ]
     },
     "execution_count": 21,
     "metadata": {},
     "output_type": "execute_result"
    }
   ],
   "source": [
    "rel_cols = ['new_cases_rolling_mean', 'new_deaths_rolling_mean', 'google_mobility_level_rolling_mean']\n",
    "\n",
    "relative_values = df_with_aggs.groupby('aggregation').apply(\n",
    "    lambda g: g[rel_cols]/g[rel_cols].max()\n",
    ").add_suffix('_rel')\n",
    "    \n",
    "df_with_aggs = pd.concat([df_with_aggs, relative_values], axis=1)\n",
    "\n",
    "df_with_aggs.shape"
   ]
  },
  {
   "cell_type": "markdown",
   "metadata": {},
   "source": [
    "# Save Dataset"
   ]
  },
  {
   "cell_type": "code",
   "execution_count": 22,
   "metadata": {
    "execution": {
     "iopub.execute_input": "2020-08-18T11:39:52.576911Z",
     "iopub.status.busy": "2020-08-18T11:39:52.576616Z",
     "iopub.status.idle": "2020-08-18T11:39:52.588744Z",
     "shell.execute_reply": "2020-08-18T11:39:52.588016Z",
     "shell.execute_reply.started": "2020-08-18T11:39:52.576871Z"
    }
   },
   "outputs": [
    {
     "name": "stderr",
     "output_type": "stream",
     "text": [
      "2020-08-18 12:39:52.578 | INFO     | __main__:<module>:1 - Saving minimal CTP dataset with mobility data @ ../data/minimal_ctp_covid.pkl\n"
     ]
    },
    {
     "data": {
      "text/plain": [
       "((8715, 14), '../data/minimal_ctp_covid.pkl', Timestamp('2020-08-17 00:00:00'))"
      ]
     },
     "execution_count": 22,
     "metadata": {},
     "output_type": "execute_result"
    }
   ],
   "source": [
    "logger.info('Saving minimal CTP dataset with mobility data @ %s' % minimal_ctp_dataset)\n",
    "\n",
    "df_with_aggs.to_pickle(minimal_ctp_dataset)\n",
    "df_with_aggs.shape, minimal_ctp_dataset, df_with_aggs.date.max()"
   ]
  },
  {
   "cell_type": "code",
   "execution_count": null,
   "metadata": {},
   "outputs": [],
   "source": []
  },
  {
   "cell_type": "code",
   "execution_count": null,
   "metadata": {},
   "outputs": [],
   "source": []
  }
 ],
 "metadata": {
  "kernelspec": {
   "display_name": "COVID-19",
   "language": "python",
   "name": "covid-19"
  },
  "language_info": {
   "codemirror_mode": {
    "name": "ipython",
    "version": 3
   },
   "file_extension": ".py",
   "mimetype": "text/x-python",
   "name": "python",
   "nbconvert_exporter": "python",
   "pygments_lexer": "ipython3",
   "version": "3.7.7"
  }
 },
 "nbformat": 4,
 "nbformat_minor": 4
}
